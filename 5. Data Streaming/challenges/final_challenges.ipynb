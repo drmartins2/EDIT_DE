{
  "cells": [
    {
      "cell_type": "markdown",
      "metadata": {
        "id": "view-in-github",
        "colab_type": "text"
      },
      "source": [
        "<a href=\"https://colab.research.google.com/github/drmartins2/EDIT_DE/blob/main/5.%20Data%20Streaming/challenges/final_challenges.ipynb\" target=\"_parent\"><img src=\"https://colab.research.google.com/assets/colab-badge.svg\" alt=\"Open In Colab\"/></a>"
      ]
    },
    {
      "cell_type": "markdown",
      "metadata": {
        "id": "4_GBE9UsyxwK"
      },
      "source": []
    },
    {
      "cell_type": "markdown",
      "metadata": {
        "id": "d9LeYFsPTjAb"
      },
      "source": [
        "# Setting up PySpark"
      ]
    },
    {
      "cell_type": "code",
      "execution_count": 1,
      "metadata": {
        "colab": {
          "base_uri": "https://localhost:8080/"
        },
        "id": "uYXeODL0T1fO",
        "outputId": "2aa38213-2ff2-4d8a-c9ca-f4756dfa2790"
      },
      "outputs": [
        {
          "output_type": "stream",
          "name": "stdout",
          "text": [
            "Requirement already satisfied: pyspark in /usr/local/lib/python3.10/dist-packages (3.5.3)\n",
            "Requirement already satisfied: py4j==0.10.9.7 in /usr/local/lib/python3.10/dist-packages (from pyspark) (0.10.9.7)\n"
          ]
        }
      ],
      "source": [
        "%pip install pyspark"
      ]
    },
    {
      "cell_type": "markdown",
      "metadata": {
        "id": "Rcybt71kTDNt"
      },
      "source": [
        "# Context\n",
        "Message events are coming from platform message broker (kafka, pubsub, kinesis...).\n",
        "You need to process the data according to the requirements.\n",
        "\n",
        "Message schema:\n",
        "- timestamp\n",
        "- value\n",
        "- event_type\n",
        "- message_id\n",
        "- country_id\n",
        "- user_id\n",
        "\n"
      ]
    },
    {
      "cell_type": "markdown",
      "metadata": {
        "id": "JkyPORKNSYvV"
      },
      "source": [
        "# Challenge 1\n",
        "\n",
        "Step 1\n",
        "- Change exising producer\n",
        "\t- Change parquet location to \"/content/lake/bronze/messages/data\"\n",
        "\t- Add checkpoint (/content/lake/bronze/messages/checkpoint)\n",
        "\t- Delete /content/lake/bronze/messages and reprocess data\n",
        "\t- For reprocessing, run the streaming for at least 1 minute, then stop it\n",
        "\n",
        "Step 2\n",
        "- Implement new stream job to read from messages in bronze layer and split result in two locations\n",
        "\t- \"messages_corrupted\"\n",
        "\t\t- logic: event_status is null, empty or equal to \"NONE\"\n",
        "    - extra logic: add country name by joining message with countries dataset\n",
        "\t\t- partition by \"date\" -extract it from timestamp\n",
        "\t\t- location: /content/lake/silver/messages_corrupted/data\n",
        "\n",
        "\t- \"messages\"\n",
        "\t\t- logic: not corrupted data\n",
        "\t\t- extra logic: add country name by joining message with countries dataset\n",
        "\t\t- partition by \"date\" -extract it from timestamp\n",
        "\t\t- location: /content/lake/silver/messages/data\n",
        "\n",
        "\t- technical requirements\n",
        "\t\t- add checkpint (choose location)\n",
        "\t\t- use StructSchema\n",
        "\t\t- Set trigger interval to 5 seconds\n",
        "\t\t- run streaming for at least 20 seconds, then stop it\n",
        "\n",
        "\t- alternatives\n",
        "\t\t- implementing single streaming job with foreach/- foreachBatch logic to write into two locations\n",
        "\t\t- implementing two streaming jobs, one for messages and another for messages_corrupted\n",
        "\t\t- (paying attention on the paths and checkpoints)\n",
        "\n",
        "\n",
        "  - Check results:\n",
        "    - results from messages in bronze layer should match with the sum of messages+messages_corrupted in the silver layer"
      ]
    },
    {
      "cell_type": "code",
      "execution_count": 2,
      "metadata": {
        "colab": {
          "base_uri": "https://localhost:8080/"
        },
        "id": "Udk3tohSaXOH",
        "outputId": "15246b5c-b106-45cf-b58a-f3a0df98a683"
      },
      "outputs": [
        {
          "output_type": "stream",
          "name": "stdout",
          "text": [
            "Collecting faker\n",
            "  Downloading Faker-33.1.0-py3-none-any.whl.metadata (15 kB)\n",
            "Requirement already satisfied: python-dateutil>=2.4 in /usr/local/lib/python3.10/dist-packages (from faker) (2.8.2)\n",
            "Requirement already satisfied: typing-extensions in /usr/local/lib/python3.10/dist-packages (from faker) (4.12.2)\n",
            "Requirement already satisfied: six>=1.5 in /usr/local/lib/python3.10/dist-packages (from python-dateutil>=2.4->faker) (1.17.0)\n",
            "Downloading Faker-33.1.0-py3-none-any.whl (1.9 MB)\n",
            "\u001b[?25l   \u001b[90m━━━━━━━━━━━━━━━━━━━━━━━━━━━━━━━━━━━━━━━━\u001b[0m \u001b[32m0.0/1.9 MB\u001b[0m \u001b[31m?\u001b[0m eta \u001b[36m-:--:--\u001b[0m\r\u001b[2K   \u001b[91m━━━━━━━━━━━━━━━━━━━━━━━━━━━━━━━━━━━━━━━\u001b[0m\u001b[91m╸\u001b[0m \u001b[32m1.9/1.9 MB\u001b[0m \u001b[31m111.7 MB/s\u001b[0m eta \u001b[36m0:00:01\u001b[0m\r\u001b[2K   \u001b[90m━━━━━━━━━━━━━━━━━━━━━━━━━━━━━━━━━━━━━━━━\u001b[0m \u001b[32m1.9/1.9 MB\u001b[0m \u001b[31m51.8 MB/s\u001b[0m eta \u001b[36m0:00:00\u001b[0m\n",
            "\u001b[?25hInstalling collected packages: faker\n",
            "Successfully installed faker-33.1.0\n"
          ]
        }
      ],
      "source": [
        "%pip install faker"
      ]
    },
    {
      "cell_type": "markdown",
      "metadata": {
        "id": "cDGMKwBdi1qy"
      },
      "source": [
        "# Producer"
      ]
    },
    {
      "cell_type": "code",
      "execution_count": 3,
      "metadata": {
        "colab": {
          "base_uri": "https://localhost:8080/"
        },
        "id": "tPCOdivrfhYh",
        "outputId": "ac2029b6-6dca-49fe-ca46-39a0013d6565"
      },
      "outputs": [
        {
          "output_type": "execute_result",
          "data": {
            "text/plain": [
              "False"
            ]
          },
          "metadata": {},
          "execution_count": 3
        }
      ],
      "source": [
        "import pyspark.sql.functions as F\n",
        "from pyspark.sql import DataFrame\n",
        "from faker import Faker\n",
        "from pyspark.sql import SparkSession\n",
        "\n",
        "spark = SparkSession.builder.appName('Test streaming').getOrCreate()\n",
        "sc = spark.sparkContext\n",
        "\n",
        "fake = Faker()\n",
        "messages = [fake.uuid4() for _ in range(50)]\n",
        "\n",
        "def enrich_data(df, messages=messages):\n",
        "  fake = Faker()\n",
        "  new_columns = {\n",
        "      'event_type': F.lit(fake.random_element(elements=('OPEN', 'RECEIVED', 'SENT', 'CREATED', 'CLICKED', '', 'NONE'))),\n",
        "      'message_id': F.lit(fake.random_element(elements=messages)),\n",
        "      'channel': F.lit(fake.random_element(elements=('CHAT', 'EMAIL', 'SMS', 'PUSH', 'OTHER'))),\n",
        "      'country_id': F.lit(fake.random_int(min=2000, max=2015)),\n",
        "      'user_id': F.lit(fake.random_int(min=1000, max=1050)),\n",
        "  }\n",
        "  df = df.withColumns(new_columns)\n",
        "  return df\n",
        "\n",
        "def insert_messages(df: DataFrame, batch_id):\n",
        "  enrich = enrich_data(df)\n",
        "  enrich.write.mode(\"append\").format(\"parquet\").save(\"content/lake/bronze/messages\")\n",
        "\n",
        "# read stream\n",
        "df_stream = spark.readStream.format(\"rate\").option(\"rowsPerSecond\", 1).load()\n",
        "\n",
        "# write stream\n",
        "query = (df_stream.writeStream\n",
        ".outputMode('append')\n",
        ".trigger(processingTime='1 seconds')\n",
        ".foreachBatch(insert_messages)\n",
        ".start()\n",
        ")\n",
        "\n",
        "query.awaitTermination(60)\n"
      ]
    },
    {
      "cell_type": "code",
      "execution_count": 4,
      "metadata": {
        "id": "KNyUK3yplDhg"
      },
      "outputs": [],
      "source": [
        "query.stop()"
      ]
    },
    {
      "cell_type": "code",
      "execution_count": 5,
      "metadata": {
        "id": "ZWQExsnzlMFe",
        "colab": {
          "base_uri": "https://localhost:8080/"
        },
        "outputId": "202831e3-6f22-4a4d-a3b1-61603f368cd3"
      },
      "outputs": [
        {
          "output_type": "stream",
          "name": "stdout",
          "text": [
            "+--------------------+-----+----------+--------------------+-------+----------+-------+\n",
            "|           timestamp|value|event_type|          message_id|channel|country_id|user_id|\n",
            "+--------------------+-----+----------+--------------------+-------+----------+-------+\n",
            "|2024-12-14 14:50:...|    0|      OPEN|2ebb0ed7-fb34-4ec...|   PUSH|      2015|   1017|\n",
            "|2024-12-14 14:50:...|    2|      OPEN|2ebb0ed7-fb34-4ec...|   PUSH|      2015|   1017|\n",
            "|2024-12-14 14:50:...|    1|      OPEN|2ebb0ed7-fb34-4ec...|   PUSH|      2015|   1017|\n",
            "|2024-12-14 14:50:...|    3|      OPEN|2ebb0ed7-fb34-4ec...|   PUSH|      2015|   1017|\n",
            "|2024-12-14 14:50:...|   19|  RECEIVED|c040b889-b0d6-47b...|  EMAIL|      2001|   1031|\n",
            "|2024-12-14 14:50:...|   29|  RECEIVED|789509e8-ce8a-4f6...|  EMAIL|      2004|   1006|\n",
            "|2024-12-14 14:51:...|   83|  RECEIVED|3603b930-1db7-49a...|  OTHER|      2004|   1048|\n",
            "|2024-12-14 14:50:...|   18|  RECEIVED|3df28047-963c-4d3...|   CHAT|      2014|   1032|\n",
            "|2024-12-14 14:50:...|   20|  RECEIVED|c5af97f6-b833-454...|   CHAT|      2012|   1009|\n",
            "|2024-12-14 14:51:...|   85|  RECEIVED|c040b889-b0d6-47b...|   PUSH|      2008|   1008|\n",
            "|2024-12-14 14:50:...|   17|  RECEIVED|c0278133-2a6f-414...|   CHAT|      2009|   1031|\n",
            "|2024-12-14 14:51:...|   67|   CLICKED|6afc0e6c-db57-483...|  EMAIL|      2015|   1010|\n",
            "|2024-12-14 14:50:...|    6|  RECEIVED|019ecee9-4c07-402...|   CHAT|      2010|   1005|\n",
            "|2024-12-14 14:50:...|   24|  RECEIVED|a2a77c82-3f75-4be...|   CHAT|      2013|   1029|\n",
            "|2024-12-14 14:51:...|   54|   CLICKED|30ff1f2e-a52d-4ff...|  EMAIL|      2008|   1009|\n",
            "|2024-12-14 14:50:...|    8|   CLICKED|4af3a107-ac99-45d...|  EMAIL|      2007|   1014|\n",
            "|2024-12-14 14:50:...|    4|   CLICKED|70f7fe1e-07b4-4e1...|  EMAIL|      2000|   1002|\n",
            "|2024-12-14 14:50:...|   39|   CREATED|2ebb0ed7-fb34-4ec...|  OTHER|      2013|   1026|\n",
            "|2024-12-14 14:51:...|   74|   CLICKED|b9b7d3ac-ad9f-4d4...|  OTHER|      2004|   1016|\n",
            "|2024-12-14 14:51:...|   60|   CLICKED|adf4aff1-8c1e-4c4...|  EMAIL|      2003|   1021|\n",
            "+--------------------+-----+----------+--------------------+-------+----------+-------+\n",
            "only showing top 20 rows\n",
            "\n"
          ]
        }
      ],
      "source": [
        "df = spark.read.format(\"parquet\").load(\"content/lake/bronze/messages/*\")\n",
        "df.show()"
      ]
    },
    {
      "cell_type": "markdown",
      "metadata": {
        "id": "RraxHCycMdEZ"
      },
      "source": [
        "# Additional datasets\n",
        "[Deprecated]"
      ]
    },
    {
      "cell_type": "code",
      "execution_count": null,
      "metadata": {
        "id": "cfsus3dxMcQI"
      },
      "outputs": [],
      "source": [
        "countries = [\n",
        "    {\"country_id\": 2000, \"country\": \"Brazil\"},\n",
        "    {\"country_id\": 2001, \"country\": \"Portugal\"},\n",
        "    {\"country_id\": 2002, \"country\": \"Spain\"},\n",
        "    {\"country_id\": 2003, \"country\": \"Germany\"},\n",
        "    {\"country_id\": 2004, \"country\": \"France\"},\n",
        "    {\"country_id\": 2005, \"country\": \"Italy\"},\n",
        "    {\"country_id\": 2006, \"country\": \"United Kingdom\"},\n",
        "    {\"country_id\": 2007, \"country\": \"United States\"},\n",
        "    {\"country_id\": 2008, \"country\": \"Canada\"},\n",
        "    {\"country_id\": 2009, \"country\": \"Australia\"},\n",
        "    {\"country_id\": 2010, \"country\": \"Japan\"},\n",
        "    {\"country_id\": 2011, \"country\": \"China\"},\n",
        "    {\"country_id\": 2012, \"country\": \"India\"},\n",
        "    {\"country_id\": 2013, \"country\": \"South Korea\"},\n",
        "    {\"country_id\": 2014, \"country\": \"Russia\"},\n",
        "    {\"country_id\": 2015, \"country\": \"Argentina\"}\n",
        "]\n",
        "\n",
        "countries = spark.createDataFrame(countries)"
      ]
    },
    {
      "cell_type": "markdown",
      "source": [
        "#New Producer"
      ],
      "metadata": {
        "id": "vukwHaBZgdFM"
      }
    },
    {
      "cell_type": "code",
      "source": [
        "import pyspark.sql.functions as F\n",
        "from pyspark.sql import DataFrame\n",
        "from faker import Faker\n",
        "from pyspark.sql import SparkSession\n",
        "import shutil\n",
        "import os\n",
        "\n",
        "spark = SparkSession.builder.appName('Test streaming').getOrCreate()\n",
        "sc = spark.sparkContext\n",
        "\n",
        "fake = Faker()\n",
        "messages = [fake.uuid4() for _ in range(50)]\n",
        "\n",
        "def enrich_data(df, messages=messages):\n",
        "    fake = Faker()\n",
        "    new_columns = {\n",
        "        'event_type': F.lit(fake.random_element(elements=('OPEN', 'RECEIVED', 'SENT', 'CREATED', 'CLICKED', '', 'NONE'))),\n",
        "        'message_id': F.lit(fake.random_element(elements=messages)),\n",
        "        'channel': F.lit(fake.random_element(elements=('CHAT', 'EMAIL', 'SMS', 'PUSH', 'OTHER'))),\n",
        "        'country_id': F.lit(fake.random_int(min=2000, max=2015)),\n",
        "        'user_id': F.lit(fake.random_int(min=1000, max=1050)),\n",
        "    }\n",
        "    df = df.withColumns(new_columns)\n",
        "    return df\n",
        "\n",
        "def insert_messages(df: DataFrame, batch_id):\n",
        "    enrich = enrich_data(df)\n",
        "    enrich = enrich.withColumn(\"value\", F.col(\"value\").cast(\"string\"))\n",
        "    enrich.write.mode(\"append\").format(\"parquet\").save(\"/content/lake/bronze/messages/data\")\n",
        "\n",
        "# Delete existing data - For first execution there's no data to delete (as directory is different from the other Producer)\n",
        "bronze_path = \"/content/lake/bronze/messages/data\"\n",
        "if os.path.exists(bronze_path):\n",
        "    shutil.rmtree(bronze_path)\n",
        "\n",
        "# Read stream\n",
        "df_stream = spark.readStream.format(\"rate\").option(\"rowsPerSecond\", 1).load()\n",
        "\n",
        "# Write stream\n",
        "query = (df_stream.writeStream\n",
        "    .outputMode('append')\n",
        "    .trigger(processingTime='1 seconds')\n",
        "    .option(\"checkpointLocation\", \"/content/lake/bronze/messages/checkpoint\")\n",
        "    .foreachBatch(insert_messages)\n",
        "    .start()\n",
        ")\n",
        "\n",
        "# Run for 1 minute\n",
        "query.awaitTermination(60)\n"
      ],
      "metadata": {
        "colab": {
          "base_uri": "https://localhost:8080/"
        },
        "id": "1XWYXoeHgco1",
        "outputId": "14d8421b-96c7-450f-ebdc-04dbef7d7ca3",
        "collapsed": true
      },
      "execution_count": 6,
      "outputs": [
        {
          "output_type": "execute_result",
          "data": {
            "text/plain": [
              "False"
            ]
          },
          "metadata": {},
          "execution_count": 6
        }
      ]
    },
    {
      "cell_type": "code",
      "source": [
        "query.stop()"
      ],
      "metadata": {
        "id": "3Yxwu_tJjUIK"
      },
      "execution_count": 7,
      "outputs": []
    },
    {
      "cell_type": "code",
      "source": [
        "# Check New Producer results\n",
        "df = spark.read.format(\"parquet\").load(\"/content/lake/bronze/messages/data\")\n",
        "print(\"Total messages in bronze layer:\", df.count())\n",
        "\n",
        "# Check dataframe with a sample of results (with ~ [valid messages], without ~ [corrupted messages])\n",
        "df.filter(~((F.col(\"event_type\").isNull()) | (F.col(\"event_type\") == \"\") | (F.col(\"event_type\") == \"NONE\"))).show()"
      ],
      "metadata": {
        "colab": {
          "base_uri": "https://localhost:8080/"
        },
        "id": "T5uLnxkNjF3w",
        "outputId": "810742d0-bb40-4a9c-98ee-a690b6226e74"
      },
      "execution_count": 8,
      "outputs": [
        {
          "output_type": "stream",
          "name": "stdout",
          "text": [
            "Total messages in bronze layer: 80\n",
            "+--------------------+-----+----------+--------------------+-------+----------+-------+\n",
            "|           timestamp|value|event_type|          message_id|channel|country_id|user_id|\n",
            "+--------------------+-----+----------+--------------------+-------+----------+-------+\n",
            "|2024-12-14 14:52:...|   50|  RECEIVED|7de22c1c-2fb8-467...|  EMAIL|      2000|   1007|\n",
            "|2024-12-14 14:52:...|   31|  RECEIVED|2eb983be-9f75-402...|  EMAIL|      2009|   1032|\n",
            "|2024-12-14 14:53:...|   71|  RECEIVED|54e71577-7fca-432...|  OTHER|      2010|   1033|\n",
            "|2024-12-14 14:52:...|   38|  RECEIVED|48bc62cc-4a23-4aa...|  EMAIL|      2011|   1046|\n",
            "|2024-12-14 14:52:...|   33|  RECEIVED|7de22c1c-2fb8-467...|  OTHER|      2005|   1029|\n",
            "|2024-12-14 14:52:...|   59|  RECEIVED|74021b0b-055b-46c...|   PUSH|      2001|   1028|\n",
            "|2024-12-14 14:52:...|   17|  RECEIVED|45f2cefc-b37b-4a9...|   PUSH|      2011|   1035|\n",
            "|2024-12-14 14:52:...|   45|  RECEIVED|991da2b6-b796-4b2...|   CHAT|      2006|   1026|\n",
            "|2024-12-14 14:52:...|   60|   CLICKED|5d5bae1d-7141-41e...|  EMAIL|      2007|   1029|\n",
            "|2024-12-14 14:52:...|   43|   CLICKED|1151b910-caa4-4cc...|  EMAIL|      2008|   1012|\n",
            "|2024-12-14 14:52:...|   56|   CLICKED|54ed2981-c7ec-44a...|  EMAIL|      2009|   1003|\n",
            "|2024-12-14 14:52:...|   54|  RECEIVED|54ed2981-c7ec-44a...|   CHAT|      2013|   1032|\n",
            "|2024-12-14 14:53:...|   77|   CLICKED|c9135d41-c382-401...|  OTHER|      2002|   1010|\n",
            "|2024-12-14 14:52:...|   48|   CLICKED|54ed2981-c7ec-44a...|  OTHER|      2004|   1015|\n",
            "|2024-12-14 14:53:...|   70|   CLICKED|0870d89a-bc91-4fb...|  OTHER|      2014|   1013|\n",
            "|2024-12-14 14:52:...|   55|   CREATED|d0601ffa-f256-4e0...|  OTHER|      2000|   1034|\n",
            "|2024-12-14 14:52:...|   14|   CREATED|2eb983be-9f75-402...|  OTHER|      2004|   1039|\n",
            "|2024-12-14 14:52:...|   34|   CLICKED|f6dcd0b6-fa50-4f5...|   CHAT|      2008|   1024|\n",
            "|2024-12-14 14:53:...|   73|   CLICKED|2849f159-db87-455...|   PUSH|      2015|   1011|\n",
            "|2024-12-14 14:52:...|   41|  RECEIVED|1c3a9367-3f94-404...|    SMS|      2013|   1045|\n",
            "+--------------------+-----+----------+--------------------+-------+----------+-------+\n",
            "only showing top 20 rows\n",
            "\n"
          ]
        }
      ]
    },
    {
      "cell_type": "markdown",
      "metadata": {
        "id": "swvPj9hVpzNf"
      },
      "source": [
        "# Streaming Messages x Messages Corrupted"
      ]
    },
    {
      "cell_type": "code",
      "source": [
        "# Aux cell to delete silver folder for testing purpose\n",
        "silver_path = \"/content/lake/silver\"\n",
        "if os.path.exists(silver_path):\n",
        "    shutil.rmtree(silver_path)"
      ],
      "metadata": {
        "id": "aJhzZ1dZrLif"
      },
      "execution_count": 24,
      "outputs": []
    },
    {
      "cell_type": "code",
      "source": [
        "from pyspark.sql import SparkSession\n",
        "from pyspark.sql.functions import col, when, date_format, expr\n",
        "from pyspark.sql.types import StructType, StructField, StringType, TimestampType, IntegerType\n",
        "\n",
        "spark = SparkSession.builder.appName(\"MessageProcessing\").getOrCreate()\n",
        "\n",
        "# Define messages schema\n",
        "message_schema = StructType([\n",
        "    StructField(\"timestamp\", TimestampType()),\n",
        "    StructField(\"value\", StringType()),\n",
        "    StructField(\"event_type\", StringType()),\n",
        "    StructField(\"message_id\", StringType()),\n",
        "    StructField(\"channel\", StringType()),\n",
        "    StructField(\"country_id\", IntegerType()),\n",
        "    StructField(\"user_id\", IntegerType())\n",
        "])\n",
        "\n",
        "# Added countries data to this cell for join optimization by caching countries dataset\n",
        "countries = [\n",
        "    {\"country_id\": 2000, \"country\": \"Brazil\"},\n",
        "    {\"country_id\": 2001, \"country\": \"Portugal\"},\n",
        "    {\"country_id\": 2002, \"country\": \"Spain\"},\n",
        "    {\"country_id\": 2003, \"country\": \"Germany\"},\n",
        "    {\"country_id\": 2004, \"country\": \"France\"},\n",
        "    {\"country_id\": 2005, \"country\": \"Italy\"},\n",
        "    {\"country_id\": 2006, \"country\": \"United Kingdom\"},\n",
        "    {\"country_id\": 2007, \"country\": \"United States\"},\n",
        "    {\"country_id\": 2008, \"country\": \"Canada\"},\n",
        "    {\"country_id\": 2009, \"country\": \"Australia\"},\n",
        "    {\"country_id\": 2010, \"country\": \"Japan\"},\n",
        "    {\"country_id\": 2011, \"country\": \"China\"},\n",
        "    {\"country_id\": 2012, \"country\": \"India\"},\n",
        "    {\"country_id\": 2013, \"country\": \"South Korea\"},\n",
        "    {\"country_id\": 2014, \"country\": \"Russia\"},\n",
        "    {\"country_id\": 2015, \"country\": \"Argentina\"}\n",
        "]\n",
        "\n",
        "countries = spark.createDataFrame(countries).cache()\n",
        "\n",
        "def process_messages(df, batch_id):\n",
        "      # Join with countries\n",
        "      df_with_country = df.join(countries, \"country_id\", \"left\")\n",
        "\n",
        "      # Add date column\n",
        "      df_with_date = df_with_country.withColumn(\"date\", date_format(col(\"timestamp\"), \"yyyy-MM-dd\"))\n",
        "\n",
        "      # Split into corrupted and non-corrupted with corresponding logic\n",
        "      corrupted = df_with_date.filter((col(\"event_type\").isNull()) | (col(\"event_type\") == \"\") | (col(\"event_type\") == \"NONE\"))\n",
        "      valid = df_with_date.filter((col(\"event_type\").isNotNull()) & (col(\"event_type\") != \"\") & (col(\"event_type\") != \"NONE\"))\n",
        "\n",
        "      # Write corrupted data\n",
        "      corrupted.write \\\n",
        "          .partitionBy(\"date\") \\\n",
        "          .mode(\"append\") \\\n",
        "          .parquet(\"/content/lake/silver/messages_corrupted/data\")\n",
        "\n",
        "      # Write non-corrupted data\n",
        "      valid.write \\\n",
        "          .partitionBy(\"date\") \\\n",
        "          .mode(\"append\") \\\n",
        "          .parquet(\"/content/lake/silver/messages/data\")\n",
        "\n",
        "\n",
        "\n",
        "# Read from bronze layer\n",
        "df_stream = spark.readStream \\\n",
        "    .schema(message_schema) \\\n",
        "    .parquet(\"/content/lake/bronze/messages/data/*\")\n",
        "\n",
        "\n",
        "# Process stream\n",
        "query = df_stream.writeStream \\\n",
        "    .foreachBatch(process_messages) \\\n",
        "    .option(\"checkpointLocation\", \"/content/lake/silver/checkpoint\") \\\n",
        "    .trigger(processingTime='5 seconds') \\\n",
        "    .start()\n",
        "\n",
        "\n",
        "# Run for 20 seconds\n",
        "query.awaitTermination(20)\n",
        "query.stop()"
      ],
      "metadata": {
        "id": "4HlWxkLxDFsA"
      },
      "execution_count": 25,
      "outputs": []
    },
    {
      "cell_type": "markdown",
      "metadata": {
        "id": "jLK9jpjCu3xE"
      },
      "source": [
        "## Checking data"
      ]
    },
    {
      "cell_type": "code",
      "execution_count": 26,
      "metadata": {
        "id": "nk8seEvbmvcU",
        "outputId": "d6518db4-9bf0-4b79-c9d6-ed37733e8330",
        "colab": {
          "base_uri": "https://localhost:8080/"
        }
      },
      "outputs": [
        {
          "output_type": "stream",
          "name": "stdout",
          "text": [
            "Total messages in bronze layer: 80\n",
            "Total corrupted messages in silver layer: 20\n",
            "Total non-corrupted messages in silver layer: 60\n",
            "Total messages in silver layer: 80\n",
            "Assertion passed: Message counts match\n"
          ]
        }
      ],
      "source": [
        "# Check results\n",
        "bronze_count = spark.read.schema(message_schema).parquet(\"/content/lake/bronze/messages/data\").count()\n",
        "silver_corrupted_count = spark.read.parquet(\"/content/lake/silver/messages_corrupted/data\").count()\n",
        "silver_valid_count = spark.read.parquet(\"/content/lake/silver/messages/data\").count()\n",
        "\n",
        "print(f\"Total messages in bronze layer: {bronze_count}\")\n",
        "print(f\"Total corrupted messages in silver layer: {silver_corrupted_count}\")\n",
        "print(f\"Total non-corrupted messages in silver layer: {silver_valid_count}\")\n",
        "print(f\"Total messages in silver layer: {silver_corrupted_count + silver_valid_count}\")\n",
        "\n",
        "# Assertion to automattically evaluate the integraty of the number of records between bronze and silver layer\n",
        "try:\n",
        "    assert bronze_count == silver_corrupted_count + silver_valid_count, \"Mismatch in message counts\"\n",
        "    print(\"Assertion passed: Message counts match\")\n",
        "except AssertionError as e:\n",
        "    print(f\"Assertion failed: {str(e)}\")"
      ]
    },
    {
      "cell_type": "markdown",
      "metadata": {
        "id": "rfxIlBISSvRP"
      },
      "source": [
        "# Challenge 2\n",
        "\n",
        "- Run business report\n",
        "- But first, there is a bug in the system which is causing some duplicated messages, we need to exclude these lines from the report\n",
        "\n",
        "- removing duplicates logic:\n",
        "  - Identify possible duplicates on message_id, event_type and channel\n",
        "  - in case of duplicates, consider only the first message (occurrence by timestamp)\n",
        "  - Ex:\n",
        "    In table below, the correct message to consider is the second line\n",
        "\n",
        "```\n",
        "    message_id | channel | event_type | timestamp\n",
        "    123        | CHAT    | CREATED    | 10:10:01\n",
        "    123        | CHAT    | CREATED    | 07:56:45 (first occurrence)\n",
        "    123        | CHAT    | CREATED    | 08:13:33\n",
        "```\n",
        "\n",
        "- After cleaning the data we're able to create the busines report"
      ]
    },
    {
      "cell_type": "code",
      "execution_count": null,
      "metadata": {
        "id": "R3J9XyOHhqvU"
      },
      "outputs": [],
      "source": [
        "# dedup data\n",
        "from pyspark.sql import functions as F\n",
        "from pyspark.sql.window import Window\n",
        "df = spark.read.format(\"parquet\").load(\"content/lake/silver/messages\")\n",
        "dedup = df.withColumn(\"row_number\", F.row_number().over(Window.partitionBy(\"message_id\", \"event_type\", \"channel\").orderBy(\"timestamp\"))).filter(\"row_number = 1\").drop(\"row_number\")"
      ]
    },
    {
      "cell_type": "markdown",
      "metadata": {
        "id": "RF9L9i25lk74"
      },
      "source": [
        "### Report 1\n",
        "  - Aggregate data by date, event_type and channel\n",
        "  - Count number of messages\n",
        "  - pivot event_type from rows into columns\n",
        "  - schema expected:\n",
        "  \n",
        "```\n",
        "|      date|channel|CLICKED|CREATED|OPEN|RECEIVED|SENT|\n",
        "+----------+-------+-------+-------+----+--------+----+\n",
        "|2024-12-03|    SMS|      4|      4|   1|       1|   5|\n",
        "|2024-12-03|   CHAT|      3|      7|   5|       8|   4|\n",
        "|2024-12-03|   PUSH|   NULL|      3|   4|       3|   4|\n",
        "```"
      ]
    },
    {
      "cell_type": "code",
      "execution_count": null,
      "metadata": {
        "id": "UPHSMSXnTKgu"
      },
      "outputs": [],
      "source": [
        "# report 1\n",
        "# TODO"
      ]
    },
    {
      "cell_type": "markdown",
      "metadata": {
        "id": "bxwOawo2lwQH"
      },
      "source": [
        "## Report 2\n",
        "\n",
        "- Identify the most active users by channel (sorted by number of iterations)\n",
        "- schema expected:\n",
        "\n",
        "```\n",
        "+-------+----------+----+-----+-----+----+---+\n",
        "|user_id|iterations|CHAT|EMAIL|OTHER|PUSH|SMS|\n",
        "+-------+----------+----+-----+-----+----+---+\n",
        "|   1022|         5|   2|    0|    1|   0|  2|\n",
        "|   1004|         4|   1|    1|    1|   1|  0|\n",
        "|   1013|         4|   0|    0|    2|   1|  1|\n",
        "|   1020|         4|   2|    0|    1|   1|  0|\n",
        "```\n"
      ]
    },
    {
      "cell_type": "code",
      "execution_count": null,
      "metadata": {
        "id": "rsS7bkAJmWsW"
      },
      "outputs": [],
      "source": [
        "# report 2\n",
        "# TODO"
      ]
    },
    {
      "cell_type": "markdown",
      "metadata": {
        "id": "a9_kzDbDwDOS"
      },
      "source": [
        "# Challenge 3"
      ]
    },
    {
      "cell_type": "code",
      "execution_count": null,
      "metadata": {
        "id": "Ef0RjFTxwE5y"
      },
      "outputs": [],
      "source": [
        "# Theoretical question:\n",
        "\n",
        "# A new usecase requires the message data to be aggregate in near real time\n",
        "# They want to build a dashboard embedded in the platform website to analyze message data in low latency (few minutes)\n",
        "# This application will access directly the data aggregated by streaming process\n",
        "\n",
        "# Q1:\n",
        "- What would be your suggestion to achieve that using Spark Structure Streaming?\n",
        "Or would you choose a different data processing tool?\n",
        "\n",
        "- Which storage would you use and why? (database?, data lake?, kafka?)\n",
        "\n"
      ]
    }
  ],
  "metadata": {
    "colab": {
      "provenance": [],
      "include_colab_link": true
    },
    "kernelspec": {
      "display_name": "Python 3",
      "name": "python3"
    },
    "language_info": {
      "name": "python"
    }
  },
  "nbformat": 4,
  "nbformat_minor": 0
}