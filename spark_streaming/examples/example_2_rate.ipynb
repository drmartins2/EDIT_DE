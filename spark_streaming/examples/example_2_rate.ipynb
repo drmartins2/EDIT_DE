{
  "cells": [
    {
      "cell_type": "markdown",
      "metadata": {
        "id": "view-in-github",
        "colab_type": "text"
      },
      "source": [
        "<a href=\"https://colab.research.google.com/github/drmartins2/EDIT_DE/blob/main/spark_streaming/examples/example_2_rate.ipynb\" target=\"_parent\"><img src=\"https://colab.research.google.com/assets/colab-badge.svg\" alt=\"Open In Colab\"/></a>"
      ]
    },
    {
      "cell_type": "markdown",
      "metadata": {
        "id": "4_GBE9UsyxwK"
      },
      "source": []
    },
    {
      "cell_type": "markdown",
      "metadata": {
        "id": "BOA_wQSmLd9z"
      },
      "source": [
        "# Usecase 2\n",
        "- Reading data from \"rate\"\n",
        "- Aggregating data by window time\n",
        "- Checking results from query in memory"
      ]
    },
    {
      "cell_type": "markdown",
      "metadata": {
        "id": "d9LeYFsPTjAb"
      },
      "source": [
        "# Setting up PySpark"
      ]
    },
    {
      "cell_type": "code",
      "execution_count": null,
      "metadata": {
        "colab": {
          "base_uri": "https://localhost:8080/"
        },
        "id": "uYXeODL0T1fO",
        "outputId": "c410e46c-4a50-43aa-926f-d0417c6280d2"
      },
      "outputs": [
        {
          "name": "stdout",
          "output_type": "stream",
          "text": [
            "Requirement already satisfied: pyspark in /usr/local/lib/python3.10/dist-packages (3.5.3)\n",
            "Requirement already satisfied: py4j==0.10.9.7 in /usr/local/lib/python3.10/dist-packages (from pyspark) (0.10.9.7)\n"
          ]
        }
      ],
      "source": [
        "%pip install pyspark"
      ]
    },
    {
      "cell_type": "code",
      "execution_count": 1,
      "metadata": {
        "id": "637HFw00T3LP"
      },
      "outputs": [],
      "source": [
        "from pyspark.sql import SparkSession\n",
        "\n",
        "spark = SparkSession.builder.master('local').appName('Test streaming').getOrCreate()"
      ]
    },
    {
      "cell_type": "markdown",
      "source": [
        "# Write output in memory"
      ],
      "metadata": {
        "id": "NwzaZIoxqvrd"
      }
    },
    {
      "cell_type": "code",
      "execution_count": 8,
      "metadata": {
        "id": "I4mGPfB-Xg_C"
      },
      "outputs": [],
      "source": [
        "import pyspark.sql.functions as F\n",
        "\n",
        "# read stream\n",
        "stream1 = spark.readStream.format(\"rate\").option(\"rowsPerSecond\", 10).load()\n",
        "\n",
        "# transform\n",
        "transformed = stream1.withColumn(\"minute\", F.minute(\"timestamp\"))\n",
        "agg = transformed.groupBy(F.window(transformed.timestamp, \"5 seconds\")).count()\n",
        "\n",
        "# write stream in memory\n",
        "query = (agg.writeStream\n",
        ".format('memory')\n",
        ".queryName('my_query')\n",
        ".outputMode('complete')\n",
        ".start()\n",
        ")"
      ]
    },
    {
      "cell_type": "code",
      "execution_count": 12,
      "metadata": {
        "colab": {
          "base_uri": "https://localhost:8080/"
        },
        "id": "UmLQLr1uX6w-",
        "outputId": "b42a31a8-d129-4b7d-c9fb-f39c7155319e"
      },
      "outputs": [
        {
          "output_type": "stream",
          "name": "stdout",
          "text": [
            "+------------------------------------------+-----+\n",
            "|window                                    |count|\n",
            "+------------------------------------------+-----+\n",
            "|{2024-11-23 15:50:35, 2024-11-23 15:50:40}|13   |\n",
            "|{2024-11-23 15:50:30, 2024-11-23 15:50:35}|50   |\n",
            "|{2024-11-23 15:50:25, 2024-11-23 15:50:30}|50   |\n",
            "|{2024-11-23 15:50:20, 2024-11-23 15:50:25}|50   |\n",
            "|{2024-11-23 15:50:15, 2024-11-23 15:50:20}|50   |\n",
            "|{2024-11-23 15:50:10, 2024-11-23 15:50:15}|50   |\n",
            "|{2024-11-23 15:50:05, 2024-11-23 15:50:10}|50   |\n",
            "|{2024-11-23 15:50:00, 2024-11-23 15:50:05}|50   |\n",
            "|{2024-11-23 15:49:55, 2024-11-23 15:50:00}|50   |\n",
            "|{2024-11-23 15:49:50, 2024-11-23 15:49:55}|50   |\n",
            "+------------------------------------------+-----+\n",
            "only showing top 10 rows\n",
            "\n"
          ]
        }
      ],
      "source": [
        "spark.sql(\"select * from my_query order by window desc\").show(10,False)"
      ]
    },
    {
      "cell_type": "code",
      "source": [
        "query.lastProgress"
      ],
      "metadata": {
        "id": "CvwE9JNTt0Lh",
        "outputId": "b26532f3-a62a-46a5-a6a3-a391aa9588b4",
        "colab": {
          "base_uri": "https://localhost:8080/"
        }
      },
      "execution_count": 10,
      "outputs": [
        {
          "output_type": "execute_result",
          "data": {
            "text/plain": [
              "{'id': '1ca021b8-eca5-4373-ac90-f4eeb0e0d6e4',\n",
              " 'runId': 'c6b57d58-84df-4824-9d2e-0028325530b5',\n",
              " 'name': 'my_query',\n",
              " 'timestamp': '2024-11-23T15:50:12.379Z',\n",
              " 'batchId': 3,\n",
              " 'numInputRows': 160,\n",
              " 'inputRowsPerSecond': 10.372099053545961,\n",
              " 'processedRowsPerSecond': 13.00284437220642,\n",
              " 'durationMs': {'addBatch': 12077,\n",
              "  'commitOffsets': 142,\n",
              "  'getBatch': 0,\n",
              "  'latestOffset': 0,\n",
              "  'queryPlanning': 36,\n",
              "  'triggerExecution': 12305,\n",
              "  'walCommit': 48},\n",
              " 'stateOperators': [{'operatorName': 'stateStoreSave',\n",
              "   'numRowsTotal': 10,\n",
              "   'numRowsUpdated': 4,\n",
              "   'allUpdatesTimeMs': 184,\n",
              "   'numRowsRemoved': 0,\n",
              "   'allRemovalsTimeMs': 0,\n",
              "   'commitTimeMs': 7686,\n",
              "   'memoryUsedBytes': 88696,\n",
              "   'numRowsDroppedByWatermark': 0,\n",
              "   'numShufflePartitions': 200,\n",
              "   'numStateStoreInstances': 200,\n",
              "   'customMetrics': {'loadedMapCacheHitCount': 1200,\n",
              "    'loadedMapCacheMissCount': 0,\n",
              "    'stateOnCurrentVersionSizeBytes': 22800}}],\n",
              " 'sources': [{'description': 'RateStreamV2[rowsPerSecond=10, rampUpTimeSeconds=0, numPartitions=default',\n",
              "   'startOffset': 30,\n",
              "   'endOffset': 46,\n",
              "   'latestOffset': 46,\n",
              "   'numInputRows': 160,\n",
              "   'inputRowsPerSecond': 10.372099053545961,\n",
              "   'processedRowsPerSecond': 13.00284437220642}],\n",
              " 'sink': {'description': 'MemorySink', 'numOutputRows': 10}}"
            ]
          },
          "metadata": {},
          "execution_count": 10
        }
      ]
    },
    {
      "cell_type": "code",
      "execution_count": 13,
      "metadata": {
        "id": "TbLt4cUkX-JZ"
      },
      "outputs": [],
      "source": [
        "query.stop()"
      ]
    },
    {
      "cell_type": "markdown",
      "source": [
        "# Write output as json"
      ],
      "metadata": {
        "id": "Dc3r3j-wj16K"
      }
    },
    {
      "cell_type": "code",
      "source": [
        "!rm -rf content/output"
      ],
      "metadata": {
        "id": "N_BZRFCCpGq9"
      },
      "execution_count": 20,
      "outputs": []
    },
    {
      "cell_type": "code",
      "execution_count": 21,
      "metadata": {
        "id": "v180mzIciVZH"
      },
      "outputs": [],
      "source": [
        "import pyspark.sql.functions as F\n",
        "from pyspark.sql import DataFrame\n",
        "\n",
        "def save_parquet(df, batch_id):\n",
        "  (df\n",
        "   .withColumn(\"batch_id\",F.lit(batch_id))\n",
        "   .withColumn(\"load_time\",F.current_timestamp())\n",
        "   .write.mode(\"append\")\n",
        "   .parquet(\"content/output/rate_parquet\")\n",
        "  )\n",
        "\n",
        "# read stream\n",
        "stream1 = spark.readStream.format(\"rate\").option(\"rowsPerSecond\", 10).load()\n",
        "\n",
        "# transform\n",
        "transformed = stream1.withWatermark(\"timestamp\", \"5 seconds\").withColumn(\"minute\", F.minute(\"timestamp\"))\n",
        "agg = transformed.groupBy(F.window(transformed.timestamp, \"5 seconds\")).count()\n",
        "\n",
        "# write stream as parquet with foreachBatch\n",
        "query = (agg.writeStream\n",
        ".option('checkpointLocation', 'content/output/checkpoint')\n",
        ".trigger(processingTime='20 seconds')\n",
        ".outputMode('append')\n",
        ".foreachBatch(save_parquet)\n",
        ".start()\n",
        ")\n"
      ]
    },
    {
      "cell_type": "code",
      "source": [
        "result = spark.read.format(\"parquet\").load(\"content/output/rate_parquet/\")\n",
        "result.sort(F.asc(\"window\")).show(100, False)"
      ],
      "metadata": {
        "colab": {
          "base_uri": "https://localhost:8080/"
        },
        "id": "-3SWIR6Ml8Al",
        "outputId": "3dfe1265-561b-4889-f3f8-4f57d8dfc1ec"
      },
      "execution_count": 23,
      "outputs": [
        {
          "output_type": "stream",
          "name": "stdout",
          "text": [
            "+------------------------------------------+-----+--------+--------------------------+\n",
            "|window                                    |count|batch_id|load_time                 |\n",
            "+------------------------------------------+-----+--------+--------------------------+\n",
            "|{2024-11-23 15:58:50, 2024-11-23 15:58:55}|49   |2       |2024-11-23 15:59:20.164956|\n",
            "|{2024-11-23 15:58:55, 2024-11-23 15:59:00}|50   |3       |2024-11-23 15:59:40.166114|\n",
            "|{2024-11-23 15:59:00, 2024-11-23 15:59:05}|50   |3       |2024-11-23 15:59:40.166114|\n",
            "|{2024-11-23 15:59:05, 2024-11-23 15:59:10}|50   |3       |2024-11-23 15:59:40.166114|\n",
            "|{2024-11-23 15:59:10, 2024-11-23 15:59:15}|50   |4       |2024-11-23 16:00:00.201819|\n",
            "|{2024-11-23 15:59:15, 2024-11-23 15:59:20}|50   |4       |2024-11-23 16:00:00.201819|\n",
            "|{2024-11-23 15:59:20, 2024-11-23 15:59:25}|50   |4       |2024-11-23 16:00:00.201819|\n",
            "|{2024-11-23 15:59:25, 2024-11-23 15:59:30}|50   |4       |2024-11-23 16:00:00.201819|\n",
            "|{2024-11-23 15:59:30, 2024-11-23 15:59:35}|50   |5       |2024-11-23 16:00:20.271219|\n",
            "|{2024-11-23 15:59:35, 2024-11-23 15:59:40}|50   |5       |2024-11-23 16:00:20.271219|\n",
            "|{2024-11-23 15:59:40, 2024-11-23 15:59:45}|50   |5       |2024-11-23 16:00:20.271219|\n",
            "|{2024-11-23 15:59:45, 2024-11-23 15:59:50}|50   |5       |2024-11-23 16:00:20.271219|\n",
            "|{2024-11-23 15:59:50, 2024-11-23 15:59:55}|50   |6       |2024-11-23 16:00:40.160673|\n",
            "|{2024-11-23 15:59:55, 2024-11-23 16:00:00}|50   |6       |2024-11-23 16:00:40.160673|\n",
            "|{2024-11-23 16:00:00, 2024-11-23 16:00:05}|50   |6       |2024-11-23 16:00:40.160673|\n",
            "|{2024-11-23 16:00:05, 2024-11-23 16:00:10}|50   |6       |2024-11-23 16:00:40.160673|\n",
            "|{2024-11-23 16:00:10, 2024-11-23 16:00:15}|50   |7       |2024-11-23 16:01:00.228828|\n",
            "|{2024-11-23 16:00:15, 2024-11-23 16:00:20}|50   |7       |2024-11-23 16:01:00.228828|\n",
            "|{2024-11-23 16:00:20, 2024-11-23 16:00:25}|50   |7       |2024-11-23 16:01:00.228828|\n",
            "|{2024-11-23 16:00:25, 2024-11-23 16:00:30}|50   |7       |2024-11-23 16:01:00.228828|\n",
            "|{2024-11-23 16:00:30, 2024-11-23 16:00:35}|50   |8       |2024-11-23 16:01:20.232923|\n",
            "|{2024-11-23 16:00:35, 2024-11-23 16:00:40}|50   |8       |2024-11-23 16:01:20.232923|\n",
            "|{2024-11-23 16:00:40, 2024-11-23 16:00:45}|50   |8       |2024-11-23 16:01:20.232923|\n",
            "|{2024-11-23 16:00:45, 2024-11-23 16:00:50}|50   |8       |2024-11-23 16:01:20.232923|\n",
            "|{2024-11-23 16:00:50, 2024-11-23 16:00:55}|50   |9       |2024-11-23 16:01:40.191968|\n",
            "|{2024-11-23 16:00:55, 2024-11-23 16:01:00}|50   |9       |2024-11-23 16:01:40.191968|\n",
            "|{2024-11-23 16:01:00, 2024-11-23 16:01:05}|50   |9       |2024-11-23 16:01:40.191968|\n",
            "|{2024-11-23 16:01:05, 2024-11-23 16:01:10}|50   |9       |2024-11-23 16:01:40.191968|\n",
            "|{2024-11-23 16:01:10, 2024-11-23 16:01:15}|50   |10      |2024-11-23 16:02:00.183919|\n",
            "|{2024-11-23 16:01:15, 2024-11-23 16:01:20}|50   |10      |2024-11-23 16:02:00.183919|\n",
            "|{2024-11-23 16:01:20, 2024-11-23 16:01:25}|50   |10      |2024-11-23 16:02:00.183919|\n",
            "|{2024-11-23 16:01:25, 2024-11-23 16:01:30}|50   |10      |2024-11-23 16:02:00.183919|\n",
            "|{2024-11-23 16:01:30, 2024-11-23 16:01:35}|50   |11      |2024-11-23 16:02:20.251007|\n",
            "|{2024-11-23 16:01:35, 2024-11-23 16:01:40}|50   |11      |2024-11-23 16:02:20.251007|\n",
            "|{2024-11-23 16:01:40, 2024-11-23 16:01:45}|50   |11      |2024-11-23 16:02:20.251007|\n",
            "|{2024-11-23 16:01:45, 2024-11-23 16:01:50}|50   |11      |2024-11-23 16:02:20.251007|\n",
            "|{2024-11-23 16:01:50, 2024-11-23 16:01:55}|50   |12      |2024-11-23 16:02:40.16782 |\n",
            "|{2024-11-23 16:01:55, 2024-11-23 16:02:00}|50   |12      |2024-11-23 16:02:40.16782 |\n",
            "|{2024-11-23 16:02:00, 2024-11-23 16:02:05}|50   |12      |2024-11-23 16:02:40.16782 |\n",
            "|{2024-11-23 16:02:05, 2024-11-23 16:02:10}|50   |12      |2024-11-23 16:02:40.16782 |\n",
            "|{2024-11-23 16:02:10, 2024-11-23 16:02:15}|50   |13      |2024-11-23 16:03:00.19846 |\n",
            "|{2024-11-23 16:02:15, 2024-11-23 16:02:20}|50   |13      |2024-11-23 16:03:00.19846 |\n",
            "|{2024-11-23 16:02:20, 2024-11-23 16:02:25}|50   |13      |2024-11-23 16:03:00.19846 |\n",
            "|{2024-11-23 16:02:25, 2024-11-23 16:02:30}|50   |13      |2024-11-23 16:03:00.19846 |\n",
            "|{2024-11-23 16:02:30, 2024-11-23 16:02:35}|50   |14      |2024-11-23 16:03:20.154107|\n",
            "|{2024-11-23 16:02:35, 2024-11-23 16:02:40}|50   |14      |2024-11-23 16:03:20.154107|\n",
            "|{2024-11-23 16:02:40, 2024-11-23 16:02:45}|50   |14      |2024-11-23 16:03:20.154107|\n",
            "|{2024-11-23 16:02:45, 2024-11-23 16:02:50}|50   |14      |2024-11-23 16:03:20.154107|\n",
            "|{2024-11-23 16:02:50, 2024-11-23 16:02:55}|50   |15      |2024-11-23 16:03:40.314076|\n",
            "|{2024-11-23 16:02:55, 2024-11-23 16:03:00}|50   |15      |2024-11-23 16:03:40.314076|\n",
            "|{2024-11-23 16:03:00, 2024-11-23 16:03:05}|50   |15      |2024-11-23 16:03:40.314076|\n",
            "|{2024-11-23 16:03:05, 2024-11-23 16:03:10}|50   |15      |2024-11-23 16:03:40.314076|\n",
            "|{2024-11-23 16:03:10, 2024-11-23 16:03:15}|50   |16      |2024-11-23 16:04:00.17955 |\n",
            "|{2024-11-23 16:03:15, 2024-11-23 16:03:20}|50   |16      |2024-11-23 16:04:00.17955 |\n",
            "|{2024-11-23 16:03:20, 2024-11-23 16:03:25}|50   |16      |2024-11-23 16:04:00.17955 |\n",
            "|{2024-11-23 16:03:25, 2024-11-23 16:03:30}|50   |16      |2024-11-23 16:04:00.17955 |\n",
            "|{2024-11-23 16:03:30, 2024-11-23 16:03:35}|50   |17      |2024-11-23 16:04:20.18214 |\n",
            "|{2024-11-23 16:03:35, 2024-11-23 16:03:40}|50   |17      |2024-11-23 16:04:20.18214 |\n",
            "|{2024-11-23 16:03:40, 2024-11-23 16:03:45}|50   |17      |2024-11-23 16:04:20.18214 |\n",
            "|{2024-11-23 16:03:45, 2024-11-23 16:03:50}|50   |17      |2024-11-23 16:04:20.18214 |\n",
            "|{2024-11-23 16:03:50, 2024-11-23 16:03:55}|50   |18      |2024-11-23 16:04:40.177197|\n",
            "|{2024-11-23 16:03:55, 2024-11-23 16:04:00}|50   |18      |2024-11-23 16:04:40.177197|\n",
            "|{2024-11-23 16:04:00, 2024-11-23 16:04:05}|50   |18      |2024-11-23 16:04:40.177197|\n",
            "|{2024-11-23 16:04:05, 2024-11-23 16:04:10}|50   |18      |2024-11-23 16:04:40.177197|\n",
            "|{2024-11-23 16:04:10, 2024-11-23 16:04:15}|50   |19      |2024-11-23 16:05:00.174777|\n",
            "|{2024-11-23 16:04:15, 2024-11-23 16:04:20}|50   |19      |2024-11-23 16:05:00.174777|\n",
            "|{2024-11-23 16:04:20, 2024-11-23 16:04:25}|50   |19      |2024-11-23 16:05:00.174777|\n",
            "|{2024-11-23 16:04:25, 2024-11-23 16:04:30}|50   |19      |2024-11-23 16:05:00.174777|\n",
            "|{2024-11-23 16:04:30, 2024-11-23 16:04:35}|50   |20      |2024-11-23 16:05:20.283882|\n",
            "|{2024-11-23 16:04:35, 2024-11-23 16:04:40}|50   |20      |2024-11-23 16:05:20.283882|\n",
            "|{2024-11-23 16:04:40, 2024-11-23 16:04:45}|50   |20      |2024-11-23 16:05:20.283882|\n",
            "|{2024-11-23 16:04:45, 2024-11-23 16:04:50}|50   |20      |2024-11-23 16:05:20.283882|\n",
            "|{2024-11-23 16:04:50, 2024-11-23 16:04:55}|50   |21      |2024-11-23 16:05:40.156219|\n",
            "|{2024-11-23 16:04:55, 2024-11-23 16:05:00}|50   |21      |2024-11-23 16:05:40.156219|\n",
            "|{2024-11-23 16:05:00, 2024-11-23 16:05:05}|50   |21      |2024-11-23 16:05:40.156219|\n",
            "|{2024-11-23 16:05:05, 2024-11-23 16:05:10}|50   |21      |2024-11-23 16:05:40.156219|\n",
            "|{2024-11-23 16:05:10, 2024-11-23 16:05:15}|50   |22      |2024-11-23 16:06:00.21621 |\n",
            "|{2024-11-23 16:05:15, 2024-11-23 16:05:20}|50   |22      |2024-11-23 16:06:00.21621 |\n",
            "|{2024-11-23 16:05:20, 2024-11-23 16:05:25}|50   |22      |2024-11-23 16:06:00.21621 |\n",
            "|{2024-11-23 16:05:25, 2024-11-23 16:05:30}|50   |22      |2024-11-23 16:06:00.21621 |\n",
            "|{2024-11-23 16:05:30, 2024-11-23 16:05:35}|50   |23      |2024-11-23 16:06:20.430561|\n",
            "|{2024-11-23 16:05:35, 2024-11-23 16:05:40}|50   |23      |2024-11-23 16:06:20.430561|\n",
            "|{2024-11-23 16:05:40, 2024-11-23 16:05:45}|50   |23      |2024-11-23 16:06:20.430561|\n",
            "|{2024-11-23 16:05:45, 2024-11-23 16:05:50}|50   |23      |2024-11-23 16:06:20.430561|\n",
            "|{2024-11-23 16:05:50, 2024-11-23 16:05:55}|50   |24      |2024-11-23 16:06:40.180808|\n",
            "|{2024-11-23 16:05:55, 2024-11-23 16:06:00}|50   |24      |2024-11-23 16:06:40.180808|\n",
            "|{2024-11-23 16:06:00, 2024-11-23 16:06:05}|50   |24      |2024-11-23 16:06:40.180808|\n",
            "|{2024-11-23 16:06:05, 2024-11-23 16:06:10}|50   |24      |2024-11-23 16:06:40.180808|\n",
            "|{2024-11-23 16:06:10, 2024-11-23 16:06:15}|50   |25      |2024-11-23 16:07:00.163579|\n",
            "|{2024-11-23 16:06:15, 2024-11-23 16:06:20}|50   |25      |2024-11-23 16:07:00.163579|\n",
            "|{2024-11-23 16:06:20, 2024-11-23 16:06:25}|50   |25      |2024-11-23 16:07:00.163579|\n",
            "|{2024-11-23 16:06:25, 2024-11-23 16:06:30}|50   |25      |2024-11-23 16:07:00.163579|\n",
            "+------------------------------------------+-----+--------+--------------------------+\n",
            "\n"
          ]
        }
      ]
    },
    {
      "cell_type": "code",
      "source": [
        "query.stop()"
      ],
      "metadata": {
        "id": "DKB-MAPOoEre"
      },
      "execution_count": 24,
      "outputs": []
    },
    {
      "cell_type": "markdown",
      "source": [
        "# Enrich data with faker"
      ],
      "metadata": {
        "id": "GjAp1IKnvteX"
      }
    },
    {
      "cell_type": "code",
      "source": [
        "!pip install faker"
      ],
      "metadata": {
        "id": "_gauZX8MFP5f",
        "outputId": "6467760d-ab46-448c-9957-da616fb7a1ca",
        "colab": {
          "base_uri": "https://localhost:8080/"
        }
      },
      "execution_count": 25,
      "outputs": [
        {
          "output_type": "stream",
          "name": "stdout",
          "text": [
            "Collecting faker\n",
            "  Downloading Faker-33.0.0-py3-none-any.whl.metadata (15 kB)\n",
            "Requirement already satisfied: python-dateutil>=2.4 in /usr/local/lib/python3.10/dist-packages (from faker) (2.8.2)\n",
            "Requirement already satisfied: typing-extensions in /usr/local/lib/python3.10/dist-packages (from faker) (4.12.2)\n",
            "Requirement already satisfied: six>=1.5 in /usr/local/lib/python3.10/dist-packages (from python-dateutil>=2.4->faker) (1.16.0)\n",
            "Downloading Faker-33.0.0-py3-none-any.whl (1.9 MB)\n",
            "\u001b[2K   \u001b[90m━━━━━━━━━━━━━━━━━━━━━━━━━━━━━━━━━━━━━━━━\u001b[0m \u001b[32m1.9/1.9 MB\u001b[0m \u001b[31m28.2 MB/s\u001b[0m eta \u001b[36m0:00:00\u001b[0m\n",
            "\u001b[?25hInstalling collected packages: faker\n",
            "Successfully installed faker-33.0.0\n"
          ]
        }
      ]
    },
    {
      "cell_type": "code",
      "source": [
        "!rm -rf content/output/events"
      ],
      "metadata": {
        "id": "UFND4p5-2Na5"
      },
      "execution_count": 26,
      "outputs": []
    },
    {
      "cell_type": "code",
      "source": [
        "import pyspark.sql.functions as F\n",
        "from pyspark.sql import DataFrame\n",
        "from faker import Faker\n",
        "\n",
        "def insert_into_table(df, batch_id):\n",
        "  fake = Faker()\n",
        "  new_columns = {\n",
        "      'name': F.lit(fake.name()),\n",
        "      'address': F.lit(fake.address()),\n",
        "      'email': F.lit(fake.email()),\n",
        "      'dob': F.lit(fake.date_of_birth()),\n",
        "      'phone': F.lit(fake.phone_number())\n",
        "  }\n",
        "  df = df.withColumns(new_columns)\n",
        "  df.write.mode(\"append\").format(\"parquet\").save(\"content/output/events\")\n",
        "\n",
        "# read stream\n",
        "df_stream = spark.readStream.format(\"rate\").option(\"rowsPerSecond\", 1).load()\n",
        "\n",
        "# write stream\n",
        "query = (df_stream.writeStream\n",
        ".outputMode('append')\n",
        ".trigger(processingTime='1 seconds')\n",
        ".foreachBatch(insert_into_table)\n",
        ".start()\n",
        ")"
      ],
      "metadata": {
        "id": "WCUhAzDOD4Q3"
      },
      "execution_count": 27,
      "outputs": []
    },
    {
      "cell_type": "code",
      "source": [
        "query.stop()\n"
      ],
      "metadata": {
        "id": "KEMAlpKhwLNu"
      },
      "execution_count": 28,
      "outputs": []
    },
    {
      "cell_type": "code",
      "source": [
        "spark.read.parquet(\"content/output/events\").show(100, False)"
      ],
      "metadata": {
        "id": "89s50dHjECqk",
        "outputId": "de806865-c2a9-4279-b96b-3641fcc6fd0f",
        "colab": {
          "base_uri": "https://localhost:8080/"
        }
      },
      "execution_count": 29,
      "outputs": [
        {
          "output_type": "stream",
          "name": "stdout",
          "text": [
            "+-----------------------+-----+-------------------+--------------------------------------------------------+-----------------------------+----------+----------------------+\n",
            "|timestamp              |value|name               |address                                                 |email                        |dob       |phone                 |\n",
            "+-----------------------+-----+-------------------+--------------------------------------------------------+-----------------------------+----------+----------------------+\n",
            "|2024-11-23 16:08:15.003|24   |Jeffrey Hoffman    |01657 Isaac Tunnel Apt. 796\\nNorth Mariaton, PA 04996   |christopher38@example.com    |2010-01-22|+1-579-282-8466x6297  |\n",
            "|2024-11-23 16:08:01.003|10   |Mrs. Wanda Wagner  |19997 Jeffrey Terrace\\nNew William, OH 23757            |cunninghamshannon@example.net|1995-10-17|+1-851-754-5225x1322  |\n",
            "|2024-11-23 16:08:05.003|14   |Keith Griffin      |3851 Jackson Stream Suite 301\\nAriasmouth, KS 05433     |kevinsimmons@example.net     |1932-06-04|001-401-577-8355x9947 |\n",
            "|2024-11-23 16:08:19.003|28   |Gregory Schneider  |28309 Anderson Drive\\nNorth Susanborough, CO 51897      |diane25@example.org          |1915-07-19|+1-923-979-9223x49350 |\n",
            "|2024-11-23 16:08:03.003|12   |Miss Erin Ortiz    |140 Nancy Viaduct Suite 087\\nChenborough, FM 72452      |pamelahardy@example.org      |1989-08-06|(586)883-8618x00171   |\n",
            "|2024-11-23 16:07:55.003|4    |David Cummings     |5189 Johnson Village Apt. 404\\nWest Amyview, CO 85491   |ocoleman@example.org         |1936-03-11|001-664-532-2517x663  |\n",
            "|2024-11-23 16:08:20.003|29   |Robert Keller      |8600 Smith Junctions Suite 910\\nHamptonborough, KY 87611|zwilliams@example.org        |1959-06-10|749-553-2295x5684     |\n",
            "|2024-11-23 16:08:08.003|17   |Anita Russell      |6608 Cunningham Glen Suite 730\\nWilliamside, PA 26079   |ashleyberry@example.net      |2017-06-13|814-777-4683x0381     |\n",
            "|2024-11-23 16:08:04.003|13   |Brent Prince       |36069 Arnold Manor Apt. 274\\nEast Lindabury, DE 80713   |timclark@example.org         |2015-04-18|+1-494-214-8075x22354 |\n",
            "|2024-11-23 16:08:21.003|30   |Tara Green         |7981 Brian Road Apt. 940\\nLuceroborough, VI 92120       |herrerakrystal@example.org   |1989-06-16|+1-530-486-3891x7131  |\n",
            "|2024-11-23 16:07:59.003|8    |Christine Klein    |541 Pearson Squares Suite 545\\nJacksonport, MS 34683    |kristytran@example.org       |2020-08-29|(751)704-4594         |\n",
            "|2024-11-23 16:07:51.003|0    |Frederick Bryant   |892 Ann Coves\\nRichardsontown, CO 90188                 |turnertheresa@example.net    |1925-11-20|+1-656-544-0444x6391  |\n",
            "|2024-11-23 16:08:11.003|20   |Nancy Gonzalez     |624 Young Dam Apt. 348\\nCrossfort, ME 09747             |joshuamiller@example.org     |1988-06-01|(211)567-5583x55412   |\n",
            "|2024-11-23 16:08:16.003|25   |Morgan Joseph      |81622 Trevino Forks Apt. 764\\nRileyburgh, IL 20714      |ckelly@example.org           |1920-07-25|(519)287-2453x21471   |\n",
            "|2024-11-23 16:07:54.003|3    |Kevin Stanley      |9363 Berry Course\\nVictoriaborough, MP 45272            |hamptonvernon@example.com    |1942-07-05|865.407.4898x9666     |\n",
            "|2024-11-23 16:08:00.003|9    |Cody Alvarez       |783 Hensley Freeway\\nMichaelberg, MP 85226              |martinisaiah@example.com     |1951-03-09|001-965-360-6023x9291 |\n",
            "|2024-11-23 16:08:25.003|34   |Mr. Louis Hernandez|297 Elizabeth Key\\nLake Joshua, PA 62773                |castillojoshua@example.com   |1998-11-08|(707)201-3277         |\n",
            "|2024-11-23 16:08:07.003|16   |Sabrina Boyer      |14833 Kim Stream Apt. 658\\nWiseport, SC 54896           |clarkediane@example.com      |1990-08-11|472-724-7125x6932     |\n",
            "|2024-11-23 16:08:12.003|21   |Richard Rice       |5023 Woodard Inlet Apt. 016\\nWest Raymond, OK 24098     |cfoster@example.com          |1953-03-25|+1-278-238-3778       |\n",
            "|2024-11-23 16:07:56.003|5    |Nicole Perry       |65146 James Land Apt. 066\\nAndreaton, LA 34909          |kennedymary@example.net      |1974-08-01|671.597.4895x976      |\n",
            "|2024-11-23 16:07:57.003|6    |Larry Hammond      |016 Victor View Apt. 757\\nTammyfurt, FL 29251           |juliejones@example.net       |1910-11-17|(334)635-7514x924     |\n",
            "|2024-11-23 16:08:23.003|32   |Madison Anderson   |87744 Cheyenne Pines\\nWilliamston, TN 12074             |wcarlson@example.net         |1974-11-14|286.746.0912x5462     |\n",
            "|2024-11-23 16:08:18.003|27   |Sarah Vargas       |831 Lisa Walk Suite 490\\nMargaretside, NE 07907         |karina61@example.com         |2020-11-29|367-698-3180x3520     |\n",
            "|2024-11-23 16:07:52.003|1    |Michelle Baker     |7423 Ruiz Inlet\\nEast Brittany, ID 67073                |sandraknox@example.org       |1992-05-30|(533)904-7846x05083   |\n",
            "|2024-11-23 16:07:53.003|2    |Sarah Jenkins      |80415 Jacob Road Suite 350\\nMauricestad, KS 65822       |michelle89@example.org       |2004-09-20|2468709214            |\n",
            "|2024-11-23 16:08:09.003|18   |Danielle Morrow    |73751 Robin Bridge\\nMaryberg, GA 48242                  |webererika@example.net       |1950-06-21|(498)940-6240x949     |\n",
            "|2024-11-23 16:08:13.003|22   |Darrell Ramos      |3557 Wong Ridge\\nNew Jesus, ND 71323                    |jonesgina@example.org        |1963-06-16|001-810-686-0463x51550|\n",
            "|2024-11-23 16:08:06.003|15   |Kevin Swanson      |9741 Rebecca Fall\\nWest Erin, AS 77529                  |carrwendy@example.org        |1953-09-09|(578)621-3921x89153   |\n",
            "|2024-11-23 16:07:58.003|7    |Adam Salinas       |133 Stacey Trail\\nEast Amy, ME 85411                    |ericwebster@example.net      |1955-09-05|999-657-6439x16425    |\n",
            "|2024-11-23 16:08:17.003|26   |Harold Green       |1114 Cindy Villages\\nEast Christopher, GU 56595         |fyu@example.net              |1971-05-03|(592)224-5403         |\n",
            "|2024-11-23 16:08:14.003|23   |Samantha Ortiz     |962 Scott Knoll\\nCruzland, NJ 83769                     |ochoadarren@example.com      |1940-03-20|+1-511-301-5149       |\n",
            "|2024-11-23 16:08:24.003|33   |Troy White         |PSC 7759, Box 8613\\nAPO AE 07419                        |andersonscott@example.org    |1973-02-01|926-512-0304x72889    |\n",
            "|2024-11-23 16:08:10.003|19   |Valerie Gregory    |021 Bryan Wall\\nEast Amanda, MA 16639                   |samuel44@example.org         |1959-01-18|649.865.8142          |\n",
            "|2024-11-23 16:08:22.003|31   |Ashley Warner      |USCGC Dorsey\\nFPO AE 28675                              |klineerin@example.com        |1913-07-06|833.347.3004          |\n",
            "|2024-11-23 16:08:02.003|11   |Jennifer Meyers    |USS Brown\\nFPO AA 12767                                 |ktran@example.net            |1966-09-15|646.745.9138x5238     |\n",
            "+-----------------------+-----+-------------------+--------------------------------------------------------+-----------------------------+----------+----------------------+\n",
            "\n"
          ]
        }
      ]
    },
    {
      "cell_type": "code",
      "source": [
        "query.stop()"
      ],
      "metadata": {
        "id": "m22vpxcxIUNa"
      },
      "execution_count": 30,
      "outputs": []
    }
  ],
  "metadata": {
    "colab": {
      "provenance": [],
      "include_colab_link": true
    },
    "kernelspec": {
      "display_name": "Python 3",
      "name": "python3"
    },
    "language_info": {
      "name": "python"
    }
  },
  "nbformat": 4,
  "nbformat_minor": 0
}