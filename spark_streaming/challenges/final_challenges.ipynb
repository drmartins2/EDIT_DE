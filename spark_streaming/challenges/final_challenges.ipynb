{
  "cells": [
    {
      "cell_type": "markdown",
      "metadata": {
        "id": "view-in-github",
        "colab_type": "text"
      },
      "source": [
        "<a href=\"https://colab.research.google.com/github/drmartins2/EDIT_DE/blob/main/spark_streaming/challenges/final_challenges.ipynb\" target=\"_parent\"><img src=\"https://colab.research.google.com/assets/colab-badge.svg\" alt=\"Open In Colab\"/></a>"
      ]
    },
    {
      "cell_type": "markdown",
      "metadata": {
        "id": "4_GBE9UsyxwK"
      },
      "source": []
    },
    {
      "cell_type": "markdown",
      "metadata": {
        "id": "d9LeYFsPTjAb"
      },
      "source": [
        "# Setting up PySpark"
      ]
    },
    {
      "cell_type": "code",
      "execution_count": 1,
      "metadata": {
        "colab": {
          "base_uri": "https://localhost:8080/"
        },
        "id": "uYXeODL0T1fO",
        "outputId": "0a75e548-bbe9-47d6-95f3-a19b23cec4de"
      },
      "outputs": [
        {
          "output_type": "stream",
          "name": "stdout",
          "text": [
            "Requirement already satisfied: pyspark in /usr/local/lib/python3.10/dist-packages (3.5.3)\n",
            "Requirement already satisfied: py4j==0.10.9.7 in /usr/local/lib/python3.10/dist-packages (from pyspark) (0.10.9.7)\n"
          ]
        }
      ],
      "source": [
        "%pip install pyspark"
      ]
    },
    {
      "cell_type": "markdown",
      "metadata": {
        "id": "Rcybt71kTDNt"
      },
      "source": [
        "# Context\n",
        "Message events are coming from platform message broker (kafka, pubsub, kinesis...).\n",
        "You need to process the data according to the requirements.\n",
        "\n",
        "Message schema:\n",
        "- timestamp\n",
        "- value\n",
        "- event_type\n",
        "- message_id\n",
        "- country_id\n",
        "- user_id\n",
        "\n"
      ]
    },
    {
      "cell_type": "markdown",
      "metadata": {
        "id": "JkyPORKNSYvV"
      },
      "source": [
        "# Challenge 1\n",
        "\n",
        "Step 1\n",
        "- Change exising producer\n",
        "\t- Change parquet location to \"/content/lake/bronze/messages/data\"\n",
        "\t- Add checkpoint (/content/lake/bronze/messages/checkpoint)\n",
        "\t- Delete /content/lake/bronze/messages and reprocess data\n",
        "\t- For reprocessing, run the streaming for at least 1 minute, then stop it\n",
        "\n",
        "Step 2\n",
        "- Implement new stream job to read from messages in bronze layer and split result in two locations\n",
        "\t- \"messages_corrupted\"\n",
        "\t\t- logic: event_status is null, empty or equal to \"NONE\"\n",
        "    - extra logic: add country name by joining message with countries dataset\n",
        "\t\t- partition by \"date\" -extract it from timestamp\n",
        "\t\t- location: /content/lake/silver/messages_corrupted/data\n",
        "\n",
        "\t- \"messages\"\n",
        "\t\t- logic: not corrupted data\n",
        "\t\t- extra logic: add country name by joining message with countries dataset\n",
        "\t\t- partition by \"date\" -extract it from timestamp\n",
        "\t\t- location: /content/lake/silver/messages/data\n",
        "\n",
        "\t- technical requirements\n",
        "\t\t- add checkpint (choose location)\n",
        "\t\t- use StructSchema\n",
        "\t\t- Set trigger interval to 5 seconds\n",
        "\t\t- run streaming for at least 20 seconds, then stop it\n",
        "\n",
        "\t- alternatives\n",
        "\t\t- implementing single streaming job with foreach/- foreachBatch logic to write into two locations\n",
        "\t\t- implementing two streaming jobs, one for messages and another for messages_corrupted\n",
        "\t\t- (paying attention on the paths and checkpoints)\n",
        "\n",
        "\n",
        "  - Check results:\n",
        "    - results from messages in bronze layer should match with the sum of messages+messages_corrupted in the silver layer"
      ]
    },
    {
      "cell_type": "code",
      "execution_count": 2,
      "metadata": {
        "colab": {
          "base_uri": "https://localhost:8080/"
        },
        "id": "Udk3tohSaXOH",
        "outputId": "e7b2434f-5e6f-4241-97e7-8d81e29235c4"
      },
      "outputs": [
        {
          "output_type": "stream",
          "name": "stdout",
          "text": [
            "Collecting faker\n",
            "  Downloading Faker-33.1.0-py3-none-any.whl.metadata (15 kB)\n",
            "Requirement already satisfied: python-dateutil>=2.4 in /usr/local/lib/python3.10/dist-packages (from faker) (2.8.2)\n",
            "Requirement already satisfied: typing-extensions in /usr/local/lib/python3.10/dist-packages (from faker) (4.12.2)\n",
            "Requirement already satisfied: six>=1.5 in /usr/local/lib/python3.10/dist-packages (from python-dateutil>=2.4->faker) (1.17.0)\n",
            "Downloading Faker-33.1.0-py3-none-any.whl (1.9 MB)\n",
            "\u001b[2K   \u001b[90m━━━━━━━━━━━━━━━━━━━━━━━━━━━━━━━━━━━━━━━━\u001b[0m \u001b[32m1.9/1.9 MB\u001b[0m \u001b[31m20.2 MB/s\u001b[0m eta \u001b[36m0:00:00\u001b[0m\n",
            "\u001b[?25hInstalling collected packages: faker\n",
            "Successfully installed faker-33.1.0\n"
          ]
        }
      ],
      "source": [
        "%pip install faker"
      ]
    },
    {
      "cell_type": "markdown",
      "metadata": {
        "id": "cDGMKwBdi1qy"
      },
      "source": [
        "# Producer"
      ]
    },
    {
      "cell_type": "code",
      "execution_count": 3,
      "metadata": {
        "colab": {
          "base_uri": "https://localhost:8080/"
        },
        "id": "tPCOdivrfhYh",
        "outputId": "d63f7f29-0322-45af-9cd8-a3a09ee801ce"
      },
      "outputs": [
        {
          "output_type": "execute_result",
          "data": {
            "text/plain": [
              "False"
            ]
          },
          "metadata": {},
          "execution_count": 3
        }
      ],
      "source": [
        "import pyspark.sql.functions as F\n",
        "from pyspark.sql import DataFrame\n",
        "from faker import Faker\n",
        "from pyspark.sql import SparkSession\n",
        "\n",
        "spark = SparkSession.builder.appName('Test streaming').getOrCreate()\n",
        "sc = spark.sparkContext\n",
        "\n",
        "fake = Faker()\n",
        "messages = [fake.uuid4() for _ in range(50)]\n",
        "\n",
        "def enrich_data(df, messages=messages):\n",
        "  fake = Faker()\n",
        "  new_columns = {\n",
        "      'event_type': F.lit(fake.random_element(elements=('OPEN', 'RECEIVED', 'SENT', 'CREATED', 'CLICKED', '', 'NONE'))),\n",
        "      'message_id': F.lit(fake.random_element(elements=messages)),\n",
        "      'channel': F.lit(fake.random_element(elements=('CHAT', 'EMAIL', 'SMS', 'PUSH', 'OTHER'))),\n",
        "      'country_id': F.lit(fake.random_int(min=2000, max=2015)),\n",
        "      'user_id': F.lit(fake.random_int(min=1000, max=1050)),\n",
        "  }\n",
        "  df = df.withColumns(new_columns)\n",
        "  return df\n",
        "\n",
        "def insert_messages(df: DataFrame, batch_id):\n",
        "  enrich = enrich_data(df)\n",
        "  enrich.write.mode(\"append\").format(\"parquet\").save(\"content/lake/bronze/messages\")\n",
        "\n",
        "# read stream\n",
        "df_stream = spark.readStream.format(\"rate\").option(\"rowsPerSecond\", 1).load()\n",
        "\n",
        "# write stream\n",
        "query = (df_stream.writeStream\n",
        ".outputMode('append')\n",
        ".trigger(processingTime='1 seconds')\n",
        ".foreachBatch(insert_messages)\n",
        ".start()\n",
        ")\n",
        "\n",
        "query.awaitTermination(60)\n"
      ]
    },
    {
      "cell_type": "code",
      "execution_count": 4,
      "metadata": {
        "id": "KNyUK3yplDhg"
      },
      "outputs": [],
      "source": [
        "query.stop()"
      ]
    },
    {
      "cell_type": "code",
      "execution_count": 5,
      "metadata": {
        "id": "ZWQExsnzlMFe",
        "colab": {
          "base_uri": "https://localhost:8080/"
        },
        "outputId": "21541c51-638c-4c41-af9f-de181b312bd7"
      },
      "outputs": [
        {
          "output_type": "stream",
          "name": "stdout",
          "text": [
            "+--------------------+-----+----------+--------------------+-------+----------+-------+\n",
            "|           timestamp|value|event_type|          message_id|channel|country_id|user_id|\n",
            "+--------------------+-----+----------+--------------------+-------+----------+-------+\n",
            "|2024-12-14 14:43:...|    0|      SENT|76a798a2-63cf-4bc...|    SMS|      2001|   1046|\n",
            "|2024-12-14 14:43:...|    2|      SENT|76a798a2-63cf-4bc...|    SMS|      2001|   1046|\n",
            "|2024-12-14 14:43:...|    1|      SENT|76a798a2-63cf-4bc...|    SMS|      2001|   1046|\n",
            "|2024-12-14 14:43:...|    3|      SENT|76a798a2-63cf-4bc...|    SMS|      2001|   1046|\n",
            "|2024-12-14 14:44:...|   57|  RECEIVED|f0d2968a-d593-4e5...|  EMAIL|      2003|   1028|\n",
            "|2024-12-14 14:44:...|   61|  RECEIVED|936f7295-3051-492...|  EMAIL|      2013|   1011|\n",
            "|2024-12-14 14:44:...|   42|  RECEIVED|b424a48f-c50d-4ed...|  EMAIL|      2008|   1034|\n",
            "|2024-12-14 14:45:...|   69|   CLICKED|0db88870-ec0b-48e...|  EMAIL|      2006|   1025|\n",
            "|2024-12-14 14:44:...|   59|  RECEIVED|404f1143-327e-437...|   PUSH|      2012|   1031|\n",
            "|2024-12-14 14:44:...|   44|   CLICKED|39538109-00c0-452...|  EMAIL|      2008|   1036|\n",
            "|2024-12-14 14:44:...|   60|   CREATED|772001e0-1e91-47e...|  OTHER|      2014|   1001|\n",
            "|2024-12-14 14:44:...|   50|   CREATED|7553b638-9a16-4a7...|  OTHER|      2010|   1044|\n",
            "|2024-12-14 14:44:...|   53|   CLICKED|8cd1c1db-3053-4d5...|   CHAT|      2000|   1045|\n",
            "|2024-12-14 14:44:...|   55|  RECEIVED|ffca3821-f219-442...|    SMS|      2009|   1015|\n",
            "|2024-12-14 14:44:...|   52|   CLICKED|39538109-00c0-452...|   CHAT|      2011|   1008|\n",
            "|2024-12-14 14:44:...|   56|   CREATED|45a2237e-bacb-4fe...|   PUSH|      2000|   1002|\n",
            "|2024-12-14 14:44:...|   49|  RECEIVED|fd28893c-29d6-419...|    SMS|      2013|   1029|\n",
            "|2024-12-14 14:43:...|    5|   CREATED|a7009cd5-d0ee-4f6...|   PUSH|      2001|   1003|\n",
            "|2024-12-14 14:44:...|   36|  RECEIVED|567204b2-657c-4d0...|    SMS|      2007|   1023|\n",
            "|2024-12-14 14:43:...|    4|   CREATED|55809429-16c6-4cf...|   CHAT|      2014|   1023|\n",
            "+--------------------+-----+----------+--------------------+-------+----------+-------+\n",
            "only showing top 20 rows\n",
            "\n"
          ]
        }
      ],
      "source": [
        "df = spark.read.format(\"parquet\").load(\"content/lake/bronze/messages/*\")\n",
        "df.show()"
      ]
    },
    {
      "cell_type": "markdown",
      "source": [
        "#New Producer"
      ],
      "metadata": {
        "id": "vukwHaBZgdFM"
      }
    },
    {
      "cell_type": "code",
      "source": [
        "import pyspark.sql.functions as F\n",
        "from pyspark.sql import DataFrame\n",
        "from faker import Faker\n",
        "from pyspark.sql import SparkSession\n",
        "import shutil\n",
        "import os\n",
        "\n",
        "spark = SparkSession.builder.appName('Test streaming').getOrCreate()\n",
        "sc = spark.sparkContext\n",
        "\n",
        "fake = Faker()\n",
        "messages = [fake.uuid4() for _ in range(50)]\n",
        "\n",
        "def enrich_data(df, messages=messages):\n",
        "    fake = Faker()\n",
        "    new_columns = {\n",
        "        'event_type': F.lit(fake.random_element(elements=('OPEN', 'RECEIVED', 'SENT', 'CREATED', 'CLICKED', '', 'NONE'))),\n",
        "        'message_id': F.lit(fake.random_element(elements=messages)),\n",
        "        'channel': F.lit(fake.random_element(elements=('CHAT', 'EMAIL', 'SMS', 'PUSH', 'OTHER'))),\n",
        "        'country_id': F.lit(fake.random_int(min=2000, max=2015)),\n",
        "        'user_id': F.lit(fake.random_int(min=1000, max=1050)),\n",
        "    }\n",
        "    df = df.withColumns(new_columns)\n",
        "    return df\n",
        "\n",
        "def insert_messages(df: DataFrame, batch_id):\n",
        "    enrich = enrich_data(df)\n",
        "    enrich = enrich.withColumn(\"value\", F.col(\"value\").cast(\"string\"))\n",
        "    enrich.write.mode(\"append\").format(\"parquet\").save(\"/content/lake/bronze/messages/data\")\n",
        "\n",
        "# Delete existing data - For first execution there's no data to delete (as directory is different from the other Producer)\n",
        "bronze_path = \"/content/lake/bronze/messages/data\"\n",
        "if os.path.exists(bronze_path):\n",
        "    shutil.rmtree(bronze_path)\n",
        "\n",
        "# Read stream\n",
        "df_stream = spark.readStream.format(\"rate\").option(\"rowsPerSecond\", 1).load()\n",
        "\n",
        "# Write stream\n",
        "query = (df_stream.writeStream\n",
        "    .outputMode('append')\n",
        "    .trigger(processingTime='1 seconds')\n",
        "    .option(\"checkpointLocation\", \"/content/lake/bronze/messages/checkpoint\")\n",
        "    .foreachBatch(insert_messages)\n",
        "    .start()\n",
        ")\n",
        "\n",
        "# Run for 1 minute\n",
        "query.awaitTermination(60)\n"
      ],
      "metadata": {
        "colab": {
          "base_uri": "https://localhost:8080/",
          "height": 356
        },
        "id": "1XWYXoeHgco1",
        "outputId": "ea705a4b-d927-4eeb-8256-b4e203112e89"
      },
      "execution_count": 9,
      "outputs": [
        {
          "output_type": "error",
          "ename": "StreamingQueryException",
          "evalue": "[STREAM_FAILED] Query [id = e621e8bb-81a2-42e2-bf61-33f5d63fd0b2, runId = 64d1b5b1-bc94-4163-9a3d-60c074406365] terminated with exception: [INTERNAL_ERROR] The Spark SQL phase planning failed with an internal error. You hit a bug in Spark or the Spark plugins you use. Please, report this bug to the corresponding communities or vendors, and provide the full stack trace.",
          "traceback": [
            "\u001b[0;31m---------------------------------------------------------------------------\u001b[0m",
            "\u001b[0;31mStreamingQueryException\u001b[0m                   Traceback (most recent call last)",
            "\u001b[0;32m<ipython-input-9-0e7e151f4358>\u001b[0m in \u001b[0;36m<cell line: 49>\u001b[0;34m()\u001b[0m\n\u001b[1;32m     47\u001b[0m \u001b[0;34m\u001b[0m\u001b[0m\n\u001b[1;32m     48\u001b[0m \u001b[0;31m# Run for 1 minute\u001b[0m\u001b[0;34m\u001b[0m\u001b[0;34m\u001b[0m\u001b[0m\n\u001b[0;32m---> 49\u001b[0;31m \u001b[0mquery\u001b[0m\u001b[0;34m.\u001b[0m\u001b[0mawaitTermination\u001b[0m\u001b[0;34m(\u001b[0m\u001b[0;36m60\u001b[0m\u001b[0;34m)\u001b[0m\u001b[0;34m\u001b[0m\u001b[0;34m\u001b[0m\u001b[0m\n\u001b[0m",
            "\u001b[0;32m/usr/local/lib/python3.10/dist-packages/pyspark/sql/streaming/query.py\u001b[0m in \u001b[0;36mawaitTermination\u001b[0;34m(self, timeout)\u001b[0m\n\u001b[1;32m    217\u001b[0m                     \u001b[0mmessage_parameters\u001b[0m\u001b[0;34m=\u001b[0m\u001b[0;34m{\u001b[0m\u001b[0;34m\"arg_name\"\u001b[0m\u001b[0;34m:\u001b[0m \u001b[0;34m\"timeout\"\u001b[0m\u001b[0;34m,\u001b[0m \u001b[0;34m\"arg_value\"\u001b[0m\u001b[0;34m:\u001b[0m \u001b[0mtype\u001b[0m\u001b[0;34m(\u001b[0m\u001b[0mtimeout\u001b[0m\u001b[0;34m)\u001b[0m\u001b[0;34m.\u001b[0m\u001b[0m__name__\u001b[0m\u001b[0;34m}\u001b[0m\u001b[0;34m,\u001b[0m\u001b[0;34m\u001b[0m\u001b[0;34m\u001b[0m\u001b[0m\n\u001b[1;32m    218\u001b[0m                 )\n\u001b[0;32m--> 219\u001b[0;31m             \u001b[0;32mreturn\u001b[0m \u001b[0mself\u001b[0m\u001b[0;34m.\u001b[0m\u001b[0m_jsq\u001b[0m\u001b[0;34m.\u001b[0m\u001b[0mawaitTermination\u001b[0m\u001b[0;34m(\u001b[0m\u001b[0mint\u001b[0m\u001b[0;34m(\u001b[0m\u001b[0mtimeout\u001b[0m \u001b[0;34m*\u001b[0m \u001b[0;36m1000\u001b[0m\u001b[0;34m)\u001b[0m\u001b[0;34m)\u001b[0m\u001b[0;34m\u001b[0m\u001b[0;34m\u001b[0m\u001b[0m\n\u001b[0m\u001b[1;32m    220\u001b[0m         \u001b[0;32melse\u001b[0m\u001b[0;34m:\u001b[0m\u001b[0;34m\u001b[0m\u001b[0;34m\u001b[0m\u001b[0m\n\u001b[1;32m    221\u001b[0m             \u001b[0;32mreturn\u001b[0m \u001b[0mself\u001b[0m\u001b[0;34m.\u001b[0m\u001b[0m_jsq\u001b[0m\u001b[0;34m.\u001b[0m\u001b[0mawaitTermination\u001b[0m\u001b[0;34m(\u001b[0m\u001b[0;34m)\u001b[0m\u001b[0;34m\u001b[0m\u001b[0;34m\u001b[0m\u001b[0m\n",
            "\u001b[0;32m/usr/local/lib/python3.10/dist-packages/py4j/java_gateway.py\u001b[0m in \u001b[0;36m__call__\u001b[0;34m(self, *args)\u001b[0m\n\u001b[1;32m   1320\u001b[0m \u001b[0;34m\u001b[0m\u001b[0m\n\u001b[1;32m   1321\u001b[0m         \u001b[0manswer\u001b[0m \u001b[0;34m=\u001b[0m \u001b[0mself\u001b[0m\u001b[0;34m.\u001b[0m\u001b[0mgateway_client\u001b[0m\u001b[0;34m.\u001b[0m\u001b[0msend_command\u001b[0m\u001b[0;34m(\u001b[0m\u001b[0mcommand\u001b[0m\u001b[0;34m)\u001b[0m\u001b[0;34m\u001b[0m\u001b[0;34m\u001b[0m\u001b[0m\n\u001b[0;32m-> 1322\u001b[0;31m         return_value = get_return_value(\n\u001b[0m\u001b[1;32m   1323\u001b[0m             answer, self.gateway_client, self.target_id, self.name)\n\u001b[1;32m   1324\u001b[0m \u001b[0;34m\u001b[0m\u001b[0m\n",
            "\u001b[0;32m/usr/local/lib/python3.10/dist-packages/pyspark/errors/exceptions/captured.py\u001b[0m in \u001b[0;36mdeco\u001b[0;34m(*a, **kw)\u001b[0m\n\u001b[1;32m    183\u001b[0m                 \u001b[0;31m# Hide where the exception came from that shows a non-Pythonic\u001b[0m\u001b[0;34m\u001b[0m\u001b[0;34m\u001b[0m\u001b[0m\n\u001b[1;32m    184\u001b[0m                 \u001b[0;31m# JVM exception message.\u001b[0m\u001b[0;34m\u001b[0m\u001b[0;34m\u001b[0m\u001b[0m\n\u001b[0;32m--> 185\u001b[0;31m                 \u001b[0;32mraise\u001b[0m \u001b[0mconverted\u001b[0m \u001b[0;32mfrom\u001b[0m \u001b[0;32mNone\u001b[0m\u001b[0;34m\u001b[0m\u001b[0;34m\u001b[0m\u001b[0m\n\u001b[0m\u001b[1;32m    186\u001b[0m             \u001b[0;32melse\u001b[0m\u001b[0;34m:\u001b[0m\u001b[0;34m\u001b[0m\u001b[0;34m\u001b[0m\u001b[0m\n\u001b[1;32m    187\u001b[0m                 \u001b[0;32mraise\u001b[0m\u001b[0;34m\u001b[0m\u001b[0;34m\u001b[0m\u001b[0m\n",
            "\u001b[0;31mStreamingQueryException\u001b[0m: [STREAM_FAILED] Query [id = e621e8bb-81a2-42e2-bf61-33f5d63fd0b2, runId = 64d1b5b1-bc94-4163-9a3d-60c074406365] terminated with exception: [INTERNAL_ERROR] The Spark SQL phase planning failed with an internal error. You hit a bug in Spark or the Spark plugins you use. Please, report this bug to the corresponding communities or vendors, and provide the full stack trace."
          ]
        }
      ]
    },
    {
      "cell_type": "code",
      "source": [
        "query.stop()"
      ],
      "metadata": {
        "id": "3Yxwu_tJjUIK"
      },
      "execution_count": null,
      "outputs": []
    },
    {
      "cell_type": "code",
      "source": [
        "# Check New Producer results\n",
        "df = spark.read.format(\"parquet\").load(\"/content/lake/bronze/messages/data\")\n",
        "print(\"Total messages in bronze layer:\", df.count())\n",
        "\n",
        "df.filter(~((F.col(\"event_type\").isNull()) | (F.col(\"event_type\") == \"\") | (F.col(\"event_type\") == \"NONE\"))).show()"
      ],
      "metadata": {
        "colab": {
          "base_uri": "https://localhost:8080/"
        },
        "id": "T5uLnxkNjF3w",
        "outputId": "b59160d0-8af4-4650-bfea-93623b0ca0da"
      },
      "execution_count": 11,
      "outputs": [
        {
          "output_type": "stream",
          "name": "stdout",
          "text": [
            "Total messages in bronze layer: 58\n",
            "+--------------------+-----+----------+--------------------+-------+----------+-------+\n",
            "|           timestamp|value|event_type|          message_id|channel|country_id|user_id|\n",
            "+--------------------+-----+----------+--------------------+-------+----------+-------+\n",
            "|2024-12-14 09:32:...|   48|  RECEIVED|a3e6fe00-39d0-44a...|  OTHER|      2003|   1028|\n",
            "|2024-12-14 09:31:...|   12|  RECEIVED|d3ed673c-69f2-4bf...|  EMAIL|      2006|   1000|\n",
            "|2024-12-14 09:31:...|   24|   CREATED|4b89e6d8-001d-423...|  EMAIL|      2007|   1003|\n",
            "|2024-12-14 09:32:...|   36|   CLICKED|04cd390c-9060-44d...|  EMAIL|      2009|   1029|\n",
            "|2024-12-14 09:32:...|   46|  RECEIVED|a8861a70-9db8-48d...|   PUSH|      2000|   1021|\n",
            "|2024-12-14 09:32:...|   49|  RECEIVED|2a9c309b-fa95-40e...|   PUSH|      2009|   1007|\n",
            "|2024-12-14 09:31:...|   10|  RECEIVED|c8f39c1d-b8e0-420...|   PUSH|      2015|   1035|\n",
            "|2024-12-14 09:31:...|   21|   CREATED|daa7a8be-040b-41c...|  OTHER|      2007|   1050|\n",
            "|2024-12-14 09:31:...|    6|  RECEIVED|a08de602-a164-478...|  OTHER|      2014|   1006|\n",
            "|2024-12-14 09:32:...|   57|   CLICKED|378d0d53-a6ec-40b...|  OTHER|      2014|   1017|\n",
            "|2024-12-14 09:31:...|   27|   CREATED|04cd390c-9060-44d...|  OTHER|      2005|   1025|\n",
            "|2024-12-14 09:32:...|   33|   CLICKED|099a88bd-2810-45f...|  OTHER|      2005|   1011|\n",
            "|2024-12-14 09:32:...|   50|   CREATED|d3ed673c-69f2-4bf...|   PUSH|      2012|   1002|\n",
            "|2024-12-14 09:31:...|   11|   CLICKED|2d28cbaa-ef88-4c8...|   PUSH|      2004|   1038|\n",
            "|2024-12-14 09:32:...|   37|   CLICKED|6c177874-8714-477...|   CHAT|      2001|   1044|\n",
            "|2024-12-14 09:32:...|   55|  RECEIVED|03a9e0db-12d1-405...|    SMS|      2007|   1047|\n",
            "|2024-12-14 09:32:...|   40|   CLICKED|d45a93fe-f7b5-478...|   CHAT|      2006|   1043|\n",
            "|2024-12-14 09:32:...|   54|   CREATED|f0197968-efdc-4b3...|   PUSH|      2000|   1002|\n",
            "|2024-12-14 09:32:...|   44|   CREATED|d2a92ca3-3652-4a1...|   PUSH|      2002|   1043|\n",
            "|2024-12-14 09:32:...|   47|   CREATED|f2a0be1c-cffa-4fa...|   CHAT|      2001|   1037|\n",
            "+--------------------+-----+----------+--------------------+-------+----------+-------+\n",
            "only showing top 20 rows\n",
            "\n"
          ]
        }
      ]
    },
    {
      "cell_type": "markdown",
      "metadata": {
        "id": "RraxHCycMdEZ"
      },
      "source": [
        "# Additional datasets\n",
        "[Deprecated]"
      ]
    },
    {
      "cell_type": "code",
      "execution_count": 12,
      "metadata": {
        "id": "cfsus3dxMcQI"
      },
      "outputs": [],
      "source": [
        "countries = [\n",
        "    {\"country_id\": 2000, \"country\": \"Brazil\"},\n",
        "    {\"country_id\": 2001, \"country\": \"Portugal\"},\n",
        "    {\"country_id\": 2002, \"country\": \"Spain\"},\n",
        "    {\"country_id\": 2003, \"country\": \"Germany\"},\n",
        "    {\"country_id\": 2004, \"country\": \"France\"},\n",
        "    {\"country_id\": 2005, \"country\": \"Italy\"},\n",
        "    {\"country_id\": 2006, \"country\": \"United Kingdom\"},\n",
        "    {\"country_id\": 2007, \"country\": \"United States\"},\n",
        "    {\"country_id\": 2008, \"country\": \"Canada\"},\n",
        "    {\"country_id\": 2009, \"country\": \"Australia\"},\n",
        "    {\"country_id\": 2010, \"country\": \"Japan\"},\n",
        "    {\"country_id\": 2011, \"country\": \"China\"},\n",
        "    {\"country_id\": 2012, \"country\": \"India\"},\n",
        "    {\"country_id\": 2013, \"country\": \"South Korea\"},\n",
        "    {\"country_id\": 2014, \"country\": \"Russia\"},\n",
        "    {\"country_id\": 2015, \"country\": \"Argentina\"}\n",
        "]\n",
        "\n",
        "countries = spark.createDataFrame(countries)"
      ]
    },
    {
      "cell_type": "markdown",
      "metadata": {
        "id": "swvPj9hVpzNf"
      },
      "source": [
        "# Streaming Messages x Messages Corrupted"
      ]
    },
    {
      "cell_type": "code",
      "execution_count": 14,
      "metadata": {
        "id": "ZAHIZeZMlpoH"
      },
      "outputs": [],
      "source": [
        "from pyspark.sql import SparkSession\n",
        "from pyspark.sql.functions import col, when, date_format, expr\n",
        "from pyspark.sql.types import StructType, StructField, StringType, TimestampType, IntegerType\n",
        "import logging\n",
        "\n",
        "# Set up logging\n",
        "logging.basicConfig(level=logging.INFO)\n",
        "logger = logging.getLogger(__name__)\n",
        "\n",
        "spark = SparkSession.builder.appName(\"MessageProcessing\").getOrCreate()\n",
        "\n",
        "# Define messages schema\n",
        "message_schema = StructType([\n",
        "    StructField(\"timestamp\", TimestampType()),\n",
        "    StructField(\"value\", StringType()),\n",
        "    StructField(\"event_type\", StringType()),\n",
        "    StructField(\"message_id\", StringType()),\n",
        "    StructField(\"channel\", StringType()),\n",
        "    StructField(\"country_id\", IntegerType()),\n",
        "    StructField(\"user_id\", IntegerType())\n",
        "])\n",
        "\n",
        "# Added countries data to this cell for join optimization by caching countries dataset\n",
        "countries = [\n",
        "    {\"country_id\": 2000, \"country\": \"Brazil\"},\n",
        "    {\"country_id\": 2001, \"country\": \"Portugal\"},\n",
        "    {\"country_id\": 2002, \"country\": \"Spain\"},\n",
        "    {\"country_id\": 2003, \"country\": \"Germany\"},\n",
        "    {\"country_id\": 2004, \"country\": \"France\"},\n",
        "    {\"country_id\": 2005, \"country\": \"Italy\"},\n",
        "    {\"country_id\": 2006, \"country\": \"United Kingdom\"},\n",
        "    {\"country_id\": 2007, \"country\": \"United States\"},\n",
        "    {\"country_id\": 2008, \"country\": \"Canada\"},\n",
        "    {\"country_id\": 2009, \"country\": \"Australia\"},\n",
        "    {\"country_id\": 2010, \"country\": \"Japan\"},\n",
        "    {\"country_id\": 2011, \"country\": \"China\"},\n",
        "    {\"country_id\": 2012, \"country\": \"India\"},\n",
        "    {\"country_id\": 2013, \"country\": \"South Korea\"},\n",
        "    {\"country_id\": 2014, \"country\": \"Russia\"},\n",
        "    {\"country_id\": 2015, \"country\": \"Argentina\"}\n",
        "]\n",
        "\n",
        "countries = spark.createDataFrame(countries).cache()\n",
        "\n",
        "def process_messages(df, batch_id):\n",
        "    try:\n",
        "        logger.info(f\"Processing batch {batch_id}\")\n",
        "\n",
        "        # Join with countries\n",
        "        df_with_country = df.join(countries, \"country_id\", \"left\")\n",
        "\n",
        "        # Add date column\n",
        "        df_with_date = df_with_country.withColumn(\"date\", date_format(col(\"timestamp\"), \"yyyy-MM-dd\"))\n",
        "\n",
        "        # Split into corrupted and non-corrupted\n",
        "        valid = df_with_date.filter((col(\"event_type\").isNotNull()) & (col(\"event_type\") != \"\") & (col(\"event_type\") != \"NONE\"))\n",
        "\n",
        "\n",
        "        # Write non-corrupted data\n",
        "        valid.write \\\n",
        "            .partitionBy(\"date\") \\\n",
        "            .mode(\"append\") \\\n",
        "            .parquet(\"/content/lake/silver/messages/data\")\n",
        "\n",
        "        logger.info(f\"Batch {batch_id} processed successfully\")\n",
        "    except Exception as e:\n",
        "        logger.error(f\"Error processing batch {batch_id}: {str(e)}\")\n",
        "\n",
        "\n",
        "def process_messages_corrupted(df, batch_id):\n",
        "    try:\n",
        "        logger.info(f\"Processing batch {batch_id}\")\n",
        "\n",
        "        # Join with countries\n",
        "        df_with_country = df.join(countries, \"country_id\", \"left\")\n",
        "\n",
        "        # Add date column\n",
        "        df_with_date = df_with_country.withColumn(\"date\", date_format(col(\"timestamp\"), \"yyyy-MM-dd\"))\n",
        "\n",
        "        # Split into corrupted and non-corrupted\n",
        "        corrupted = df_with_date.filter((col(\"event_type\").isNull()) | (col(\"event_type\") == \"\") | (col(\"event_type\") == \"NONE\"))\n",
        "\n",
        "        # Write corrupted data\n",
        "        corrupted.write \\\n",
        "            .partitionBy(\"date\") \\\n",
        "            .mode(\"append\") \\\n",
        "            .parquet(\"/content/lake/silver/messages_corrupted/data\")\n",
        "\n",
        "        logger.info(f\"Batch {batch_id} processed successfully\")\n",
        "    except Exception as e:\n",
        "        logger.error(f\"Error processing batch {batch_id}: {str(e)}\")\n",
        "\n",
        "\n",
        "# Read from bronze layer\n",
        "df_stream = spark.readStream \\\n",
        "    .schema(message_schema) \\\n",
        "    .parquet(\"/content/lake/bronze/messages/data/*\")\n",
        "\n",
        "# Process stream\n",
        "query = df_stream.writeStream \\\n",
        "    .foreachBatch(process_messages) \\\n",
        "    .option(\"checkpointLocation\", \"/content/lake/silver/checkpoint\") \\\n",
        "    .trigger(processingTime='5 seconds') \\\n",
        "    .start()\n",
        "\n",
        "query2 = df_stream.writeStream \\\n",
        "    .foreachBatch(process_messages_corrupted) \\\n",
        "    .option(\"checkpointLocation\", \"/content/lake/silver/checkpoint_corrupted\") \\\n",
        "    .trigger(processingTime='5 seconds') \\\n",
        "    .start()\n",
        "\n",
        "# Run for 20 seconds\n",
        "query.awaitTermination(20)\n",
        "query.stop()\n",
        "\n",
        "query2.awaitTermination(20)\n",
        "query2.stop()\n"
      ]
    },
    {
      "cell_type": "code",
      "source": [
        "from pyspark.sql import SparkSession\n",
        "from pyspark.sql.functions import col, when, date_format, expr\n",
        "from pyspark.sql.types import StructType, StructField, StringType, TimestampType, IntegerType\n",
        "import logging\n",
        "\n",
        "# Set up logging\n",
        "logging.basicConfig(level=logging.INFO)\n",
        "logger = logging.getLogger(__name__)\n",
        "\n",
        "spark = SparkSession.builder.appName(\"MessageProcessing\").getOrCreate()\n",
        "\n",
        "# Define messages schema\n",
        "message_schema = StructType([\n",
        "    StructField(\"timestamp\", TimestampType()),\n",
        "    StructField(\"value\", StringType()),\n",
        "    StructField(\"event_type\", StringType()),\n",
        "    StructField(\"message_id\", StringType()),\n",
        "    StructField(\"channel\", StringType()),\n",
        "    StructField(\"country_id\", IntegerType()),\n",
        "    StructField(\"user_id\", IntegerType())\n",
        "])\n",
        "\n",
        "# Added countries data to this cell for join optimization by caching countries dataset\n",
        "countries = [\n",
        "    {\"country_id\": 2000, \"country\": \"Brazil\"},\n",
        "    {\"country_id\": 2001, \"country\": \"Portugal\"},\n",
        "    {\"country_id\": 2002, \"country\": \"Spain\"},\n",
        "    {\"country_id\": 2003, \"country\": \"Germany\"},\n",
        "    {\"country_id\": 2004, \"country\": \"France\"},\n",
        "    {\"country_id\": 2005, \"country\": \"Italy\"},\n",
        "    {\"country_id\": 2006, \"country\": \"United Kingdom\"},\n",
        "    {\"country_id\": 2007, \"country\": \"United States\"},\n",
        "    {\"country_id\": 2008, \"country\": \"Canada\"},\n",
        "    {\"country_id\": 2009, \"country\": \"Australia\"},\n",
        "    {\"country_id\": 2010, \"country\": \"Japan\"},\n",
        "    {\"country_id\": 2011, \"country\": \"China\"},\n",
        "    {\"country_id\": 2012, \"country\": \"India\"},\n",
        "    {\"country_id\": 2013, \"country\": \"South Korea\"},\n",
        "    {\"country_id\": 2014, \"country\": \"Russia\"},\n",
        "    {\"country_id\": 2015, \"country\": \"Argentina\"}\n",
        "]\n",
        "\n",
        "countries = spark.createDataFrame(countries).cache()\n",
        "\n",
        "def process_messages(df, batch_id):\n",
        "    try:\n",
        "        logger.info(f\"Processing batch {batch_id}\")\n",
        "\n",
        "        # Join with countries\n",
        "        df_with_country = df.join(countries, \"country_id\", \"left\")\n",
        "\n",
        "        # Add date column\n",
        "        df_with_date = df_with_country.withColumn(\"date\", date_format(col(\"timestamp\"), \"yyyy-MM-dd\"))\n",
        "\n",
        "        # Split into corrupted and non-corrupted with corresponding logic\n",
        "        corrupted = df_with_date.filter((col(\"event_type\").isNull()) | (col(\"event_type\") == \"\") | (col(\"event_type\") == \"NONE\"))\n",
        "        valid = df_with_date.filter((col(\"event_type\").isNotNull()) & (col(\"event_type\") != \"\") & (col(\"event_type\") != \"NONE\"))\n",
        "\n",
        "\n",
        "        # Write corrupted data\n",
        "        corrupted.write \\\n",
        "            .partitionBy(\"date\") \\\n",
        "            .mode(\"append\") \\\n",
        "            .parquet(\"/content/lake/silver/messages_corrupted/data\")\n",
        "\n",
        "        # Write non-corrupted data\n",
        "        valid.write \\\n",
        "            .partitionBy(\"date\") \\\n",
        "            .mode(\"append\") \\\n",
        "            .parquet(\"/content/lake/silver/messages/data\")\n",
        "\n",
        "\n",
        "        logger.info(f\"Batch {batch_id} processed successfully\")\n",
        "    except Exception as e:\n",
        "        logger.error(f\"Error processing batch {batch_id}: {str(e)}\")\n",
        "\n",
        "\n",
        "# Read from bronze layer\n",
        "df_stream = spark.readStream \\\n",
        "    .schema(message_schema) \\\n",
        "    .parquet(\"/content/lake/bronze/messages/data/*\")\n",
        "\n",
        "# Process stream\n",
        "query = df_stream.writeStream \\\n",
        "    .foreachBatch(process_messages) \\\n",
        "    .option(\"checkpointLocation\", \"/content/lake/silver/checkpoint\") \\\n",
        "    .trigger(processingTime='5 seconds') \\\n",
        "    .start()\n",
        "\n",
        "# Run for 20 seconds\n",
        "query.awaitTermination(20)\n",
        "query.stop()\n"
      ],
      "metadata": {
        "id": "4HlWxkLxDFsA"
      },
      "execution_count": null,
      "outputs": []
    },
    {
      "cell_type": "markdown",
      "metadata": {
        "id": "jLK9jpjCu3xE"
      },
      "source": [
        "## Checking data"
      ]
    },
    {
      "cell_type": "code",
      "execution_count": null,
      "metadata": {
        "id": "nk8seEvbmvcU"
      },
      "outputs": [],
      "source": [
        "# Check results\n",
        "bronze_count = spark.read.schema(message_schema).parquet(\"content/lake/bronze/messages/data\").count()\n",
        "silver_corrupted_count = spark.read.parquet(\"content/lake/silver/messages_corrupted/data\").count()\n",
        "silver_valid_count = spark.read.parquet(\"content/lake/silver/messages/data\").count()\n",
        "\n",
        "logger.info(f\"Total messages in bronze layer: {bronze_count}\")\n",
        "logger.info(f\"Total corrupted messages in silver layer: {silver_corrupted_count}\")\n",
        "logger.info(f\"Total non-corrupted messages in silver layer: {silver_valid_count}\")\n",
        "logger.info(f\"Total messages in silver layer: {silver_corrupted_count + silver_valid_count}\")\n",
        "\n",
        "assert bronze_count == silver_corrupted_count + silver_valid_count, \"Mismatch in message counts\""
      ]
    },
    {
      "cell_type": "markdown",
      "metadata": {
        "id": "rfxIlBISSvRP"
      },
      "source": [
        "# Challenge 2\n",
        "\n",
        "- Run business report\n",
        "- But first, there is a bug in the system which is causing some duplicated messages, we need to exclude these lines from the report\n",
        "\n",
        "- removing duplicates logic:\n",
        "  - Identify possible duplicates on message_id, event_type and channel\n",
        "  - in case of duplicates, consider only the first message (occurrence by timestamp)\n",
        "  - Ex:\n",
        "    In table below, the correct message to consider is the second line\n",
        "\n",
        "```\n",
        "    message_id | channel | event_type | timestamp\n",
        "    123        | CHAT    | CREATED    | 10:10:01\n",
        "    123        | CHAT    | CREATED    | 07:56:45 (first occurrence)\n",
        "    123        | CHAT    | CREATED    | 08:13:33\n",
        "```\n",
        "\n",
        "- After cleaning the data we're able to create the busines report"
      ]
    },
    {
      "cell_type": "code",
      "execution_count": null,
      "metadata": {
        "id": "R3J9XyOHhqvU"
      },
      "outputs": [],
      "source": [
        "# dedup data\n",
        "from pyspark.sql import functions as F\n",
        "from pyspark.sql.window import Window\n",
        "df = spark.read.format(\"parquet\").load(\"content/lake/silver/messages\")\n",
        "dedup = df.withColumn(\"row_number\", F.row_number().over(Window.partitionBy(\"message_id\", \"event_type\", \"channel\").orderBy(\"timestamp\"))).filter(\"row_number = 1\").drop(\"row_number\")"
      ]
    },
    {
      "cell_type": "markdown",
      "metadata": {
        "id": "RF9L9i25lk74"
      },
      "source": [
        "### Report 1\n",
        "  - Aggregate data by date, event_type and channel\n",
        "  - Count number of messages\n",
        "  - pivot event_type from rows into columns\n",
        "  - schema expected:\n",
        "  \n",
        "```\n",
        "|      date|channel|CLICKED|CREATED|OPEN|RECEIVED|SENT|\n",
        "+----------+-------+-------+-------+----+--------+----+\n",
        "|2024-12-03|    SMS|      4|      4|   1|       1|   5|\n",
        "|2024-12-03|   CHAT|      3|      7|   5|       8|   4|\n",
        "|2024-12-03|   PUSH|   NULL|      3|   4|       3|   4|\n",
        "```"
      ]
    },
    {
      "cell_type": "code",
      "execution_count": null,
      "metadata": {
        "id": "UPHSMSXnTKgu"
      },
      "outputs": [],
      "source": [
        "# report 1\n",
        "# TODO"
      ]
    },
    {
      "cell_type": "markdown",
      "metadata": {
        "id": "bxwOawo2lwQH"
      },
      "source": [
        "## Report 2\n",
        "\n",
        "- Identify the most active users by channel (sorted by number of iterations)\n",
        "- schema expected:\n",
        "\n",
        "```\n",
        "+-------+----------+----+-----+-----+----+---+\n",
        "|user_id|iterations|CHAT|EMAIL|OTHER|PUSH|SMS|\n",
        "+-------+----------+----+-----+-----+----+---+\n",
        "|   1022|         5|   2|    0|    1|   0|  2|\n",
        "|   1004|         4|   1|    1|    1|   1|  0|\n",
        "|   1013|         4|   0|    0|    2|   1|  1|\n",
        "|   1020|         4|   2|    0|    1|   1|  0|\n",
        "```\n"
      ]
    },
    {
      "cell_type": "code",
      "execution_count": null,
      "metadata": {
        "id": "rsS7bkAJmWsW"
      },
      "outputs": [],
      "source": [
        "# report 2\n",
        "# TODO"
      ]
    },
    {
      "cell_type": "markdown",
      "metadata": {
        "id": "a9_kzDbDwDOS"
      },
      "source": [
        "# Challenge 3"
      ]
    },
    {
      "cell_type": "code",
      "execution_count": null,
      "metadata": {
        "id": "Ef0RjFTxwE5y"
      },
      "outputs": [],
      "source": [
        "# Theoretical question:\n",
        "\n",
        "# A new usecase requires the message data to be aggregate in near real time\n",
        "# They want to build a dashboard embedded in the platform website to analyze message data in low latency (few minutes)\n",
        "# This application will access directly the data aggregated by streaming process\n",
        "\n",
        "# Q1:\n",
        "- What would be your suggestion to achieve that using Spark Structure Streaming?\n",
        "Or would you choose a different data processing tool?\n",
        "\n",
        "- Which storage would you use and why? (database?, data lake?, kafka?)\n",
        "\n"
      ]
    }
  ],
  "metadata": {
    "colab": {
      "provenance": [],
      "include_colab_link": true
    },
    "kernelspec": {
      "display_name": "Python 3",
      "name": "python3"
    },
    "language_info": {
      "name": "python"
    }
  },
  "nbformat": 4,
  "nbformat_minor": 0
}