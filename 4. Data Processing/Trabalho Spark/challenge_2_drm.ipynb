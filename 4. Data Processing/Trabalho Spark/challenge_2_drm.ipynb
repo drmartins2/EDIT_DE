{
  "cells": [
    {
      "cell_type": "markdown",
      "metadata": {
        "id": "BOA_wQSmLd9z"
      },
      "source": [
        "# CHALLENGE 2\n",
        "##  Implement CLEANSING process\n",
        "- Set up path in the \"lake\"\n",
        "  - !mkdir -p /content/lake/silver\n",
        "\n",
        "- Read data from BRONZE layer as PARQUET:\n",
        "    - vehicles - path: /content/lake/bronze/vehicles\n",
        "    - lines - path: /content/lake/bronze/lines\n",
        "    - municipalities - path: /content/lake/bronze/municipalities\n",
        "\n",
        "- Transformations\n",
        "  - vehicles\n",
        "    - rename \"lat\" and \"lon\" to \"latitude\" and \"longitude\" respectively\n",
        "    - remove possible duplicates\n",
        "    - remove rows when the column CURRENT_STATUS is null\n",
        "    - remove any corrupted record\n",
        "  - lines\n",
        "    - remove duplicates\n",
        "    - remove rows when the column LONG_NAME is null\n",
        "    - remove any corrupted record\n",
        "  - municipalities\n",
        "    - remove duplicates\n",
        "    - remove rows when the columns NAME or DISTRICT_NAME are null\n",
        "    - remove any corrupted record\n",
        "\n",
        "- Write data as PARQUET into the SILVER layer (/content/lake/silver)\n",
        "  - Partition \"vehicles\" by \"date\"(created in the ingestion)\n",
        "  - Paths:\n",
        "    - vehicles - path: /content/lake/silver/vehicles\n",
        "    - lines - path: /content/lake/silver/lines\n",
        "    - municipalities - path: /content/lake/silver/municipalities"
      ]
    },
    {
      "cell_type": "markdown",
      "metadata": {
        "id": "d9LeYFsPTjAb"
      },
      "source": [
        "# Setting up PySpark"
      ]
    },
    {
      "cell_type": "code",
      "execution_count": null,
      "metadata": {
        "colab": {
          "base_uri": "https://localhost:8080/"
        },
        "id": "uYXeODL0T1fO",
        "outputId": "c410e46c-4a50-43aa-926f-d0417c6280d2"
      },
      "outputs": [
        {
          "name": "stdout",
          "output_type": "stream",
          "text": [
            "Requirement already satisfied: pyspark in /usr/local/lib/python3.10/dist-packages (3.5.3)\n",
            "Requirement already satisfied: py4j==0.10.9.7 in /usr/local/lib/python3.10/dist-packages (from pyspark) (0.10.9.7)\n"
          ]
        }
      ],
      "source": [
        "%pip install pyspark"
      ]
    },
    {
      "cell_type": "code",
      "source": [
        "from pyspark.sql import SparkSession\n",
        "\n",
        "spark = SparkSession.builder.master('local').appName('Challenge 2').config('spark.ui.port', '4050').getOrCreate()"
      ],
      "metadata": {
        "id": "VRb0crYacf_B"
      },
      "execution_count": 1,
      "outputs": []
    },
    {
      "cell_type": "code",
      "source": [
        "# Create folder for bronze layer\n",
        "!mkdir -p /content/lake/bronze\n",
        "print('Bronze layer created')"
      ],
      "metadata": {
        "id": "jWGk_BAjibnU",
        "outputId": "4e147347-4966-4f1c-f2ab-82a7fef3f1c0",
        "colab": {
          "base_uri": "https://localhost:8080/"
        }
      },
      "execution_count": 2,
      "outputs": [
        {
          "output_type": "stream",
          "name": "stdout",
          "text": [
            "Bronze layer created\n"
          ]
        }
      ]
    },
    {
      "cell_type": "code",
      "source": [
        "# Create folder for silver layer\n",
        "!mkdir -p /content/lake/silver\n",
        "print('Silver layer created')"
      ],
      "metadata": {
        "id": "O09jBloidKNt",
        "outputId": "8fa4788f-5f7f-4fd6-8b9c-eeb836fb9a3e",
        "colab": {
          "base_uri": "https://localhost:8080/"
        }
      },
      "execution_count": 3,
      "outputs": [
        {
          "output_type": "stream",
          "name": "stdout",
          "text": [
            "Silver layer created\n"
          ]
        }
      ]
    },
    {
      "cell_type": "markdown",
      "source": [
        "# Define ETLFlow Class"
      ],
      "metadata": {
        "id": "8ZWjDaFKloII"
      }
    },
    {
      "cell_type": "code",
      "source": [
        "from pyspark.sql import DataFrame\n",
        "from pyspark.sql.types import *\n",
        "import requests\n",
        "\n",
        "class ETLFlow:\n",
        "    def __init__(self, spark: SparkSession) -> None:\n",
        "        self.spark = spark\n",
        "\n",
        "    # Extract data from API endpoint\n",
        "    # Parameters:\n",
        "    #   url: The API endpoint URL.\n",
        "    #   schema: Optional schema to enforce on the JSON data\n",
        "    # Returns:\n",
        "    #   DataFrame containing the extracted data.\n",
        "    def ReadAPI(self, url: str, schema: StructType = None) -> DataFrame:\n",
        "        response = requests.get(url)  # Fetch data from the API\n",
        "        rdd = self.spark.sparkContext.parallelize(response.json())  # Convert JSON response to RDD\n",
        "        if schema:\n",
        "            df = self.spark.read.schema(schema).json(rdd)  # Read RDD into DataFrame with schema\n",
        "        else:\n",
        "            df = self.spark.read.json(rdd)  # Read RDD into DataFrame without schema\n",
        "        return df\n",
        "\n",
        "\n",
        "    # Load a DataFrame into storage in the specified format.\n",
        "    # Parameters:\n",
        "    #   df: The DataFrame to be saved.\n",
        "    #   format: The format to save the DataFrame in (e.g., parquet).\n",
        "    #   path: The path where the DataFrame should be saved.\n",
        "    #   partition_column: Optional column to partition the data by.\n",
        "    def load(self, df: DataFrame, format: str, path: str, partition_column: str = None) -> None:\n",
        "        if partition_column:\n",
        "            # Save as a single file, partitioned by the specified column\n",
        "            df.coalesce(1).write.mode(\"overwrite\").partitionBy(partition_column).format(format).save(path)\n",
        "        else:\n",
        "            # Save as a single file without partitioning\n",
        "            df.coalesce(1).write.mode(\"overwrite\").format(format).save(path)"
      ],
      "metadata": {
        "id": "GNh9XL6Ullfz"
      },
      "execution_count": 4,
      "outputs": []
    },
    {
      "cell_type": "markdown",
      "source": [
        "# ETL Task Ingestion for Bronze layer"
      ],
      "metadata": {
        "id": "Nn_Kv_t9nALH"
      }
    },
    {
      "cell_type": "code",
      "source": [
        "from pyspark.sql.types import *\n",
        "from pyspark.sql.functions import *\n",
        "\n",
        "class ETLTask_Bronze(ETLFlow):\n",
        "    def __init__(self, spark: SparkSession) -> None:\n",
        "        # Initialize ETLTask by inheriting from ETLFlow\n",
        "        super().__init__(spark)\n",
        "\n",
        "\n",
        "    # Ingest vehicle data from the API and load it into the bronze layer.\n",
        "    #   Extract data from 'vehicles' endpoint.\n",
        "    #   Add 'date' column derived from 'timestamp'.\n",
        "    #   Saves data as parquet, partitioned by 'date'.\n",
        "    def ingestion_vehicles(self):\n",
        "        # Define schema for vehicle\n",
        "        vehicle_schema = StructType([\n",
        "            StructField('bearing', IntegerType(), True),\n",
        "            StructField('block_id', StringType(), True),\n",
        "            StructField('current_status', StringType(), True),\n",
        "            StructField('id', StringType(), True),\n",
        "            StructField('lat', FloatType(), True),\n",
        "            StructField('line_id', StringType(), True),\n",
        "            StructField('lon', FloatType(), True),\n",
        "            StructField('pattern_id', StringType(), True),\n",
        "            StructField('route_id', StringType(), True),\n",
        "            StructField('schedule_relationship', StringType(), True),\n",
        "            StructField('shift_id', StringType(), True),\n",
        "            StructField('speed', FloatType(), True),\n",
        "            StructField('stop_id', StringType(), True),\n",
        "            StructField('timestamp', TimestampType(), True),\n",
        "            StructField('trip_id', StringType(), True)\n",
        "        ])\n",
        "\n",
        "        # Extract data using defined schema\n",
        "        df = self.ReadAPI(url=\"https://api.carrismetropolitana.pt/vehicles\", schema=vehicle_schema)\n",
        "\n",
        "        # Create \"date\" column from \"timestamp\"\n",
        "        df = df.withColumn(\"date\", date_format(col(\"timestamp\"), \"yyyy-MM-dd\"))\n",
        "        #df.show()\n",
        "\n",
        "        # Load data into the bronze layer, partitioned by \"date\"\n",
        "        self.load(df=df, format=\"parquet\", path=\"/content/lake/bronze/vehicles\", partition_column=\"date\")\n",
        "\n",
        "\n",
        "    # Ingest line data from the API and load it into the bronze layer.\n",
        "    #   Extracts data from 'lines' endpoint.\n",
        "    #   Saves data as parquet without partitioning.\n",
        "    def ingestion_lines(self):\n",
        "        # Define schema for lines\n",
        "        lines_schema = StructType([\n",
        "            StructField('_corrupt_record', StringType(), True),\n",
        "            StructField('color', StringType(), True),\n",
        "            StructField('facilities', ArrayType(StringType()), True),\n",
        "            StructField('id', StringType(), True),\n",
        "            StructField('localities', ArrayType(StringType()), True),\n",
        "            StructField('long_name', StringType(), True),\n",
        "            StructField('municipalities', ArrayType(StringType()), True),\n",
        "            StructField('patterns', ArrayType(StringType()), True),\n",
        "            StructField('routes', ArrayType(StringType()), True),\n",
        "            StructField('short_name', StringType(), True),\n",
        "            StructField('text_color', StringType(), True)\n",
        "        ])\n",
        "\n",
        "        # Extract data using defined schema\n",
        "        df = self.ReadAPI(url=\"https://api.carrismetropolitana.pt/lines\", schema=lines_schema)\n",
        "        #df.show()\n",
        "\n",
        "        # Load data into the bronze layer\n",
        "        self.load(df=df, format=\"parquet\", path=\"/content/lake/bronze/lines\")\n",
        "\n",
        "\n",
        "    # Ingest municipality data from the API and load it into the bronze layer.\n",
        "    #   Extracts data from 'municipalities' endpoint.\n",
        "    #   Saves data as parquet without partitioning.\n",
        "    def ingestion_municipalities(self):\n",
        "       # Define schema for municipalities\n",
        "       municipalities_schema = StructType([\n",
        "           StructField('district_name', StringType(), True),\n",
        "           StructField('id', StringType(), True),\n",
        "           StructField('name', StringType(), True),\n",
        "           StructField('prefix', StringType(), True),\n",
        "           StructField('region_id', StringType(), True),\n",
        "           StructField('region_name', StringType(), True)\n",
        "       ])\n",
        "\n",
        "\n",
        "       # Extract data using defined schema\n",
        "       df = self.ReadAPI(url=\"https://api.carrismetropolitana.pt/municipalities\", schema=municipalities_schema)\n",
        "       #df.show()\n",
        "\n",
        "       # Load data into the bronze layer\n",
        "       self.load(df=df, format=\"parquet\", path=\"/content/lake/bronze/municipalities\")\n",
        "\n",
        "print('ETLTask class defined for specific API endpoint ingestion')"
      ],
      "metadata": {
        "id": "HDfpRCgRiYlp",
        "outputId": "943b4d25-e6ff-425e-d966-7158d306143a",
        "colab": {
          "base_uri": "https://localhost:8080/"
        }
      },
      "execution_count": 5,
      "outputs": [
        {
          "output_type": "stream",
          "name": "stdout",
          "text": [
            "ETLTask class defined for specific API endpoint ingestion\n"
          ]
        }
      ]
    },
    {
      "cell_type": "markdown",
      "source": [
        "# ETL Task Cleansing for Silver layer"
      ],
      "metadata": {
        "id": "Qu1fbBIvm6c1"
      }
    },
    {
      "cell_type": "code",
      "source": [
        "from pyspark.sql.types import *\n",
        "from pyspark.sql.functions import *\n",
        "\n",
        "class ETLTask_Silver(ETLFlow):\n",
        "    def __init__(self, spark: SparkSession) -> None:\n",
        "        super().__init__(spark)\n",
        "\n",
        "    def cleanse_vehicles(self):\n",
        "        # Read data from bronze layer\n",
        "        df = self.spark.read.parquet(\"/content/lake/bronze/vehicles\")\n",
        "\n",
        "        # Apply vehicle transformations:\n",
        "        #   Changes column name \"lat\" to \"latitude\"\n",
        "        #   Changes column name \"lon\" to \"longitude\"\n",
        "        #   Removes duplicate records\n",
        "        #   Remove rocords where \"current_status\" has null values\n",
        "        #   Remove corrupted records - This removes any rows that contain null values in any column\n",
        "        df = df.withColumnRenamed(\"lat\", \"latitude\") \\\n",
        "               .withColumnRenamed(\"lon\", \"longitude\") \\\n",
        "               .dropDuplicates() \\\n",
        "               .filter(col(\"current_status\").isNotNull()) \\\n",
        "               .na.drop()\n",
        "\n",
        "        df.show()\n",
        "\n",
        "        # Write to silver layer\n",
        "        self.load(df=df, format=\"parquet\", path=\"/content/lake/silver/vehicles\", partition_column=\"date\")\n",
        "\n",
        "    def cleanse_lines(self):\n",
        "        # Read data from bronze layer\n",
        "        df = self.spark.read.parquet(\"/content/lake/bronze/lines\")\n",
        "\n",
        "        # Apply lines transformations:\n",
        "        #   Removes duplicate records\n",
        "        #   Remove rocords that have values in \"_corrupt_record\" column\n",
        "        #   Remove \"_corrupt_record\" column\n",
        "        #   Remove any corrupted records - Removes any rows that contain null values in any column\n",
        "        df = df.dropDuplicates() \\\n",
        "               .filter(col(\"_corrupt_record\").isNull()) \\\n",
        "               .drop(\"_corrupt_record\") \\\n",
        "               .na.drop()\n",
        "\n",
        "        df.show()\n",
        "\n",
        "        # Write to silver layer\n",
        "        self.load(df=df, format=\"parquet\", path=\"/content/lake/silver/lines\")\n",
        "\n",
        "    def cleanse_municipalities(self):\n",
        "        # Read data from bronze layer\n",
        "        df = self.spark.read.parquet(\"/content/lake/bronze/municipalities\")\n",
        "\n",
        "        # Apply municipalities transformations:\n",
        "        #   Removes duplicate records\n",
        "        #   Only returns values where \"name\" and \"district_name\" aren't null\n",
        "        #   Remove any corrupted records - Removes any rows that contain null values in any column\n",
        "        df = df.dropDuplicates() \\\n",
        "               .filter(col(\"name\").isNotNull() & col(\"district_name\").isNotNull()) \\\n",
        "               .na.drop()\n",
        "\n",
        "        df.show()\n",
        "\n",
        "        # Write to silver layer\n",
        "        self.load(df=df, format=\"parquet\", path=\"/content/lake/silver/municipalities\")\n",
        "\n",
        "print('ETLTask class defined for bronze layer cleansing')"
      ],
      "metadata": {
        "id": "v1IvDLPYfpJP",
        "outputId": "c30f4ed2-b05b-430a-ff36-e198a652d4a3",
        "colab": {
          "base_uri": "https://localhost:8080/"
        }
      },
      "execution_count": 8,
      "outputs": [
        {
          "output_type": "stream",
          "name": "stdout",
          "text": [
            "ETLTask class defined for bronze layer cleansing\n"
          ]
        }
      ]
    },
    {
      "cell_type": "code",
      "source": [
        "# Initialize ETL Bronze Process\n",
        "print(\"Starting ETL program\")\n",
        "etl_bronze = ETLTask_Bronze(spark)\n",
        "\n",
        "# Ingest vehicle data\n",
        "print(\"Running Task - Ingestion Vehicles\")\n",
        "etl_bronze.ingestion_vehicles()\n",
        "\n",
        "# Ingest line data\n",
        "print(\"Running Task - Ingestion Lines\")\n",
        "etl_bronze.ingestion_lines()\n",
        "\n",
        "# Ingest municipality data\n",
        "print(\"Running Task - Ingestion Municipalities\")\n",
        "etl_bronze.ingestion_municipalities()"
      ],
      "metadata": {
        "id": "KJQQ8bPKjZ9i",
        "outputId": "956d37b5-d5ab-4e7b-c890-40b0b0716a06",
        "colab": {
          "base_uri": "https://localhost:8080/"
        }
      },
      "execution_count": 9,
      "outputs": [
        {
          "output_type": "stream",
          "name": "stdout",
          "text": [
            "Starting ETL program\n",
            "Running Task - Ingestion Vehicles\n",
            "Running Task - Ingestion Lines\n",
            "Running Task - Ingestion Municipalities\n"
          ]
        }
      ]
    },
    {
      "cell_type": "code",
      "source": [
        "# Initialize ETL Silver Process\n",
        "print(\"Starting Cleansing process\")\n",
        "etl_silver = ETLTask_Silver(spark)\n",
        "print(\"Ingestion process completed\")\n",
        "\n",
        "# Cleanse vehicle data\n",
        "print(\"Running Task - Cleansing Vehicles\")\n",
        "etl_silver.cleanse_vehicles()\n",
        "\n",
        "# Cleanse lines data\n",
        "print(\"Running Task - Cleansing Lines\")\n",
        "etl_silver.cleanse_lines()\n",
        "\n",
        "# Cleanse municipalities data\n",
        "print(\"Running Task - Cleansing Municipalities\")\n",
        "etl_silver.cleanse_municipalities()\n",
        "\n",
        "print(\"Cleansing process completed\")\n",
        "\n",
        "print(\"ETL program completed\")"
      ],
      "metadata": {
        "id": "HWa0b719lWUH",
        "outputId": "43d68c0e-ced2-4390-bf7d-f9e623808ca7",
        "colab": {
          "base_uri": "https://localhost:8080/"
        }
      },
      "execution_count": 10,
      "outputs": [
        {
          "output_type": "stream",
          "name": "stdout",
          "text": [
            "Starting Cleansing process\n",
            "Ingestion process completed\n",
            "Running Task - Cleansing Vehicles\n",
            "+-------+--------------------+--------------+--------+---------+-------+---------+----------+--------+---------------------+------------+---------+-------+-------------------+--------------------+----------+\n",
            "|bearing|            block_id|current_status|      id| latitude|line_id|longitude|pattern_id|route_id|schedule_relationship|    shift_id|    speed|stop_id|          timestamp|             trip_id|      date|\n",
            "+-------+--------------------+--------------+--------+---------+-------+---------+----------+--------+---------------------+------------+---------+-------+-------------------+--------------------+----------+\n",
            "|    242|           1_1723-11|    STOPPED_AT| 41|1399| 38.80076|   1624|-9.443221|  1624_1_2|  1624_1|            SCHEDULED|        1792|4.1666665| 171350|2024-11-26 18:27:05|1624_1_2_1800_182...|2024-11-26|\n",
            "|    264|           1_1092-11| IN_TRANSIT_TO| 41|1294|38.746304|   1704|-9.215364|  1704_0_2|  1704_0|            SCHEDULED|        1040|6.6666665| 030748|2024-11-26 18:26:56|1704_0_2_1700_172...|2024-11-26|\n",
            "|      4|             1822-11| IN_TRANSIT_TO| 42|2570|38.825867|   2028|-9.170623|  2028_0_3|  2028_0|            SCHEDULED|        1822| 6.111111| 070569|2024-11-26 18:26:50|2028_0_3|1|1|1740...|2024-11-26|\n",
            "|      0|             1004-11|    STOPPED_AT| 42|2357| 38.77614|   2726|-9.095091|  2726_0_2|  2726_0|            SCHEDULED|        1066|      0.0| 060202|2024-11-26 18:27:04|2726_0_2|1|1|1730...|2024-11-26|\n",
            "|    179|           1_1093-11| IN_TRANSIT_TO| 41|1110|38.786163|   1719|-9.227164|  1719_0_1|  1719_0|            SCHEDULED|        1093| 8.055555| 030277|2024-11-26 18:27:01|1719_0_1_1800_182...|2024-11-26|\n",
            "|     67|20241126-64010256...| IN_TRANSIT_TO|44|12066| 38.56503|   4552|-8.946227|  4552_0_1|  4552_0|            SCHEDULED|111590234560|      0.0| 160793|2024-11-26 18:27:12|4552_0_1|2600|175...|2024-11-26|\n",
            "|    357|UNAVAILABLE_BLOCK_ID|   INCOMING_AT| 41|1375|38.757282|   1215|-9.306834|  1215_0_3|  1215_0|            SCHEDULED|        1221|0.5555556| 170781|2024-11-26 18:26:53|1215_0_3_1700_172...|2024-11-26|\n",
            "|      0|                1083|    STOPPED_AT| 42|1083|39.035812|   2805|-9.368463|  2805_0_1|  2805_0|            SCHEDULED|      400606|      0.0| 080485|2024-11-26 18:26:18|2805_0_1|120|1|18...|2024-11-26|\n",
            "|      3|             1806-11| IN_TRANSIT_TO| 42|2604|38.790424|   2772| -9.16842|  2772_0_1|  2772_0|            SCHEDULED|        1832|10.277778| 110553|2024-11-26 18:27:08|2772_0_1|1|1|1815...|2024-11-26|\n",
            "|     54|UNAVAILABLE_BLOCK_ID|   INCOMING_AT| 42|2549|38.779938|   2781|-9.193182|  2781_0_2|  2781_0|            SCHEDULED|        1647|0.5555556| 110715|2024-11-26 18:26:56|2781_0_2|1|1|1810...|2024-11-26|\n",
            "|    353|             1527-11| IN_TRANSIT_TO| 42|2566|38.788437|   2831|-9.209313|  2831_0_2|  2831_0|            SCHEDULED|        1595|0.2777778| 110677|2024-11-26 18:26:22|2831_0_2|1|1|1810...|2024-11-26|\n",
            "|     41|           1_1076-11|    STOPPED_AT| 41|1154| 38.70953|   1507|-9.272574|  1507_0_1|  1507_0|            SCHEDULED|        1092|      0.0| 120597|2024-11-26 18:26:51|1507_0_1_1800_182...|2024-11-26|\n",
            "|    301|                1254|    STOPPED_AT| 42|1254| 38.83099|   2754|-9.168087|  2754_2_1|  2754_2|            SCHEDULED|       44412|      0.0| 070037|2024-11-26 18:26:35|2754_2_1|120|1|17...|2024-11-26|\n",
            "|     83|           1_1067-11|    STOPPED_AT| 41|1293| 38.76944|   1014|-9.245026|  1014_0_1|  1014_0|            SCHEDULED|        1020|0.2777778| 030473|2024-11-26 18:27:01|1014_0_1_1730_175...|2024-11-26|\n",
            "|    275|       ESC_DU_EU2008| IN_TRANSIT_TO| 43|2038|38.659237|   3504| -9.18751|  3504_0_2|  3504_0|            SCHEDULED|      EU2064|4.7222223| 020397|2024-11-26 18:26:53|3504_0_2_1730_175...|2024-11-26|\n",
            "|      0|       ESC_DU_EU1068|    STOPPED_AT| 43|2347|38.634052|   3715|-9.153141|  3715_0_1|  3715_0|            SCHEDULED|      EU1099|      0.0| 140773|2024-11-26 18:27:06|3715_0_1_1700_172...|2024-11-26|\n",
            "|     43|           1_1763-11|    STOPPED_AT| 41|1391| 38.80649|   1248|-9.379376|  1248_0_1|  1248_0|            SCHEDULED|        1726|0.2777778| 171315|2024-11-26 18:27:01|1248_0_1_1800_182...|2024-11-26|\n",
            "|    253|           1_1090-11| IN_TRANSIT_TO| 41|1142|38.771477|   1707|-9.223739|  1707_0_2|  1707_0|            SCHEDULED|        1066|10.277778| 030272|2024-11-26 18:26:44|1707_0_2_1730_175...|2024-11-26|\n",
            "|    136|       ESC_DU_EU3039| IN_TRANSIT_TO| 43|2360|  38.5206|   3642|-9.020551|  3642_0_1|  3642_0|            SCHEDULED|      EU3046| 6.388889| 160979|2024-11-26 18:27:09|3642_0_1_1730_175...|2024-11-26|\n",
            "|    169|       ESC_DU_EU1077| IN_TRANSIT_TO| 43|2335| 38.61555|   3114|-9.106467|  3114_0_1|  3114_0|            SCHEDULED|      EU1077|     10.0| 140585|2024-11-26 18:26:51|3114_0_1_1800_182...|2024-11-26|\n",
            "+-------+--------------------+--------------+--------+---------+-------+---------+----------+--------+---------------------+------------+---------+-------+-------------------+--------------------+----------+\n",
            "only showing top 20 rows\n",
            "\n",
            "Running Task - Cleansing Lines\n",
            "+-------+----------+----+--------------------+--------------------+--------------------+--------------------+--------------------+----------+----------+\n",
            "|  color|facilities|  id|          localities|           long_name|      municipalities|            patterns|              routes|short_name|text_color|\n",
            "+-------+----------+----+--------------------+--------------------+--------------------+--------------------+--------------------+----------+----------+\n",
            "|#C61D23|        []|2115|             [Mafra]|Codeçal (Tapada N...|              [1109]|[2115_0_1, 2115_0_2]|            [2115_0]|      2115|   #FFFFFF|\n",
            "|#C61D23|        []|2532|[Alverca, Vila Fr...|Alverca(Est) - Lo...|        [1114, 1107]|[2532_0_1, 2532_0_2]|            [2532_0]|      2532|   #FFFFFF|\n",
            "|#C61D23|        []|3119|[Pinhal de Cima, ...|Pinhal Conde Cunh...|              [1510]|[3119_0_1, 3119_0_2]|            [3119_0]|      3119|   #FFFFFF|\n",
            "|#C61D23|        []|3535|[Cacilhas, Cova d...|Cacilhas (Termina...|  [1503, 1510, 1511]|[3535_0_1, 3535_0_2]|            [3535_0]|      3535|   #FFFFFF|\n",
            "|#C61D23|        []|3545|[Corroios, Sta. M...|Corroios (Estação...|        [1510, 1511]|[3545_0_1, 3545_0_2]|            [3545_0]|      3545|   #FFFFFF|\n",
            "|#3D85C6|        []|4430|           [Setúbal]|Setúbal (Hospital...|              [1512]|[4430_0_1, 4430_0_2]|            [4430_0]|      4430|   #FFFFFF|\n",
            "|#C61D23|        []|1733|[Marquês de Pomba...|Marquês Pombal (M...|  [1106, 1110, 1111]|[1733_0_1, 1733_0...|[1733_0, 1733_1, ...|      1733|   #FFFFFF|\n",
            "|#C61D23|        []|2014|            [Loures]|Escola Maria Vele...|              [1107]|[2014_0_1, 2014_0_2]|            [2014_0]|      2014|   #FFFFFF|\n",
            "|#C61D23|        []|2210|          [Odivelas]|J. Amoreira-Colin...|              [1116]|          [2210_0_3]|            [2210_0]|      2210|   #FFFFFF|\n",
            "|#C61D23|        []|2753|[Campo Grande, Od...|Lisboa (C. Grande...|[1106, 1116, 1107...|[2753_0_1, 2753_0_2]|            [2753_0]|      2753|   #FFFFFF|\n",
            "|#C61D23|        []|4002|[Alcochete, São F...|São Francisco | C...|              [1502]|          [4002_0_3]|            [4002_0]|      4002|   #FFFFFF|\n",
            "|#C61D23|        []|4308|[Pinhal Novo, Val...|Palmela (Terminal...|              [1508]|[4308_0_2, 4308_0_1]|            [4308_0]|      4308|   #FFFFFF|\n",
            "|#C61D23|        []|4452|[Setúbal, Praias ...|Mitrena (Portucel...|              [1512]|[4452_0_1, 4452_0...|    [4452_0, 4452_1]|      4452|   #FFFFFF|\n",
            "|#C61D23|        []|1103|[Algés, Oeiras, Q...|Algés (Estação) -...|              [1110]|[1103_0_1, 1103_0_2]|            [1103_0]|      1103|   #FFFFFF|\n",
            "|#C61D23|        []|1523|[Cacém, Sintra, T...|Agualva-Cacém (Es...|        [1111, 1110]|[1523_0_1, 1523_0_2]|            [1523_0]|      1523|   #FFFFFF|\n",
            "|#C61D23|        []|2116|  [Mafra, Murgueira]|Encarnação - Mafr...|              [1109]|[2116_0_1, 2116_0_2]|            [2116_0]|      2116|   #FFFFFF|\n",
            "|#C61D23|        []|3207|[Carrasqueira, Se...|Carrasqueira - Se...|              [1511]|[3207_0_1, 3207_0_2]|            [3207_0]|      3207|   #FFFFFF|\n",
            "|#3D85C6|        []|4106|[Moita, Alhos Ved...|Alhos Vedros | Ci...|              [1506]|          [4106_0_3]|            [4106_0]|      4106|   #FFFFFF|\n",
            "|#C61D23|        []|4541|[Algeruz, Brejos ...|Algeruz - Setúbal...|        [1508, 1512]|[4541_0_1, 4541_0_2]|            [4541_0]|      4541|   #FFFFFF|\n",
            "|#C61D23|        []|4550|[Vila Nogueira de...|Palmela (Terminal...|        [1512, 1508]|[4550_0_2, 4550_0_1]|            [4550_0]|      4550|   #FFFFFF|\n",
            "+-------+----------+----+--------------------+--------------------+--------------------+--------------------+--------------------+----------+----------+\n",
            "only showing top 20 rows\n",
            "\n",
            "Running Task - Cleansing Municipalities\n",
            "+-------------+----+--------------------+------+---------+----------------+\n",
            "|district_name|  id|                name|prefix|region_id|     region_name|\n",
            "+-------------+----+--------------------+------+---------+----------------+\n",
            "|       Lisboa|1101|            Alenquer|    20|    PT16B|           Oeste|\n",
            "|       Lisboa|1110|              Oeiras|    12|    PT170|             AML|\n",
            "|        Évora|0712|        Vendas Novas|    19|    PT187|Alentejo Central|\n",
            "|       Lisboa|1111|              Sintra|    17|    PT170|             AML|\n",
            "|      Setúbal|1504|            Barreiro|    04|    PT170|             AML|\n",
            "|      Setúbal|1502|           Alcochete|    01|    PT170|             AML|\n",
            "|       Lisboa|1109|               Mafra|    08|    PT170|             AML|\n",
            "|      Setúbal|1510|              Seixal|    14|    PT170|             AML|\n",
            "|       Lisboa|1114| Vila Franca de Xira|    18|    PT170|             AML|\n",
            "|       Lisboa|1102|   Arruda dos Vinhos|    20|    PT16B|           Oeste|\n",
            "|      Setúbal|1508|             Palmela|    13|    PT170|             AML|\n",
            "|       Lisboa|1112|Sobral de Monte A...|    20|    PT16B|           Oeste|\n",
            "|       Lisboa|1107|              Loures|    07|    PT170|             AML|\n",
            "|       Lisboa|1106|              Lisboa|    06|    PT170|             AML|\n",
            "|       Lisboa|1113|       Torres Vedras|    20|    PT16B|           Oeste|\n",
            "|      Setúbal|1503|              Almada|    02|    PT170|             AML|\n",
            "|       Lisboa|1105|             Cascais|    05|    PT170|             AML|\n",
            "|       Lisboa|1116|            Odivelas|    11|    PT170|             AML|\n",
            "|      Setúbal|1511|            Sesimbra|    15|    PT170|             AML|\n",
            "|      Setúbal|1507|             Montijo|    10|    PT170|             AML|\n",
            "+-------------+----+--------------------+------+---------+----------------+\n",
            "only showing top 20 rows\n",
            "\n",
            "Cleansing process completed\n",
            "ETL program completed\n"
          ]
        }
      ]
    }
  ],
  "metadata": {
    "colab": {
      "provenance": []
    },
    "kernelspec": {
      "display_name": "Python 3",
      "name": "python3"
    },
    "language_info": {
      "name": "python"
    }
  },
  "nbformat": 4,
  "nbformat_minor": 0
}