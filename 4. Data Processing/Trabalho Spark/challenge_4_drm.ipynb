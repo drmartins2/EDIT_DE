{
  "cells": [
    {
      "cell_type": "markdown",
      "metadata": {
        "id": "BOA_wQSmLd9z"
      },
      "source": [
        "# CHALLENGE 4\n",
        "##  Analyze data\n",
        "\n",
        "- Query table \"vehicles_enriched\" in gold layer\n",
        "- Aggregate data by municipality_name (array)\n",
        "- Calculate:\n",
        "  - count of vehicles (id) that pass through that municipality\n",
        "  - sum speed of vehicles\n",
        "\n",
        "Questions:\n",
        "  - What are the top 3 municipalities by vehicles routes?\n",
        "  - What are the top 3 municipalities with higher vehicle speed on average?\n",
        "\n",
        "\n",
        "Tips:\n",
        "- explode array into rows -> https://spark.apache.org/docs/latest/api/python/reference/pyspark.sql/api/pyspark.sql.functions.explode.html\n"
      ]
    },
    {
      "cell_type": "markdown",
      "metadata": {
        "id": "d9LeYFsPTjAb"
      },
      "source": [
        "# Setting up PySpark"
      ]
    },
    {
      "cell_type": "code",
      "execution_count": null,
      "metadata": {
        "colab": {
          "base_uri": "https://localhost:8080/"
        },
        "id": "uYXeODL0T1fO",
        "outputId": "c410e46c-4a50-43aa-926f-d0417c6280d2"
      },
      "outputs": [
        {
          "name": "stdout",
          "output_type": "stream",
          "text": [
            "Requirement already satisfied: pyspark in /usr/local/lib/python3.10/dist-packages (3.5.3)\n",
            "Requirement already satisfied: py4j==0.10.9.7 in /usr/local/lib/python3.10/dist-packages (from pyspark) (0.10.9.7)\n"
          ]
        }
      ],
      "source": [
        "%pip install pyspark"
      ]
    },
    {
      "cell_type": "code",
      "source": [
        "from pyspark.sql import SparkSession\n",
        "\n",
        "spark = SparkSession.builder.master('local').appName('Challenge 4').config('spark.ui.port', '4050').getOrCreate()"
      ],
      "metadata": {
        "id": "HqUAYarmkTp5"
      },
      "execution_count": 1,
      "outputs": []
    },
    {
      "cell_type": "code",
      "source": [
        "# Create folder for bronze layer\n",
        "!mkdir -p /content/lake/bronze\n",
        "print('Bronze layer created')"
      ],
      "metadata": {
        "colab": {
          "base_uri": "https://localhost:8080/"
        },
        "id": "ZYd5VIMikWpV",
        "outputId": "238fa497-6945-4ea8-d8bd-010be23dbbcf"
      },
      "execution_count": 2,
      "outputs": [
        {
          "output_type": "stream",
          "name": "stdout",
          "text": [
            "Bronze layer created\n"
          ]
        }
      ]
    },
    {
      "cell_type": "code",
      "source": [
        "# Create folder for silver layer\n",
        "!mkdir -p /content/lake/silver\n",
        "print('Silver layer created')"
      ],
      "metadata": {
        "colab": {
          "base_uri": "https://localhost:8080/"
        },
        "id": "_B_-aW56kdGz",
        "outputId": "ff87692a-dd43-48b5-b68b-41554e78acb7"
      },
      "execution_count": 3,
      "outputs": [
        {
          "output_type": "stream",
          "name": "stdout",
          "text": [
            "Silver layer created\n"
          ]
        }
      ]
    },
    {
      "cell_type": "code",
      "source": [
        "# Create folder for gold layer\n",
        "!mkdir -p /content/lake/gold\n",
        "print('Gold layer created')"
      ],
      "metadata": {
        "colab": {
          "base_uri": "https://localhost:8080/"
        },
        "id": "iJFEUAbgkfa1",
        "outputId": "9e5a219a-097d-4298-ebde-8f32d400fe76"
      },
      "execution_count": 4,
      "outputs": [
        {
          "output_type": "stream",
          "name": "stdout",
          "text": [
            "Gold layer created\n"
          ]
        }
      ]
    },
    {
      "cell_type": "markdown",
      "source": [
        "# Define ETLFlow Class\n",
        "API Ingestion and Load class"
      ],
      "metadata": {
        "id": "G_ZNw-Ymkh5m"
      }
    },
    {
      "cell_type": "code",
      "source": [
        "from pyspark.sql import DataFrame\n",
        "from pyspark.sql.types import *\n",
        "import requests\n",
        "\n",
        "class ETLFlow:\n",
        "    def __init__(self, spark: SparkSession) -> None:\n",
        "        self.spark = spark\n",
        "\n",
        "    # Extract data from API endpoint\n",
        "    # Parameters:\n",
        "    #   url: The API endpoint URL.\n",
        "    #   schema: Optional schema to enforce on the JSON data\n",
        "    # Returns:\n",
        "    #   DataFrame containing the extracted data.\n",
        "    def ReadAPI(self, url: str, schema: StructType = None) -> DataFrame:\n",
        "        response = requests.get(url)  # Fetch data from the API\n",
        "        rdd = self.spark.sparkContext.parallelize(response.json())  # Convert JSON response to RDD\n",
        "        if schema:\n",
        "            df = self.spark.read.schema(schema).json(rdd)  # Read RDD into DataFrame with schema\n",
        "        else:\n",
        "            df = self.spark.read.json(rdd)  # Read RDD into DataFrame without schema\n",
        "        return df\n",
        "\n",
        "\n",
        "    # Load a DataFrame into storage in the specified format.\n",
        "    # Parameters:\n",
        "    #   df: The DataFrame to be saved.\n",
        "    #   format: The format to save the DataFrame in (e.g., parquet).\n",
        "    #   path: The path where the DataFrame should be saved.\n",
        "    #   partition_column: Optional column to partition the data by.\n",
        "    def load(self, df: DataFrame, format: str, path: str, partition_column: str = None) -> None:\n",
        "        if partition_column:\n",
        "            # Save as a single file, partitioned by the specified column\n",
        "            df.coalesce(1).write.mode(\"overwrite\").partitionBy(partition_column).format(format).save(path)\n",
        "        else:\n",
        "            # Save as a single file without partitioning\n",
        "            df.coalesce(1).write.mode(\"overwrite\").format(format).save(path)"
      ],
      "metadata": {
        "id": "ZuXabVFkklDC"
      },
      "execution_count": 5,
      "outputs": []
    },
    {
      "cell_type": "markdown",
      "source": [
        "# ETL Task Ingestion for Bronze layer\n",
        "\n",
        "---"
      ],
      "metadata": {
        "id": "T1pw5L9rnMXi"
      }
    },
    {
      "cell_type": "code",
      "source": [
        "from pyspark.sql.types import *\n",
        "from pyspark.sql.functions import *\n",
        "\n",
        "class ETLTask_Bronze(ETLFlow):\n",
        "    def __init__(self, spark: SparkSession) -> None:\n",
        "        # Initialize ETLTask by inheriting from ETLFlow\n",
        "        super().__init__(spark)\n",
        "\n",
        "\n",
        "    # Ingest vehicle data from the API and load it into the bronze layer.\n",
        "    #   Extract data from 'vehicles' endpoint.\n",
        "    #   Add 'date' column derived from 'timestamp'.\n",
        "    #   Saves data as parquet, partitioned by 'date'.\n",
        "    def ingestion_vehicles(self):\n",
        "        # Define schema for vehicle\n",
        "        vehicle_schema = StructType([\n",
        "            StructField('bearing', IntegerType(), True),\n",
        "            StructField('block_id', StringType(), True),\n",
        "            StructField('current_status', StringType(), True),\n",
        "            StructField('id', StringType(), True),\n",
        "            StructField('lat', FloatType(), True),\n",
        "            StructField('line_id', StringType(), True),\n",
        "            StructField('lon', FloatType(), True),\n",
        "            StructField('pattern_id', StringType(), True),\n",
        "            StructField('route_id', StringType(), True),\n",
        "            StructField('schedule_relationship', StringType(), True),\n",
        "            StructField('shift_id', StringType(), True),\n",
        "            StructField('speed', FloatType(), True),\n",
        "            StructField('stop_id', StringType(), True),\n",
        "            StructField('timestamp', TimestampType(), True),\n",
        "            StructField('trip_id', StringType(), True)\n",
        "        ])\n",
        "\n",
        "        # Extract data using defined schema\n",
        "        df = self.ReadAPI(url=\"https://api.carrismetropolitana.pt/vehicles\", schema=vehicle_schema)\n",
        "\n",
        "        # Create \"date\" column from \"timestamp\"\n",
        "        df = df.withColumn(\"date\", date_format(col(\"timestamp\"), \"yyyy-MM-dd\"))\n",
        "        #df.show()\n",
        "\n",
        "        # Load data into the bronze layer, partitioned by \"date\"\n",
        "        self.load(df=df, format=\"parquet\", path=\"/content/lake/bronze/vehicles\", partition_column=\"date\")\n",
        "\n",
        "\n",
        "    # Ingest line data from the API and load it into the bronze layer.\n",
        "    #   Extracts data from 'lines' endpoint.\n",
        "    #   Saves data as parquet without partitioning.\n",
        "    def ingestion_lines(self):\n",
        "        # Define schema for lines\n",
        "        lines_schema = StructType([\n",
        "            StructField('_corrupt_record', StringType(), True),\n",
        "            StructField('color', StringType(), True),\n",
        "            StructField('facilities', ArrayType(StringType()), True),\n",
        "            StructField('id', StringType(), True),\n",
        "            StructField('localities', ArrayType(StringType()), True),\n",
        "            StructField('long_name', StringType(), True),\n",
        "            StructField('municipalities', ArrayType(StringType()), True),\n",
        "            StructField('patterns', ArrayType(StringType()), True),\n",
        "            StructField('routes', ArrayType(StringType()), True),\n",
        "            StructField('short_name', StringType(), True),\n",
        "            StructField('text_color', StringType(), True)\n",
        "        ])\n",
        "\n",
        "        # Extract data using defined schema\n",
        "        df = self.ReadAPI(url=\"https://api.carrismetropolitana.pt/lines\", schema=lines_schema)\n",
        "        #df.show()\n",
        "\n",
        "        # Load data into the bronze layer\n",
        "        self.load(df=df, format=\"parquet\", path=\"/content/lake/bronze/lines\")\n",
        "\n",
        "\n",
        "    # Ingest municipality data from the API and load it into the bronze layer.\n",
        "    #   Extracts data from 'municipalities' endpoint.\n",
        "    #   Saves data as parquet without partitioning.\n",
        "    def ingestion_municipalities(self):\n",
        "       # Define schema for municipalities\n",
        "       municipalities_schema = StructType([\n",
        "           StructField('district_name', StringType(), True),\n",
        "           StructField('id', StringType(), True),\n",
        "           StructField('name', StringType(), True),\n",
        "           StructField('prefix', StringType(), True),\n",
        "           StructField('region_id', StringType(), True),\n",
        "           StructField('region_name', StringType(), True)\n",
        "       ])\n",
        "\n",
        "\n",
        "       # Extract data using defined schema\n",
        "       df = self.ReadAPI(url=\"https://api.carrismetropolitana.pt/municipalities\", schema=municipalities_schema)\n",
        "       #df.show()\n",
        "\n",
        "       # Load data into the bronze layer\n",
        "       self.load(df=df, format=\"parquet\", path=\"/content/lake/bronze/municipalities\")\n",
        "\n",
        "print('ETLTask class defined for specific API endpoint ingestion')"
      ],
      "metadata": {
        "colab": {
          "base_uri": "https://localhost:8080/"
        },
        "id": "CUvfPjgInP6y",
        "outputId": "3d941c2f-e05b-49ba-e958-15c75c417c02"
      },
      "execution_count": 6,
      "outputs": [
        {
          "output_type": "stream",
          "name": "stdout",
          "text": [
            "ETLTask class defined for specific API endpoint ingestion\n"
          ]
        }
      ]
    },
    {
      "cell_type": "markdown",
      "source": [
        "# ETL Task Cleansing for Silver layer\n",
        "\n",
        "---------------------"
      ],
      "metadata": {
        "id": "cLpLEKY8nTrG"
      }
    },
    {
      "cell_type": "code",
      "source": [
        "from pyspark.sql.types import *\n",
        "from pyspark.sql.functions import *\n",
        "\n",
        "class ETLTask_Silver(ETLFlow):\n",
        "    def __init__(self, spark: SparkSession) -> None:\n",
        "        super().__init__(spark)\n",
        "\n",
        "    def cleanse_vehicles(self):\n",
        "        # Read data from bronze layer\n",
        "        df = self.spark.read.parquet(\"/content/lake/bronze/vehicles\")\n",
        "\n",
        "        # Apply vehicle transformations:\n",
        "        #   Changes column name \"lat\" to \"latitude\"\n",
        "        #   Changes column name \"lon\" to \"longitude\"\n",
        "        #   Removes duplicate records\n",
        "        #   Remove rocords where \"current_status\" has null values\n",
        "        #   Remove corrupted records - This removes any rows that contain null values in any column\n",
        "        df = df.withColumnRenamed(\"lat\", \"latitude\") \\\n",
        "               .withColumnRenamed(\"lon\", \"longitude\") \\\n",
        "               .dropDuplicates() \\\n",
        "               .filter(col(\"current_status\").isNotNull()) \\\n",
        "               .na.drop()\n",
        "\n",
        "        df.show()\n",
        "\n",
        "        # Write to silver layer\n",
        "        self.load(df=df, format=\"parquet\", path=\"/content/lake/silver/vehicles\", partition_column=\"date\")\n",
        "\n",
        "    def cleanse_lines(self):\n",
        "        # Read data from bronze layer\n",
        "        df = self.spark.read.parquet(\"/content/lake/bronze/lines\")\n",
        "\n",
        "        # Apply lines transformations:\n",
        "        #   Removes duplicate records\n",
        "        #   Remove rocords that have values in \"_corrupt_record\" column\n",
        "        #   Remove \"_corrupt_record\" column\n",
        "        #   Remove any corrupted records - Removes any rows that contain null values in any column\n",
        "        df = df.dropDuplicates() \\\n",
        "               .filter(col(\"_corrupt_record\").isNull()) \\\n",
        "               .drop(\"_corrupt_record\") \\\n",
        "               .na.drop()\n",
        "\n",
        "        df.show()\n",
        "\n",
        "        # Write to silver layer\n",
        "        self.load(df=df, format=\"parquet\", path=\"/content/lake/silver/lines\")\n",
        "\n",
        "    def cleanse_municipalities(self):\n",
        "        # Read data from bronze layer\n",
        "        df = self.spark.read.parquet(\"/content/lake/bronze/municipalities\")\n",
        "\n",
        "        # Apply municipalities transformations:\n",
        "        #   Removes duplicate records\n",
        "        #   Only returns values where \"name\" and \"district_name\" aren't null\n",
        "        #   Remove any corrupted records - Removes any rows that contain null values in any column\n",
        "        df = df.dropDuplicates() \\\n",
        "               .filter(col(\"name\").isNotNull() & col(\"district_name\").isNotNull()) \\\n",
        "               .na.drop()\n",
        "\n",
        "        df.show()\n",
        "\n",
        "        # Write to silver layer\n",
        "        self.load(df=df, format=\"parquet\", path=\"/content/lake/silver/municipalities\")\n",
        "\n",
        "print('ETLTask class defined for bronze layer cleansing')"
      ],
      "metadata": {
        "colab": {
          "base_uri": "https://localhost:8080/"
        },
        "id": "5DkiqIw-nXvw",
        "outputId": "578c4919-2c57-4a6c-921e-3bd13f38c37d"
      },
      "execution_count": 7,
      "outputs": [
        {
          "output_type": "stream",
          "name": "stdout",
          "text": [
            "ETLTask class defined for bronze layer cleansing\n"
          ]
        }
      ]
    },
    {
      "cell_type": "markdown",
      "source": [
        "# ETL Task Enrichment for Gold layer\n",
        "\n",
        "---------------------"
      ],
      "metadata": {
        "id": "CyxkdKZyna18"
      }
    },
    {
      "cell_type": "code",
      "source": [
        "from pyspark.sql import SparkSession, DataFrame\n",
        "from pyspark.sql.functions import col, explode\n",
        "from pyspark.sql.types import *\n",
        "\n",
        "class ETLTask_Gold(ETLFlow):\n",
        "    def __init__(self, spark: SparkSession) -> None:\n",
        "        super().__init__(spark)\n",
        "\n",
        "    def enrich_vehicles(self):\n",
        "        # Define schemas\n",
        "        vehicles_schema = StructType([\n",
        "            StructField('bearing', IntegerType(), True),\n",
        "            StructField('block_id', StringType(), True),\n",
        "            StructField('current_status', StringType(), True),\n",
        "            StructField('id', StringType(), True),\n",
        "            StructField('latitude', FloatType(), True),\n",
        "            StructField('line_id', StringType(), True),\n",
        "            StructField('longitude', FloatType(), True),\n",
        "            StructField('pattern_id', StringType(), True),\n",
        "            StructField('route_id', StringType(), True),\n",
        "            StructField('schedule_relationship', StringType(), True),\n",
        "            StructField('shift_id', StringType(), True),\n",
        "            StructField('speed', FloatType(), True),\n",
        "            StructField('stop_id', StringType(), True),\n",
        "            StructField(\"timestamp\", TimestampType(), True),\n",
        "            StructField('trip_id', StringType(), True),\n",
        "            StructField(\"date\", DateType(), True)\n",
        "        ])\n",
        "\n",
        "        lines_schema = StructType([\n",
        "            StructField(\"id\", StringType(), True),\n",
        "            StructField(\"long_name\", StringType(), True),\n",
        "            StructField(\"municipalities\", ArrayType(StringType()), True)\n",
        "        ])\n",
        "\n",
        "        municipalities_schema = StructType([\n",
        "            StructField(\"id\", StringType(), True),\n",
        "            StructField(\"name\", StringType(), True)\n",
        "        ])\n",
        "\n",
        "        # Read data from silver layer\n",
        "        vehicles_df = self.spark.read.schema(vehicles_schema).parquet(\"/content/lake/silver/vehicles\")\n",
        "        lines_df = self.spark.read.schema(lines_schema).parquet(\"/content/lake/silver/lines\")\n",
        "        municipalities_df = self.spark.read.schema(municipalities_schema).parquet(\"/content/lake/silver/municipalities\")\n",
        "\n",
        "        # Join vehicles with lines (1:1)\n",
        "        enriched_df = vehicles_df.join(lines_df, vehicles_df.line_id == lines_df.id, \"left\")\n",
        "\n",
        "        # Explode municipalities before joining to get the same cardinality as lines df (1:n)\n",
        "        exploded_lines_df = lines_df.select(col(\"id\").alias(\"line_id\"), explode(\"municipalities\").alias(\"municipality_id\"))\n",
        "\n",
        "        # Join with exploded municipalities and then with municipalities_df\n",
        "        enriched_df = enriched_df.join(exploded_lines_df, enriched_df.line_id == exploded_lines_df.line_id, \"left\") \\\n",
        "                                 .join(municipalities_df, exploded_lines_df.municipality_id == municipalities_df.id, \"left\")\n",
        "\n",
        "        # Select required columns\n",
        "        enriched_df = enriched_df.select(\n",
        "            vehicles_df[\"*\"],\n",
        "            col(\"long_name\").alias(\"line_name\"),\n",
        "            col(\"name\").alias(\"municipality_name\")\n",
        "        )\n",
        "\n",
        "        enriched_df.show()\n",
        "\n",
        "        # Write enriched data to gold layer\n",
        "        self.load(df=enriched_df, format=\"parquet\", path=\"/content/lake/gold/vehicles_enriched\", partition_column=\"date\")"
      ],
      "metadata": {
        "id": "J2dqQ6pdndlh"
      },
      "execution_count": 8,
      "outputs": []
    },
    {
      "cell_type": "markdown",
      "source": [
        "#Main Execution"
      ],
      "metadata": {
        "id": "MTTlNcH9niSx"
      }
    },
    {
      "cell_type": "code",
      "source": [
        "# Initialize ETL Bronze Process\n",
        "print(\"Starting ETL program\")\n",
        "etl_bronze = ETLTask_Bronze(spark)\n",
        "\n",
        "# Ingest vehicle data\n",
        "print(\"Running Task - Ingestion Vehicles\")\n",
        "etl_bronze.ingestion_vehicles()\n",
        "\n",
        "# Ingest line data\n",
        "print(\"Running Task - Ingestion Lines\")\n",
        "etl_bronze.ingestion_lines()\n",
        "\n",
        "# Ingest municipality data\n",
        "print(\"Running Task - Ingestion Municipalities\")\n",
        "etl_bronze.ingestion_municipalities()"
      ],
      "metadata": {
        "colab": {
          "base_uri": "https://localhost:8080/"
        },
        "id": "gegKJ-aXnlpF",
        "outputId": "8995782c-6316-4a9f-b3af-9ef78077d708"
      },
      "execution_count": 9,
      "outputs": [
        {
          "output_type": "stream",
          "name": "stdout",
          "text": [
            "Starting ETL program\n",
            "Running Task - Ingestion Vehicles\n",
            "Running Task - Ingestion Lines\n",
            "Running Task - Ingestion Municipalities\n"
          ]
        }
      ]
    },
    {
      "cell_type": "code",
      "source": [
        "# Initialize ETL Silver Process\n",
        "print(\"Starting Cleansing process\")\n",
        "etl_silver = ETLTask_Silver(spark)\n",
        "print(\"Ingestion process completed\")\n",
        "\n",
        "# Cleanse vehicle data\n",
        "print(\"Running Task - Cleansing Vehicles\")\n",
        "etl_silver.cleanse_vehicles()\n",
        "\n",
        "# Cleanse lines data\n",
        "print(\"Running Task - Cleansing Lines\")\n",
        "etl_silver.cleanse_lines()\n",
        "\n",
        "# Cleanse municipalities data\n",
        "print(\"Running Task - Cleansing Municipalities\")\n",
        "etl_silver.cleanse_municipalities()\n",
        "\n",
        "print(\"Cleansing process completed\")"
      ],
      "metadata": {
        "colab": {
          "base_uri": "https://localhost:8080/"
        },
        "id": "wIFrCHUrnn1D",
        "outputId": "8e4e8420-0448-41cd-b1c6-64097ef3bb86"
      },
      "execution_count": 10,
      "outputs": [
        {
          "output_type": "stream",
          "name": "stdout",
          "text": [
            "Starting Cleansing process\n",
            "Ingestion process completed\n",
            "Running Task - Cleansing Vehicles\n",
            "+-------+--------------------+--------------+--------+---------+-------+---------+----------+--------+---------------------+------------+---------+-------+-------------------+--------------------+----------+\n",
            "|bearing|            block_id|current_status|      id| latitude|line_id|longitude|pattern_id|route_id|schedule_relationship|    shift_id|    speed|stop_id|          timestamp|             trip_id|      date|\n",
            "+-------+--------------------+--------------+--------+---------+-------+---------+----------+--------+---------------------+------------+---------+-------+-------------------+--------------------+----------+\n",
            "|    135|       ESC_DU_EU1002| IN_TRANSIT_TO| 43|2391|  38.6158|   3103|-9.110255|  3103_0_1|  3103_0|            SCHEDULED|      EU1076|1.3888888| 140225|2024-11-27 17:21:17|3103_0_1_1630_165...|2024-11-27|\n",
            "|    147|             1034-11| IN_TRANSIT_TO| 42|2103|   38.807|   2725| -9.11593|  2725_0_2|  2725_0|            SCHEDULED|        1209|     17.5| 070114|2024-11-27 17:21:17|2725_0_2|1|1|1650...|2024-11-27|\n",
            "|    203|             1812-11| IN_TRANSIT_TO| 42|2520| 38.79245|   2769|-9.166508|  2769_1_2|  2769_1|            SCHEDULED|        1812|3.0555556| 110785|2024-11-27 17:20:51|2769_1_2|1|1|1700...|2024-11-27|\n",
            "|     61|           1_1072-11| IN_TRANSIT_TO| 41|1259|38.751034|   1712|-9.228867|  1712_0_1|  1712_0|            SCHEDULED|   1027'_001|2.7777777| 030459|2024-11-27 17:20:29|1712_0_1_1630_165...|2024-11-27|\n",
            "|     78|20241127-64010329...| IN_TRANSIT_TO|44|12607|38.579525|   4524|-8.873857|  4524_0_1|  4524_0|            SCHEDULED|111160234560|13.055555| 130114|2024-11-27 17:21:29|4524_0_1|2700|170...|2024-11-27|\n",
            "|      0|           1_1216-11|    STOPPED_AT| 41|1281| 38.76804|   1217|-9.278857|  1217_0_2|  1217_0|            SCHEDULED|        1234|      0.0| 170764|2024-11-27 17:21:29|1217_0_2_1700_172...|2024-11-27|\n",
            "|    223|20241127-64010343...| IN_TRANSIT_TO|44|12730| 38.52981|   4403|-8.891778|  4403_0_1|  4403_0|            SCHEDULED|112430234560|5.8333335| 160097|2024-11-27 17:21:33|4403_0_1|2700|165...|2024-11-27|\n",
            "|    304|20241127-64010211...| IN_TRANSIT_TO|44|12087| 38.52442|   4402|-8.864447|  4402_0_1|  4402_0|            SCHEDULED|112390234560|10.555555| 160057|2024-11-27 17:21:36|4402_0_1|2700|170...|2024-11-27|\n",
            "|    292|           1_1062-11|    STOPPED_AT| 41|1865| 38.78564|   1719|-9.233796|  1719_0_2|  1719_0|            SCHEDULED|        1052| 9.166667| 060127|2024-11-27 17:20:40|1719_0_2_1700_172...|2024-11-27|\n",
            "|    349|           1_1058-11| IN_TRANSIT_TO|  41|331| 38.81315|   1710|-9.226854|  1710_3_2|  1710_3|            SCHEDULED|        1140|      0.0| 110057|2024-11-27 17:21:25|1710_3_2_1630_165...|2024-11-27|\n",
            "|    171|20241127-64010142...| IN_TRANSIT_TO|44|13601|38.721035|   4600|-9.002737|  4600_0_1|  4600_0|            SCHEDULED|121050234560|3.6111112| 010176|2024-11-27 17:21:39|4600_0_1|2700|170...|2024-11-27|\n",
            "|     98|           1_1094-11| IN_TRANSIT_TO| 41|1712|38.749607|   1015|-9.223929|  1015_0_3|  1015_0|            SCHEDULED|        1046|5.8333335| 030045|2024-11-27 17:21:02|1015_0_3_1700_172...|2024-11-27|\n",
            "|    133|20241127-64010011...| IN_TRANSIT_TO|44|12668|38.760773|   4706|-9.041143|  4706_0_2|  4706_0|            SCHEDULED|123370234560|26.944445| 100042|2024-11-27 17:21:36|4706_0_2|2700|170...|2024-11-27|\n",
            "|    208|             1172-11| IN_TRANSIT_TO| 42|2010| 38.95522|   2331|-8.988719|  2331_0_2|  2331_0|            SCHEDULED|        1172|4.1666665| 180240|2024-11-27 17:20:58|2331_0_2|1|1|1700...|2024-11-27|\n",
            "|     18|           1_1619-11| IN_TRANSIT_TO| 41|1366| 38.76191|   1513|-9.256387|  1513_0_3|  1513_0|            SCHEDULED|        1655|6.9444447| 170596|2024-11-27 17:21:13|1513_C_0_3_1700_1...|2024-11-27|\n",
            "|      0|           1_1092-11|    STOPPED_AT| 41|1294|38.725094|   1704|-9.155273|  1704_0_2|  1704_0|            SCHEDULED|        1040|      0.0| 060035|2024-11-27 17:21:25|1704_0_2_1700_172...|2024-11-27|\n",
            "|      0|20241127-64010044...| IN_TRANSIT_TO|44|12074|  38.5244|   4438|-8.894275|  4438_0_2|  4438_0|            SCHEDULED|112290234560|1.6666666| 160105|2024-11-27 17:21:27|4438_0_2|2700|171...|2024-11-27|\n",
            "|    338|             1533-11| IN_TRANSIT_TO| 42|2557|38.793236|   2223|-9.203846|  2223_0_3|  2223_0|            SCHEDULED|        1613|1.1111112| 110419|2024-11-27 17:21:34|2223_0_3|1|1|1700...|2024-11-27|\n",
            "|     45|             1711-11| IN_TRANSIT_TO| 42|2751|38.860638|   2797|-9.114525|  2797_1_1|  2797_1|            SCHEDULED|        1777|      7.5| 180823|2024-11-27 17:20:58|2797_1_1|1|1|1700...|2024-11-27|\n",
            "|    288|20241127-64010206...| IN_TRANSIT_TO|44|12732|38.526154|   4421| -8.89156|  4421_0_1|  4421_0|            SCHEDULED|112440234560|7.7777777| 160099|2024-11-27 17:21:26|4421_0_1|2700|165...|2024-11-27|\n",
            "+-------+--------------------+--------------+--------+---------+-------+---------+----------+--------+---------------------+------------+---------+-------+-------------------+--------------------+----------+\n",
            "only showing top 20 rows\n",
            "\n",
            "Running Task - Cleansing Lines\n",
            "+-------+----------+----+--------------------+--------------------+--------------------+--------------------+--------------------+----------+----------+\n",
            "|  color|facilities|  id|          localities|           long_name|      municipalities|            patterns|              routes|short_name|text_color|\n",
            "+-------+----------+----+--------------------+--------------------+--------------------+--------------------+--------------------+----------+----------+\n",
            "|#C61D23|        []|2115|             [Mafra]|Codeçal (Tapada N...|              [1109]|[2115_0_1, 2115_0_2]|            [2115_0]|      2115|   #FFFFFF|\n",
            "|#C61D23|        []|2532|[Alverca, Vila Fr...|Alverca(Est) - Lo...|        [1114, 1107]|[2532_0_1, 2532_0_2]|            [2532_0]|      2532|   #FFFFFF|\n",
            "|#C61D23|        []|3119|[Pinhal de Cima, ...|Pinhal Conde Cunh...|              [1510]|[3119_0_1, 3119_0_2]|            [3119_0]|      3119|   #FFFFFF|\n",
            "|#C61D23|        []|3535|[Cacilhas, Cova d...|Cacilhas (Termina...|  [1503, 1510, 1511]|[3535_0_1, 3535_0_2]|            [3535_0]|      3535|   #FFFFFF|\n",
            "|#C61D23|        []|3545|[Corroios, Sta. M...|Corroios (Estação...|        [1510, 1511]|[3545_0_1, 3545_0_2]|            [3545_0]|      3545|   #FFFFFF|\n",
            "|#3D85C6|        []|4430|           [Setúbal]|Setúbal (Hospital...|              [1512]|[4430_0_1, 4430_0_2]|            [4430_0]|      4430|   #FFFFFF|\n",
            "|#C61D23|        []|1733|[Marquês de Pomba...|Marquês Pombal (M...|  [1106, 1110, 1111]|[1733_0_1, 1733_0...|[1733_0, 1733_1, ...|      1733|   #FFFFFF|\n",
            "|#C61D23|        []|2014|            [Loures]|Escola Maria Vele...|              [1107]|[2014_0_1, 2014_0_2]|            [2014_0]|      2014|   #FFFFFF|\n",
            "|#C61D23|        []|2210|          [Odivelas]|J. Amoreira-Colin...|              [1116]|          [2210_0_3]|            [2210_0]|      2210|   #FFFFFF|\n",
            "|#C61D23|        []|2753|[Campo Grande, Od...|Lisboa (C. Grande...|[1106, 1116, 1107...|[2753_0_1, 2753_0_2]|            [2753_0]|      2753|   #FFFFFF|\n",
            "|#C61D23|        []|4002|[Alcochete, São F...|São Francisco | C...|              [1502]|          [4002_0_3]|            [4002_0]|      4002|   #FFFFFF|\n",
            "|#C61D23|        []|4308|[Pinhal Novo, Val...|Palmela (Terminal...|              [1508]|[4308_0_2, 4308_0_1]|            [4308_0]|      4308|   #FFFFFF|\n",
            "|#C61D23|        []|4452|[Setúbal, Praias ...|Mitrena (Portucel...|              [1512]|[4452_0_1, 4452_0...|    [4452_0, 4452_1]|      4452|   #FFFFFF|\n",
            "|#C61D23|        []|1103|[Algés, Oeiras, Q...|Algés (Estação) -...|              [1110]|[1103_0_1, 1103_0_2]|            [1103_0]|      1103|   #FFFFFF|\n",
            "|#C61D23|        []|1523|[Cacém, Sintra, T...|Agualva-Cacém (Es...|        [1111, 1110]|[1523_0_1, 1523_0_2]|            [1523_0]|      1523|   #FFFFFF|\n",
            "|#C61D23|        []|2116|  [Mafra, Murgueira]|Encarnação - Mafr...|              [1109]|[2116_0_1, 2116_0_2]|            [2116_0]|      2116|   #FFFFFF|\n",
            "|#C61D23|        []|3207|[Carrasqueira, Se...|Carrasqueira - Se...|              [1511]|[3207_0_1, 3207_0_2]|            [3207_0]|      3207|   #FFFFFF|\n",
            "|#3D85C6|        []|4106|[Moita, Alhos Ved...|Alhos Vedros | Ci...|              [1506]|          [4106_0_3]|            [4106_0]|      4106|   #FFFFFF|\n",
            "|#C61D23|        []|4541|[Algeruz, Brejos ...|Algeruz - Setúbal...|        [1508, 1512]|[4541_0_1, 4541_0_2]|            [4541_0]|      4541|   #FFFFFF|\n",
            "|#C61D23|        []|4550|[Vila Nogueira de...|Palmela (Terminal...|        [1512, 1508]|[4550_0_2, 4550_0_1]|            [4550_0]|      4550|   #FFFFFF|\n",
            "+-------+----------+----+--------------------+--------------------+--------------------+--------------------+--------------------+----------+----------+\n",
            "only showing top 20 rows\n",
            "\n",
            "Running Task - Cleansing Municipalities\n",
            "+-------------+----+--------------------+------+---------+----------------+\n",
            "|district_name|  id|                name|prefix|region_id|     region_name|\n",
            "+-------------+----+--------------------+------+---------+----------------+\n",
            "|       Lisboa|1101|            Alenquer|    20|    PT16B|           Oeste|\n",
            "|       Lisboa|1110|              Oeiras|    12|    PT170|             AML|\n",
            "|        Évora|0712|        Vendas Novas|    19|    PT187|Alentejo Central|\n",
            "|       Lisboa|1111|              Sintra|    17|    PT170|             AML|\n",
            "|      Setúbal|1504|            Barreiro|    04|    PT170|             AML|\n",
            "|      Setúbal|1502|           Alcochete|    01|    PT170|             AML|\n",
            "|       Lisboa|1109|               Mafra|    08|    PT170|             AML|\n",
            "|      Setúbal|1510|              Seixal|    14|    PT170|             AML|\n",
            "|       Lisboa|1114| Vila Franca de Xira|    18|    PT170|             AML|\n",
            "|       Lisboa|1102|   Arruda dos Vinhos|    20|    PT16B|           Oeste|\n",
            "|      Setúbal|1508|             Palmela|    13|    PT170|             AML|\n",
            "|       Lisboa|1112|Sobral de Monte A...|    20|    PT16B|           Oeste|\n",
            "|       Lisboa|1107|              Loures|    07|    PT170|             AML|\n",
            "|       Lisboa|1106|              Lisboa|    06|    PT170|             AML|\n",
            "|       Lisboa|1113|       Torres Vedras|    20|    PT16B|           Oeste|\n",
            "|      Setúbal|1503|              Almada|    02|    PT170|             AML|\n",
            "|       Lisboa|1105|             Cascais|    05|    PT170|             AML|\n",
            "|       Lisboa|1116|            Odivelas|    11|    PT170|             AML|\n",
            "|      Setúbal|1511|            Sesimbra|    15|    PT170|             AML|\n",
            "|      Setúbal|1507|             Montijo|    10|    PT170|             AML|\n",
            "+-------------+----+--------------------+------+---------+----------------+\n",
            "only showing top 20 rows\n",
            "\n",
            "Cleansing process completed\n"
          ]
        }
      ]
    },
    {
      "cell_type": "code",
      "source": [
        "# Initialize ETL Gold Process\n",
        "etl_gold = ETLTask_Gold(spark)\n",
        "\n",
        "print(\"Running Task - Enriching Vehicles\")\n",
        "etl_gold.enrich_vehicles()\n",
        "\n",
        "print(\"Enrichment process completed\")\n",
        "print(\"ETL program completed\")"
      ],
      "metadata": {
        "colab": {
          "base_uri": "https://localhost:8080/"
        },
        "id": "rE3vFuRnnp4l",
        "outputId": "49ce1d20-38dc-47df-d708-9dfad37c6cf4"
      },
      "execution_count": 11,
      "outputs": [
        {
          "output_type": "stream",
          "name": "stdout",
          "text": [
            "Running Task - Enriching Vehicles\n",
            "+-------+--------------------+--------------+--------+---------+-------+---------+----------+--------+---------------------+------------+---------+-------+-------------------+--------------------+----------+--------------------+-----------------+\n",
            "|bearing|            block_id|current_status|      id| latitude|line_id|longitude|pattern_id|route_id|schedule_relationship|    shift_id|    speed|stop_id|          timestamp|             trip_id|      date|           line_name|municipality_name|\n",
            "+-------+--------------------+--------------+--------+---------+-------+---------+----------+--------+---------------------+------------+---------+-------+-------------------+--------------------+----------+--------------------+-----------------+\n",
            "|    135|       ESC_DU_EU1002| IN_TRANSIT_TO| 43|2391|  38.6158|   3103|-9.110255|  3103_0_1|  3103_0|            SCHEDULED|      EU1076|1.3888888| 140225|2024-11-27 17:21:17|3103_0_1_1630_165...|2024-11-27|Corroios (Estação...|           Seixal|\n",
            "|    147|             1034-11| IN_TRANSIT_TO| 42|2103|   38.807|   2725| -9.11593|  2725_0_2|  2725_0|            SCHEDULED|        1209|     17.5| 070114|2024-11-27 17:21:17|2725_0_2|1|1|1650...|2024-11-27|Estação Oriente -...|           Loures|\n",
            "|    147|             1034-11| IN_TRANSIT_TO| 42|2103|   38.807|   2725| -9.11593|  2725_0_2|  2725_0|            SCHEDULED|        1209|     17.5| 070114|2024-11-27 17:21:17|2725_0_2|1|1|1650...|2024-11-27|Estação Oriente -...|           Lisboa|\n",
            "|    203|             1812-11| IN_TRANSIT_TO| 42|2520| 38.79245|   2769|-9.166508|  2769_1_2|  2769_1|            SCHEDULED|        1812|3.0555556| 110785|2024-11-27 17:20:51|2769_1_2|1|1|1700...|2024-11-27|Cidade Nova - Lis...|           Lisboa|\n",
            "|    203|             1812-11| IN_TRANSIT_TO| 42|2520| 38.79245|   2769|-9.166508|  2769_1_2|  2769_1|            SCHEDULED|        1812|3.0555556| 110785|2024-11-27 17:20:51|2769_1_2|1|1|1700...|2024-11-27|Cidade Nova - Lis...|         Odivelas|\n",
            "|    203|             1812-11| IN_TRANSIT_TO| 42|2520| 38.79245|   2769|-9.166508|  2769_1_2|  2769_1|            SCHEDULED|        1812|3.0555556| 110785|2024-11-27 17:20:51|2769_1_2|1|1|1700...|2024-11-27|Cidade Nova - Lis...|           Loures|\n",
            "|     61|           1_1072-11| IN_TRANSIT_TO| 41|1259|38.751034|   1712|-9.228867|  1712_0_1|  1712_0|            SCHEDULED|   1027'_001|2.7777777| 030459|2024-11-27 17:20:29|1712_0_1_1630_165...|2024-11-27|Algés (Estação) -...|          Amadora|\n",
            "|     61|           1_1072-11| IN_TRANSIT_TO| 41|1259|38.751034|   1712|-9.228867|  1712_0_1|  1712_0|            SCHEDULED|   1027'_001|2.7777777| 030459|2024-11-27 17:20:29|1712_0_1_1630_165...|2024-11-27|Algés (Estação) -...|           Lisboa|\n",
            "|     61|           1_1072-11| IN_TRANSIT_TO| 41|1259|38.751034|   1712|-9.228867|  1712_0_1|  1712_0|            SCHEDULED|   1027'_001|2.7777777| 030459|2024-11-27 17:20:29|1712_0_1_1630_165...|2024-11-27|Algés (Estação) -...|           Oeiras|\n",
            "|     78|20241127-64010329...| IN_TRANSIT_TO|44|12607|38.579525|   4524|-8.873857|  4524_0_1|  4524_0|            SCHEDULED|111160234560|13.055555| 130114|2024-11-27 17:21:29|4524_0_1|2700|170...|2024-11-27|Palmela (Terminal...|          Palmela|\n",
            "|     78|20241127-64010329...| IN_TRANSIT_TO|44|12607|38.579525|   4524|-8.873857|  4524_0_1|  4524_0|            SCHEDULED|111160234560|13.055555| 130114|2024-11-27 17:21:29|4524_0_1|2700|170...|2024-11-27|Palmela (Terminal...|          Montijo|\n",
            "|      0|           1_1216-11|    STOPPED_AT| 41|1281| 38.76804|   1217|-9.278857|  1217_0_2|  1217_0|            SCHEDULED|        1234|      0.0| 170764|2024-11-27 17:21:29|1217_0_2_1700_172...|2024-11-27|Agualva-Cacém (Es...|           Sintra|\n",
            "|    223|20241127-64010343...| IN_TRANSIT_TO|44|12730| 38.52981|   4403|-8.891778|  4403_0_1|  4403_0|            SCHEDULED|112430234560|5.8333335| 160097|2024-11-27 17:21:33|4403_0_1|2700|165...|2024-11-27|Ferro Engomar (Te...|          Setúbal|\n",
            "|    304|20241127-64010211...| IN_TRANSIT_TO|44|12087| 38.52442|   4402|-8.864447|  4402_0_1|  4402_0|            SCHEDULED|112390234560|10.555555| 160057|2024-11-27 17:21:36|4402_0_1|2700|170...|2024-11-27|Estefanilha - Set...|          Setúbal|\n",
            "|    292|           1_1062-11|    STOPPED_AT| 41|1865| 38.78564|   1719|-9.233796|  1719_0_2|  1719_0|            SCHEDULED|        1052| 9.166667| 060127|2024-11-27 17:20:40|1719_0_2_1700_172...|2024-11-27|Casal de Cambra -...|           Lisboa|\n",
            "|    292|           1_1062-11|    STOPPED_AT| 41|1865| 38.78564|   1719|-9.233796|  1719_0_2|  1719_0|            SCHEDULED|        1052| 9.166667| 060127|2024-11-27 17:20:40|1719_0_2_1700_172...|2024-11-27|Casal de Cambra -...|          Amadora|\n",
            "|    292|           1_1062-11|    STOPPED_AT| 41|1865| 38.78564|   1719|-9.233796|  1719_0_2|  1719_0|            SCHEDULED|        1052| 9.166667| 060127|2024-11-27 17:20:40|1719_0_2_1700_172...|2024-11-27|Casal de Cambra -...|           Sintra|\n",
            "|    349|           1_1058-11| IN_TRANSIT_TO|  41|331| 38.81315|   1710|-9.226854|  1710_3_2|  1710_3|            SCHEDULED|        1140|      0.0| 110057|2024-11-27 17:21:25|1710_3_2_1630_165...|2024-11-27|Caneças (Largo Ja...|           Lisboa|\n",
            "|    349|           1_1058-11| IN_TRANSIT_TO|  41|331| 38.81315|   1710|-9.226854|  1710_3_2|  1710_3|            SCHEDULED|        1140|      0.0| 110057|2024-11-27 17:21:25|1710_3_2_1630_165...|2024-11-27|Caneças (Largo Ja...|          Amadora|\n",
            "|    349|           1_1058-11| IN_TRANSIT_TO|  41|331| 38.81315|   1710|-9.226854|  1710_3_2|  1710_3|            SCHEDULED|        1140|      0.0| 110057|2024-11-27 17:21:25|1710_3_2_1630_165...|2024-11-27|Caneças (Largo Ja...|           Sintra|\n",
            "+-------+--------------------+--------------+--------+---------+-------+---------+----------+--------+---------------------+------------+---------+-------+-------------------+--------------------+----------+--------------------+-----------------+\n",
            "only showing top 20 rows\n",
            "\n",
            "Enrichment process completed\n",
            "ETL program completed\n"
          ]
        }
      ]
    },
    {
      "cell_type": "markdown",
      "source": [
        "#Data Analysis"
      ],
      "metadata": {
        "id": "k7rizkGcnsk2"
      }
    },
    {
      "cell_type": "code",
      "source": [
        "from pyspark.sql import SparkSession\n",
        "from pyspark.sql.functions import explode, count, sum, avg, desc\n",
        "\n",
        "\n",
        "# Read the enriched data from the gold layer\n",
        "df = spark.read.parquet(\"/content/lake/gold/vehicles_enriched\")\n",
        "\n",
        "# Explode the municipality_name array and aggregate data\n",
        "# df.select(explode(\"municipality_name\").alias(\"municipality\"), \"id\", \"speed\") \\\n",
        "aggregated_df = df.select(col(\"municipality_name\").alias(\"municipality\"), \"id\", \"speed\") \\\n",
        "    .groupBy(\"municipality\") \\\n",
        "    .agg(\n",
        "        count(\"id\").alias(\"vehicle_count\"),\n",
        "        sum(\"speed\").alias(\"total_speed\"),\n",
        "        avg(\"speed\").alias(\"avg_speed\")\n",
        "    )\n",
        "\n",
        "\n",
        "# Question 1: Top 3 municipalities by vehicle routes\n",
        "print(\"Question 1\")\n",
        "print(\"Top 3 municipalities by vehicles routes:\")\n",
        "aggregated_df.orderBy(desc(\"vehicle_count\")).select(\"municipality\", \"vehicle_count\").show(3)\n",
        "\n",
        "# Question 2: Top 3 municipalities with higher vehicle speed on average\n",
        "print(\"Question 2\")\n",
        "print(\"Top 3 municipalities with higher vehicle speed on average:\")\n",
        "aggregated_df.orderBy(desc(\"avg_speed\")).select(\"municipality\", \"avg_speed\").show(3)"
      ],
      "metadata": {
        "colab": {
          "base_uri": "https://localhost:8080/"
        },
        "id": "iD79deVbjFoi",
        "outputId": "5465dcbb-43a4-4177-a87f-792a273d1701"
      },
      "execution_count": 16,
      "outputs": [
        {
          "output_type": "stream",
          "name": "stdout",
          "text": [
            "Question 1\n",
            "Top 3 municipalities by vehicles routes:\n",
            "+------------+-------------+\n",
            "|municipality|vehicle_count|\n",
            "+------------+-------------+\n",
            "|      Lisboa|          358|\n",
            "|      Sintra|          243|\n",
            "|      Loures|          199|\n",
            "+------------+-------------+\n",
            "only showing top 3 rows\n",
            "\n",
            "Question 2\n",
            "Top 3 municipalities with higher vehicle speed on average:\n",
            "+-----------------+------------------+\n",
            "|     municipality|         avg_speed|\n",
            "+-----------------+------------------+\n",
            "|Arruda dos Vinhos|10.277777671813965|\n",
            "|          Montijo|  8.80824367461666|\n",
            "|            Mafra| 8.260233920917177|\n",
            "+-----------------+------------------+\n",
            "only showing top 3 rows\n",
            "\n"
          ]
        }
      ]
    }
  ],
  "metadata": {
    "colab": {
      "provenance": []
    },
    "kernelspec": {
      "display_name": "Python 3",
      "name": "python3"
    },
    "language_info": {
      "name": "python"
    }
  },
  "nbformat": 4,
  "nbformat_minor": 0
}