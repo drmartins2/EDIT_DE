{
  "cells": [
    {
      "cell_type": "markdown",
      "metadata": {
        "id": "view-in-github",
        "colab_type": "text"
      },
      "source": [
        "<a href=\"https://colab.research.google.com/github/lucprosa/dataeng-basic-course/blob/main/spark/misc/read_from_api.ipynb\" target=\"_parent\"><img src=\"https://colab.research.google.com/assets/colab-badge.svg\" alt=\"Open In Colab\"/></a>"
      ]
    },
    {
      "cell_type": "markdown",
      "metadata": {
        "id": "BOA_wQSmLd9z"
      },
      "source": [
        "# Read from API\n",
        "- Read data from API using requests and RDDs"
      ]
    },
    {
      "cell_type": "markdown",
      "metadata": {
        "id": "d9LeYFsPTjAb"
      },
      "source": [
        "# Setting up PySpark"
      ]
    },
    {
      "cell_type": "code",
      "execution_count": null,
      "metadata": {
        "colab": {
          "base_uri": "https://localhost:8080/"
        },
        "id": "uYXeODL0T1fO",
        "outputId": "d34dd2c6-94a9-41fa-9ce3-69b230f6ca7b"
      },
      "outputs": [
        {
          "output_type": "stream",
          "name": "stdout",
          "text": [
            "Requirement already satisfied: pyspark in /usr/local/lib/python3.10/dist-packages (3.5.3)\n",
            "Requirement already satisfied: py4j==0.10.9.7 in /usr/local/lib/python3.10/dist-packages (from pyspark) (0.10.9.7)\n"
          ]
        }
      ],
      "source": [
        "%pip install pyspark"
      ]
    },
    {
      "cell_type": "code",
      "execution_count": 1,
      "metadata": {
        "id": "637HFw00T3LP"
      },
      "outputs": [],
      "source": [
        "from pyspark.sql import SparkSession\n",
        "spark = SparkSession.builder.master('local').appName('Spark Course').config('spark.ui.port', '4050').getOrCreate()\n",
        "sc = spark.sparkContext"
      ]
    },
    {
      "cell_type": "markdown",
      "metadata": {
        "id": "FM8YQx6XGeiL"
      },
      "source": [
        "# Get data from API - Vehicles"
      ]
    },
    {
      "cell_type": "code",
      "execution_count": 18,
      "metadata": {
        "id": "0wntlQDWGeiL"
      },
      "outputs": [],
      "source": [
        "import requests\n",
        "from pyspark.sql.types import *\n",
        "\n",
        "def readFromAPI(url: str, schema: StructType = None):\n",
        "  response = requests.get(url)\n",
        "  rdd = sc.parallelize(response.json())\n",
        "\n",
        "  if schema:\n",
        "    df = spark.read.schema(schema).json(rdd)\n",
        "  else:\n",
        "    df = spark.read.json(rdd)\n",
        "  return df"
      ]
    },
    {
      "cell_type": "code",
      "source": [
        "readFromAPI(\"https://api.carrismetropolitana.pt/municipalities\").show()"
      ],
      "metadata": {
        "id": "F__plK66cZR7"
      },
      "execution_count": null,
      "outputs": []
    },
    {
      "cell_type": "markdown",
      "source": [
        "# Vehicles"
      ],
      "metadata": {
        "id": "D7iupARGb51N"
      }
    },
    {
      "cell_type": "code",
      "execution_count": 47,
      "metadata": {
        "colab": {
          "base_uri": "https://localhost:8080/"
        },
        "id": "VUI0pjsuJh5z",
        "outputId": "d3a1563d-b8c5-4700-f2a2-afbc607b1801"
      },
      "outputs": [
        {
          "output_type": "stream",
          "name": "stdout",
          "text": [
            "847\n",
            "+-------+--------------------+--------------+--------+---------+-------+---------+----------+--------+---------------------+------------+---------+-------+-------------------+--------------------+\n",
            "|bearing|            block_id|current_status|      id|      lat|line_id|      lon|pattern_id|route_id|schedule_relationship|    shift_id|    speed|stop_id|          timestamp|             trip_id|\n",
            "+-------+--------------------+--------------+--------+---------+-------+---------+----------+--------+---------------------+------------+---------+-------+-------------------+--------------------+\n",
            "|     81|20241114-64010081...| IN_TRANSIT_TO|44|12096| 38.66496|   4503| -8.92511|  4503_0_2|  4503_0|            SCHEDULED|121640234560|      7.5| 100310|2024-11-14 16:47:47|4503_0_2|1400|163...|\n",
            "|     52|20241114-64010572...|   INCOMING_AT|44|12672|38.710854|   4704|-8.925656|  4704_0_1|  4704_0|            SCHEDULED|123380234560|10.833333| 100433|2024-11-14 16:47:57|4704_0_1|1400|164...|\n",
            "|    197|20241114-64010105...|   INCOMING_AT|44|12531| 38.65794|   4521|-8.740412|  4521_0_1|  4521_0|            SCHEDULED|121410234560|13.333333| 130153|2024-11-14 16:47:58|4521_0_1|1400|161...|\n",
            "|     94|20241114-64010278...| IN_TRANSIT_TO|44|12586|38.584785|   4540|-8.705958|  4540_0_2|  4540_0|            SCHEDULED|111450234560|     17.5| 130625|2024-11-14 16:47:47|4540_0_2|1400|161...|\n",
            "|     33|20241114-64010172...| IN_TRANSIT_TO|44|12547|38.651493|   4906|-8.629782|  4906_0_1|  4906_0|            SCHEDULED|113110234560| 21.38889| 100233|2024-11-14 16:47:46|4906_0_1|1400|160...|\n",
            "|    358|20241114-64010264...| IN_TRANSIT_TO|44|12584|38.571167|   4641|-9.038183|  4641_0_1|  4641_0|            SCHEDULED|111380234560|5.5555553| 150017|2024-11-14 16:47:46|4641_0_1|1400|164...|\n",
            "|    262|20241114-64010037...|   INCOMING_AT|44|12712| 38.70364|   4706|-8.949063|  4706_0_2|  4706_0|            SCHEDULED|123400234560|5.8333335| 100040|2024-11-14 16:47:57|4706_0_2|1400|163...|\n",
            "|      0|           1_1631-11|    STOPPED_AT| 41|1288| 38.75924|   1518|-9.233158|  1518_0_1|  1518_0|            SCHEDULED|        1691|      0.0| 030101|2024-11-14 16:47:58|1518_0_1_1600_162...|\n",
            "|     23|20241114-64010228...| IN_TRANSIT_TO|44|12067| 38.52858|   4436|-8.886363|  4436_0_1|  4436_0|            SCHEDULED|112230234560|      0.0| 160065|2024-11-14 16:47:48|4436_0_1|1400|164...|\n",
            "|     64|           1_1431-11| IN_TRANSIT_TO| 41|1103|38.735996|   1503|-9.208824|  1503_0_1|  1503_0|            SCHEDULED|        1466|     10.0| 030019|2024-11-14 16:47:44|1503_0_1_1600_162...|\n",
            "|     88|20241114-64010422...| IN_TRANSIT_TO|44|12516|38.534813|   4544|-8.866397|  4544_0_2|  4544_0|            SCHEDULED|111610234560| 9.166667| 160853|2024-11-14 16:47:48|4544_0_2|1400|164...|\n",
            "|    189|20241114-64010210...| IN_TRANSIT_TO|44|12059|38.538437|   4438| -8.86694|  4438_0_1|  4438_0|            SCHEDULED|112400234560|0.5555556| 160191|2024-11-14 16:47:56|4438_0_1|1400|164...|\n",
            "|    115|20241114-64010161...| IN_TRANSIT_TO|44|12705|38.721573|   4710| -8.96406|  4710_0_1|  4710_0|            SCHEDULED|113100234560|25.833334| 130451|2024-11-14 16:47:47|4710_0_1|1400|163...|\n",
            "|    286|20241114-64010099...| IN_TRANSIT_TO|44|12735| 38.70253|   4512| -8.96027|  4512_0_2|  4512_0|            SCHEDULED|121470234560|6.9444447| 100008|2024-11-14 16:47:58|4512_0_2|1400|160...|\n",
            "|    214|20241114-64010219...| IN_TRANSIT_TO|44|12733|  38.5223|   4426| -8.86848|  4426_0_2|  4426_0|            SCHEDULED|112320234500|4.1666665| 160017|2024-11-14 16:47:59|4426_0_2|1400|164...|\n",
            "|    262|           1_1305-11|   INCOMING_AT| 41|1208|38.697952|   1638|-9.328378|  1638_2_2|  1638_2|            SCHEDULED|        1326| 9.444445| 050019|2024-11-14 16:47:40|1638_2_2_1600_162...|\n",
            "|    318|20241114-64010098...|   INCOMING_AT|44|12535|38.715763|   4600|-8.994487|  4600_0_2|  4600_0|            SCHEDULED|121480234560|11.111111| 100286|2024-11-14 16:47:52|4600_0_2|1400|153...|\n",
            "|    245|20241114-64010115...| IN_TRANSIT_TO|44|12538| 38.70887|   4203|-8.983568|  4203_0_1|  4203_0|            SCHEDULED|121310234560|      0.0| 100090|2024-11-14 16:47:59|4203_0_1|1400|161...|\n",
            "|    355|20241114-64010299...| IN_TRANSIT_TO|44|12519|38.632526|   4321|-8.914474|  4321_0_2|  4321_0|            SCHEDULED|111240234560|6.6666665| 130346|2024-11-14 16:47:57|4321_0_2|1400|161...|\n",
            "|     61|20241114-64010298...|    STOPPED_AT|44|12647| 38.52954|   4540|-8.885698|  4540_0_1|  4540_0|            SCHEDULED|111250234560|      0.0| 160029|2024-11-14 16:47:53|4540_0_1|1400|161...|\n",
            "+-------+--------------------+--------------+--------+---------+-------+---------+----------+--------+---------------------+------------+---------+-------+-------------------+--------------------+\n",
            "only showing top 20 rows\n",
            "\n"
          ]
        }
      ],
      "source": [
        "vehicle_schema = StructType([StructField('bearing', IntegerType(), True),\n",
        "                             StructField('block_id', StringType(), True),\n",
        "                             StructField('current_status', StringType(), True),\n",
        "                             StructField('id', StringType(), True),\n",
        "                             StructField('lat', FloatType(), True),\n",
        "                             StructField('line_id', StringType(), True),\n",
        "                             StructField('lon', FloatType(), True),\n",
        "                             StructField('pattern_id', StringType(), True),\n",
        "                             StructField('route_id', StringType(), True),\n",
        "                             StructField('schedule_relationship', StringType(), True),\n",
        "                             StructField('shift_id', StringType(), True),\n",
        "                             StructField('speed', FloatType(), True),\n",
        "                             StructField('stop_id', StringType(), True),\n",
        "                             StructField('timestamp', TimestampType(), True),\n",
        "                             StructField('trip_id', StringType(), True)])\n",
        "\n",
        "vehicles = readFromAPI(\"https://api.carrismetropolitana.pt/vehicles\", vehicle_schema)\n",
        "print(vehicles.count())\n",
        "vehicles.show()"
      ]
    },
    {
      "cell_type": "markdown",
      "source": [
        "# Routes"
      ],
      "metadata": {
        "id": "wY3qFrIsd59o"
      }
    },
    {
      "cell_type": "code",
      "source": [
        "from pyspark.sql.functions import *\n",
        "routes = readFromAPI(\"https://api.carrismetropolitana.pt/routes\")\n",
        "print(routes.count())\n",
        "routes.filter(array_contains(col(\"localities\"), \"Colégio Militar\") & array_contains(col(\"localities\"), \"Brandoa\")).show(100, False)"
      ],
      "metadata": {
        "colab": {
          "base_uri": "https://localhost:8080/"
        },
        "id": "61ctySGTcWKQ",
        "outputId": "87787e4a-3d5b-45d9-caa8-ef697b3e11ff"
      },
      "execution_count": 43,
      "outputs": [
        {
          "output_type": "stream",
          "name": "stdout",
          "text": [
            "1017\n",
            "+---------------+-------+----------+------+-------+-----------------------------------------------------------------------------------------+------------------------------------------------------------------+--------------+--------------------+----------+----------+\n",
            "|_corrupt_record|color  |facilities|id    |line_id|localities                                                                               |long_name                                                         |municipalities|patterns            |short_name|text_color|\n",
            "+---------------+-------+----------+------+-------+-----------------------------------------------------------------------------------------+------------------------------------------------------------------+--------------+--------------------+----------+----------+\n",
            "|NULL           |#C61D23|[]        |1706_0|1706   |[Colégio Militar, Lisboa, Amadora, Brandoa, Casal da Mira, Alfornelos, Benfica]          |Colégio Militar (Metro) - UBBO via Brandoa                        |[1106, 1115]  |[1706_0_1, 1706_0_2]|1706      |#FFFFFF   |\n",
            "|NULL           |#C61D23|[]        |1706_2|1706   |[Colégio Militar, Lisboa, Amadora, Brandoa, Alfornelos, Benfica]                         |Colégio Militar (Metro) - Brandoa (Alto)                          |[1106, 1115]  |[1706_2_1, 1706_2_2]|1706      |#FFFFFF   |\n",
            "|NULL           |#C61D23|[]        |1708_0|1708   |[Casal da Mira, Amadora, Brandoa, Alfornelos, Lisboa, Benfica, Colégio Militar, Pontinha]|Casal Mira (Centro Comercial) | Circular                          |[1115, 1106]  |[1708_0_3]          |1708      |#FFFFFF   |\n",
            "|NULL           |#C61D23|[]        |1708_1|1708   |[Brandoa, Amadora, Alfornelos, Lisboa, Benfica, Colégio Militar, Pontinha]               |Brandoa (Alto) – Circular                                         |[1115, 1106]  |[1708_1_3]          |1708      |#FFFFFF   |\n",
            "|NULL           |#C61D23|[]        |1708_2|1708   |[Casal da Mira, Amadora, Brandoa, Alfornelos, Lisboa, Benfica, Colégio Militar, Pontinha]|Casal Mira (Centro Comercial) – Brandoa (Alto) via Colégio Militar|[1115, 1106]  |[1708_2_1]          |1708      |#FFFFFF   |\n",
            "+---------------+-------+----------+------+-------+-----------------------------------------------------------------------------------------+------------------------------------------------------------------+--------------+--------------------+----------+----------+\n",
            "\n"
          ]
        }
      ]
    },
    {
      "cell_type": "code",
      "source": [],
      "metadata": {
        "id": "bq35jBZjre3z"
      },
      "execution_count": null,
      "outputs": []
    },
    {
      "cell_type": "markdown",
      "source": [
        "# Questions"
      ],
      "metadata": {
        "id": "fD94isDGeYOD"
      }
    },
    {
      "cell_type": "markdown",
      "source": [
        "# Q1\n",
        "- adjust ROUTE dataframe\n",
        "  - use correct schema to get the data (StructField)\n",
        "  - make sure _corrupt_record is removed from schema\n",
        "- find the routes that pass through the localities \"Brandoa\" and \"Colégio Militar\""
      ],
      "metadata": {
        "id": "c3KKfwbQebwt"
      }
    },
    {
      "cell_type": "markdown",
      "metadata": {
        "id": "4oONLIeBS8JQ"
      },
      "source": [
        "### API - https://github.com/carrismetropolitana/api"
      ]
    }
  ],
  "metadata": {
    "colab": {
      "provenance": [],
      "include_colab_link": true
    },
    "kernelspec": {
      "display_name": "Python 3",
      "name": "python3"
    },
    "language_info": {
      "name": "python"
    }
  },
  "nbformat": 4,
  "nbformat_minor": 0
}