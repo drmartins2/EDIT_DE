{
 "cells": [
  {
   "cell_type": "markdown",
   "metadata": {
    "id": "IAfIZtpGOIuD"
   },
   "source": [
    "<a href=\"https://colab.research.google.com/github/lucprosa/dataeng-basic-course/blob/main/spark/misc/word_count.ipynb\" target=\"_parent\"><img src=\"https://colab.research.google.com/assets/colab-badge.svg\" alt=\"Open In Colab\"/></a>"
   ]
  },
  {
   "cell_type": "markdown",
   "metadata": {
    "id": "BOA_wQSmLd9z"
   },
   "source": [
    "# Word Count"
   ]
  },
  {
   "cell_type": "markdown",
   "metadata": {
    "id": "d9LeYFsPTjAb"
   },
   "source": [
    "# Setting up PySpark"
   ]
  },
  {
   "cell_type": "code",
   "execution_count": null,
   "metadata": {
    "colab": {
     "base_uri": "https://localhost:8080/"
    },
    "id": "uYXeODL0T1fO",
    "outputId": "c410e46c-4a50-43aa-926f-d0417c6280d2"
   },
   "outputs": [
    {
     "name": "stdout",
     "output_type": "stream",
     "text": [
      "Requirement already satisfied: pyspark in /usr/local/lib/python3.10/dist-packages (3.5.3)\n",
      "Requirement already satisfied: py4j==0.10.9.7 in /usr/local/lib/python3.10/dist-packages (from pyspark) (0.10.9.7)\n"
     ]
    }
   ],
   "source": [
    "%pip install pyspark"
   ]
  },
  {
   "cell_type": "code",
   "execution_count": 31,
   "metadata": {
    "id": "637HFw00T3LP"
   },
   "outputs": [],
   "source": [
    "from pyspark.sql import SparkSession\n",
    "spark = SparkSession.builder.master('local').appName('Spark Course').config('spark.ui.port', '4050').getOrCreate()\n",
    "\n",
    "sc = spark.sparkContext"
   ]
  },
  {
   "cell_type": "code",
   "execution_count": 4,
   "metadata": {
    "id": "7r382W3hOIuG"
   },
   "outputs": [],
   "source": [
    "!mkdir /content/files/\n",
    "text = \"these are words \\\n",
    "these are more words \\\n",
    "words in english\"\n",
    "\n",
    "text_file = open(\"/content/files/some_words.txt\", \"w\")\n",
    "text_file.write(text)\n",
    "text_file.close()"
   ]
  },
  {
   "cell_type": "code",
   "execution_count": 12,
   "metadata": {
    "colab": {
     "base_uri": "https://localhost:8080/"
    },
    "id": "SYbVhFNrOIuG",
    "outputId": "cd80b193-d27f-4438-910b-16aba150eae8"
   },
   "outputs": [
    {
     "data": {
      "text/plain": [
       "1"
      ]
     },
     "execution_count": 12,
     "metadata": {},
     "output_type": "execute_result"
    }
   ],
   "source": [
    "rdd1 = sc.textFile(\"/content/files/some_words.txt\")\n",
    "\n",
    "# check how many partitions\n",
    "rdd1.getNumPartitions()"
   ]
  },
  {
   "cell_type": "code",
   "execution_count": 23,
   "metadata": {
    "colab": {
     "base_uri": "https://localhost:8080/"
    },
    "id": "s1_m-MJuOg7b",
    "outputId": "c5c63988-b2bb-494e-fc0c-2dfbb70892a8"
   },
   "outputs": [
    {
     "data": {
      "text/plain": [
       "3"
      ]
     },
     "execution_count": 23,
     "metadata": {},
     "output_type": "execute_result"
    }
   ],
   "source": [
    "# increase partitions\n",
    "rdd2 = text_file.repartition(3)\n",
    "rdd2.getNumPartitions()"
   ]
  },
  {
   "cell_type": "code",
   "execution_count": 24,
   "metadata": {
    "colab": {
     "base_uri": "https://localhost:8080/"
    },
    "id": "TvxD2uY8QW-E",
    "outputId": "923aa5bf-11f6-4633-ff97-d516d24df0d1"
   },
   "outputs": [
    {
     "data": {
      "text/plain": [
       "['these',\n",
       " 'are',\n",
       " 'words',\n",
       " 'these',\n",
       " 'are',\n",
       " 'more',\n",
       " 'words',\n",
       " 'words',\n",
       " 'in',\n",
       " 'english']"
      ]
     },
     "execution_count": 24,
     "metadata": {},
     "output_type": "execute_result"
    }
   ],
   "source": [
    "# flatMap - Each item in input can be 0 or more items in output (returns a Seq)\n",
    "# \"these are words\" -> split by \" \" -> [\"there\", \"are\", \"words\"]\n",
    "rdd3 = rdd2.flatMap(lambda line: line.split(\" \"))\n",
    "\n",
    "# send data to driver if cluster\n",
    "rdd3.collect()"
   ]
  },
  {
   "cell_type": "code",
   "execution_count": 25,
   "metadata": {
    "colab": {
     "base_uri": "https://localhost:8080/"
    },
    "id": "FTzNkKhiRIRx",
    "outputId": "95252c27-41b8-46a3-fb3e-714bdc2a1bbb"
   },
   "outputs": [
    {
     "data": {
      "text/plain": [
       "[('these', 1),\n",
       " ('are', 1),\n",
       " ('words', 1),\n",
       " ('these', 1),\n",
       " ('are', 1),\n",
       " ('more', 1),\n",
       " ('words', 1),\n",
       " ('words', 1),\n",
       " ('in', 1),\n",
       " ('english', 1)]"
      ]
     },
     "execution_count": 25,
     "metadata": {},
     "output_type": "execute_result"
    }
   ],
   "source": [
    "# map - Each item in input returns one item in output\n",
    "# \"these\" -> (\"these\", 1)\n",
    "rdd4 = rdd3.map(lambda word: (word, 1))\n",
    "rdd4.collect()"
   ]
  },
  {
   "cell_type": "code",
   "execution_count": 37,
   "metadata": {
    "colab": {
     "base_uri": "https://localhost:8080/"
    },
    "id": "RioZ_RSrQfPq",
    "outputId": "f535ef1d-0c89-4d8b-8855-da17e1428cab"
   },
   "outputs": [
    {
     "data": {
      "text/plain": [
       "[('are', 2),\n",
       " ('english', 1),\n",
       " ('in', 1),\n",
       " ('more', 1),\n",
       " ('these', 2),\n",
       " ('words', 3)]"
      ]
     },
     "execution_count": 37,
     "metadata": {},
     "output_type": "execute_result"
    }
   ],
   "source": [
    "# reduceByKey - When called on a dataset of (K, V) pairs, returns a dataset of (K, V) pairs where the values for each key are\n",
    "# aggregated using the given reduce function func, which must be of type (V,V) => V.\n",
    "\n",
    "rdd5 = rdd4.reduceByKey(lambda a, b: a + b)\n",
    "sorted(rdd5.collect())"
   ]
  },
  {
   "cell_type": "code",
   "execution_count": 35,
   "metadata": {
    "colab": {
     "base_uri": "https://localhost:8080/"
    },
    "id": "_OegU-OxRdEt",
    "outputId": "7df2ebeb-cf51-4abf-bd82-45b8e62e6fe2"
   },
   "outputs": [
    {
     "data": {
      "text/plain": [
       "[('are', 2),\n",
       " ('english', 1),\n",
       " ('in', 1),\n",
       " ('more', 1),\n",
       " ('these', 2),\n",
       " ('words', 3)]"
      ]
     },
     "execution_count": 35,
     "metadata": {},
     "output_type": "execute_result"
    }
   ],
   "source": [
    "# another way to count the words - using method \"add\"\n",
    "from operator import add\n",
    "sorted(rdd4.reduceByKey(add).collect())"
   ]
  },
  {
   "cell_type": "code",
   "execution_count": 53,
   "metadata": {
    "colab": {
     "base_uri": "https://localhost:8080/"
    },
    "id": "oD4a_Et4VdTB",
    "outputId": "7bf51942-2e14-4211-d5bb-ab00b67e6b92"
   },
   "outputs": [
    {
     "data": {
      "text/plain": [
       "[('these', 2),\n",
       " ('are', 2),\n",
       " ('words', 3),\n",
       " ('more', 1),\n",
       " ('in', 1),\n",
       " ('english', 1)]"
      ]
     },
     "execution_count": 53,
     "metadata": {},
     "output_type": "execute_result"
    }
   ],
   "source": [
    "# putting all commands together\n",
    "\n",
    "counts = (\n",
    "    rdd1.flatMap(lambda line: line.split(\" \"))\n",
    "    .map(lambda word: (word, 1))\n",
    "    .reduceByKey(lambda a, b: a + b)\n",
    "    .sortByKey()\n",
    ")\n",
    "\n",
    "counts.collect()"
   ]
  },
  {
   "cell_type": "code",
   "execution_count": 60,
   "metadata": {
    "id": "azZ0Q2fPXOOB"
   },
   "outputs": [],
   "source": [
    "def wordCount(file_path: str, num_partitions: int):\n",
    "  rdd1 = sc.textFile(file_path)\n",
    "  counts = (\n",
    "      rdd1.flatMap(lambda line: line.split(\" \"))\n",
    "      .map(lambda word: (word, 1))\n",
    "      .reduceByKey(lambda a, b: a + b, num_partitions)\n",
    "      .sortByKey()\n",
    "  )\n",
    "  return counts"
   ]
  },
  {
   "cell_type": "code",
   "execution_count": 61,
   "metadata": {
    "id": "aaz35GcdYy5Y"
   },
   "outputs": [],
   "source": [
    "output = wordCount(\"/content/files/some_words.txt\", 7)"
   ]
  },
  {
   "cell_type": "code",
   "execution_count": 62,
   "metadata": {
    "colab": {
     "base_uri": "https://localhost:8080/",
     "height": 203
    },
    "id": "5sb28wk2Y2kc",
    "outputId": "f6bb304c-011a-491e-c964-e67471e485bc"
   },
   "outputs": [
    {
     "data": {
      "text/html": [
       "<div style=\"max-width:800px; border: 1px solid var(--colab-border-color);\"><style>\n",
       "      pre.function-repr-contents {\n",
       "        overflow-x: auto;\n",
       "        padding: 8px 12px;\n",
       "        max-height: 500px;\n",
       "      }\n",
       "\n",
       "      pre.function-repr-contents.function-repr-contents-collapsed {\n",
       "        cursor: pointer;\n",
       "        max-height: 100px;\n",
       "      }\n",
       "    </style>\n",
       "    <pre style=\"white-space: initial; background:\n",
       "         var(--colab-secondary-surface-color); padding: 8px 12px;\n",
       "         border-bottom: 1px solid var(--colab-border-color);\"><b>pyspark.rdd.PipelinedRDD</b><br/>def __init__(prev: RDD[T], func: Callable[[int, Iterable[T]], Iterable[U]], preservesPartitioning: bool=False, isFromBarrier: bool=False)</pre><pre class=\"function-repr-contents function-repr-contents-collapsed\" style=\"\"><a class=\"filepath\" style=\"display:none\" href=\"#\">/usr/local/lib/python3.10/dist-packages/pyspark/rdd.py</a>Examples\n",
       "--------\n",
       "Pipelined maps:\n",
       "\n",
       "&gt;&gt;&gt; rdd = sc.parallelize([1, 2, 3, 4])\n",
       "&gt;&gt;&gt; rdd.map(lambda x: 2 * x).cache().map(lambda x: 2 * x).collect()\n",
       "[4, 8, 12, 16]\n",
       "&gt;&gt;&gt; rdd.map(lambda x: 2 * x).map(lambda x: 2 * x).collect()\n",
       "[4, 8, 12, 16]\n",
       "\n",
       "Pipelined reduces:\n",
       "\n",
       "&gt;&gt;&gt; from operator import add\n",
       "&gt;&gt;&gt; rdd.map(lambda x: 2 * x).reduce(add)\n",
       "20\n",
       "&gt;&gt;&gt; rdd.flatMap(lambda x: [x, x]).reduce(add)\n",
       "20</pre>\n",
       "      <script>\n",
       "      if (google.colab.kernel.accessAllowed && google.colab.files && google.colab.files.view) {\n",
       "        for (const element of document.querySelectorAll('.filepath')) {\n",
       "          element.style.display = 'block'\n",
       "          element.onclick = (event) => {\n",
       "            event.preventDefault();\n",
       "            event.stopPropagation();\n",
       "            google.colab.files.view(element.textContent, 5395);\n",
       "          };\n",
       "        }\n",
       "      }\n",
       "      for (const element of document.querySelectorAll('.function-repr-contents')) {\n",
       "        element.onclick = (event) => {\n",
       "          event.preventDefault();\n",
       "          event.stopPropagation();\n",
       "          element.classList.toggle('function-repr-contents-collapsed');\n",
       "        };\n",
       "      }\n",
       "      </script>\n",
       "      </div>"
      ],
      "text/plain": [
       "pyspark.rdd.PipelinedRDD"
      ]
     },
     "execution_count": 62,
     "metadata": {},
     "output_type": "execute_result"
    }
   ],
   "source": [
    "type(output) # pyspark.rdd.PipelinedRDD"
   ]
  },
  {
   "cell_type": "code",
   "execution_count": 63,
   "metadata": {
    "colab": {
     "base_uri": "https://localhost:8080/"
    },
    "id": "bbBLh_qJYVUd",
    "outputId": "5c07a13f-061a-4ce9-f2a0-03701d0649c7"
   },
   "outputs": [
    {
     "data": {
      "text/plain": [
       "[('are', 2),\n",
       " ('english', 1),\n",
       " ('in', 1),\n",
       " ('more', 1),\n",
       " ('these', 2),\n",
       " ('words', 3)]"
      ]
     },
     "execution_count": 63,
     "metadata": {},
     "output_type": "execute_result"
    }
   ],
   "source": [
    "output.collect()"
   ]
  },
  {
   "cell_type": "code",
   "execution_count": 64,
   "metadata": {
    "colab": {
     "base_uri": "https://localhost:8080/"
    },
    "id": "_DxfNJk1YyJ1",
    "outputId": "be86dc21-f7bb-4c09-e8d9-e0a24d1d0c33"
   },
   "outputs": [
    {
     "data": {
      "text/plain": [
       "7"
      ]
     },
     "execution_count": 64,
     "metadata": {},
     "output_type": "execute_result"
    }
   ],
   "source": [
    "output.getNumPartitions()"
   ]
  }
 ],
 "metadata": {
  "colab": {
   "include_colab_link": true,
   "provenance": []
  },
  "kernelspec": {
   "display_name": "Python 3",
   "name": "python3"
  },
  "language_info": {
   "name": "python"
  }
 },
 "nbformat": 4,
 "nbformat_minor": 0
}
