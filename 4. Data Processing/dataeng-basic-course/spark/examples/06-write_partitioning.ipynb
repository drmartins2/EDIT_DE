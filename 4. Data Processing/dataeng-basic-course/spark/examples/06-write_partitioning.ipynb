{
  "cells": [
    {
      "cell_type": "markdown",
      "metadata": {
        "id": "view-in-github",
        "colab_type": "text"
      },
      "source": [
        "<a href=\"https://colab.research.google.com/github/lucprosa/dataeng-basic-course/blob/main/spark/examples/06-write_partitioning.ipynb\" target=\"_parent\"><img src=\"https://colab.research.google.com/assets/colab-badge.svg\" alt=\"Open In Colab\"/></a>"
      ]
    },
    {
      "cell_type": "markdown",
      "metadata": {
        "id": "BOA_wQSmLd9z"
      },
      "source": [
        "# Write\n",
        "- .write\n",
        "- .format (parquet, csv, json)\n",
        "- options\n",
        "- spark.sql.sources.partitionOverwriteMode dynamic\n",
        "\n",
        "# Write Mode\n",
        "- overwrite - The overwrite mode is used to overwrite the existing file, alternatively, you can use SaveMode.Overwrite\n",
        "- append - To add the data to the existing file, alternatively, you can use SaveMode.Append\n",
        "- ignore - Ignores write operation when the file already exists, alternatively, you can use SaveMode.Ignore.\n",
        "- errorifexists or error - This is a default option when the file already exists, it returns an error, alternatively, you can use SaveMode.ErrorIfExists.\n",
        "\n",
        "# Partitioning\n",
        "Process to organize the data into multiple chunks based on some criteria.\n",
        "Partitions are organized in sub-folders.\n",
        "Partitioning improves performance in Spark."
      ]
    },
    {
      "cell_type": "markdown",
      "metadata": {
        "id": "d9LeYFsPTjAb"
      },
      "source": [
        "# Setting up PySpark"
      ]
    },
    {
      "cell_type": "code",
      "execution_count": null,
      "metadata": {
        "colab": {
          "base_uri": "https://localhost:8080/"
        },
        "id": "uYXeODL0T1fO",
        "outputId": "c410e46c-4a50-43aa-926f-d0417c6280d2"
      },
      "outputs": [
        {
          "name": "stdout",
          "output_type": "stream",
          "text": [
            "Requirement already satisfied: pyspark in /usr/local/lib/python3.10/dist-packages (3.5.3)\n",
            "Requirement already satisfied: py4j==0.10.9.7 in /usr/local/lib/python3.10/dist-packages (from pyspark) (0.10.9.7)\n"
          ]
        }
      ],
      "source": [
        "%pip install pyspark"
      ]
    },
    {
      "cell_type": "code",
      "execution_count": 1,
      "metadata": {
        "id": "637HFw00T3LP"
      },
      "outputs": [],
      "source": [
        "from pyspark.sql import SparkSession\n",
        "spark = SparkSession.builder.master('local').appName('Spark Course').getOrCreate()"
      ]
    },
    {
      "cell_type": "markdown",
      "metadata": {
        "id": "Vj3Cg2riVX3m"
      },
      "source": [
        "# Preparing data"
      ]
    },
    {
      "cell_type": "code",
      "source": [
        "!pip install faker"
      ],
      "metadata": {
        "colab": {
          "base_uri": "https://localhost:8080/"
        },
        "id": "83BBHcNJDmw4",
        "outputId": "87fb8aa1-8a10-483f-802e-e87e1f0f7d2d"
      },
      "execution_count": 2,
      "outputs": [
        {
          "output_type": "stream",
          "name": "stdout",
          "text": [
            "Collecting faker\n",
            "  Downloading Faker-33.0.0-py3-none-any.whl.metadata (15 kB)\n",
            "Requirement already satisfied: python-dateutil>=2.4 in /usr/local/lib/python3.10/dist-packages (from faker) (2.8.2)\n",
            "Requirement already satisfied: typing-extensions in /usr/local/lib/python3.10/dist-packages (from faker) (4.12.2)\n",
            "Requirement already satisfied: six>=1.5 in /usr/local/lib/python3.10/dist-packages (from python-dateutil>=2.4->faker) (1.16.0)\n",
            "Downloading Faker-33.0.0-py3-none-any.whl (1.9 MB)\n",
            "\u001b[?25l   \u001b[90m━━━━━━━━━━━━━━━━━━━━━━━━━━━━━━━━━━━━━━━━\u001b[0m \u001b[32m0.0/1.9 MB\u001b[0m \u001b[31m?\u001b[0m eta \u001b[36m-:--:--\u001b[0m\r\u001b[2K   \u001b[91m━━━━\u001b[0m\u001b[90m╺\u001b[0m\u001b[90m━━━━━━━━━━━━━━━━━━━━━━━━━━━━━━━━━━━\u001b[0m \u001b[32m0.2/1.9 MB\u001b[0m \u001b[31m6.2 MB/s\u001b[0m eta \u001b[36m0:00:01\u001b[0m\r\u001b[2K   \u001b[91m━━━━━━━━━━━━━━━━━━━━━━━━━━━━━━\u001b[0m\u001b[90m╺\u001b[0m\u001b[90m━━━━━━━━━\u001b[0m \u001b[32m1.4/1.9 MB\u001b[0m \u001b[31m20.5 MB/s\u001b[0m eta \u001b[36m0:00:01\u001b[0m\r\u001b[2K   \u001b[90m━━━━━━━━━━━━━━━━━━━━━━━━━━━━━━━━━━━━━━━━\u001b[0m \u001b[32m1.9/1.9 MB\u001b[0m \u001b[31m20.6 MB/s\u001b[0m eta \u001b[36m0:00:00\u001b[0m\n",
            "\u001b[?25hInstalling collected packages: faker\n",
            "Successfully installed faker-33.0.0\n"
          ]
        }
      ]
    },
    {
      "cell_type": "code",
      "execution_count": 21,
      "metadata": {
        "id": "z-caHS2MVX3m",
        "colab": {
          "base_uri": "https://localhost:8080/"
        },
        "outputId": "5d3e1fec-084d-485d-8e95-641bf4a8705b"
      },
      "outputs": [
        {
          "output_type": "stream",
          "name": "stdout",
          "text": [
            "+-------------------------------------------------+--------------------------+----------+--------------------------+-------------------+--------------------+\n",
            "|address                                          |date                      |dob       |email                     |name               |phone               |\n",
            "+-------------------------------------------------+--------------------------+----------+--------------------------+-------------------+--------------------+\n",
            "|USCGC Garza\\nFPO AE 93586                        |2024-05-01 01:48:40.572505|1985-03-17|tinaperry@example.net     |Connie Miller      |966-288-5241        |\n",
            "|327 Harris Mall\\nRichstad, TX 25133              |2024-05-02 11:43:30.828588|1939-06-04|timothy69@example.net     |Bryan Cook         |(464)497-5312x67440 |\n",
            "|Unit 0282 Box 3495\\nDPO AA 47314                 |2024-05-04 00:33:05.895412|1992-07-30|qward@example.net         |Crystal Smith      |(430)385-0871x4879  |\n",
            "|6337 Jennifer Center\\nTravischester, OH 54107    |2024-05-04 03:27:51.25841 |1997-04-23|pamelaperkins@example.com |Pamela Pena        |+1-913-489-6467     |\n",
            "|8441 Diaz Mission\\nMartinhaven, MO 70679         |2024-05-01 16:41:34.892823|1950-07-29|michellehansen@example.com|Crystal Edwards    |(616)980-5920x09352 |\n",
            "|699 Troy Prairie Suite 319\\nKentchester, KY 01938|2024-05-02 11:30:46.459488|2018-12-31|megan98@example.net       |Denise Sims        |(704)828-2189       |\n",
            "|58674 Moore Camp Apt. 143\\nCampbellport, CO 62387|2024-05-02 20:05:50.653762|1990-07-13|hughesjessica@example.net |Susan Avila        |9717264698          |\n",
            "|USNV Williams\\nFPO AE 37975                      |2024-05-03 20:40:49.066377|1962-07-06|christopher24@example.org |Jaime Baker        |584.910.7575        |\n",
            "|53244 Cummings Parkway\\nShahtown, VT 73451       |2024-05-03 14:59:18.526156|1921-02-15|sjohnson@example.net      |Nicholas Smith     |001-568-975-4335x349|\n",
            "|8636 Brandon Knolls\\nLake Shaneborough, RI 71643 |2024-05-01 21:47:14.124496|1980-10-29|nicoleanthony@example.net |Christopher Randall|285.339.9877x754    |\n",
            "+-------------------------------------------------+--------------------------+----------+--------------------------+-------------------+--------------------+\n",
            "only showing top 10 rows\n",
            "\n"
          ]
        }
      ],
      "source": [
        "from faker import Faker\n",
        "from datetime import datetime\n",
        "\n",
        "fake = Faker()\n",
        "\n",
        "users = []\n",
        "for _ in range(50):\n",
        "    user = {\n",
        "        'date': fake.date_time_between_dates(datetime(2024, 5, 1), datetime(2024, 5, 5)),\n",
        "        'name': fake.name(),\n",
        "        'address': fake.address(),\n",
        "        'email': fake.email(),\n",
        "        'dob': fake.date_of_birth(),\n",
        "        'phone': fake.phone_number()\n",
        "    }\n",
        "    users.append(user)\n",
        "\n",
        "df = spark.createDataFrame(users)\n",
        "\n",
        "df.show(10, False)\n"
      ]
    },
    {
      "cell_type": "markdown",
      "metadata": {
        "id": "YGXjf6xpBj36"
      },
      "source": [
        "# Writing as PARQUET\n",
        "\n"
      ]
    },
    {
      "cell_type": "markdown",
      "metadata": {
        "id": "14stpbb4Bj37"
      },
      "source": []
    },
    {
      "cell_type": "code",
      "execution_count": 113,
      "metadata": {
        "colab": {
          "base_uri": "https://localhost:8080/"
        },
        "id": "dw5IIgebBj37",
        "outputId": "dadd7cb5-3b07-4cb8-8d72-ef4861b87a2f"
      },
      "outputs": [
        {
          "output_type": "stream",
          "name": "stdout",
          "text": [
            "part-00000-6dd38cf4-8853-4102-8a0b-f85c947e5dd5-c000.snappy.parquet  _SUCCESS\n"
          ]
        },
        {
          "output_type": "execute_result",
          "data": {
            "text/plain": [
              "50"
            ]
          },
          "metadata": {},
          "execution_count": 113
        }
      ],
      "source": [
        "# Writing as PARQUET with no partitions\n",
        "\n",
        "path = \"/content/write_partitioning/parquet_no_partitions\"\n",
        "\n",
        "df.write.mode(\"overwrite\").format(\"parquet\").save(path)\n",
        "\n",
        "!ls /content/write_partitioning/parquet_no_partitions\n",
        "\n",
        "spark.read.format(\"parquet\").load(path).count()"
      ]
    },
    {
      "cell_type": "code",
      "source": [
        "# Writing as PARQUET with partitions\n",
        "from pyspark.sql.functions import *\n",
        "\n",
        "path = \"/content/write_partitioning/parquet_with_partitions\"\n",
        "\n",
        "# Creating partition column\n",
        "df = df.withColumn(\"date_part\", date_format(col(\"date\"), \"yyyyMMdd\"))\n",
        "\n",
        "spark.conf.set(\"spark.sql.sources.partitionOverwriteMode\",\"dynamic\") # enable dynamic partition overwrite - only overwrites partitions that are coming in the dataframe\n",
        "\n",
        "(df#.where(\"date_part = '20240503'\")\n",
        " .write\n",
        " .mode(\"overwrite\")                                               # overwrites the entire path with the new data\n",
        " .partitionBy(\"date_part\")                                        # partition the data by column - creates sub-folders for each partition\n",
        " .format(\"parquet\")                                               # format of output\n",
        " .save(path))                                                     # path\n",
        "\n",
        "!ls /content/write_partitioning/parquet_with_partitions\n",
        "\n",
        "spark.read.format(\"parquet\").load(path).count()"
      ],
      "metadata": {
        "colab": {
          "base_uri": "https://localhost:8080/"
        },
        "id": "DWX9WZbPHrL1",
        "outputId": "8223c050-cddb-45db-f1a1-abac34db1c13"
      },
      "execution_count": 78,
      "outputs": [
        {
          "output_type": "stream",
          "name": "stdout",
          "text": [
            "'date_part=20240501'  'date_part=20240502'  'date_part=20240503'  'date_part=20240504'\t _SUCCESS\n"
          ]
        },
        {
          "output_type": "execute_result",
          "data": {
            "text/plain": [
              "50"
            ]
          },
          "metadata": {},
          "execution_count": 78
        }
      ]
    },
    {
      "cell_type": "code",
      "source": [
        "# Checking single partition\n",
        "spark.read.parquet(\"/content/write_partitioning/parquet_with_partitions/date_part=20240502\").show()"
      ],
      "metadata": {
        "colab": {
          "base_uri": "https://localhost:8080/"
        },
        "id": "0B62qu87JsAB",
        "outputId": "880e0c6e-4178-4d26-8cf9-467313c84c66"
      },
      "execution_count": 46,
      "outputs": [
        {
          "output_type": "stream",
          "name": "stdout",
          "text": [
            "+--------------------+--------------------+----------+--------------------+------------------+--------------------+\n",
            "|             address|                date|       dob|               email|              name|               phone|\n",
            "+--------------------+--------------------+----------+--------------------+------------------+--------------------+\n",
            "|327 Harris Mall\\n...|2024-05-02 11:43:...|1939-06-04|timothy69@example...|        Bryan Cook| (464)497-5312x67440|\n",
            "|699 Troy Prairie ...|2024-05-02 11:30:...|2018-12-31| megan98@example.net|       Denise Sims|       (704)828-2189|\n",
            "|58674 Moore Camp ...|2024-05-02 20:05:...|1990-07-13|hughesjessica@exa...|       Susan Avila|          9717264698|\n",
            "|58801 Bradley Tun...|2024-05-02 07:41:...|1918-12-14|  krocha@example.net|Christopher Newton|001-608-643-1024x...|\n",
            "|078 Carroll Cente...|2024-05-02 12:27:...|1969-11-01|kathrynguerrero@e...|  Mrs. Karla Doyle|        369.656.9791|\n",
            "|56066 Brandon Man...|2024-05-02 12:00:...|2010-02-07| sgarcia@example.org|     Andrea Santos|    922.981.8079x619|\n",
            "|980 Waller Island...|2024-05-02 15:14:...|1937-11-19|brandongross@exam...|       Donald Sims|          4364787726|\n",
            "|708 Bryan Burgs\\n...|2024-05-02 08:12:...|1996-11-02|robinsonlaura@exa...|      Laura Joseph|       (576)518-8799|\n",
            "|2735 Benjamin Can...|2024-05-02 13:01:...|2003-11-14|   epena@example.net|       James Smith|        319.326.9713|\n",
            "|655 Wilkinson Jun...|2024-05-02 09:43:...|1916-02-17|jonesrobert@examp...|      Theresa Rice|    001-450-789-5862|\n",
            "+--------------------+--------------------+----------+--------------------+------------------+--------------------+\n",
            "\n"
          ]
        }
      ]
    },
    {
      "cell_type": "markdown",
      "source": [
        "# Writing as CSV\n",
        "\n",
        "https://spark.apache.org/docs/3.5.1/sql-data-sources-csv.html"
      ],
      "metadata": {
        "id": "n8mTC5yeNV6o"
      }
    },
    {
      "cell_type": "code",
      "source": [
        "df.count()"
      ],
      "metadata": {
        "colab": {
          "base_uri": "https://localhost:8080/"
        },
        "id": "BnAWUTeZO43Z",
        "outputId": "3dc22d84-f14a-49bd-a23a-4c065e38d5b1"
      },
      "execution_count": 77,
      "outputs": [
        {
          "output_type": "execute_result",
          "data": {
            "text/plain": [
              "50"
            ]
          },
          "metadata": {},
          "execution_count": 77
        }
      ]
    },
    {
      "cell_type": "code",
      "source": [
        "path = \"/content/write_partitioning/csv_no_partitioning/\"\n",
        "\n",
        "# write as csv\n",
        "(df\n",
        "  .write\n",
        "  .format(\"csv\")\n",
        "  .mode(\"overwrite\")\n",
        "  .option(\"delimiter\", \"|\")\n",
        "  .option(\"header\", True)\n",
        "  .save(path))\n",
        "\n",
        "# listing files in the folder\n",
        "!ls /content/write_partitioning/csv_no_partitioning/\n",
        "\n",
        "# read as csv\n",
        "(spark\n",
        "  .read\n",
        "  .options(sep=\"|\", multiLine=True, header=True)\n",
        "  .csv(path)\n",
        "  .count())"
      ],
      "metadata": {
        "colab": {
          "base_uri": "https://localhost:8080/"
        },
        "id": "oE6zC-HnNYAz",
        "outputId": "c15f972a-26df-4acb-80c3-6cf7650176d6"
      },
      "execution_count": 88,
      "outputs": [
        {
          "output_type": "stream",
          "name": "stdout",
          "text": [
            "part-00000-b9f8e227-afcd-4d04-a350-c01327241872-c000.csv  _SUCCESS\n"
          ]
        },
        {
          "output_type": "execute_result",
          "data": {
            "text/plain": [
              "50"
            ]
          },
          "metadata": {},
          "execution_count": 88
        }
      ]
    },
    {
      "cell_type": "markdown",
      "source": [
        "# Writing as JSON\n",
        "\n",
        "https://spark.apache.org/docs/3.5.1/sql-data-sources-json.html"
      ],
      "metadata": {
        "id": "ZAuM5-WcTtyZ"
      }
    },
    {
      "cell_type": "code",
      "source": [
        "path = \"/content/write_partitioning/json_no_partitioning/\"\n",
        "\n",
        "# write as json\n",
        "(df\n",
        ".write\n",
        ".mode(\"overwrite\")\n",
        ".format(\"json\")\n",
        ".save(\"path\"))\n",
        "\n",
        "# listing files in the folder\n",
        "!ls /content/write_partitioning/json_no_partitioning/\n",
        "\n",
        "# read as json\n",
        "(spark\n",
        "  .read\n",
        "  .json(path)\n",
        "  .count())"
      ],
      "metadata": {
        "colab": {
          "base_uri": "https://localhost:8080/"
        },
        "id": "vnNgwbtxTsW_",
        "outputId": "99401d1e-028a-4085-dd12-cf4e563f8917"
      },
      "execution_count": 91,
      "outputs": [
        {
          "output_type": "stream",
          "name": "stdout",
          "text": [
            "part-00000-4278fb78-1cc4-4622-9bb4-6cdadc50a8f2-c000.json  _SUCCESS\n"
          ]
        },
        {
          "output_type": "execute_result",
          "data": {
            "text/plain": [
              "50"
            ]
          },
          "metadata": {},
          "execution_count": 91
        }
      ]
    },
    {
      "cell_type": "code",
      "source": [
        "# reading json as text\n",
        "spark.read.text(path).show(10, False)"
      ],
      "metadata": {
        "colab": {
          "base_uri": "https://localhost:8080/"
        },
        "id": "D3hYNCubT0ry",
        "outputId": "410f3f1f-d307-4736-e61d-74d2e916cf24"
      },
      "execution_count": 95,
      "outputs": [
        {
          "output_type": "stream",
          "name": "stdout",
          "text": [
            "+--------------------------------------------------------------------------------------------------------------------------------------------------------------------------------------------------------------------------------------+\n",
            "|value                                                                                                                                                                                                                                 |\n",
            "+--------------------------------------------------------------------------------------------------------------------------------------------------------------------------------------------------------------------------------------+\n",
            "|{\"address\":\"USCGC Garza\\nFPO AE 93586\",\"date\":\"2024-05-01T01:48:40.572Z\",\"dob\":\"1985-03-17\",\"email\":\"tinaperry@example.net\",\"name\":\"Connie Miller\",\"phone\":\"966-288-5241\",\"date_part\":\"20240501\"}                                     |\n",
            "|{\"address\":\"327 Harris Mall\\nRichstad, TX 25133\",\"date\":\"2024-05-02T11:43:30.828Z\",\"dob\":\"1939-06-04\",\"email\":\"timothy69@example.net\",\"name\":\"Bryan Cook\",\"phone\":\"(464)497-5312x67440\",\"date_part\":\"20240502\"}                       |\n",
            "|{\"address\":\"Unit 0282 Box 3495\\nDPO AA 47314\",\"date\":\"2024-05-04T00:33:05.895Z\",\"dob\":\"1992-07-30\",\"email\":\"qward@example.net\",\"name\":\"Crystal Smith\",\"phone\":\"(430)385-0871x4879\",\"date_part\":\"20240504\"}                            |\n",
            "|{\"address\":\"6337 Jennifer Center\\nTravischester, OH 54107\",\"date\":\"2024-05-04T03:27:51.258Z\",\"dob\":\"1997-04-23\",\"email\":\"pamelaperkins@example.com\",\"name\":\"Pamela Pena\",\"phone\":\"+1-913-489-6467\",\"date_part\":\"20240504\"}            |\n",
            "|{\"address\":\"8441 Diaz Mission\\nMartinhaven, MO 70679\",\"date\":\"2024-05-01T16:41:34.892Z\",\"dob\":\"1950-07-29\",\"email\":\"michellehansen@example.com\",\"name\":\"Crystal Edwards\",\"phone\":\"(616)980-5920x09352\",\"date_part\":\"20240501\"}        |\n",
            "|{\"address\":\"699 Troy Prairie Suite 319\\nKentchester, KY 01938\",\"date\":\"2024-05-02T11:30:46.459Z\",\"dob\":\"2018-12-31\",\"email\":\"megan98@example.net\",\"name\":\"Denise Sims\",\"phone\":\"(704)828-2189\",\"date_part\":\"20240502\"}                |\n",
            "|{\"address\":\"58674 Moore Camp Apt. 143\\nCampbellport, CO 62387\",\"date\":\"2024-05-02T20:05:50.653Z\",\"dob\":\"1990-07-13\",\"email\":\"hughesjessica@example.net\",\"name\":\"Susan Avila\",\"phone\":\"9717264698\",\"date_part\":\"20240502\"}             |\n",
            "|{\"address\":\"USNV Williams\\nFPO AE 37975\",\"date\":\"2024-05-03T20:40:49.066Z\",\"dob\":\"1962-07-06\",\"email\":\"christopher24@example.org\",\"name\":\"Jaime Baker\",\"phone\":\"584.910.7575\",\"date_part\":\"20240503\"}                                 |\n",
            "|{\"address\":\"53244 Cummings Parkway\\nShahtown, VT 73451\",\"date\":\"2024-05-03T14:59:18.526Z\",\"dob\":\"1921-02-15\",\"email\":\"sjohnson@example.net\",\"name\":\"Nicholas Smith\",\"phone\":\"001-568-975-4335x349\",\"date_part\":\"20240503\"}            |\n",
            "|{\"address\":\"8636 Brandon Knolls\\nLake Shaneborough, RI 71643\",\"date\":\"2024-05-01T21:47:14.124Z\",\"dob\":\"1980-10-29\",\"email\":\"nicoleanthony@example.net\",\"name\":\"Christopher Randall\",\"phone\":\"285.339.9877x754\",\"date_part\":\"20240501\"}|\n",
            "+--------------------------------------------------------------------------------------------------------------------------------------------------------------------------------------------------------------------------------------+\n",
            "only showing top 10 rows\n",
            "\n"
          ]
        }
      ]
    },
    {
      "cell_type": "code",
      "source": [
        "# reading json as text\n",
        "spark.read.json(path).show(10, False)"
      ],
      "metadata": {
        "colab": {
          "base_uri": "https://localhost:8080/"
        },
        "id": "0bHcT2ilUo_F",
        "outputId": "b2ee72f5-23c1-4df0-f840-8caea3a5ee40"
      },
      "execution_count": 96,
      "outputs": [
        {
          "output_type": "stream",
          "name": "stdout",
          "text": [
            "+-------------------------------------------------+------------------------+---------+----------+--------------------------+-------------------+--------------------+\n",
            "|address                                          |date                    |date_part|dob       |email                     |name               |phone               |\n",
            "+-------------------------------------------------+------------------------+---------+----------+--------------------------+-------------------+--------------------+\n",
            "|USCGC Garza\\nFPO AE 93586                        |2024-05-01T01:48:40.572Z|20240501 |1985-03-17|tinaperry@example.net     |Connie Miller      |966-288-5241        |\n",
            "|327 Harris Mall\\nRichstad, TX 25133              |2024-05-02T11:43:30.828Z|20240502 |1939-06-04|timothy69@example.net     |Bryan Cook         |(464)497-5312x67440 |\n",
            "|Unit 0282 Box 3495\\nDPO AA 47314                 |2024-05-04T00:33:05.895Z|20240504 |1992-07-30|qward@example.net         |Crystal Smith      |(430)385-0871x4879  |\n",
            "|6337 Jennifer Center\\nTravischester, OH 54107    |2024-05-04T03:27:51.258Z|20240504 |1997-04-23|pamelaperkins@example.com |Pamela Pena        |+1-913-489-6467     |\n",
            "|8441 Diaz Mission\\nMartinhaven, MO 70679         |2024-05-01T16:41:34.892Z|20240501 |1950-07-29|michellehansen@example.com|Crystal Edwards    |(616)980-5920x09352 |\n",
            "|699 Troy Prairie Suite 319\\nKentchester, KY 01938|2024-05-02T11:30:46.459Z|20240502 |2018-12-31|megan98@example.net       |Denise Sims        |(704)828-2189       |\n",
            "|58674 Moore Camp Apt. 143\\nCampbellport, CO 62387|2024-05-02T20:05:50.653Z|20240502 |1990-07-13|hughesjessica@example.net |Susan Avila        |9717264698          |\n",
            "|USNV Williams\\nFPO AE 37975                      |2024-05-03T20:40:49.066Z|20240503 |1962-07-06|christopher24@example.org |Jaime Baker        |584.910.7575        |\n",
            "|53244 Cummings Parkway\\nShahtown, VT 73451       |2024-05-03T14:59:18.526Z|20240503 |1921-02-15|sjohnson@example.net      |Nicholas Smith     |001-568-975-4335x349|\n",
            "|8636 Brandon Knolls\\nLake Shaneborough, RI 71643 |2024-05-01T21:47:14.124Z|20240501 |1980-10-29|nicoleanthony@example.net |Christopher Randall|285.339.9877x754    |\n",
            "+-------------------------------------------------+------------------------+---------+----------+--------------------------+-------------------+--------------------+\n",
            "only showing top 10 rows\n",
            "\n"
          ]
        }
      ]
    },
    {
      "cell_type": "code",
      "source": [
        "# partition json data + saveAsTable\n",
        "\n",
        "# Creating partition column\n",
        "df = df.withColumn(\"date_part\", date_format(col(\"date\"), \"yyyyMMdd\"))\n",
        "\n",
        "# write as json\n",
        "(df.write\n",
        "  .partitionBy(\"date_part\")\n",
        "  .mode(\"overwrite\")\n",
        "  .format(\"json\")\n",
        "  .saveAsTable(\"tbl_json_part\"))\n",
        "\n",
        "# read as json\n",
        "spark.table(\"tbl_json_part\").count()\n",
        "\n",
        "# read as json\n",
        "spark.sql(\"show partitions tbl_json_part\").show()"
      ],
      "metadata": {
        "colab": {
          "base_uri": "https://localhost:8080/"
        },
        "id": "Qj59UNMuU0hV",
        "outputId": "525c7493-dffa-4dbe-febe-c5ecbd7bfceb"
      },
      "execution_count": 111,
      "outputs": [
        {
          "output_type": "stream",
          "name": "stdout",
          "text": [
            "+------------------+\n",
            "|         partition|\n",
            "+------------------+\n",
            "|date_part=20240501|\n",
            "|date_part=20240502|\n",
            "|date_part=20240503|\n",
            "|date_part=20240504|\n",
            "+------------------+\n",
            "\n"
          ]
        }
      ]
    },
    {
      "cell_type": "markdown",
      "source": [
        "# Append Mode"
      ],
      "metadata": {
        "id": "6RhijzyqZeeq"
      }
    },
    {
      "cell_type": "code",
      "source": [
        "# Writing as PARQUET with APPEND\n",
        "\n",
        "path = \"/content/write_partitioning/parquet_append\"\n",
        "\n",
        "df.write.mode(\"append\").format(\"parquet\").save(path)\n",
        "\n",
        "!ls /content/write_partitioning/parquet_append\n",
        "\n",
        "spark.read.format(\"parquet\").load(path).count()"
      ],
      "metadata": {
        "id": "GmLjA1zDZeG_",
        "outputId": "2ae7724d-b465-4bb3-b784-2fd6773fbaad",
        "colab": {
          "base_uri": "https://localhost:8080/"
        }
      },
      "execution_count": 116,
      "outputs": [
        {
          "output_type": "stream",
          "name": "stdout",
          "text": [
            "part-00000-19403de2-076f-46ee-849e-cb4d71597ef7-c000.snappy.parquet\n",
            "part-00000-3b17956e-ed3d-4cbe-bebf-6602d8e45c1d-c000.snappy.parquet\n",
            "part-00000-dc9d4535-21b1-452d-97eb-cc6cc34a5870-c000.snappy.parquet\n",
            "_SUCCESS\n"
          ]
        },
        {
          "output_type": "execute_result",
          "data": {
            "text/plain": [
              "150"
            ]
          },
          "metadata": {},
          "execution_count": 116
        }
      ]
    }
  ],
  "metadata": {
    "colab": {
      "provenance": [],
      "toc_visible": true,
      "include_colab_link": true
    },
    "kernelspec": {
      "display_name": "Python 3",
      "name": "python3"
    },
    "language_info": {
      "name": "python"
    }
  },
  "nbformat": 4,
  "nbformat_minor": 0
}