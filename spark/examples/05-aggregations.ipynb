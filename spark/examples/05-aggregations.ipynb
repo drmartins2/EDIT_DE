{
  "cells": [
    {
      "cell_type": "markdown",
      "metadata": {
        "id": "view-in-github",
        "colab_type": "text"
      },
      "source": [
        "<a href=\"https://colab.research.google.com/github/drmartins2/EDIT_DE/blob/main/spark/examples/05-aggregations.ipynb\" target=\"_parent\"><img src=\"https://colab.research.google.com/assets/colab-badge.svg\" alt=\"Open In Colab\"/></a>"
      ]
    },
    {
      "cell_type": "markdown",
      "metadata": {
        "id": "-y331t1OSI1s"
      },
      "source": [
        "<a href=\"https://colab.research.google.com/github/lucprosa/dataeng-basic-course/blob/main/spark/examples/05-aggregations.ipynb\" target=\"_parent\"><img src=\"https://colab.research.google.com/assets/colab-badge.svg\" alt=\"Open In Colab\"/></a>"
      ]
    },
    {
      "cell_type": "markdown",
      "metadata": {
        "id": "BOA_wQSmLd9z"
      },
      "source": [
        "# Aggregations\n",
        "- Group By\n",
        "- Windows Functions"
      ]
    },
    {
      "cell_type": "markdown",
      "metadata": {
        "id": "d9LeYFsPTjAb"
      },
      "source": [
        "# Setting up PySpark"
      ]
    },
    {
      "cell_type": "code",
      "execution_count": null,
      "metadata": {
        "colab": {
          "base_uri": "https://localhost:8080/"
        },
        "id": "uYXeODL0T1fO",
        "outputId": "c410e46c-4a50-43aa-926f-d0417c6280d2"
      },
      "outputs": [
        {
          "name": "stdout",
          "output_type": "stream",
          "text": [
            "Requirement already satisfied: pyspark in /usr/local/lib/python3.10/dist-packages (3.5.3)\n",
            "Requirement already satisfied: py4j==0.10.9.7 in /usr/local/lib/python3.10/dist-packages (from pyspark) (0.10.9.7)\n"
          ]
        }
      ],
      "source": [
        "%pip install pyspark"
      ]
    },
    {
      "cell_type": "code",
      "execution_count": 1,
      "metadata": {
        "id": "637HFw00T3LP"
      },
      "outputs": [],
      "source": [
        "from pyspark.sql import SparkSession\n",
        "spark = SparkSession.builder.master('local').appName('Spark Course').config('spark.ui.port', '4050').getOrCreate()"
      ]
    },
    {
      "cell_type": "markdown",
      "metadata": {
        "id": "SLiYPwuJSI1w"
      },
      "source": [
        "# Aggregations\n",
        "\n",
        "https://spark.apache.org/docs/latest/sql-ref-functions-builtin.html#aggregate-functions\n",
        "\n",
        "https://spark.apache.org/docs/latest/sql-ref-syntax-qry-select-aggregate.html"
      ]
    },
    {
      "cell_type": "code",
      "execution_count": 19,
      "metadata": {
        "colab": {
          "base_uri": "https://localhost:8080/"
        },
        "id": "GPdtlX5BSI1w",
        "outputId": "81ad3b83-2815-4cc4-ce7f-e00523191de8"
      },
      "outputs": [
        {
          "output_type": "stream",
          "name": "stdout",
          "text": [
            "+-----------------+----------+------+\n",
            "|    employee_name|department|salary|\n",
            "+-----------------+----------+------+\n",
            "|     Diane Murphy|Accounting|  8435|\n",
            "|   Mary Patterson|Accounting|  9998|\n",
            "|    Jeff Firrelli|Accounting|  8992|\n",
            "|William Patterson|Accounting|  8870|\n",
            "|    Gerard Bondur|Accounting| 11472|\n",
            "|      Anthony Bow|Accounting|  6627|\n",
            "|  Leslie Jennings|        IT|  8113|\n",
            "|  Leslie Thompson|        IT|  5186|\n",
            "|   Julie Firrelli|     Sales|  9181|\n",
            "|  Steve Patterson|     Sales|  9441|\n",
            "|   Foon Yue Tseng|     Sales|  6660|\n",
            "|    George Vanauf|     Sales| 10563|\n",
            "|      Loui Bondur|       SCM| 10449|\n",
            "| Gerard Hernandez|       SCM|  6949|\n",
            "|  Pamela Castillo|       SCM| 11303|\n",
            "|       Larry Bott|       SCM| 11798|\n",
            "|      Barry Jones|       SCM| 10586|\n",
            "+-----------------+----------+------+\n",
            "\n"
          ]
        }
      ],
      "source": [
        "sql_query = \"\"\"CREATE OR REPLACE TEMPORARY VIEW basic_pays AS SELECT * FROM VALUES\n",
        "('Diane Murphy','Accounting',8435),\n",
        "('Mary Patterson','Accounting',9998),\n",
        "('Jeff Firrelli','Accounting',8992),\n",
        "('William Patterson','Accounting',8870),\n",
        "('Gerard Bondur','Accounting',11472),\n",
        "('Anthony Bow','Accounting',6627),\n",
        "('Leslie Jennings','IT',8113),\n",
        "('Leslie Thompson','IT',5186),\n",
        "('Julie Firrelli','Sales',9181),\n",
        "('Steve Patterson','Sales',9441),\n",
        "('Foon Yue Tseng','Sales',6660),\n",
        "('George Vanauf','Sales',10563),\n",
        "('Loui Bondur','SCM',10449),\n",
        "('Gerard Hernandez','SCM',6949),\n",
        "('Pamela Castillo','SCM',11303),\n",
        "('Larry Bott','SCM',11798),\n",
        "('Barry Jones','SCM',10586)\n",
        "AS basic_pays(employee_name, department, salary)\"\"\"\n",
        "\n",
        "# creating temp view\n",
        "spark.sql(sql_query)\n",
        "\n",
        "df = spark.table(\"basic_pays\")\n",
        "df.show()\n"
      ]
    },
    {
      "cell_type": "code",
      "source": [
        "perc_query = \"\"\"SELECT\n",
        "    department,\n",
        "    percentile_cont(0.25) WITHIN GROUP (ORDER BY salary) AS pc1,\n",
        "    percentile_cont(0.25) WITHIN GROUP (ORDER BY salary) FILTER (WHERE employee_name LIKE '%Bo%') AS pc2,\n",
        "    percentile_cont(0.25) WITHIN GROUP (ORDER BY salary DESC) AS pc3,\n",
        "    percentile_cont(0.25) WITHIN GROUP (ORDER BY salary DESC) FILTER (WHERE employee_name LIKE '%Bo%') AS pc4,\n",
        "    percentile_disc(0.25) WITHIN GROUP (ORDER BY salary) AS pd1,\n",
        "    percentile_disc(0.25) WITHIN GROUP (ORDER BY salary) FILTER (WHERE employee_name LIKE '%Bo%') AS pd2,\n",
        "    percentile_disc(0.25) WITHIN GROUP (ORDER BY salary DESC) AS pd3,\n",
        "    percentile_disc(0.25) WITHIN GROUP (ORDER BY salary DESC) FILTER (WHERE employee_name LIKE '%Bo%') AS pd4\n",
        "FROM basic_pays\n",
        "GROUP BY department\n",
        "ORDER BY department;\"\"\"\n",
        "\n",
        "spark.sql(perc_query).show()"
      ],
      "metadata": {
        "colab": {
          "base_uri": "https://localhost:8080/"
        },
        "id": "Aa38HFEQVSM9",
        "outputId": "25804c59-b6f7-466b-ff70-904b3f3700fc"
      },
      "execution_count": 3,
      "outputs": [
        {
          "output_type": "stream",
          "name": "stdout",
          "text": [
            "+----------+-------+--------+-------+--------+-------+-------+-------+-------+\n",
            "|department|    pc1|     pc2|    pc3|     pc4|    pd1|    pd2|    pd3|    pd4|\n",
            "+----------+-------+--------+-------+--------+-------+-------+-------+-------+\n",
            "|Accounting|8543.75| 7838.25| 9746.5|10260.75| 8435.0| 6627.0| 9998.0|11472.0|\n",
            "|        IT|5917.75|    NULL|7381.25|    NULL| 5186.0|   NULL| 8113.0|   NULL|\n",
            "|       SCM|10449.0|10786.25|11303.0|11460.75|10449.0|10449.0|11303.0|11798.0|\n",
            "|     Sales|8550.75|    NULL| 9721.5|    NULL| 6660.0|   NULL|10563.0|   NULL|\n",
            "+----------+-------+--------+-------+--------+-------+-------+-------+-------+\n",
            "\n"
          ]
        }
      ]
    },
    {
      "cell_type": "code",
      "source": [
        "from pyspark.sql.functions import *\n",
        "(df\n",
        " .groupBy(\"department\")\n",
        " .agg(sum(\"salary\").alias(\"sum_salary\"),\n",
        "      round(avg(\"salary\"),2).alias(\"avg_salary\"),\n",
        "      min(\"salary\").alias(\"min_salary\"),\n",
        "      array_agg(\"employee_name\").alias(\"employees\"),\n",
        "      count(lit(\"\")).alias(\"count_employees\"))\n",
        " .filter(col(\"count_employees\") > 2)\n",
        " .show(10, False))"
      ],
      "metadata": {
        "colab": {
          "base_uri": "https://localhost:8080/"
        },
        "id": "ZbfHHI_wYJge",
        "outputId": "005f84e0-0102-499f-f55b-99ce49da9a08"
      },
      "execution_count": 9,
      "outputs": [
        {
          "output_type": "stream",
          "name": "stdout",
          "text": [
            "+----------+----------+----------+----------+--------------------------------------------------------------------------------------------+---------------+\n",
            "|department|sum_salary|avg_salary|min_salary|employees                                                                                   |count_employees|\n",
            "+----------+----------+----------+----------+--------------------------------------------------------------------------------------------+---------------+\n",
            "|Sales     |35845     |8961.25   |6660      |[Julie Firrelli, Steve Patterson, Foon Yue Tseng, George Vanauf]                            |4              |\n",
            "|Accounting|54394     |9065.67   |6627      |[Diane Murphy, Mary Patterson, Jeff Firrelli, William Patterson, Gerard Bondur, Anthony Bow]|6              |\n",
            "|SCM       |51085     |10217.0   |6949      |[Loui Bondur, Gerard Hernandez, Pamela Castillo, Larry Bott, Barry Jones]                   |5              |\n",
            "+----------+----------+----------+----------+--------------------------------------------------------------------------------------------+---------------+\n",
            "\n"
          ]
        }
      ]
    },
    {
      "cell_type": "markdown",
      "source": [
        "# Question"
      ],
      "metadata": {
        "id": "HQjSVZgFbiUs"
      }
    },
    {
      "cell_type": "code",
      "source": [
        "# Q1\n",
        "# Aggregate data by surname\n",
        "# Calculate highest salary by surname\n",
        "# Include the respective employee that has the highest salary\n",
        "# Include department information about this employee\n",
        "# Count how many employees has that surname\n",
        "# Put in an array all the first_names of the respective surname ordered\n",
        "\n",
        "from pyspark.sql.functions import *\n",
        "from pyspark.sql.window import Window # Importing the Window class\n",
        "\n",
        "split_col = split(df['employee_name'], ' ')\n",
        "\n",
        "df1 = df.withColumn('surname', split_col.getItem(1))\n",
        "#df1.show()\n",
        "\n",
        "df2 = df1.withColumn('first_name', split_col.getItem(0))\n",
        "#df2.show()\n",
        "\n",
        "\n",
        "# employee first name with the highest salary\n",
        "df3 = df2.withColumn(\"row\", row_number().over(Window.partitionBy(\"surname\").orderBy(col(\"salary\").desc()))) # Now Window is defined\n",
        "df3.show()\n",
        "\n",
        "q1 =(df2\n",
        "    .groupBy(\"surname\")\n",
        "    .agg(count(lit(\"\")).alias(\"count_employees\")\n",
        "        ,max(\"salary\").alias(\"highest_salary\")\n",
        "        ,array_agg(\"first_name\").alias(\"employee_with_highest_salary\"))\n",
        "    .withColumn(\"department_with_highest_salary\", array_max(col(\"employee_with_highest_salary\")))\n",
        "    )\n",
        "q1.show()\n",
        "\n",
        "# schema expected:\n",
        "# surname | count_employees | highest_salary | employee_with_highest_salary | department_with_highest_salary | array_with_all_the_first_names |"
      ],
      "metadata": {
        "id": "sAB_dzZabf_o",
        "outputId": "0a5a38f6-617d-4a1f-d6c1-d7fafef5c14d",
        "colab": {
          "base_uri": "https://localhost:8080/"
        }
      },
      "execution_count": 40,
      "outputs": [
        {
          "output_type": "stream",
          "name": "stdout",
          "text": [
            "+-----------------+----------+------+---------+----------+---+\n",
            "|    employee_name|department|salary|  surname|first_name|row|\n",
            "+-----------------+----------+------+---------+----------+---+\n",
            "|    Gerard Bondur|Accounting| 11472|   Bondur|    Gerard|  1|\n",
            "|      Loui Bondur|       SCM| 10449|   Bondur|      Loui|  2|\n",
            "|       Larry Bott|       SCM| 11798|     Bott|     Larry|  1|\n",
            "|      Anthony Bow|Accounting|  6627|      Bow|   Anthony|  1|\n",
            "|  Pamela Castillo|       SCM| 11303| Castillo|    Pamela|  1|\n",
            "|   Julie Firrelli|     Sales|  9181| Firrelli|     Julie|  1|\n",
            "|    Jeff Firrelli|Accounting|  8992| Firrelli|      Jeff|  2|\n",
            "| Gerard Hernandez|       SCM|  6949|Hernandez|    Gerard|  1|\n",
            "|  Leslie Jennings|        IT|  8113| Jennings|    Leslie|  1|\n",
            "|      Barry Jones|       SCM| 10586|    Jones|     Barry|  1|\n",
            "|     Diane Murphy|Accounting|  8435|   Murphy|     Diane|  1|\n",
            "|   Mary Patterson|Accounting|  9998|Patterson|      Mary|  1|\n",
            "|  Steve Patterson|     Sales|  9441|Patterson|     Steve|  2|\n",
            "|William Patterson|Accounting|  8870|Patterson|   William|  3|\n",
            "|  Leslie Thompson|        IT|  5186| Thompson|    Leslie|  1|\n",
            "|    George Vanauf|     Sales| 10563|   Vanauf|    George|  1|\n",
            "|   Foon Yue Tseng|     Sales|  6660|      Yue|      Foon|  1|\n",
            "+-----------------+----------+------+---------+----------+---+\n",
            "\n",
            "+---------+---------------+--------------+----------------------------+------------------------------+\n",
            "|  surname|count_employees|highest_salary|employee_with_highest_salary|department_with_highest_salary|\n",
            "+---------+---------------+--------------+----------------------------+------------------------------+\n",
            "|      Bow|              1|          6627|                   [Anthony]|                       Anthony|\n",
            "|    Jones|              1|         10586|                     [Barry]|                         Barry|\n",
            "|   Bondur|              2|         11472|              [Gerard, Loui]|                          Loui|\n",
            "|   Murphy|              1|          8435|                     [Diane]|                         Diane|\n",
            "| Castillo|              1|         11303|                    [Pamela]|                        Pamela|\n",
            "| Firrelli|              2|          9181|               [Jeff, Julie]|                         Julie|\n",
            "|   Vanauf|              1|         10563|                    [George]|                        George|\n",
            "|      Yue|              1|          6660|                      [Foon]|                          Foon|\n",
            "|Patterson|              3|          9998|        [Mary, William, S...|                       William|\n",
            "| Thompson|              1|          5186|                    [Leslie]|                        Leslie|\n",
            "| Jennings|              1|          8113|                    [Leslie]|                        Leslie|\n",
            "|     Bott|              1|         11798|                     [Larry]|                         Larry|\n",
            "|Hernandez|              1|          6949|                    [Gerard]|                        Gerard|\n",
            "+---------+---------------+--------------+----------------------------+------------------------------+\n",
            "\n"
          ]
        }
      ]
    },
    {
      "cell_type": "code",
      "source": [
        "# Solução Aula\n",
        "\n",
        "from pyspark.sql import functions as F\n",
        "df2 = df\n",
        "df2 = (\n",
        "    df2\n",
        "      .withColumn(\"names_array\", split(col(\"employee_name\"), \" \"))\n",
        "      .withColumn(\"first_name\", col(\"names_array\")[0])\n",
        "      .withColumn(\"surname\", col(\"names_array\")[1])\n",
        "      .groupBy(\"surname\")\n",
        "        .agg(\n",
        "          F.max(\"salary\").alias(\"max_salary_by_surname\"),\n",
        "          F.count(lit(\"\")).alias(\"count_employees\"),\n",
        "          F.array_agg(\"first_name\").alias(\"list_first_names\")\n",
        "          )\n",
        ")\n",
        "df2.show(100, False)"
      ],
      "metadata": {
        "id": "hgQXT9ZYtx_3",
        "outputId": "f5ad9bda-6d97-4d17-bffc-2151202a9b09",
        "colab": {
          "base_uri": "https://localhost:8080/"
        }
      },
      "execution_count": 41,
      "outputs": [
        {
          "output_type": "stream",
          "name": "stdout",
          "text": [
            "+---------+---------------------+---------------+----------------------+\n",
            "|surname  |max_salary_by_surname|count_employees|list_first_names      |\n",
            "+---------+---------------------+---------------+----------------------+\n",
            "|Bow      |6627                 |1              |[Anthony]             |\n",
            "|Jones    |10586                |1              |[Barry]               |\n",
            "|Bondur   |11472                |2              |[Gerard, Loui]        |\n",
            "|Murphy   |8435                 |1              |[Diane]               |\n",
            "|Castillo |11303                |1              |[Pamela]              |\n",
            "|Firrelli |9181                 |2              |[Jeff, Julie]         |\n",
            "|Vanauf   |10563                |1              |[George]              |\n",
            "|Yue      |6660                 |1              |[Foon]                |\n",
            "|Patterson|9998                 |3              |[Mary, William, Steve]|\n",
            "|Thompson |5186                 |1              |[Leslie]              |\n",
            "|Jennings |8113                 |1              |[Leslie]              |\n",
            "|Bott     |11798                |1              |[Larry]               |\n",
            "|Hernandez|6949                 |1              |[Gerard]              |\n",
            "+---------+---------------------+---------------+----------------------+\n",
            "\n"
          ]
        }
      ]
    },
    {
      "cell_type": "code",
      "source": [],
      "metadata": {
        "id": "dEGCrN5Dty8K"
      },
      "execution_count": null,
      "outputs": []
    }
  ],
  "metadata": {
    "colab": {
      "provenance": [],
      "include_colab_link": true
    },
    "kernelspec": {
      "display_name": "Python 3",
      "name": "python3"
    },
    "language_info": {
      "name": "python"
    }
  },
  "nbformat": 4,
  "nbformat_minor": 0
}