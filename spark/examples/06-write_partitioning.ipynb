{
  "cells": [
    {
      "cell_type": "markdown",
      "metadata": {
        "id": "view-in-github",
        "colab_type": "text"
      },
      "source": [
        "<a href=\"https://colab.research.google.com/github/drmartins2/EDIT_DE/blob/main/spark/examples/06-write_partitioning.ipynb\" target=\"_parent\"><img src=\"https://colab.research.google.com/assets/colab-badge.svg\" alt=\"Open In Colab\"/></a>"
      ]
    },
    {
      "cell_type": "markdown",
      "metadata": {
        "id": "BOA_wQSmLd9z"
      },
      "source": [
        "# Write\n",
        "- .write\n",
        "- .format (parquet, csv, json)\n",
        "- options\n",
        "- spark.sql.sources.partitionOverwriteMode dynamic\n",
        "\n",
        "# Write Mode\n",
        "- overwrite - The overwrite mode is used to overwrite the existing file, alternatively, you can use SaveMode.Overwrite\n",
        "- append - To add the data to the existing file, alternatively, you can use SaveMode.Append\n",
        "- ignore - Ignores write operation when the file already exists, alternatively, you can use SaveMode.Ignore.\n",
        "- errorifexists or error - This is a default option when the file already exists, it returns an error, alternatively, you can use SaveMode.ErrorIfExists.\n",
        "\n",
        "# Partitioning\n",
        "Process to organize the data into multiple chunks based on some criteria.\n",
        "Partitions are organized in sub-folders.\n",
        "Partitioning improves performance in Spark."
      ]
    },
    {
      "cell_type": "markdown",
      "metadata": {
        "id": "d9LeYFsPTjAb"
      },
      "source": [
        "# Setting up PySpark"
      ]
    },
    {
      "cell_type": "code",
      "execution_count": null,
      "metadata": {
        "colab": {
          "base_uri": "https://localhost:8080/"
        },
        "id": "uYXeODL0T1fO",
        "outputId": "c410e46c-4a50-43aa-926f-d0417c6280d2"
      },
      "outputs": [
        {
          "name": "stdout",
          "output_type": "stream",
          "text": [
            "Requirement already satisfied: pyspark in /usr/local/lib/python3.10/dist-packages (3.5.3)\n",
            "Requirement already satisfied: py4j==0.10.9.7 in /usr/local/lib/python3.10/dist-packages (from pyspark) (0.10.9.7)\n"
          ]
        }
      ],
      "source": [
        "%pip install pyspark"
      ]
    },
    {
      "cell_type": "code",
      "execution_count": 1,
      "metadata": {
        "id": "637HFw00T3LP"
      },
      "outputs": [],
      "source": [
        "from pyspark.sql import SparkSession\n",
        "spark = SparkSession.builder.master('local').appName('Spark Course').getOrCreate()"
      ]
    },
    {
      "cell_type": "markdown",
      "metadata": {
        "id": "Vj3Cg2riVX3m"
      },
      "source": [
        "# Preparing data"
      ]
    },
    {
      "cell_type": "code",
      "source": [
        "!pip install faker"
      ],
      "metadata": {
        "colab": {
          "base_uri": "https://localhost:8080/"
        },
        "id": "83BBHcNJDmw4",
        "outputId": "5e50b8f2-df56-47aa-a402-1ef7776d8931"
      },
      "execution_count": 2,
      "outputs": [
        {
          "output_type": "stream",
          "name": "stdout",
          "text": [
            "Collecting faker\n",
            "  Downloading Faker-33.0.0-py3-none-any.whl.metadata (15 kB)\n",
            "Requirement already satisfied: python-dateutil>=2.4 in /usr/local/lib/python3.10/dist-packages (from faker) (2.8.2)\n",
            "Requirement already satisfied: typing-extensions in /usr/local/lib/python3.10/dist-packages (from faker) (4.12.2)\n",
            "Requirement already satisfied: six>=1.5 in /usr/local/lib/python3.10/dist-packages (from python-dateutil>=2.4->faker) (1.16.0)\n",
            "Downloading Faker-33.0.0-py3-none-any.whl (1.9 MB)\n",
            "\u001b[?25l   \u001b[90m━━━━━━━━━━━━━━━━━━━━━━━━━━━━━━━━━━━━━━━━\u001b[0m \u001b[32m0.0/1.9 MB\u001b[0m \u001b[31m?\u001b[0m eta \u001b[36m-:--:--\u001b[0m\r\u001b[2K   \u001b[91m━━━━━━━━━━━━━━━━━━━━━━━━━━━━\u001b[0m\u001b[91m╸\u001b[0m\u001b[90m━━━━━━━━━━━\u001b[0m \u001b[32m1.4/1.9 MB\u001b[0m \u001b[31m36.7 MB/s\u001b[0m eta \u001b[36m0:00:01\u001b[0m\r\u001b[2K   \u001b[90m━━━━━━━━━━━━━━━━━━━━━━━━━━━━━━━━━━━━━━━━\u001b[0m \u001b[32m1.9/1.9 MB\u001b[0m \u001b[31m27.2 MB/s\u001b[0m eta \u001b[36m0:00:00\u001b[0m\n",
            "\u001b[?25hInstalling collected packages: faker\n",
            "Successfully installed faker-33.0.0\n"
          ]
        }
      ]
    },
    {
      "cell_type": "code",
      "execution_count": 3,
      "metadata": {
        "id": "z-caHS2MVX3m",
        "colab": {
          "base_uri": "https://localhost:8080/"
        },
        "outputId": "59127f9e-c005-4d27-d06b-6fcd6496bbaa"
      },
      "outputs": [
        {
          "output_type": "stream",
          "name": "stdout",
          "text": [
            "+-------------------------------------------------------+--------------------------+----------+-------------------------+---------------+----------------------+\n",
            "|address                                                |date                      |dob       |email                    |name           |phone                 |\n",
            "+-------------------------------------------------------+--------------------------+----------+-------------------------+---------------+----------------------+\n",
            "|38065 Robert Street Apt. 753\\nGallagherton, TN 45397   |2024-05-04 15:36:51.796586|1909-01-15|timothylucas@example.net |Megan Porter   |323-593-8235x38167    |\n",
            "|3447 Keith Estate Suite 019\\nGaryfurt, KY 10475        |2024-05-02 23:21:58.681493|2004-08-05|rschultz@example.net     |Janice Lane    |272-885-8870x8138     |\n",
            "|736 Ho Union Apt. 862\\nHermanborough, DE 82724         |2024-05-01 19:12:52.895824|1985-10-30|ulucas@example.com       |Corey Perez Jr.|(900)650-6425x89058   |\n",
            "|36048 Charles Summit\\nDustinland, GA 82091             |2024-05-01 18:48:41.083276|1928-02-15|michael55@example.org    |Jose Johnson   |711-751-0874x4025     |\n",
            "|2641 Cody Trail Apt. 268\\nLambertmouth, NC 52243       |2024-05-03 21:23:14.049295|1948-07-06|montoyasara@example.net  |Darrell Green  |(635)712-4772x96002   |\n",
            "|87485 Beverly Gardens\\nPort Jennifer, PW 84264         |2024-05-01 04:14:31.56728 |1913-10-26|rogersgregory@example.org|Melody Gomez   |802.794.3431          |\n",
            "|615 Zoe Place\\nMaryhaven, MI 40593                     |2024-05-03 08:00:06.341   |2016-03-18|hailey37@example.org     |Rhonda Williams|001-607-263-8270x19575|\n",
            "|USS Manning\\nFPO AP 11888                              |2024-05-03 08:03:26.133259|1910-11-17|robert04@example.net     |Aaron Simon    |001-215-305-1111      |\n",
            "|6647 Roger Parks Suite 365\\nWest Brittanyview, MN 51623|2024-05-01 07:03:47.030797|1964-10-14|mandyyork@example.com    |Monique Powell |241.680.9069x77602    |\n",
            "|8542 Patterson Loaf Suite 561\\nPort Christine, NV 49697|2024-05-03 22:24:47.565507|1951-09-03|tina58@example.org       |Ana Young      |826-653-5483x22561    |\n",
            "+-------------------------------------------------------+--------------------------+----------+-------------------------+---------------+----------------------+\n",
            "only showing top 10 rows\n",
            "\n"
          ]
        }
      ],
      "source": [
        "from faker import Faker\n",
        "from datetime import datetime\n",
        "\n",
        "fake = Faker()\n",
        "\n",
        "users = []\n",
        "for _ in range(50):\n",
        "    user = {\n",
        "        'date': fake.date_time_between_dates(datetime(2024, 5, 1), datetime(2024, 5, 5)),\n",
        "        'name': fake.name(),\n",
        "        'address': fake.address(),\n",
        "        'email': fake.email(),\n",
        "        'dob': fake.date_of_birth(),\n",
        "        'phone': fake.phone_number()\n",
        "    }\n",
        "    users.append(user)\n",
        "\n",
        "df = spark.createDataFrame(users)\n",
        "\n",
        "df.show(10, False)\n"
      ]
    },
    {
      "cell_type": "markdown",
      "metadata": {
        "id": "YGXjf6xpBj36"
      },
      "source": [
        "# Writing as PARQUET\n",
        "\n"
      ]
    },
    {
      "cell_type": "markdown",
      "metadata": {
        "id": "14stpbb4Bj37"
      },
      "source": []
    },
    {
      "cell_type": "code",
      "execution_count": 4,
      "metadata": {
        "colab": {
          "base_uri": "https://localhost:8080/"
        },
        "id": "dw5IIgebBj37",
        "outputId": "b231425a-ea45-406a-c85e-592d1cf88d3a"
      },
      "outputs": [
        {
          "output_type": "stream",
          "name": "stdout",
          "text": [
            "part-00000-394260dc-04f0-4d95-8960-8947ae1a8a74-c000.snappy.parquet  _SUCCESS\n"
          ]
        },
        {
          "output_type": "execute_result",
          "data": {
            "text/plain": [
              "50"
            ]
          },
          "metadata": {},
          "execution_count": 4
        }
      ],
      "source": [
        "# Writing as PARQUET with no partitions\n",
        "\n",
        "path = \"/content/write_partitioning/parquet_no_partitions\"\n",
        "\n",
        "df.write.mode(\"overwrite\").format(\"parquet\").save(path)\n",
        "\n",
        "!ls /content/write_partitioning/parquet_no_partitions\n",
        "\n",
        "spark.read.format(\"parquet\").load(path).count()"
      ]
    },
    {
      "cell_type": "code",
      "source": [
        "# Remove the created partition folder 20240502\n",
        "!rm -rf /content/write_partitioning/parquet_with_partitions/date_part\\=20240502"
      ],
      "metadata": {
        "id": "vYIY4VzQy7G6"
      },
      "execution_count": 7,
      "outputs": []
    },
    {
      "cell_type": "code",
      "source": [
        "# Writing as PARQUET with partitions\n",
        "from pyspark.sql.functions import *\n",
        "\n",
        "path = \"/content/write_partitioning/parquet_with_partitions\"\n",
        "\n",
        "# Creating partition column\n",
        "df = df.withColumn(\"date_part\", date_format(col(\"date\"), \"yyyyMMdd\"))\n",
        "\n",
        "spark.conf.set(\"spark.sql.sources.partitionOverwriteMode\",\"dynamic\") # enable dynamic partition overwrite - only overwrites partitions that are coming in the dataframe\n",
        "\n",
        "(df.where(\"date_part = '20240502'\")\n",
        " .write\n",
        " .mode(\"overwrite\")                                               # overwrites the entire path with the new data\n",
        " .partitionBy(\"date_part\")                                        # partition the data by column - creates sub-folders for each partition\n",
        " .format(\"parquet\")                                               # format of output\n",
        " .save(path))                                                     # path\n",
        "\n",
        "!ls /content/write_partitioning/parquet_with_partitions\n",
        "\n",
        "spark.read.format(\"parquet\").load(path).count()"
      ],
      "metadata": {
        "colab": {
          "base_uri": "https://localhost:8080/"
        },
        "id": "DWX9WZbPHrL1",
        "outputId": "8233ae38-4bc5-463d-9631-141fcc5647a3"
      },
      "execution_count": 8,
      "outputs": [
        {
          "output_type": "stream",
          "name": "stdout",
          "text": [
            "'date_part=20240501'  'date_part=20240502'  'date_part=20240503'  'date_part=20240504'\n"
          ]
        },
        {
          "output_type": "execute_result",
          "data": {
            "text/plain": [
              "50"
            ]
          },
          "metadata": {},
          "execution_count": 8
        }
      ]
    },
    {
      "cell_type": "markdown",
      "source": [
        "Side note:\n",
        "If several small files are created, the OPTIMIZE function can be used to merge all partioned small files into one (with a max size of 200mb each)\n",
        "\n",
        "https://docs.delta.io/latest/optimizations-oss.html#language-sql"
      ],
      "metadata": {
        "id": "IapFB2I3xewa"
      }
    },
    {
      "cell_type": "code",
      "source": [
        "# Checking single partition\n",
        "spark.read.parquet(\"/content/write_partitioning/parquet_with_partitions/date_part=20240502\").show()"
      ],
      "metadata": {
        "colab": {
          "base_uri": "https://localhost:8080/"
        },
        "id": "0B62qu87JsAB",
        "outputId": "6f3858c0-c6fa-4a53-8a5c-f05703784072"
      },
      "execution_count": 9,
      "outputs": [
        {
          "output_type": "stream",
          "name": "stdout",
          "text": [
            "+--------------------+--------------------+----------+--------------------+-----------------+--------------------+\n",
            "|             address|                date|       dob|               email|             name|               phone|\n",
            "+--------------------+--------------------+----------+--------------------+-----------------+--------------------+\n",
            "|3447 Keith Estate...|2024-05-02 23:21:...|2004-08-05|rschultz@example.net|      Janice Lane|   272-885-8870x8138|\n",
            "|Unit 4482 Box 437...|2024-05-02 03:54:...|2023-12-18|heatherabbott@exa...|       Amy Wilson|   603.679.7271x6952|\n",
            "|8885 Vargas Cross...|2024-05-02 06:03:...|1948-08-24|hicksstacy@exampl...|     Darren Jones|  (783)984-3674x5555|\n",
            "|2809 Palmer Way S...|2024-05-02 22:22:...|1952-06-28|   vrice@example.com|     Eric Whitney|+1-924-352-3176x1...|\n",
            "|631 Aaron Parkway...|2024-05-02 19:45:...|1993-12-29| david20@example.org|   David Phillips|        347-273-4411|\n",
            "|PSC 2498, Box 994...|2024-05-02 12:59:...|2013-12-22| linda43@example.net|      Mary Snyder|    001-285-773-1903|\n",
            "|577 Nicholas Cove...|2024-05-02 23:42:...|1951-09-22|masseyjon@example...| Danielle Johnson|  (288)329-4349x6098|\n",
            "|PSC 6067, Box 221...|2024-05-02 05:51:...|1930-12-22|  evan79@example.net|Martin Stephenson|001-557-845-7871x...|\n",
            "|420 Manning Camp ...|2024-05-02 03:12:...|1941-03-20| wchaney@example.org|  Christina Ellis| +1-274-548-3148x579|\n",
            "|45022 Juan Fall A...|2024-05-02 09:47:...|2021-09-29|   fcruz@example.org|       John Weber|        320-350-7426|\n",
            "|5592 Schneider Fo...|2024-05-02 01:14:...|1986-10-04|davisnatalie@exam...| Samantha Shields|   661-615-7204x7024|\n",
            "|350 Jon Trafficwa...|2024-05-02 10:52:...|1962-11-13|heather85@example...|  Shannon Collins|          3839285680|\n",
            "|820 Johnson Key\\n...|2024-05-02 07:59:...|2020-01-27|  zlopez@example.net|    Julia Beasley|+1-852-249-6394x9...|\n",
            "|345 Martin Corner...|2024-05-02 01:08:...|1920-12-19| ericlee@example.net|     Cameron Diaz|  (781)814-2482x5323|\n",
            "|3025 Darius Missi...|2024-05-02 17:46:...|1982-04-10|smithkayla@exampl...|    Christian Fox|    001-777-656-9340|\n",
            "+--------------------+--------------------+----------+--------------------+-----------------+--------------------+\n",
            "\n"
          ]
        }
      ]
    },
    {
      "cell_type": "markdown",
      "source": [
        "# Writing as CSV\n",
        "\n",
        "https://spark.apache.org/docs/3.5.1/sql-data-sources-csv.html"
      ],
      "metadata": {
        "id": "n8mTC5yeNV6o"
      }
    },
    {
      "cell_type": "code",
      "source": [
        "df.count()"
      ],
      "metadata": {
        "colab": {
          "base_uri": "https://localhost:8080/"
        },
        "id": "BnAWUTeZO43Z",
        "outputId": "6648b31d-fc2d-4f25-e65a-12420771a9b2"
      },
      "execution_count": 10,
      "outputs": [
        {
          "output_type": "execute_result",
          "data": {
            "text/plain": [
              "50"
            ]
          },
          "metadata": {},
          "execution_count": 10
        }
      ]
    },
    {
      "cell_type": "code",
      "source": [
        "path = \"/content/write_partitioning/csv_no_partitioning/\"\n",
        "\n",
        "# write as csv\n",
        "(df\n",
        "  .write\n",
        "  .format(\"csv\")\n",
        "  .mode(\"overwrite\")\n",
        "  .option(\"delimiter\", \"|\")\n",
        "  .option(\"header\", True)\n",
        "  .save(path))\n",
        "\n",
        "# listing files in the folder\n",
        "!ls /content/write_partitioning/csv_no_partitioning/\n",
        "\n",
        "# read as csv\n",
        "(spark\n",
        "  .read\n",
        "  .options(sep=\"|\", multiLine=True, header=True)\n",
        "  .csv(path)\n",
        "  .count())"
      ],
      "metadata": {
        "colab": {
          "base_uri": "https://localhost:8080/"
        },
        "id": "oE6zC-HnNYAz",
        "outputId": "341e2c07-f2fd-415d-ea3d-dbbc4fe63bad"
      },
      "execution_count": 11,
      "outputs": [
        {
          "output_type": "stream",
          "name": "stdout",
          "text": [
            "part-00000-0301f8ef-33b6-4339-90c4-2663ff4599f1-c000.csv  _SUCCESS\n"
          ]
        },
        {
          "output_type": "execute_result",
          "data": {
            "text/plain": [
              "50"
            ]
          },
          "metadata": {},
          "execution_count": 11
        }
      ]
    },
    {
      "cell_type": "markdown",
      "source": [
        "# Writing as JSON\n",
        "\n",
        "https://spark.apache.org/docs/3.5.1/sql-data-sources-json.html"
      ],
      "metadata": {
        "id": "ZAuM5-WcTtyZ"
      }
    },
    {
      "cell_type": "code",
      "source": [
        "path = \"/content/write_partitioning/json_no_partitioning/\"\n",
        "\n",
        "# write as json\n",
        "(df\n",
        ".write\n",
        ".mode(\"overwrite\")\n",
        ".format(\"json\")\n",
        ".save(path))\n",
        "\n",
        "# listing files in the folder\n",
        "!ls /content/write_partitioning/json_no_partitioning/\n",
        "\n",
        "# read as json\n",
        "(spark\n",
        "  .read\n",
        "  .json(path)\n",
        "  .count())"
      ],
      "metadata": {
        "colab": {
          "base_uri": "https://localhost:8080/"
        },
        "id": "vnNgwbtxTsW_",
        "outputId": "28b195c5-2806-4263-a9e4-c939813daedd"
      },
      "execution_count": 13,
      "outputs": [
        {
          "output_type": "stream",
          "name": "stdout",
          "text": [
            "part-00000-9941d8aa-29b2-41f1-933b-57a850774cdb-c000.json  _SUCCESS\n"
          ]
        },
        {
          "output_type": "execute_result",
          "data": {
            "text/plain": [
              "50"
            ]
          },
          "metadata": {},
          "execution_count": 13
        }
      ]
    },
    {
      "cell_type": "code",
      "source": [
        "# reading json as text\n",
        "spark.read.text(path).show(10, False)"
      ],
      "metadata": {
        "colab": {
          "base_uri": "https://localhost:8080/"
        },
        "id": "D3hYNCubT0ry",
        "outputId": "74cc4492-2589-48a9-cee1-9a754a4dab0d"
      },
      "execution_count": 14,
      "outputs": [
        {
          "output_type": "stream",
          "name": "stdout",
          "text": [
            "+--------------------------------------------------------------------------------------------------------------------------------------------------------------------------------------------------------------------------------------+\n",
            "|value                                                                                                                                                                                                                                 |\n",
            "+--------------------------------------------------------------------------------------------------------------------------------------------------------------------------------------------------------------------------------------+\n",
            "|{\"address\":\"38065 Robert Street Apt. 753\\nGallagherton, TN 45397\",\"date\":\"2024-05-04T15:36:51.796Z\",\"dob\":\"1909-01-15\",\"email\":\"timothylucas@example.net\",\"name\":\"Megan Porter\",\"phone\":\"323-593-8235x38167\",\"date_part\":\"20240504\"}  |\n",
            "|{\"address\":\"3447 Keith Estate Suite 019\\nGaryfurt, KY 10475\",\"date\":\"2024-05-02T23:21:58.681Z\",\"dob\":\"2004-08-05\",\"email\":\"rschultz@example.net\",\"name\":\"Janice Lane\",\"phone\":\"272-885-8870x8138\",\"date_part\":\"20240502\"}             |\n",
            "|{\"address\":\"736 Ho Union Apt. 862\\nHermanborough, DE 82724\",\"date\":\"2024-05-01T19:12:52.895Z\",\"dob\":\"1985-10-30\",\"email\":\"ulucas@example.com\",\"name\":\"Corey Perez Jr.\",\"phone\":\"(900)650-6425x89058\",\"date_part\":\"20240501\"}          |\n",
            "|{\"address\":\"36048 Charles Summit\\nDustinland, GA 82091\",\"date\":\"2024-05-01T18:48:41.083Z\",\"dob\":\"1928-02-15\",\"email\":\"michael55@example.org\",\"name\":\"Jose Johnson\",\"phone\":\"711-751-0874x4025\",\"date_part\":\"20240501\"}                |\n",
            "|{\"address\":\"2641 Cody Trail Apt. 268\\nLambertmouth, NC 52243\",\"date\":\"2024-05-03T21:23:14.049Z\",\"dob\":\"1948-07-06\",\"email\":\"montoyasara@example.net\",\"name\":\"Darrell Green\",\"phone\":\"(635)712-4772x96002\",\"date_part\":\"20240503\"}     |\n",
            "|{\"address\":\"87485 Beverly Gardens\\nPort Jennifer, PW 84264\",\"date\":\"2024-05-01T04:14:31.567Z\",\"dob\":\"1913-10-26\",\"email\":\"rogersgregory@example.org\",\"name\":\"Melody Gomez\",\"phone\":\"802.794.3431\",\"date_part\":\"20240501\"}             |\n",
            "|{\"address\":\"615 Zoe Place\\nMaryhaven, MI 40593\",\"date\":\"2024-05-03T08:00:06.341Z\",\"dob\":\"2016-03-18\",\"email\":\"hailey37@example.org\",\"name\":\"Rhonda Williams\",\"phone\":\"001-607-263-8270x19575\",\"date_part\":\"20240503\"}                 |\n",
            "|{\"address\":\"USS Manning\\nFPO AP 11888\",\"date\":\"2024-05-03T08:03:26.133Z\",\"dob\":\"1910-11-17\",\"email\":\"robert04@example.net\",\"name\":\"Aaron Simon\",\"phone\":\"001-215-305-1111\",\"date_part\":\"20240503\"}                                    |\n",
            "|{\"address\":\"6647 Roger Parks Suite 365\\nWest Brittanyview, MN 51623\",\"date\":\"2024-05-01T07:03:47.030Z\",\"dob\":\"1964-10-14\",\"email\":\"mandyyork@example.com\",\"name\":\"Monique Powell\",\"phone\":\"241.680.9069x77602\",\"date_part\":\"20240501\"}|\n",
            "|{\"address\":\"8542 Patterson Loaf Suite 561\\nPort Christine, NV 49697\",\"date\":\"2024-05-03T22:24:47.565Z\",\"dob\":\"1951-09-03\",\"email\":\"tina58@example.org\",\"name\":\"Ana Young\",\"phone\":\"826-653-5483x22561\",\"date_part\":\"20240503\"}        |\n",
            "+--------------------------------------------------------------------------------------------------------------------------------------------------------------------------------------------------------------------------------------+\n",
            "only showing top 10 rows\n",
            "\n"
          ]
        }
      ]
    },
    {
      "cell_type": "code",
      "source": [
        "# reading json as text\n",
        "spark.read.json(path).show(10, False)"
      ],
      "metadata": {
        "colab": {
          "base_uri": "https://localhost:8080/"
        },
        "id": "0bHcT2ilUo_F",
        "outputId": "71ce30c5-d7ce-4a6f-e9a0-16174ef1893e"
      },
      "execution_count": 15,
      "outputs": [
        {
          "output_type": "stream",
          "name": "stdout",
          "text": [
            "+-------------------------------------------------------+------------------------+---------+----------+-------------------------+---------------+----------------------+\n",
            "|address                                                |date                    |date_part|dob       |email                    |name           |phone                 |\n",
            "+-------------------------------------------------------+------------------------+---------+----------+-------------------------+---------------+----------------------+\n",
            "|38065 Robert Street Apt. 753\\nGallagherton, TN 45397   |2024-05-04T15:36:51.796Z|20240504 |1909-01-15|timothylucas@example.net |Megan Porter   |323-593-8235x38167    |\n",
            "|3447 Keith Estate Suite 019\\nGaryfurt, KY 10475        |2024-05-02T23:21:58.681Z|20240502 |2004-08-05|rschultz@example.net     |Janice Lane    |272-885-8870x8138     |\n",
            "|736 Ho Union Apt. 862\\nHermanborough, DE 82724         |2024-05-01T19:12:52.895Z|20240501 |1985-10-30|ulucas@example.com       |Corey Perez Jr.|(900)650-6425x89058   |\n",
            "|36048 Charles Summit\\nDustinland, GA 82091             |2024-05-01T18:48:41.083Z|20240501 |1928-02-15|michael55@example.org    |Jose Johnson   |711-751-0874x4025     |\n",
            "|2641 Cody Trail Apt. 268\\nLambertmouth, NC 52243       |2024-05-03T21:23:14.049Z|20240503 |1948-07-06|montoyasara@example.net  |Darrell Green  |(635)712-4772x96002   |\n",
            "|87485 Beverly Gardens\\nPort Jennifer, PW 84264         |2024-05-01T04:14:31.567Z|20240501 |1913-10-26|rogersgregory@example.org|Melody Gomez   |802.794.3431          |\n",
            "|615 Zoe Place\\nMaryhaven, MI 40593                     |2024-05-03T08:00:06.341Z|20240503 |2016-03-18|hailey37@example.org     |Rhonda Williams|001-607-263-8270x19575|\n",
            "|USS Manning\\nFPO AP 11888                              |2024-05-03T08:03:26.133Z|20240503 |1910-11-17|robert04@example.net     |Aaron Simon    |001-215-305-1111      |\n",
            "|6647 Roger Parks Suite 365\\nWest Brittanyview, MN 51623|2024-05-01T07:03:47.030Z|20240501 |1964-10-14|mandyyork@example.com    |Monique Powell |241.680.9069x77602    |\n",
            "|8542 Patterson Loaf Suite 561\\nPort Christine, NV 49697|2024-05-03T22:24:47.565Z|20240503 |1951-09-03|tina58@example.org       |Ana Young      |826-653-5483x22561    |\n",
            "+-------------------------------------------------------+------------------------+---------+----------+-------------------------+---------------+----------------------+\n",
            "only showing top 10 rows\n",
            "\n"
          ]
        }
      ]
    },
    {
      "cell_type": "code",
      "source": [
        "# partition json data + saveAsTable\n",
        "\n",
        "# Creating partition column\n",
        "df = df.withColumn(\"date_part\", date_format(col(\"date\"), \"yyyyMMdd\"))\n",
        "\n",
        "# write as json\n",
        "(df.write\n",
        "  .partitionBy(\"date_part\")\n",
        "  .mode(\"overwrite\")\n",
        "  .format(\"json\")\n",
        "  .saveAsTable(\"tbl_json_part\"))\n",
        "\n",
        "# read as json\n",
        "print(spark.table(\"tbl_json_part\").count())\n",
        "\n",
        "# show created table\n",
        "spark.sql(\"show tables from default\").show()\n",
        "\n",
        "# read as json\n",
        "spark.sql(\"show partitions tbl_json_part\").show()"
      ],
      "metadata": {
        "colab": {
          "base_uri": "https://localhost:8080/"
        },
        "id": "Qj59UNMuU0hV",
        "outputId": "5616a281-d1cd-44b2-8a1b-d154ad36fc66"
      },
      "execution_count": 18,
      "outputs": [
        {
          "output_type": "stream",
          "name": "stdout",
          "text": [
            "50\n",
            "+---------+-------------+-----------+\n",
            "|namespace|    tableName|isTemporary|\n",
            "+---------+-------------+-----------+\n",
            "|  default|tbl_json_part|      false|\n",
            "+---------+-------------+-----------+\n",
            "\n",
            "+------------------+\n",
            "|         partition|\n",
            "+------------------+\n",
            "|date_part=20240501|\n",
            "|date_part=20240502|\n",
            "|date_part=20240503|\n",
            "|date_part=20240504|\n",
            "+------------------+\n",
            "\n"
          ]
        }
      ]
    },
    {
      "cell_type": "markdown",
      "source": [
        "# Append Mode"
      ],
      "metadata": {
        "id": "6RhijzyqZeeq"
      }
    },
    {
      "cell_type": "code",
      "source": [
        "# Writing as PARQUET with APPEND\n",
        "\n",
        "path = \"/content/write_partitioning/parquet_append\"\n",
        "\n",
        "df.write.mode(\"append\").format(\"parquet\").save(path)\n",
        "\n",
        "!ls /content/write_partitioning/parquet_append\n",
        "\n",
        "spark.read.format(\"parquet\").load(path).count()"
      ],
      "metadata": {
        "id": "GmLjA1zDZeG_",
        "outputId": "98529340-d2df-4eac-828a-e7568173ce90",
        "colab": {
          "base_uri": "https://localhost:8080/"
        }
      },
      "execution_count": 19,
      "outputs": [
        {
          "output_type": "stream",
          "name": "stdout",
          "text": [
            "part-00000-72f41d21-4505-4134-b753-0e1f6b1ba9e1-c000.snappy.parquet  _SUCCESS\n"
          ]
        },
        {
          "output_type": "execute_result",
          "data": {
            "text/plain": [
              "50"
            ]
          },
          "metadata": {},
          "execution_count": 19
        }
      ]
    }
  ],
  "metadata": {
    "colab": {
      "provenance": [],
      "include_colab_link": true
    },
    "kernelspec": {
      "display_name": "Python 3",
      "name": "python3"
    },
    "language_info": {
      "name": "python"
    }
  },
  "nbformat": 4,
  "nbformat_minor": 0
}