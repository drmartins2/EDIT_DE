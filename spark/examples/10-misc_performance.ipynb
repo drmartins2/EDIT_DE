{
  "cells": [
    {
      "cell_type": "markdown",
      "metadata": {
        "id": "hyDay-zKVX3g"
      },
      "source": [
        "<a href=\"https://colab.research.google.com/github/lucprosa/dataeng-basic-course/blob/main/spark/examples/10-misc_performance.ipynb\" target=\"_parent\"><img src=\"https://colab.research.google.com/assets/colab-badge.svg\" alt=\"Open In Colab\"/></a>"
      ]
    },
    {
      "cell_type": "markdown",
      "metadata": {
        "id": "BOA_wQSmLd9z"
      },
      "source": [
        "# Miscellaneos Performance tricks\n",
        "- cache() & persist()\n",
        "- broadcast join\n",
        "- repartition & coalesce\n",
        "- explain"
      ]
    },
    {
      "cell_type": "markdown",
      "metadata": {
        "id": "d9LeYFsPTjAb"
      },
      "source": [
        "# Setting up PySpark"
      ]
    },
    {
      "cell_type": "code",
      "execution_count": null,
      "metadata": {
        "colab": {
          "base_uri": "https://localhost:8080/"
        },
        "id": "uYXeODL0T1fO",
        "outputId": "c410e46c-4a50-43aa-926f-d0417c6280d2"
      },
      "outputs": [
        {
          "name": "stdout",
          "output_type": "stream",
          "text": [
            "Requirement already satisfied: pyspark in /usr/local/lib/python3.10/dist-packages (3.5.3)\n",
            "Requirement already satisfied: py4j==0.10.9.7 in /usr/local/lib/python3.10/dist-packages (from pyspark) (0.10.9.7)\n"
          ]
        }
      ],
      "source": [
        "%pip install pyspark"
      ]
    },
    {
      "cell_type": "code",
      "execution_count": 1,
      "metadata": {
        "id": "637HFw00T3LP"
      },
      "outputs": [],
      "source": [
        "from pyspark.sql import SparkSession\n",
        "spark = SparkSession.builder.master('local').appName('Spark Course').getOrCreate()"
      ]
    },
    {
      "cell_type": "markdown",
      "metadata": {
        "id": "Vj3Cg2riVX3m"
      },
      "source": [
        "# Preparing data"
      ]
    },
    {
      "cell_type": "code",
      "execution_count": 2,
      "metadata": {
        "id": "z-caHS2MVX3m"
      },
      "outputs": [],
      "source": [
        "from pyspark import SparkFiles\n",
        "from pyspark.sql.types import *\n",
        "\n",
        "# Setting up URLs\n",
        "squirrel_url = \"https://raw.githubusercontent.com/lucprosa/dataeng-basic-course/main/data/squirrel-data/squirrel-data.csv\"\n",
        "park_url = \"https://raw.githubusercontent.com/lucprosa/dataeng-basic-course/main/data/squirrel-data/park-data.csv\"\n",
        "\n",
        "\n",
        "# Defining schemas\n",
        "squirrel_schema = StructType([\n",
        "StructField('Area Name',StringType(),True),\n",
        "StructField('Area ID',StringType(),True),\n",
        "StructField('Park Name',StringType(),True),\n",
        "StructField('Park ID', StringType(), True),\n",
        "StructField('Squirrel ID', StringType(), True),\n",
        "StructField('Primary Fur Color', StringType(), True),\n",
        "StructField('Highlights in Fur Color', StringType(), True),\n",
        "StructField('Color Notes', StringType(), True),\n",
        "StructField('Location', StringType(), True),\n",
        "StructField('Above Ground (Height in Feet)', StringType(), True),\n",
        "StructField('Specific Location', StringType(), True),\n",
        "StructField('Activities', StringType(), True),\n",
        "StructField('Interactions with Humans', StringType(), True),\n",
        "StructField('Squirrel Latitude (DD.DDDDDD)', StringType(), True),\n",
        "StructField('Squirrel Longitude (-DD.DDDDDD)', StringType(), True)\n",
        "])\n",
        "\n",
        "park_schema = StructType([\n",
        "StructField('Area Name',StringType(),True),\n",
        "StructField('Area ID',StringType(),True),\n",
        "StructField('Park Name',StringType(),True),\n",
        "StructField('Park ID', StringType(), True),\n",
        "StructField('Date', StringType(), True),\n",
        "StructField('Start Time', StringType(), True),\n",
        "StructField('End Time', StringType(), True),\n",
        "StructField('Total Time (in minutes, if available)', StringType(), True),\n",
        "StructField('Park Conditions', StringType(), True),\n",
        "StructField('Other Animal Sightings', StringType(), True),\n",
        "StructField('Litter', StringType(), True),\n",
        "StructField('Activities', StringType(), True),\n",
        "StructField('Temperature & Weather', StringType(), True),\n",
        "StructField('Number of Squirrels', IntegerType(), True),\n",
        "StructField('Squirrel Sighter(s)', StringType(), True),\n",
        "StructField('Number of Sighters', IntegerType(), True)\n",
        "])\n",
        "\n",
        "area_schema = StructType([\n",
        "StructField('Area ID',StringType(),True),\n",
        "StructField('Area Name',StringType(),True),\n",
        "StructField('Area Description',StringType(),True),\n",
        "StructField('City Name',StringType(),True),\n",
        "])\n",
        "\n",
        "area_data = [\n",
        "    (\"A\", \"UPPER MANHATTAN\", \"Uptown Manhattan\", \"New York\"),\n",
        "    (\"B\", \"CENTRAL MANHATTAN\", \"Midtown Manhattan\", \"New York\"),\n",
        "    (\"C\", \"LOWER MANHATTAN\", \"Downtown Manhattan\", \"New York\"),\n",
        "    (\"D\", \"BROOKLYN\", \"Brooklyn\", \"New York\")\n",
        "    ]\n",
        "\n",
        "spark.sparkContext.addFile(squirrel_url)\n",
        "spark.sparkContext.addFile(park_url)\n",
        "\n",
        "# creating dataframes\n",
        "squirrel = spark.read.csv(SparkFiles.get(\"squirrel-data.csv\"), header=True, schema=squirrel_schema)\n",
        "park = spark.read.csv(SparkFiles.get(\"park-data.csv\"), header=True, schema=park_schema)\n",
        "area = spark.createDataFrame(data=area_data, schema=area_schema)"
      ]
    },
    {
      "cell_type": "code",
      "execution_count": 3,
      "metadata": {
        "id": "e1jkoWpweDqW",
        "outputId": "fc0927db-1437-4fa9-e1e8-48556cfe99bc",
        "colab": {
          "base_uri": "https://localhost:8080/"
        }
      },
      "outputs": [
        {
          "output_type": "stream",
          "name": "stdout",
          "text": [
            "+---------------+-------+-------------------+-------+-----------+-----------------+-----------------------+-----------+------------+-----------------------------+-----------------+--------------------+------------------------+-----------------------------+-------------------------------+\n",
            "|      Area Name|Area ID|          Park Name|Park ID|Squirrel ID|Primary Fur Color|Highlights in Fur Color|Color Notes|    Location|Above Ground (Height in Feet)|Specific Location|          Activities|Interactions with Humans|Squirrel Latitude (DD.DDDDDD)|Squirrel Longitude (-DD.DDDDDD)|\n",
            "+---------------+-------+-------------------+-------+-----------+-----------------+-----------------------+-----------+------------+-----------------------------+-----------------+--------------------+------------------------+-----------------------------+-------------------------------+\n",
            "|UPPER MANHATTAN|      A|    Fort Tryon Park|     01|    A-01-01|             Gray|                  White|       NULL|Ground Plane|                         NULL|             NULL|            Foraging|             Indifferent|                         NULL|                       40.85941|\n",
            "|UPPER MANHATTAN|      A|    Fort Tryon Park|     01|    A-01-02|             Gray|                  White|       NULL|Ground Plane|                         NULL|             NULL|            Foraging|             Indifferent|                 Looks skinny|                      40.859436|\n",
            "|UPPER MANHATTAN|      A|    Fort Tryon Park|     01|    A-01-03|             Gray|                  White|       NULL|Ground Plane|                         NULL|             NULL|Eating, Digging s...|             Indifferent|                         NULL|                      40.859416|\n",
            "|UPPER MANHATTAN|      A|    Fort Tryon Park|     01|    A-01-04|             Gray|                  White|       NULL|Ground Plane|                         NULL|             NULL|             Running|             Indifferent|                         NULL|                      40.859418|\n",
            "|UPPER MANHATTAN|      A|    Fort Tryon Park|     01|    A-01-05|             Gray|               Cinnamon|       NULL|Ground Plane|                         NULL|             NULL|     Running, Eating|             Indifferent|                She left food|                      40.859493|\n",
            "|UPPER MANHATTAN|      A|    Fort Tryon Park|     01|    A-01-06|             Gray|               Cinnamon|       NULL|Ground Plane|                         NULL|             NULL|            Climbing|             Indifferent|                         NULL|                      40.860825|\n",
            "|UPPER MANHATTAN|      A|    Fort Tryon Park|     01|    A-01-07|             Gray|                  White|       NULL|Ground Plane|                         NULL|             NULL|            Foraging|             Indifferent|                         NULL|                      40.860225|\n",
            "|UPPER MANHATTAN|      A|    Fort Tryon Park|     01|    A-01-08|            Black|                   Gray|       NULL|Above Ground|                           10|             NULL|            Climbing|               Runs From|                         NULL|                      40.859965|\n",
            "|UPPER MANHATTAN|      A|    Fort Tryon Park|     01|    A-01-09|             Gray|                  White|       NULL|Ground Plane|                         NULL|             NULL|            Foraging|             Indifferent|                         NULL|                      40.859892|\n",
            "|UPPER MANHATTAN|      A|    Fort Tryon Park|     01|    A-01-10|             Gray|                  White|       NULL|Ground Plane|                         NULL|             NULL|     Eating, Digging|             Indifferent|                         NULL|                      40.859636|\n",
            "|UPPER MANHATTAN|      A|    Fort Tryon Park|     01|    A-01-11|             Gray|                  Black|       NULL|Ground Plane|                         NULL|             NULL|     Eating, Digging|             Indifferent|         was intimidated b...|                      40.859576|\n",
            "|UPPER MANHATTAN|      A|    Fort Tryon Park|     01|    A-01-12|             Gray|                  White|       NULL|Ground Plane|                         NULL|             NULL|             Running|               Runs From|                         NULL|                      40.859989|\n",
            "|UPPER MANHATTAN|      A|J. Hood Wright Park|     02|    A-02-01|             Gray|                   Gray|       NULL|Ground Plane|                         NULL|             NULL|             Running|             Indifferent|                         NULL|                      40.845749|\n",
            "|UPPER MANHATTAN|      A|J. Hood Wright Park|     02|    A-02-02|             Gray|               Cinnamon|       NULL|Above Ground|                            2|             NULL|            Foraging|             Indifferent|                         NULL|                      40.845875|\n",
            "|UPPER MANHATTAN|      A|J. Hood Wright Park|     02|    A-02-03|             Gray|               Cinnamon|       NULL|Ground Plane|                         NULL|             NULL|            Foraging|                    NULL|                         NULL|                      40.845875|\n",
            "|UPPER MANHATTAN|      A|J. Hood Wright Park|     02|    A-02-04|             Gray|               Cinnamon|       NULL|Ground Plane|                         NULL|             NULL|             Running|             Indifferent|                         NULL|                      40.846088|\n",
            "|UPPER MANHATTAN|      A|J. Hood Wright Park|     02|    A-02-05|             Gray|               Cinnamon|       NULL|Ground Plane|                         NULL|             NULL|             Running|               Runs From|                         NULL|                      40.846088|\n",
            "|UPPER MANHATTAN|      A|J. Hood Wright Park|     02|    A-02-06|             Gray|               Cinnamon|       NULL|Ground Plane|                         NULL|             NULL|            Foraging|             Indifferent|                         NULL|                      40.846088|\n",
            "|UPPER MANHATTAN|      A|J. Hood Wright Park|     02|    A-02-07|             Gray|                   Gray|       NULL|Ground Plane|                         NULL|             NULL|                NULL|               Runs From|                         NULL|                      40.846222|\n",
            "|UPPER MANHATTAN|      A|J. Hood Wright Park|     02|    A-02-08|             Gray|               Cinnamon|       NULL|Ground Plane|                         NULL|             NULL|Foraging, Nesting...|             Indifferent|                         NULL|                      40.846222|\n",
            "+---------------+-------+-------------------+-------+-----------+-----------------+-----------------------+-----------+------------+-----------------------------+-----------------+--------------------+------------------------+-----------------------------+-------------------------------+\n",
            "only showing top 20 rows\n",
            "\n",
            "+-----------------+-------+--------------------+-------+------+----------+----------+-------------------------------------+--------------------+----------------------+--------------------+--------------------+---------------------+-------------------+-------------------+------------------+\n",
            "|        Area Name|Area ID|           Park Name|Park ID|  Date|Start Time|  End Time|Total Time (in minutes, if available)|     Park Conditions|Other Animal Sightings|              Litter|          Activities|Temperature & Weather|Number of Squirrels|Squirrel Sighter(s)|Number of Sighters|\n",
            "+-----------------+-------+--------------------+-------+------+----------+----------+-------------------------------------+--------------------+----------------------+--------------------+--------------------+---------------------+-------------------+-------------------+------------------+\n",
            "|  UPPER MANHATTAN|      A|     Fort Tryon Park|     01|3/1/20|3:14:00 PM|4:05:00 PM|                                   51|                Busy|  Humans, Dogs, Pig...|                Some|   43 degrees, sunny|                   12|               NULL|                  4|              NULL|\n",
            "|  UPPER MANHATTAN|      A| J. Hood Wright Park|     02|3/1/20|3:30:00 PM|4:00:00 PM|                                   30|                Calm|  Humans, Hawks, Do...|      Some, in trees|         cold, clear|                   24|               NULL|                  2|              NULL|\n",
            "|  UPPER MANHATTAN|      A|     Highbridge Park|     03|3/1/20|3:21:00 PM|4:15:00 PM|                                   54|Calm, pick-up bas...|  Humans, Dogs (3, ...|Some, especially ...|          43 degrees|                   16|               NULL|                  3|              NULL|\n",
            "|  UPPER MANHATTAN|      A|   St. Nicholas Park|     04|3/1/20|3:15:00 PM|3:45:00 PM|                                   30|                Calm|          Humans, Dogs|Some, backside of...|   43 degrees, clear|                   15|               NULL|                  3|              NULL|\n",
            "|  UPPER MANHATTAN|      A|Riverside Park (s...|     05|3/1/20|3:15:00 PM|3:45:00 PM|                                   30|                Calm|          Humans, Dogs|                NULL|                NULL|                   28|               NULL|                  3|              NULL|\n",
            "|  UPPER MANHATTAN|      A|  Marcus Garvey Park|     06|3/1/20|3:45:00 PM|4:15:00 PM|                                   30|Calm, re: humans,...|  Hawks, Dogs, Pigeons|            Abundant|   42 degrees, clear|                   34|                 16|                  1|              NULL|\n",
            "|CENTRAL MANHATTAN|      B| Madison Square Park|     07|3/1/20|2:30:00 PM|3:50:00 PM|                                   80|                Busy|  Humans, Dogs, Pig...|                NULL|   43 degrees, sunny|                   11|               NULL|                  4|              NULL|\n",
            "|CENTRAL MANHATTAN|      B|   Union Square Park|     08|3/1/20|3:15:00 PM|3:45:00 PM|                                   30|                Busy|  Humans, Dogs, Pig...|                NULL|   40 degrees, sunny|                   16|               NULL|                  4|              NULL|\n",
            "|CENTRAL MANHATTAN|      B|Stuyvesant Square...|     09|3/1/20|3:00:00 PM|4:00:00 PM|                                   60|Calm, 20���30 ppl...|  Humans, Dogs, Spa...|                Some|   45 degrees, sunny|                   25|               NULL|                  2|              NULL|\n",
            "|CENTRAL MANHATTAN|      B|Washington Square...|     10|3/1/20|3:20:00 PM|4:00:00 PM|                                   40|                Busy|          Humans, Dogs|                None|45 degrees, sunny...|                   51|               NULL|                  2|              NULL|\n",
            "|CENTRAL MANHATTAN|      B|Tompkins Square Park|     11|3/1/20|3:15:00 PM|3:45:00 PM|                                   30|                NULL|                  NULL|                NULL|                NULL|                   59|               NULL|                  2|              NULL|\n",
            "|CENTRAL MANHATTAN|      B|John V. Lindsay E...|     12|3/1/20|3:01:00 PM|3:45:00 PM|                                   44|                Calm|  Humans (Joggers, ...|                NULL|        windy, clear|                   12|                 31|                  1|              NULL|\n",
            "|  LOWER MANHATTAN|      C|Sara D. Roosevelt...|   13.1|3/1/20|3:30:00 PM|4:00:00 PM|                                   30|                Busy|   Humans, Dogs (Gray)|                Some|   44 degrees, sunny|                    0|               NULL|                  3|              NULL|\n",
            "|  LOWER MANHATTAN|      C|Sara D. Roosevelt...|   13.2|3/1/20|3:30:00 PM|4:00:00 PM|                                   30|                Busy|       Humans, Pigeons|                Some|   43 degrees, sunny|                    0|               NULL|                  3|              NULL|\n",
            "|  LOWER MANHATTAN|      C|         Seward Park|     14|3/1/20|3:25:00 PM|3:55:00 PM|                                   30|                Busy|       Humans, Pigeons|                Some|   40 degrees, sunny|                    7|               NULL|                  4|              NULL|\n",
            "|  LOWER MANHATTAN|      C|  Corlears Hook Park|     15|3/1/20|3:35:00 PM|4:15:00 PM|                                   40|                Calm|  Humans, Dogs, Pig...|Some, mostly in t...|   48 degrees, sunny|                   16|               NULL|                  3|              NULL|\n",
            "|  LOWER MANHATTAN|      C|       Columbus Park|     16|3/1/20|3:47:00 PM|4:38:00 PM|                                   51|                Busy|  Humans, Dogs, Pig...|                None|42 degrees, windy...|                    4|               NULL|                  2|              NULL|\n",
            "|  LOWER MANHATTAN|      C|   Thomas Paine Park|     17|3/1/20|3:35:00 PM|3:45:00 PM|                                   10|                Calm|  Humans, Dogs, Pig...|                None|42 degrees, windy...|                    0|               NULL|                  2|              NULL|\n",
            "|  LOWER MANHATTAN|      C|       Teardrop Park|     18|3/1/20|3:37:00 PM|4:00:00 PM|                                   23|                NULL|  Humans, Dogs, Fis...|                Some|43 degrees, sunny...|                    1|               NULL|                  2|              NULL|\n",
            "|  LOWER MANHATTAN|      C|      City Hall Park|     19|3/1/20|3:34:00 PM|4:04:00 PM|                                   30|                Calm|  Humans, Pigeons, Cat|                None|   44 degrees, sunny|                   18|               NULL|                  2|              NULL|\n",
            "+-----------------+-------+--------------------+-------+------+----------+----------+-------------------------------------+--------------------+----------------------+--------------------+--------------------+---------------------+-------------------+-------------------+------------------+\n",
            "only showing top 20 rows\n",
            "\n",
            "+-------+-----------------+------------------+---------+\n",
            "|Area ID|        Area Name|  Area Description|City Name|\n",
            "+-------+-----------------+------------------+---------+\n",
            "|      A|  UPPER MANHATTAN|  Uptown Manhattan| New York|\n",
            "|      B|CENTRAL MANHATTAN| Midtown Manhattan| New York|\n",
            "|      C|  LOWER MANHATTAN|Downtown Manhattan| New York|\n",
            "|      D|         BROOKLYN|          Brooklyn| New York|\n",
            "+-------+-----------------+------------------+---------+\n",
            "\n"
          ]
        }
      ],
      "source": [
        "# show data\n",
        "squirrel.show()\n",
        "park.show()\n",
        "area.show()"
      ]
    },
    {
      "cell_type": "markdown",
      "source": [
        "# Caching & Persist"
      ],
      "metadata": {
        "id": "9xipEQu1aUcx"
      }
    },
    {
      "cell_type": "code",
      "source": [
        "!pip install pytictoc"
      ],
      "metadata": {
        "id": "QsUVb5-MhkKg",
        "outputId": "3f974e8a-6d0a-4d9c-99d0-8bea5661f9ec",
        "colab": {
          "base_uri": "https://localhost:8080/"
        }
      },
      "execution_count": 5,
      "outputs": [
        {
          "output_type": "stream",
          "name": "stdout",
          "text": [
            "Collecting pytictoc\n",
            "  Downloading pytictoc-1.5.3-py2.py3-none-any.whl.metadata (2.9 kB)\n",
            "Downloading pytictoc-1.5.3-py2.py3-none-any.whl (4.0 kB)\n",
            "Installing collected packages: pytictoc\n",
            "Successfully installed pytictoc-1.5.3\n"
          ]
        }
      ]
    },
    {
      "cell_type": "code",
      "source": [
        "# Caching\n",
        "# Default: MEMORY_AND_DISK\n",
        "\n",
        "import uuid\n",
        "from pyspark.sql.functions import udf\n",
        "from pytictoc import TicToc # -------------> provides the elapsed time between the tic and the toc\n",
        "\n",
        "t = TicToc()\n",
        "t.tic()\n",
        "\n",
        "@udf\n",
        "def generate_uuid():\n",
        "  return str(uuid.uuid4())\n",
        "\n",
        "# transformation 1\n",
        "squirrel = squirrel.withColumn(\"hash_id\", generate_uuid())\n",
        "\n",
        "# transformation 2\n",
        "squirrel = squirrel.dropDuplicates()\n",
        "\n",
        "squirrel.cache().count() #<--------------- force an action [count()] to run the cache\n",
        "\n",
        "# Now all transformations after the cahching has been made will be faster\n",
        "\n",
        "# transformations N\n",
        "# squirrel = squirrel.join...\n",
        "# squirrel = squirrel.groupBy...\n",
        "\n",
        "# DAG\n",
        "# T1 -> T2 -> T3...TN -> A1\n",
        "\n",
        "# action 1\n",
        "# squirrel.write.format(\"parquet\").path(\"path\")\n",
        "\n",
        "t.toc()\n"
      ],
      "metadata": {
        "id": "mOOh51r6WmDj",
        "outputId": "04f4bdde-f1b2-41bb-aad1-9f6a91d8a466",
        "colab": {
          "base_uri": "https://localhost:8080/"
        }
      },
      "execution_count": 6,
      "outputs": [
        {
          "output_type": "stream",
          "name": "stdout",
          "text": [
            "Elapsed time is 15.610669 seconds.\n"
          ]
        }
      ]
    },
    {
      "cell_type": "code",
      "source": [
        "squirrel.is_cached"
      ],
      "metadata": {
        "id": "NTrdLhFlY0NU",
        "outputId": "51ab7185-4ed6-404d-8f85-4b21954847f5",
        "colab": {
          "base_uri": "https://localhost:8080/"
        }
      },
      "execution_count": 7,
      "outputs": [
        {
          "output_type": "execute_result",
          "data": {
            "text/plain": [
              "True"
            ]
          },
          "metadata": {},
          "execution_count": 7
        }
      ]
    },
    {
      "cell_type": "code",
      "execution_count": 8,
      "metadata": {
        "colab": {
          "base_uri": "https://localhost:8080/"
        },
        "id": "9yEpZwS_QtJ1",
        "outputId": "8933ce48-f749-48bc-ce27-f2fed8ea431f"
      },
      "outputs": [
        {
          "output_type": "stream",
          "name": "stdout",
          "text": [
            "+-----------------+-------+--------------------+-------+-----------+-----------------+-----------------------+-----------+--------------------+-----------------------------+--------------------+-----------------+------------------------+-----------------------------+-------------------------------+--------------------+\n",
            "|        Area Name|Area ID|           Park Name|Park ID|Squirrel ID|Primary Fur Color|Highlights in Fur Color|Color Notes|            Location|Above Ground (Height in Feet)|   Specific Location|       Activities|Interactions with Humans|Squirrel Latitude (DD.DDDDDD)|Squirrel Longitude (-DD.DDDDDD)|             hash_id|\n",
            "+-----------------+-------+--------------------+-------+-----------+-----------------+-----------------------+-----------+--------------------+-----------------------------+--------------------+-----------------+------------------------+-----------------------------+-------------------------------+--------------------+\n",
            "|CENTRAL MANHATTAN|      B|Tompkins Square Park|     11|    B-11-09|             Gray|                   Gray|       NULL|        Ground Plane|                         NULL|                NULL|         Foraging|             Indifferent|                         NULL|                           NULL|7af4d74d-8ed0-47f...|\n",
            "|  LOWER MANHATTAN|      C|      City Hall Park|     19|    C-19-05|             Gray|        Cinnamon, White|       NULL|        Ground Plane|                         NULL|                NULL|  Eating, Burying|              Approaches|         Couldn't find a g...|                      40.712893|96e60057-6f41-438...|\n",
            "|  LOWER MANHATTAN|      C|      City Hall Park|     19|    C-19-10|             Gray|                  White|       NULL|Ground Plane, Spe...|                         NULL|on City Hall back...|          Running|             Indifferent|                         NULL|                      40.712881|fc8d6a30-9555-4a4...|\n",
            "|  LOWER MANHATTAN|      C|        Battery Park|     20|    C-20-20|         Cinnamon|                   NULL|       NULL|        Ground Plane|                         NULL|                NULL|             NULL|                    NULL|                         NULL|                      40.702934|620dec9a-338d-400...|\n",
            "|         BROOKLYN|      D|       McCarren Park|     22|    D-22-09|             Gray|                   Gray|       NULL|Ground Plane, Spe...|                         NULL|In a trash and me...| Eating, Foraging|             Indifferent|                         NULL|                      40.721933|441a883b-dfed-47e...|\n",
            "|  LOWER MANHATTAN|      C|  Corlears Hook Park|     15|    C-15-07|             Gray|                   NULL|       NULL|        Above Ground|                           25|                NULL|             NULL|                    NULL|                         NULL|                       40.71224|1acb3a0c-326e-4de...|\n",
            "|  UPPER MANHATTAN|      A|  Marcus Garvey Park|     06|    A-06-08|            Black|                  Black|       NULL|        Above Ground|                           25|                NULL|         Climbing|                    NULL|         Defending the tre...|                      40.804912|a0a64992-0eee-409...|\n",
            "|CENTRAL MANHATTAN|      B|Tompkins Square Park|     11|    B-11-39|             Gray|                   Gray|       NULL|        Ground Plane|                         NULL|                NULL|         Foraging|             Indifferent|                         NULL|                           NULL|71110b0e-980f-469...|\n",
            "|CENTRAL MANHATTAN|      B|John V. Lindsay E...|     12|    B-12-10|             Gray|                   Gray|       NULL|        Ground Plane|                         NULL|                NULL|           Eating|              Approaches|                         NULL|                      40.724011|a2592565-7f7f-436...|\n",
            "|  UPPER MANHATTAN|      A|   St. Nicholas Park|     04|    A-04-11|            Black|                  Black|       NULL|        Ground Plane|                         NULL|                NULL|         Foraging|             Indifferent|                  Wooded area|                      40.816555|1853b136-ecd8-498...|\n",
            "|CENTRAL MANHATTAN|      B|Stuyvesant Square...|     09|    B-09-19|            Black|               Cinnamon|       NULL|Above Ground, Spe...|                           40|             in tree|         Grooming|                    NULL|                         NULL|                      40.734204|08c10667-f47d-4bc...|\n",
            "|CENTRAL MANHATTAN|      B|Tompkins Square Park|     11|    B-11-17|             Gray|                   Gray|       NULL|   Specific Location|                         NULL|                Tree|         Climbing|             Indifferent|                         NULL|                           NULL|dee33ade-d920-494...|\n",
            "|         BROOKLYN|      D|       McCarren Park|     22|    D-22-41|         Cinnamon|               Cinnamon|       NULL|        Above Ground|                         NULL|                NULL|Running, Foraging|             Indifferent|                       Skinny|                      40.721161|cfb71c0e-dcf7-46f...|\n",
            "|  UPPER MANHATTAN|      A|     Fort Tryon Park|     01|    A-01-08|            Black|                   Gray|       NULL|        Above Ground|                           10|                NULL|         Climbing|               Runs From|                         NULL|                      40.859965|359a06d1-c55c-465...|\n",
            "|  UPPER MANHATTAN|      A| J. Hood Wright Park|     02|    A-02-09|             Gray|               Cinnamon|       NULL|        Ground Plane|                         NULL|                NULL|          Chasing|             Indifferent|                         NULL|                      40.846197|c5ff2a3e-bc8a-4e3...|\n",
            "|  UPPER MANHATTAN|      A|   St. Nicholas Park|     04|    A-04-09|             Gray|                  White|       NULL|        Ground Plane|                         NULL|                NULL|         Foraging|             Indifferent|                  Wooded area|                      40.816685|113e9f22-8048-41f...|\n",
            "|  UPPER MANHATTAN|      A|   St. Nicholas Park|     04|    A-04-15|             Gray|                  Black|       NULL|        Ground Plane|                         NULL|                NULL|         Foraging|             Indifferent|                         NULL|                      40.818263|8c8735ef-a76a-455...|\n",
            "|CENTRAL MANHATTAN|      B|Washington Square...|     10|    B-10-27|             Gray|                   NULL|       NULL|                NULL|                         NULL|                NULL|             NULL|             Indifferent|                         NULL|                      40.730334|6074a521-f4c8-443...|\n",
            "|  UPPER MANHATTAN|      A| J. Hood Wright Park|     02|    A-02-06|             Gray|               Cinnamon|       NULL|        Ground Plane|                         NULL|                NULL|         Foraging|             Indifferent|                         NULL|                      40.846088|1912cdfb-d082-432...|\n",
            "|CENTRAL MANHATTAN|      B|Stuyvesant Square...|     09|    B-09-21|             Gray|               Cinnamon|       NULL|Above Ground, Spe...|                           30|             in tree|             NULL|                    NULL|                         NULL|                      40.734261|2ba64a58-7627-45b...|\n",
            "+-----------------+-------+--------------------+-------+-----------+-----------------+-----------------------+-----------+--------------------+-----------------------------+--------------------+-----------------+------------------------+-----------------------------+-------------------------------+--------------------+\n",
            "only showing top 20 rows\n",
            "\n"
          ]
        }
      ],
      "source": [
        "squirrel.show()"
      ]
    },
    {
      "cell_type": "code",
      "source": [
        "squirrel.unpersist()"
      ],
      "metadata": {
        "id": "Cyol21etZ4EO",
        "outputId": "2a000775-99c1-4c98-9c0a-c438f3916959",
        "colab": {
          "base_uri": "https://localhost:8080/"
        }
      },
      "execution_count": 9,
      "outputs": [
        {
          "output_type": "execute_result",
          "data": {
            "text/plain": [
              "DataFrame[Area Name: string, Area ID: string, Park Name: string, Park ID: string, Squirrel ID: string, Primary Fur Color: string, Highlights in Fur Color: string, Color Notes: string, Location: string, Above Ground (Height in Feet): string, Specific Location: string, Activities: string, Interactions with Humans: string, Squirrel Latitude (DD.DDDDDD): string, Squirrel Longitude (-DD.DDDDDD): string, hash_id: string]"
            ]
          },
          "metadata": {},
          "execution_count": 9
        }
      ]
    },
    {
      "cell_type": "code",
      "source": [
        "# Persist\n",
        "# Default: MEMORY_ONLY\n",
        "from pyspark.sql.functions import *\n",
        "from pyspark import StorageLevel\n",
        "\n",
        "# first execution plan\n",
        "print(area.explain(\"cost\"))\n",
        "\n",
        "area = area.withColumn(\"City shortname\", lit(\"NY\"))\n",
        "# second execution plan\n",
        "print(area.explain(\"cost\"))\n",
        "\n",
        "area = area.persist(StorageLevel.MEMORY_ONLY)\n",
        "area.count()\n",
        "\n",
        "# second execution plan\n",
        "area2 = area.withColumn(\"Teste\", lit(\"test\"))\n",
        "print(area2.explain(\"cost\"))\n",
        "\n",
        "print(area.storageLevel)\n",
        "print(area.is_cached)"
      ],
      "metadata": {
        "id": "cz63P4OGaR3T",
        "outputId": "750d6a67-cd75-49ba-e29a-b70e5a7d0f7c",
        "colab": {
          "base_uri": "https://localhost:8080/"
        }
      },
      "execution_count": 10,
      "outputs": [
        {
          "output_type": "stream",
          "name": "stdout",
          "text": [
            "== Optimized Logical Plan ==\n",
            "LogicalRDD [Area ID#62, Area Name#63, Area Description#64, City Name#65], false, Statistics(sizeInBytes=8.0 EiB)\n",
            "\n",
            "== Physical Plan ==\n",
            "*(1) Scan ExistingRDD[Area ID#62,Area Name#63,Area Description#64,City Name#65]\n",
            "\n",
            "\n",
            "None\n",
            "== Optimized Logical Plan ==\n",
            "Project [Area ID#62, Area Name#63, Area Description#64, City Name#65, NY AS City shortname#1166], Statistics(sizeInBytes=9.8 EiB)\n",
            "+- LogicalRDD [Area ID#62, Area Name#63, Area Description#64, City Name#65], false, Statistics(sizeInBytes=8.0 EiB)\n",
            "\n",
            "== Physical Plan ==\n",
            "*(1) Project [Area ID#62, Area Name#63, Area Description#64, City Name#65, NY AS City shortname#1166]\n",
            "+- *(1) Scan ExistingRDD[Area ID#62,Area Name#63,Area Description#64,City Name#65]\n",
            "\n",
            "\n",
            "None\n",
            "== Optimized Logical Plan ==\n",
            "Project [Area ID#62, Area Name#63, Area Description#64, City Name#65, City shortname#1166, test AS Teste#1332], Statistics(sizeInBytes=282.0 B)\n",
            "+- InMemoryRelation [Area ID#62, Area Name#63, Area Description#64, City Name#65, City shortname#1166], StorageLevel(memory, 1 replicas), Statistics(sizeInBytes=238.0 B, rowCount=4)\n",
            "      +- *(1) Project [Area ID#62, Area Name#63, Area Description#64, City Name#65, NY AS City shortname#1166]\n",
            "         +- *(1) Scan ExistingRDD[Area ID#62,Area Name#63,Area Description#64,City Name#65]\n",
            "\n",
            "== Physical Plan ==\n",
            "AdaptiveSparkPlan isFinalPlan=false\n",
            "+- Project [Area ID#62, Area Name#63, Area Description#64, City Name#65, City shortname#1166, test AS Teste#1332]\n",
            "   +- InMemoryTableScan [Area Description#64, Area ID#62, Area Name#63, City Name#65, City shortname#1166]\n",
            "         +- InMemoryRelation [Area ID#62, Area Name#63, Area Description#64, City Name#65, City shortname#1166], StorageLevel(memory, 1 replicas)\n",
            "               +- *(1) Project [Area ID#62, Area Name#63, Area Description#64, City Name#65, NY AS City shortname#1166]\n",
            "                  +- *(1) Scan ExistingRDD[Area ID#62,Area Name#63,Area Description#64,City Name#65]\n",
            "\n",
            "\n",
            "None\n",
            "Memory Serialized 1x Replicated\n",
            "True\n"
          ]
        }
      ]
    },
    {
      "cell_type": "code",
      "source": [
        "# Persist\n",
        "# Default: MEMORY_AND_DISK\n",
        "\n",
        "from pyspark.sql.functions import *\n",
        "from pyspark import StorageLevel\n",
        "\n",
        "# first execution plan\n",
        "print(area.explain(\"cost\"))\n",
        "\n",
        "area = area.withColumn(\"City shortname\", lit(\"NY\"))\n",
        "# second execution plan\n",
        "print(area.explain(\"cost\"))\n",
        "\n",
        "area = area.persist(StorageLevel.DISK_ONLY)\n",
        "area.count()\n",
        "\n",
        "# second execution plan\n",
        "area2 = area.withColumn(\"Teste\", lit(\"test\"))\n",
        "print(area2.explain(\"cost\"))\n",
        "\n",
        "print(area.storageLevel)\n",
        "print(area.is_cached)"
      ],
      "metadata": {
        "id": "Y8lWwqd4bK5Z",
        "outputId": "3f476054-215b-4792-8d9d-8fc43e72bb56",
        "colab": {
          "base_uri": "https://localhost:8080/"
        }
      },
      "execution_count": 11,
      "outputs": [
        {
          "output_type": "stream",
          "name": "stdout",
          "text": [
            "== Optimized Logical Plan ==\n",
            "Project [Area ID#62, Area Name#63, Area Description#64, City Name#65, NY AS City shortname#1166], Statistics(sizeInBytes=9.8 EiB)\n",
            "+- LogicalRDD [Area ID#62, Area Name#63, Area Description#64, City Name#65], false, Statistics(sizeInBytes=8.0 EiB)\n",
            "\n",
            "== Physical Plan ==\n",
            "*(1) Project [Area ID#62, Area Name#63, Area Description#64, City Name#65, NY AS City shortname#1166]\n",
            "+- *(1) Scan ExistingRDD[Area ID#62,Area Name#63,Area Description#64,City Name#65]\n",
            "\n",
            "\n",
            "None\n",
            "== Optimized Logical Plan ==\n",
            "Project [Area ID#62, Area Name#63, Area Description#64, City Name#65, NY AS City shortname#1414], Statistics(sizeInBytes=238.0 B)\n",
            "+- InMemoryRelation [Area ID#62, Area Name#63, Area Description#64, City Name#65, City shortname#1166], StorageLevel(memory, 1 replicas), Statistics(sizeInBytes=238.0 B, rowCount=4)\n",
            "      +- *(1) Project [Area ID#62, Area Name#63, Area Description#64, City Name#65, NY AS City shortname#1166]\n",
            "         +- *(1) Scan ExistingRDD[Area ID#62,Area Name#63,Area Description#64,City Name#65]\n",
            "\n",
            "== Physical Plan ==\n",
            "AdaptiveSparkPlan isFinalPlan=false\n",
            "+- Project [Area ID#62, Area Name#63, Area Description#64, City Name#65, NY AS City shortname#1414]\n",
            "   +- InMemoryTableScan [Area Description#64, Area ID#62, Area Name#63, City Name#65]\n",
            "         +- InMemoryRelation [Area ID#62, Area Name#63, Area Description#64, City Name#65, City shortname#1166], StorageLevel(memory, 1 replicas)\n",
            "               +- *(1) Project [Area ID#62, Area Name#63, Area Description#64, City Name#65, NY AS City shortname#1166]\n",
            "                  +- *(1) Scan ExistingRDD[Area ID#62,Area Name#63,Area Description#64,City Name#65]\n",
            "\n",
            "\n",
            "None\n",
            "== Optimized Logical Plan ==\n",
            "Project [Area ID#62, Area Name#63, Area Description#64, City Name#65, City shortname#1414, test AS Teste#1755], Statistics(sizeInBytes=282.0 B)\n",
            "+- InMemoryRelation [Area ID#62, Area Name#63, Area Description#64, City Name#65, City shortname#1414], StorageLevel(disk, 1 replicas), Statistics(sizeInBytes=238.0 B, rowCount=4)\n",
            "      +- AdaptiveSparkPlan isFinalPlan=true\n",
            "         +- == Final Plan ==\n",
            "            *(1) Project [Area ID#62, Area Name#63, Area Description#64, City Name#65, NY AS City shortname#1414]\n",
            "            +- TableCacheQueryStage 0\n",
            "               +- InMemoryTableScan [Area Description#64, Area ID#62, Area Name#63, City Name#65]\n",
            "                     +- InMemoryRelation [Area ID#62, Area Name#63, Area Description#64, City Name#65, City shortname#1166], StorageLevel(memory, 1 replicas)\n",
            "                           +- *(1) Project [Area ID#62, Area Name#63, Area Description#64, City Name#65, NY AS City shortname#1166]\n",
            "                              +- *(1) Scan ExistingRDD[Area ID#62,Area Name#63,Area Description#64,City Name#65]\n",
            "         +- == Initial Plan ==\n",
            "            Project [Area ID#62, Area Name#63, Area Description#64, City Name#65, NY AS City shortname#1414]\n",
            "            +- InMemoryTableScan [Area Description#64, Area ID#62, Area Name#63, City Name#65]\n",
            "                  +- InMemoryRelation [Area ID#62, Area Name#63, Area Description#64, City Name#65, City shortname#1166], StorageLevel(memory, 1 replicas)\n",
            "                        +- *(1) Project [Area ID#62, Area Name#63, Area Description#64, City Name#65, NY AS City shortname#1166]\n",
            "                           +- *(1) Scan ExistingRDD[Area ID#62,Area Name#63,Area Description#64,City Name#65]\n",
            "\n",
            "== Physical Plan ==\n",
            "AdaptiveSparkPlan isFinalPlan=false\n",
            "+- Project [Area ID#62, Area Name#63, Area Description#64, City Name#65, City shortname#1414, test AS Teste#1755]\n",
            "   +- InMemoryTableScan [Area Description#64, Area ID#62, Area Name#63, City Name#65, City shortname#1414]\n",
            "         +- InMemoryRelation [Area ID#62, Area Name#63, Area Description#64, City Name#65, City shortname#1414], StorageLevel(disk, 1 replicas)\n",
            "               +- AdaptiveSparkPlan isFinalPlan=true\n",
            "                  +- == Final Plan ==\n",
            "                     *(1) Project [Area ID#62, Area Name#63, Area Description#64, City Name#65, NY AS City shortname#1414]\n",
            "                     +- TableCacheQueryStage 0\n",
            "                        +- InMemoryTableScan [Area Description#64, Area ID#62, Area Name#63, City Name#65]\n",
            "                              +- InMemoryRelation [Area ID#62, Area Name#63, Area Description#64, City Name#65, City shortname#1166], StorageLevel(memory, 1 replicas)\n",
            "                                    +- *(1) Project [Area ID#62, Area Name#63, Area Description#64, City Name#65, NY AS City shortname#1166]\n",
            "                                       +- *(1) Scan ExistingRDD[Area ID#62,Area Name#63,Area Description#64,City Name#65]\n",
            "                  +- == Initial Plan ==\n",
            "                     Project [Area ID#62, Area Name#63, Area Description#64, City Name#65, NY AS City shortname#1414]\n",
            "                     +- InMemoryTableScan [Area Description#64, Area ID#62, Area Name#63, City Name#65]\n",
            "                           +- InMemoryRelation [Area ID#62, Area Name#63, Area Description#64, City Name#65, City shortname#1166], StorageLevel(memory, 1 replicas)\n",
            "                                 +- *(1) Project [Area ID#62, Area Name#63, Area Description#64, City Name#65, NY AS City shortname#1166]\n",
            "                                    +- *(1) Scan ExistingRDD[Area ID#62,Area Name#63,Area Description#64,City Name#65]\n",
            "\n",
            "\n",
            "None\n",
            "Disk Serialized 1x Replicated\n",
            "True\n"
          ]
        }
      ]
    },
    {
      "cell_type": "markdown",
      "source": [
        "# Broadcast Join"
      ],
      "metadata": {
        "id": "jG6-tBXIocwm"
      }
    },
    {
      "cell_type": "code",
      "execution_count": 13,
      "metadata": {
        "id": "Tshz4hV3S2Tx",
        "outputId": "ab6aff54-e16a-4406-c53f-aec034065fa9",
        "colab": {
          "base_uri": "https://localhost:8080/"
        }
      },
      "outputs": [
        {
          "output_type": "stream",
          "name": "stdout",
          "text": [
            "== Physical Plan ==\n",
            "AdaptiveSparkPlan isFinalPlan=false\n",
            "+- Project [Area Description#64, Park Name#32, Date#34, Squirrel ID#4]\n",
            "   +- BroadcastHashJoin [Area ID#1], [Area ID#62], Inner, BuildRight, false\n",
            "      :- Project [Area ID#1, Squirrel ID#4, Park Name#32, Date#34]\n",
            "      :  +- BroadcastHashJoin [Park ID#3], [Park ID#33], Inner, BuildRight, false\n",
            "      :     :- HashAggregate(keys=[Above Ground (Height in Feet)#9, Primary Fur Color#5, hash_id#247, Location#8, Park ID#3, Specific Location#10, Squirrel ID#4, Area ID#1, Activities#11, Squirrel Latitude (DD.DDDDDD)#13, Color Notes#7, Area Name#0, Highlights in Fur Color#6, Interactions with Humans#12, Squirrel Longitude (-DD.DDDDDD)#14, Park Name#2], functions=[])\n",
            "      :     :  +- Exchange hashpartitioning(Above Ground (Height in Feet)#9, Primary Fur Color#5, hash_id#247, Location#8, Park ID#3, Specific Location#10, Squirrel ID#4, Area ID#1, Activities#11, Squirrel Latitude (DD.DDDDDD)#13, Color Notes#7, Area Name#0, Highlights in Fur Color#6, Interactions with Humans#12, Squirrel Longitude (-DD.DDDDDD)#14, Park Name#2, 200), ENSURE_REQUIREMENTS, [plan_id=678]\n",
            "      :     :     +- HashAggregate(keys=[Above Ground (Height in Feet)#9, Primary Fur Color#5, hash_id#247, Location#8, Park ID#3, Specific Location#10, Squirrel ID#4, Area ID#1, Activities#11, Squirrel Latitude (DD.DDDDDD)#13, Color Notes#7, Area Name#0, Highlights in Fur Color#6, Interactions with Humans#12, Squirrel Longitude (-DD.DDDDDD)#14, Park Name#2], functions=[])\n",
            "      :     :        +- Project [Area Name#0, Area ID#1, Park Name#2, Park ID#3, Squirrel ID#4, Primary Fur Color#5, Highlights in Fur Color#6, Color Notes#7, Location#8, Above Ground (Height in Feet)#9, Specific Location#10, Activities#11, Interactions with Humans#12, Squirrel Latitude (DD.DDDDDD)#13, Squirrel Longitude (-DD.DDDDDD)#14, pythonUDF0#2289 AS hash_id#247]\n",
            "      :     :           +- BatchEvalPython [generate_uuid()#246], [pythonUDF0#2289]\n",
            "      :     :              +- Filter (isnotnull(Park ID#3) AND isnotnull(Area ID#1))\n",
            "      :     :                 +- FileScan csv [Area Name#0,Area ID#1,Park Name#2,Park ID#3,Squirrel ID#4,Primary Fur Color#5,Highlights in Fur Color#6,Color Notes#7,Location#8,Above Ground (Height in Feet)#9,Specific Location#10,Activities#11,Interactions with Humans#12,Squirrel Latitude (DD.DDDDDD)#13,Squirrel Longitude (-DD.DDDDDD)#14] Batched: false, DataFilters: [isnotnull(Park ID#3), isnotnull(Area ID#1)], Format: CSV, Location: InMemoryFileIndex(1 paths)[file:/tmp/spark-beb5ca60-7183-458a-8d05-272c341f7be0/userFiles-02db405..., PartitionFilters: [], PushedFilters: [IsNotNull(Park ID), IsNotNull(Area ID)], ReadSchema: struct<Area Name:string,Area ID:string,Park Name:string,Park ID:string,Squirrel ID:string,Primary...\n",
            "      :     +- BroadcastExchange HashedRelationBroadcastMode(List(input[1, string, false]),false), [plan_id=681]\n",
            "      :        +- Filter isnotnull(Park ID#33)\n",
            "      :           +- FileScan csv [Park Name#32,Park ID#33,Date#34] Batched: false, DataFilters: [isnotnull(Park ID#33)], Format: CSV, Location: InMemoryFileIndex(1 paths)[file:/tmp/spark-beb5ca60-7183-458a-8d05-272c341f7be0/userFiles-02db405..., PartitionFilters: [], PushedFilters: [IsNotNull(Park ID)], ReadSchema: struct<Park Name:string,Park ID:string,Date:string>\n",
            "      +- BroadcastExchange HashedRelationBroadcastMode(List(input[0, string, false]),false), [plan_id=685]\n",
            "         +- Filter isnotnull(Area ID#62)\n",
            "            +- InMemoryTableScan [Area ID#62, Area Description#64], [isnotnull(Area ID#62)]\n",
            "                  +- InMemoryRelation [Area ID#62, Area Name#63, Area Description#64, City Name#65, City shortname#1414], StorageLevel(disk, 1 replicas)\n",
            "                        +- AdaptiveSparkPlan isFinalPlan=true\n",
            "                           +- == Final Plan ==\n",
            "                              *(1) Project [Area ID#62, Area Name#63, Area Description#64, City Name#65, NY AS City shortname#1414]\n",
            "                              +- TableCacheQueryStage 0\n",
            "                                 +- InMemoryTableScan [Area Description#64, Area ID#62, Area Name#63, City Name#65]\n",
            "                                       +- InMemoryRelation [Area ID#62, Area Name#63, Area Description#64, City Name#65, City shortname#1166], StorageLevel(memory, 1 replicas)\n",
            "                                             +- *(1) Project [Area ID#62, Area Name#63, Area Description#64, City Name#65, NY AS City shortname#1166]\n",
            "                                                +- *(1) Scan ExistingRDD[Area ID#62,Area Name#63,Area Description#64,City Name#65]\n",
            "                           +- == Initial Plan ==\n",
            "                              Project [Area ID#62, Area Name#63, Area Description#64, City Name#65, NY AS City shortname#1414]\n",
            "                              +- InMemoryTableScan [Area Description#64, Area ID#62, Area Name#63, City Name#65]\n",
            "                                    +- InMemoryRelation [Area ID#62, Area Name#63, Area Description#64, City Name#65, City shortname#1166], StorageLevel(memory, 1 replicas)\n",
            "                                          +- *(1) Project [Area ID#62, Area Name#63, Area Description#64, City Name#65, NY AS City shortname#1166]\n",
            "                                             +- *(1) Scan ExistingRDD[Area ID#62,Area Name#63,Area Description#64,City Name#65]\n",
            "\n",
            "\n",
            "+------------------+--------------------+------+-----------+\n",
            "|  Area Description|           Park Name|  Date|Squirrel ID|\n",
            "+------------------+--------------------+------+-----------+\n",
            "|Downtown Manhattan|         Seward Park|3/1/20|    C-14-06|\n",
            "|          Brooklyn|       McCarren Park|3/1/20|    D-22-27|\n",
            "| Midtown Manhattan| Madison Square Park|3/1/20|    B-07-06|\n",
            "|  Uptown Manhattan|  Marcus Garvey Park|3/1/20|    A-06-18|\n",
            "| Midtown Manhattan|Stuyvesant Square...|3/1/20|    B-09-03|\n",
            "| Midtown Manhattan|Washington Square...|3/1/20|    B-10-30|\n",
            "|Downtown Manhattan|        Battery Park|3/1/20|    C-20-03|\n",
            "| Midtown Manhattan| Madison Square Park|3/1/20|    B-07-04|\n",
            "| Midtown Manhattan|Stuyvesant Square...|3/1/20|    B-09-11|\n",
            "| Midtown Manhattan|Stuyvesant Square...|3/1/20|    B-09-25|\n",
            "| Midtown Manhattan|Washington Square...|3/1/20|    B-10-35|\n",
            "| Midtown Manhattan|Washington Square...|3/1/20|    B-10-44|\n",
            "|Downtown Manhattan|        Battery Park|3/1/20|    C-20-15|\n",
            "|  Uptown Manhattan|Riverside Park (s...|3/1/20|    A-05-14|\n",
            "| Midtown Manhattan|Tompkins Square Park|3/1/20|    B-11-24|\n",
            "| Midtown Manhattan|John V. Lindsay E...|3/1/20|    B-12-06|\n",
            "|  Uptown Manhattan|     Highbridge Park|3/1/20|    A-03-15|\n",
            "|  Uptown Manhattan|Riverside Park (s...|3/1/20|    A-05-25|\n",
            "|Downtown Manhattan|        Battery Park|3/1/20|    C-20-21|\n",
            "| Midtown Manhattan|Stuyvesant Square...|3/1/20|    B-09-15|\n",
            "+------------------+--------------------+------+-----------+\n",
            "only showing top 20 rows\n",
            "\n"
          ]
        }
      ],
      "source": [
        "# Broadcast join -----> Sends an image of the selected table to be stored in the cache of all the workers and will allow for the worker that needs to use that table to join to have it easily accessable\n",
        "# identify the tables candidates for broadcast (only for smaller tables, like mapping tables for exmaple)\n",
        "\n",
        "from pyspark.sql.functions import broadcast\n",
        "\n",
        "\n",
        "\n",
        "join_df = (squirrel\n",
        "           .join(park, on=\"Park ID\", how=\"inner\")\n",
        "           .join(broadcast(area), on=\"Area ID\", how=\"inner\")\n",
        "           .select(area[\"Area Description\"], park[\"Park Name\"], park[\"Date\"], squirrel[\"Squirrel ID\"])\n",
        "           )\n",
        "\n",
        "join_df.explain()\n",
        "join_df.show()"
      ]
    },
    {
      "cell_type": "markdown",
      "source": [
        "# Repartition & Coalesce\n",
        "\n",
        "- coalesce is for reducing partitions without shuffling\n",
        "- repartition is for distributing data evenly across the cluster for better parallelism\n",
        "\n",
        "- if possible choose coalesce over repartition\n",
        "- if needed to increase partitions to increase parallelism, use repartition, however keep the data shuffling operation in mind\n",
        "\n"
      ],
      "metadata": {
        "id": "K5wkJmgQs8UX"
      }
    },
    {
      "cell_type": "code",
      "source": [
        "squirrel_1 = squirrel\n",
        "squirrel_2 = squirrel\n",
        "\n",
        "# Check partitions\n",
        "squirrel_1.rdd.getNumPartitions()\n",
        "\n",
        "# RDD -> partitions among the workers"
      ],
      "metadata": {
        "id": "EitF3d_es8Fo",
        "outputId": "a39a4311-e385-437f-c90c-611b3b011ac1",
        "colab": {
          "base_uri": "https://localhost:8080/"
        }
      },
      "execution_count": 14,
      "outputs": [
        {
          "output_type": "execute_result",
          "data": {
            "text/plain": [
              "1"
            ]
          },
          "metadata": {},
          "execution_count": 14
        }
      ]
    },
    {
      "cell_type": "markdown",
      "source": [
        "- **Repartition**: Costuma ser usado no final dos processos, para por exemplo juntar várias partições apenas num só ficheiro (em vez de escrever cada partição em ficheiros separados)"
      ],
      "metadata": {
        "id": "eKYbexbzlMwX"
      }
    },
    {
      "cell_type": "code",
      "source": [
        "# repartition\n",
        "# evenly distribute date across partitions for better parallel processing efficiency\n",
        "# increase AND reduce partitions\n",
        "# do shuffling\n",
        "\n",
        "print(f\"before repartition: {squirrel_1.rdd.getNumPartitions()}\")\n",
        "squirrel_1 = squirrel_1.repartition(4)\n",
        "print(f\"after repartition: {squirrel_1.rdd.getNumPartitions()}\")"
      ],
      "metadata": {
        "id": "wKBD2qXCtzwO",
        "colab": {
          "base_uri": "https://localhost:8080/"
        },
        "outputId": "914b1d7c-2dcb-4ba9-df55-08c5d2697b4c"
      },
      "execution_count": 15,
      "outputs": [
        {
          "output_type": "stream",
          "name": "stdout",
          "text": [
            "before repartition: 1\n",
            "after repartition: 4\n"
          ]
        }
      ]
    },
    {
      "cell_type": "markdown",
      "source": [
        "**Coalesce**: Ao contrários do repartition (que permite aumentar ou reduzir as partições), apenas reduz o numero de partições, mas é mais performant pois não tem o shuffling do repartition."
      ],
      "metadata": {
        "id": "ZujDnkQ9lOlQ"
      }
    },
    {
      "cell_type": "code",
      "source": [
        "# coalesce\n",
        "# reduce partitions without shuffling\n",
        "# minimizes data movement across the cluster\n",
        "\n",
        "# does not allow to increase partitions, only reduce\n",
        "print(f\"before coalesce: {squirrel_2.rdd.getNumPartitions()}\")\n",
        "squirrel_2 = squirrel_2.coalesce(5)\n",
        "print(f\"after coalesce: {squirrel_2.rdd.getNumPartitions()}\")\n"
      ],
      "metadata": {
        "colab": {
          "base_uri": "https://localhost:8080/"
        },
        "id": "72Mk2UJwLEKv",
        "outputId": "2f49b0cd-a428-46da-e5ef-13b53d9f225a"
      },
      "execution_count": 16,
      "outputs": [
        {
          "output_type": "stream",
          "name": "stdout",
          "text": [
            "before coalesce: 1\n",
            "after coalesce: 1\n"
          ]
        }
      ]
    },
    {
      "cell_type": "code",
      "source": [
        "print(f\"before coalesce: {squirrel_1.rdd.getNumPartitions()}\")\n",
        "squirrel_1 = squirrel_1.coalesce(2)\n",
        "print(f\"after coalesce: {squirrel_1.rdd.getNumPartitions()}\")"
      ],
      "metadata": {
        "colab": {
          "base_uri": "https://localhost:8080/"
        },
        "id": "6ER9DqONMKE2",
        "outputId": "b64c8785-cb1a-47bc-d3cb-e0161af916c7"
      },
      "execution_count": 17,
      "outputs": [
        {
          "output_type": "stream",
          "name": "stdout",
          "text": [
            "before coalesce: 4\n",
            "after coalesce: 2\n"
          ]
        }
      ]
    },
    {
      "cell_type": "code",
      "source": [
        "# repartition/coalesce and writing data\n",
        "!rm -rf /content/files/area\n",
        "!mkdir -p /content/files/area\n",
        "\n",
        "# repartition \"area\" dataframe and write as parquet\n",
        "area.repartition(3).write.format(\"parquet\").mode(\"overwrite\").save(\"/content/files/area\")"
      ],
      "metadata": {
        "id": "IR5COTOyPT_t"
      },
      "execution_count": 18,
      "outputs": []
    },
    {
      "cell_type": "code",
      "source": [
        "# check files and their content\n",
        "\n",
        "files = [\"part-00000-ec692cd1-8d10-4ca0-a640-5d53e37baad1-c000.snappy.parquet\",\n",
        "         \"part-00000-ec692cd1-8d10-4ca0-a640-5d53e37baad1-c000.snappy.parquet\",\n",
        "         \"part-00002-ec692cd1-8d10-4ca0-a640-5d53e37baad1-c000.snappy.parquet\"]\n",
        "folder = \"/content/files/area/\"\n",
        "\n",
        "for f in files:\n",
        "  df = spark.read.parquet(f\"{folder}{f}\")\n",
        "  print(f\"{f} - {df.count()} rows\")"
      ],
      "metadata": {
        "colab": {
          "base_uri": "https://localhost:8080/"
        },
        "id": "bl3NMEx6PhYV",
        "outputId": "b5e4eb12-cf54-4783-8cb7-538cc42f39ef"
      },
      "execution_count": 20,
      "outputs": [
        {
          "output_type": "stream",
          "name": "stdout",
          "text": [
            "part-00000-ec692cd1-8d10-4ca0-a640-5d53e37baad1-c000.snappy.parquet - 2 rows\n",
            "part-00000-ec692cd1-8d10-4ca0-a640-5d53e37baad1-c000.snappy.parquet - 2 rows\n",
            "part-00002-ec692cd1-8d10-4ca0-a640-5d53e37baad1-c000.snappy.parquet - 1 rows\n"
          ]
        }
      ]
    },
    {
      "cell_type": "code",
      "source": [
        "# Check file sizes\n",
        "!ls -lah /content/files/area"
      ],
      "metadata": {
        "colab": {
          "base_uri": "https://localhost:8080/"
        },
        "id": "n5H-rpwqQS_M",
        "outputId": "34401f12-c010-4db4-a3a9-ad069ce5cbac"
      },
      "execution_count": 27,
      "outputs": [
        {
          "output_type": "stream",
          "name": "stdout",
          "text": [
            "total 8.0K\n",
            "drwxr-xr-x 2 root root 4.0K Nov 16 15:32 .\n",
            "drwxr-xr-x 3 root root 4.0K Nov 16 15:32 ..\n"
          ]
        }
      ]
    },
    {
      "cell_type": "markdown",
      "source": [
        "# Question"
      ],
      "metadata": {
        "id": "aVyWuRHiR--p"
      }
    },
    {
      "cell_type": "code",
      "source": [
        "# Q1\n",
        "# read data from /content/files/area (3 parquet files)\n",
        "# write again the data into the same folder making sure the output will be only one file\n",
        "\n",
        "# Read data from the folder\n",
        "df = spark.read.format(\"parquet\").schema(area.schema).load(\"/content/files/area\")\n",
        "# return the number of partitions currently - only one, once the current files are small\n",
        "df.rdd.getNumPartitions()\n",
        "\n",
        "# Repartition to 1 to create a single file\n",
        "df = df.coalesce(1)\n",
        "\n",
        "# Write the data back to the folder (needs to be another folder to avoid conflict)\n",
        "df.write.mode(\"overwrite\").parquet(\"/content/files/area2\")"
      ],
      "metadata": {
        "id": "hLjzGtv-Rou1"
      },
      "execution_count": 28,
      "outputs": []
    }
  ],
  "metadata": {
    "colab": {
      "provenance": []
    },
    "kernelspec": {
      "display_name": "Python 3",
      "name": "python3"
    },
    "language_info": {
      "name": "python"
    }
  },
  "nbformat": 4,
  "nbformat_minor": 0
}