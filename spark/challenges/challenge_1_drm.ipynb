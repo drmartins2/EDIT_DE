{
  "cells": [
    {
      "cell_type": "markdown",
      "metadata": {
        "id": "view-in-github",
        "colab_type": "text"
      },
      "source": [
        "<a href=\"https://colab.research.google.com/github/drmartins2/EDIT_DE/blob/main/spark/challenges/challenge_1_drm.ipynb\" target=\"_parent\"><img src=\"https://colab.research.google.com/assets/colab-badge.svg\" alt=\"Open In Colab\"/></a>"
      ]
    },
    {
      "cell_type": "markdown",
      "metadata": {
        "id": "BOA_wQSmLd9z"
      },
      "source": [
        "# CHALLENGE 1\n",
        "##  Implement INGESTION process\n",
        "- Set up path in the \"lake\"\n",
        "  - !mkdir -p /content/lake/bronze\n",
        "\n",
        "- Read data from API https://api.carrismetropolitana.pt/\n",
        "  - Endpoints:\n",
        "    - vehicles\n",
        "    - lines\n",
        "    - municipalities\n",
        "  - Use StructFields to enforce schema\n",
        "\n",
        "- Transformations\n",
        "  - vehicles\n",
        "    - create \"date\" extracted from \"timestamp\" column (format: date - yyyy-mm-dd or yyyymmdd)\n",
        "\n",
        "- Write data as PARQUET into the BRONZE layer (/content/lake/bronze)\n",
        "  - Partition \"vehicles\" by \"date\" column\n",
        "  - Paths:\n",
        "    - vehicles - path: /content/lake/bronze/vehicles\n",
        "    - lines - path: /content/lake/bronze/lines\n",
        "    - municipalities - path: /content/lake/bronze/municipalities\n",
        "  - Make sure there is only 1 single parquet created\n",
        "  - Use overwrite as write mode"
      ]
    },
    {
      "cell_type": "markdown",
      "metadata": {
        "id": "d9LeYFsPTjAb"
      },
      "source": [
        "# Setting up PySpark"
      ]
    },
    {
      "cell_type": "code",
      "execution_count": 1,
      "metadata": {
        "colab": {
          "base_uri": "https://localhost:8080/"
        },
        "id": "uYXeODL0T1fO",
        "outputId": "2b84ceac-0fbf-4892-8b98-2795a4a40f31"
      },
      "outputs": [
        {
          "output_type": "stream",
          "name": "stdout",
          "text": [
            "Requirement already satisfied: pyspark in /usr/local/lib/python3.10/dist-packages (3.5.3)\n",
            "Requirement already satisfied: py4j==0.10.9.7 in /usr/local/lib/python3.10/dist-packages (from pyspark) (0.10.9.7)\n"
          ]
        }
      ],
      "source": [
        "%pip install pyspark"
      ]
    },
    {
      "cell_type": "code",
      "source": [
        "from pyspark.sql import SparkSession\n",
        "\n",
        "spark = SparkSession.builder.master('local').appName('Challenge 1').config('spark.ui.port', '4050').getOrCreate()"
      ],
      "metadata": {
        "id": "kyWynLq3IgWL"
      },
      "execution_count": 3,
      "outputs": []
    },
    {
      "cell_type": "code",
      "source": [
        "!mkdir -p /content/lake/bronze\n",
        "print('Bronze layer created')"
      ],
      "metadata": {
        "colab": {
          "base_uri": "https://localhost:8080/"
        },
        "id": "vVKKlWYi4PO5",
        "outputId": "ea5df04c-9fd4-4937-d523-20bc5bc05932"
      },
      "execution_count": 4,
      "outputs": [
        {
          "output_type": "stream",
          "name": "stdout",
          "text": [
            "Bronze layer created\n"
          ]
        }
      ]
    },
    {
      "cell_type": "markdown",
      "source": [
        "# Define ETLFlow Class"
      ],
      "metadata": {
        "id": "Yyp5_1VfRt63"
      }
    },
    {
      "cell_type": "code",
      "source": [
        "from pyspark.sql import DataFrame\n",
        "from pyspark.sql.types import *\n",
        "import requests\n",
        "\n",
        "class ETLFlow:\n",
        "    def __init__(self, spark: SparkSession) -> None:\n",
        "        self.spark = spark\n",
        "\n",
        "    # Extract data from API endpoint\n",
        "    # Parameters:\n",
        "    #   url: The API endpoint URL.\n",
        "    #   schema: Optional schema to enforce on the JSON data\n",
        "    # Returns:\n",
        "    #   DataFrame containing the extracted data.\n",
        "    def ReadAPI(self, url: str, schema: StructType = None) -> DataFrame:\n",
        "        response = requests.get(url)  # Fetch data from the API\n",
        "        rdd = self.spark.sparkContext.parallelize(response.json())  # Convert JSON response to RDD\n",
        "        if schema:\n",
        "            df = self.spark.read.schema(schema).json(rdd)  # Read RDD into DataFrame with schema\n",
        "        else:\n",
        "            df = self.spark.read.json(rdd)  # Read RDD into DataFrame without schema\n",
        "        return df\n",
        "\n",
        "\n",
        "    # Load a DataFrame into storage in the specified format.\n",
        "    # Parameters:\n",
        "    #   df: The DataFrame to be saved.\n",
        "    #   format: The format to save the DataFrame in (e.g., parquet).\n",
        "    #   path: The path where the DataFrame should be saved.\n",
        "    #   partition_column: Optional column to partition the data by.\n",
        "    def load(self, df: DataFrame, format: str, path: str, partition_column: str = None) -> None:\n",
        "        if partition_column:\n",
        "            # Save as a single file, partitioned by the specified column\n",
        "            df.coalesce(1).write.mode(\"overwrite\").partitionBy(partition_column).format(format).save(path)\n",
        "        else:\n",
        "            # Save as a single file without partitioning\n",
        "            df.coalesce(1).write.mode(\"overwrite\").format(format).save(path)\n",
        "\n"
      ],
      "metadata": {
        "id": "fLPc2NcsKplX"
      },
      "execution_count": 6,
      "outputs": []
    },
    {
      "cell_type": "markdown",
      "source": [
        "Aux get endpoint schema"
      ],
      "metadata": {
        "id": "091iee9TsTCz"
      }
    },
    {
      "cell_type": "code",
      "source": [
        "def ReadAPI(url: str, schema: StructType = None) -> DataFrame:\n",
        "    response = requests.get(url)  # Fetch data from the API\n",
        "    rdd = spark.sparkContext.parallelize(response.json())  # Convert JSON response to RDD\n",
        "    if schema:\n",
        "        df = spark.read.schema(schema).json(rdd)  # Read RDD into DataFrame with schema\n",
        "    else:\n",
        "        df = spark.read.json(rdd)  # Read RDD into DataFrame without schema\n",
        "    return df\n",
        "\n",
        "# Print the schema for a given endpoint\n",
        "# Parameters:\n",
        "#   df: The DataFrame whose schema is to be printed\n",
        "#   endpoint: The name of the API endpoint\n",
        "def print_schema(df: DataFrame, endpoint: str) -> None: # Removed self from the arguments\n",
        "    print(f\"\\nSchema for {endpoint} endpoint:\")\n",
        "    df.printSchema()\n",
        "\n",
        "# Vehicles\n",
        "df = ReadAPI(url=\"https://api.carrismetropolitana.pt/vehicles\", schema=None)\n",
        "print_schema(df, \"vehicles\")\n",
        "\n",
        "# Municipalities\n",
        "df = ReadAPI(url=\"https://api.carrismetropolitana.pt/municipalities\", schema=None)\n",
        "print_schema(df, \"municipalities\")\n",
        "\n",
        "# Lines\n",
        "df = ReadAPI(url=\"https://api.carrismetropolitana.pt/lines\", schema=None)\n",
        "print_schema(df, \"lines\")"
      ],
      "metadata": {
        "colab": {
          "base_uri": "https://localhost:8080/"
        },
        "id": "Z3hYmrlbkQjn",
        "outputId": "09b708a0-16ad-4adf-9171-c8448161dec9"
      },
      "execution_count": 15,
      "outputs": [
        {
          "output_type": "stream",
          "name": "stdout",
          "text": [
            "\n",
            "Schema for vehicles endpoint:\n",
            "root\n",
            " |-- bearing: long (nullable = true)\n",
            " |-- block_id: string (nullable = true)\n",
            " |-- current_status: string (nullable = true)\n",
            " |-- id: string (nullable = true)\n",
            " |-- lat: double (nullable = true)\n",
            " |-- line_id: string (nullable = true)\n",
            " |-- lon: double (nullable = true)\n",
            " |-- pattern_id: string (nullable = true)\n",
            " |-- route_id: string (nullable = true)\n",
            " |-- schedule_relationship: string (nullable = true)\n",
            " |-- shift_id: string (nullable = true)\n",
            " |-- speed: double (nullable = true)\n",
            " |-- stop_id: string (nullable = true)\n",
            " |-- timestamp: long (nullable = true)\n",
            " |-- trip_id: string (nullable = true)\n",
            "\n",
            "\n",
            "Schema for municipalities endpoint:\n",
            "root\n",
            " |-- district_id: string (nullable = true)\n",
            " |-- district_name: string (nullable = true)\n",
            " |-- id: string (nullable = true)\n",
            " |-- name: string (nullable = true)\n",
            " |-- prefix: string (nullable = true)\n",
            " |-- region_id: string (nullable = true)\n",
            " |-- region_name: string (nullable = true)\n",
            "\n",
            "\n",
            "Schema for lines endpoint:\n",
            "root\n",
            " |-- _corrupt_record: string (nullable = true)\n",
            " |-- color: string (nullable = true)\n",
            " |-- facilities: array (nullable = true)\n",
            " |    |-- element: string (containsNull = true)\n",
            " |-- id: string (nullable = true)\n",
            " |-- localities: array (nullable = true)\n",
            " |    |-- element: string (containsNull = true)\n",
            " |-- long_name: string (nullable = true)\n",
            " |-- municipalities: array (nullable = true)\n",
            " |    |-- element: string (containsNull = true)\n",
            " |-- patterns: array (nullable = true)\n",
            " |    |-- element: string (containsNull = true)\n",
            " |-- routes: array (nullable = true)\n",
            " |    |-- element: string (containsNull = true)\n",
            " |-- short_name: string (nullable = true)\n",
            " |-- text_color: string (nullable = true)\n",
            "\n"
          ]
        }
      ]
    },
    {
      "cell_type": "markdown",
      "source": [
        "# Define ETLTask Class"
      ],
      "metadata": {
        "id": "K1eLN4qdRk-A"
      }
    },
    {
      "cell_type": "code",
      "source": [
        "from pyspark.sql.types import *\n",
        "from pyspark.sql.functions import *\n",
        "\n",
        "class ETLTask(ETLFlow):\n",
        "    def __init__(self, spark: SparkSession) -> None:\n",
        "        # Initialize ETLTask by inheriting from ETLFlow\n",
        "        super().__init__(spark)\n",
        "\n",
        "\n",
        "    # Ingest vehicle data from the API and load it into the bronze layer.\n",
        "    #   Extract data from 'vehicles' endpoint.\n",
        "    #   Add 'date' column derived from 'timestamp'.\n",
        "    #   Saves data as parquet, partitioned by 'date'.\n",
        "    def ingestion_vehicles(self):\n",
        "        # Define schema for vehicle\n",
        "        vehicle_schema = StructType([\n",
        "            StructField('bearing', IntegerType(), True),\n",
        "            StructField('block_id', StringType(), True),\n",
        "            StructField('current_status', StringType(), True),\n",
        "            StructField('id', StringType(), True),\n",
        "            StructField('lat', FloatType(), True),\n",
        "            StructField('line_id', StringType(), True),\n",
        "            StructField('lon', FloatType(), True),\n",
        "            StructField('pattern_id', StringType(), True),\n",
        "            StructField('route_id', StringType(), True),\n",
        "            StructField('schedule_relationship', StringType(), True),\n",
        "            StructField('shift_id', StringType(), True),\n",
        "            StructField('speed', FloatType(), True),\n",
        "            StructField('stop_id', StringType(), True),\n",
        "            StructField('timestamp', TimestampType(), True),\n",
        "            StructField('trip_id', StringType(), True)\n",
        "        ])\n",
        "\n",
        "        # Extract data using defined schema\n",
        "        df = self.ReadAPI(url=\"https://api.carrismetropolitana.pt/vehicles\", schema=vehicle_schema)\n",
        "\n",
        "        # Create \"date\" column from \"timestamp\"\n",
        "        df = df.withColumn(\"date\", date_format(col(\"timestamp\"), \"yyyy-MM-dd\"))\n",
        "\n",
        "        # Load data into the bronze layer, partitioned by \"date\"\n",
        "        self.load(df=df, format=\"parquet\", path=\"/content/lake/bronze/vehicles\", partition_column=\"date\")\n",
        "\n",
        "\n",
        "    # Ingest line data from the API and load it into the bronze layer.\n",
        "    #   Extracts data from 'lines' endpoint.\n",
        "    #   Saves data as parquet without partitioning.\n",
        "    def ingestion_lines(self):\n",
        "        # Define schema for lines\n",
        "        lines_schema = StructType([\n",
        "            StructField('color', StringType(), True),\n",
        "            StructField('facilities', ArrayType(StringType()), True),\n",
        "            StructField('id', StringType(), True),\n",
        "            StructField('localities', ArrayType(StringType()), True),\n",
        "            StructField('long_name', StringType(), True),\n",
        "            StructField('municipalities', ArrayType(StringType()), True),\n",
        "            StructField('patterns', ArrayType(StringType()), True),\n",
        "            StructField('routes', ArrayType(StringType()), True),\n",
        "            StructField('short_name', StringType(), True),\n",
        "            StructField('text_color', StringType(), True)\n",
        "        ])\n",
        "\n",
        "        # Extract data using defined schema\n",
        "        df = self.ReadAPI(url=\"https://api.carrismetropolitana.pt/lines\", schema=lines_schema)\n",
        "\n",
        "        # Load data into the bronze layer\n",
        "        self.load(df=df, format=\"parquet\", path=\"/content/lake/bronze/lines\")\n",
        "\n",
        "\n",
        "    # Ingest municipality data from the API and load it into the bronze layer.\n",
        "    #   Extracts data from 'municipalities' endpoint.\n",
        "    #   Saves data as parquet without partitioning.\n",
        "    def ingestion_municipalities(self):\n",
        "       # Define schema for municipalities\n",
        "       municipalities_schema = StructType([\n",
        "           StructField('district_name', StringType(), True),\n",
        "           StructField('id', StringType(), True),\n",
        "           StructField('name', StringType(), True),\n",
        "           StructField('prefix', StringType(), True),\n",
        "           StructField('region_id', StringType(), True),\n",
        "           StructField('region_name', StringType(), True)\n",
        "       ])\n",
        "\n",
        "\n",
        "       # Extract data using defined schema\n",
        "       df = self.ReadAPI(url=\"https://api.carrismetropolitana.pt/municipalities\", schema=municipalities_schema)\n",
        "\n",
        "       # Load data into the bronze layer\n",
        "       self.load(df=df, format=\"parquet\", path=\"/content/lake/bronze/municipalities\")\n",
        "\n",
        "print('ETLTask class defined for specific ingestion methods.')"
      ],
      "metadata": {
        "colab": {
          "base_uri": "https://localhost:8080/"
        },
        "id": "XtT72tGqQDnl",
        "outputId": "de4f0f59-4d86-4741-9af4-2a0b3ca78185"
      },
      "execution_count": 20,
      "outputs": [
        {
          "output_type": "stream",
          "name": "stdout",
          "text": [
            "ETLTask class defined for specific ingestion methods.\n"
          ]
        }
      ]
    },
    {
      "cell_type": "markdown",
      "source": [
        "# Execute ETL Process"
      ],
      "metadata": {
        "id": "ruOs_yhLQNfX"
      }
    },
    {
      "cell_type": "code",
      "source": [
        "# Initialize Spark session\n",
        "spark = SparkSession.builder.master('local').appName('ETL Program').getOrCreate()\n",
        "\n",
        "print(\"Starting ETL program\")\n",
        "etl = ETLTask(spark)\n",
        "\n",
        "# Run tasks for each API endpoint\n",
        "\n",
        "# Ingest vehicle data\n",
        "print(\"Running Task - Ingestion Vehicles\")\n",
        "etl.ingestion_vehicles()\n",
        "\n",
        "# Ingest line data\n",
        "print(\"Running Task - Ingestion Lines\")\n",
        "etl.ingestion_lines()\n",
        "\n",
        "# Ingest municipality data\n",
        "print(\"Running Task - Ingestion Municipalities\")\n",
        "etl.ingestion_municipalities()\n",
        "\n",
        "print(\"ETL program completed\")"
      ],
      "metadata": {
        "colab": {
          "base_uri": "https://localhost:8080/"
        },
        "id": "BOMDOpKjQJXP",
        "outputId": "43af2da6-e37b-4da0-be9c-a02f935d06bf"
      },
      "execution_count": 21,
      "outputs": [
        {
          "output_type": "stream",
          "name": "stdout",
          "text": [
            "Starting ETL program\n",
            "Running Task - Ingestion Vehicles\n",
            "Running Task - Ingestion Lines\n",
            "Running Task - Ingestion Municipalities\n",
            "ETL program completed\n"
          ]
        }
      ]
    }
  ],
  "metadata": {
    "colab": {
      "provenance": [],
      "include_colab_link": true
    },
    "kernelspec": {
      "display_name": "Python 3",
      "name": "python3"
    },
    "language_info": {
      "name": "python"
    }
  },
  "nbformat": 4,
  "nbformat_minor": 0
}