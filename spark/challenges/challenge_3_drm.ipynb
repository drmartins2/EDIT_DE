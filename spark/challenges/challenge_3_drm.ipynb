{
  "cells": [
    {
      "cell_type": "markdown",
      "metadata": {
        "id": "view-in-github",
        "colab_type": "text"
      },
      "source": [
        "<a href=\"https://colab.research.google.com/github/drmartins2/EDIT_DE/blob/main/spark/challenges/challenge_3_drm.ipynb\" target=\"_parent\"><img src=\"https://colab.research.google.com/assets/colab-badge.svg\" alt=\"Open In Colab\"/></a>"
      ]
    },
    {
      "cell_type": "markdown",
      "metadata": {
        "id": "BOA_wQSmLd9z"
      },
      "source": [
        "# CHALLENGE 3\n",
        "##  Implement ENRICH process\n",
        "- Set up path in the \"lake\"\n",
        "  - !mkdir -p /content/lake/gold\n",
        "\n",
        "- Read data from SILVER layer\n",
        "  - Paths:\n",
        "    - vehicles - path: /content/lake/silver/vehicles\n",
        "    - lines - path: /content/lake/silver/lines\n",
        "    - municipalities - path: /content/lake/silver/municipalities\n",
        "  - Use StructFields to enforce schema\n",
        "\n",
        "- Enrichment\n",
        "  - Enrich vehicles dataset with information from the line and municipalities\n",
        "    - join vehicles with lines and municipalities\n",
        "      - select all columns from vehicles + lines.long_name (name: line_name, format:string) + municipalities.name (name: municipality_name, format: array)\n",
        "      - Note that \"municipalities.name\" is an array\n",
        "\n",
        "- Write data as PARQUET into the GOLD layer (/content/lake/gold)\n",
        "  - Dataset name: vehicles_enriched\n",
        "  - Partition \"vehicles_enriched\" by \"date\" column\n",
        "  - Paths:\n",
        "    - vehicles - path: /content/lake/gold/vehicles_enriched\n",
        "  - Make sure there is only 1 single parquet created\n",
        "  - Use overwrite as write mode"
      ]
    },
    {
      "cell_type": "markdown",
      "metadata": {
        "id": "d9LeYFsPTjAb"
      },
      "source": [
        "# Setting up PySpark"
      ]
    },
    {
      "cell_type": "code",
      "execution_count": null,
      "metadata": {
        "colab": {
          "base_uri": "https://localhost:8080/"
        },
        "id": "uYXeODL0T1fO",
        "outputId": "c410e46c-4a50-43aa-926f-d0417c6280d2"
      },
      "outputs": [
        {
          "name": "stdout",
          "output_type": "stream",
          "text": [
            "Requirement already satisfied: pyspark in /usr/local/lib/python3.10/dist-packages (3.5.3)\n",
            "Requirement already satisfied: py4j==0.10.9.7 in /usr/local/lib/python3.10/dist-packages (from pyspark) (0.10.9.7)\n"
          ]
        }
      ],
      "source": [
        "%pip install pyspark"
      ]
    },
    {
      "cell_type": "code",
      "source": [
        "from pyspark.sql import SparkSession\n",
        "\n",
        "spark = SparkSession.builder.master('local').appName('Challenge 3').config('spark.ui.port', '4050').getOrCreate()"
      ],
      "metadata": {
        "id": "r8pDTxkrQQkU"
      },
      "execution_count": 1,
      "outputs": []
    },
    {
      "cell_type": "code",
      "source": [
        "# Create folder for bronze layer\n",
        "!mkdir -p /content/lake/bronze\n",
        "print('Bronze layer created')"
      ],
      "metadata": {
        "id": "ATsEs1n-QTL3",
        "outputId": "9ed08955-e074-4458-b47b-24d61ba3babf",
        "colab": {
          "base_uri": "https://localhost:8080/"
        }
      },
      "execution_count": 2,
      "outputs": [
        {
          "output_type": "stream",
          "name": "stdout",
          "text": [
            "Bronze layer created\n"
          ]
        }
      ]
    },
    {
      "cell_type": "code",
      "source": [
        "# Create folder for silver layer\n",
        "!mkdir -p /content/lake/silver\n",
        "print('Silver layer created')"
      ],
      "metadata": {
        "id": "RagYSOdHQWzk",
        "outputId": "24211848-20b9-412b-c175-fac1b8f98e61",
        "colab": {
          "base_uri": "https://localhost:8080/"
        }
      },
      "execution_count": 3,
      "outputs": [
        {
          "output_type": "stream",
          "name": "stdout",
          "text": [
            "Silver layer created\n"
          ]
        }
      ]
    },
    {
      "cell_type": "code",
      "source": [
        "# Create folder for gold layer\n",
        "!mkdir -p /content/lake/gold\n",
        "print('Gold layer created')"
      ],
      "metadata": {
        "id": "E-06aBlgQXZx",
        "outputId": "90025279-1d0e-4eb1-8fdf-ea534de5e54e",
        "colab": {
          "base_uri": "https://localhost:8080/"
        }
      },
      "execution_count": 4,
      "outputs": [
        {
          "output_type": "stream",
          "name": "stdout",
          "text": [
            "Gold layer created\n"
          ]
        }
      ]
    },
    {
      "cell_type": "markdown",
      "source": [
        "# Define ETLFlow Class\n",
        "API Ingestion and Load class"
      ],
      "metadata": {
        "id": "SefcO_y2QsFm"
      }
    },
    {
      "cell_type": "code",
      "source": [
        "from pyspark.sql import DataFrame\n",
        "from pyspark.sql.types import *\n",
        "import requests\n",
        "\n",
        "class ETLFlow:\n",
        "    def __init__(self, spark: SparkSession) -> None:\n",
        "        self.spark = spark\n",
        "\n",
        "    # Extract data from API endpoint\n",
        "    # Parameters:\n",
        "    #   url: The API endpoint URL.\n",
        "    #   schema: Optional schema to enforce on the JSON data\n",
        "    # Returns:\n",
        "    #   DataFrame containing the extracted data.\n",
        "    def ReadAPI(self, url: str, schema: StructType = None) -> DataFrame:\n",
        "        response = requests.get(url)  # Fetch data from the API\n",
        "        rdd = self.spark.sparkContext.parallelize(response.json())  # Convert JSON response to RDD\n",
        "        if schema:\n",
        "            df = self.spark.read.schema(schema).json(rdd)  # Read RDD into DataFrame with schema\n",
        "        else:\n",
        "            df = self.spark.read.json(rdd)  # Read RDD into DataFrame without schema\n",
        "        return df\n",
        "\n",
        "\n",
        "    # Load a DataFrame into storage in the specified format.\n",
        "    # Parameters:\n",
        "    #   df: The DataFrame to be saved.\n",
        "    #   format: The format to save the DataFrame in (e.g., parquet).\n",
        "    #   path: The path where the DataFrame should be saved.\n",
        "    #   partition_column: Optional column to partition the data by.\n",
        "    def load(self, df: DataFrame, format: str, path: str, partition_column: str = None) -> None:\n",
        "        if partition_column:\n",
        "            # Save as a single file, partitioned by the specified column\n",
        "            df.coalesce(1).write.mode(\"overwrite\").partitionBy(partition_column).format(format).save(path)\n",
        "        else:\n",
        "            # Save as a single file without partitioning\n",
        "            df.coalesce(1).write.mode(\"overwrite\").format(format).save(path)"
      ],
      "metadata": {
        "id": "kZYdhgNFQayE"
      },
      "execution_count": 5,
      "outputs": []
    },
    {
      "cell_type": "markdown",
      "source": [
        "# ETL Task Ingestion for Bronze layer\n",
        "\n",
        "---"
      ],
      "metadata": {
        "id": "MibNWiYZQ2ov"
      }
    },
    {
      "cell_type": "code",
      "source": [
        "from pyspark.sql.types import *\n",
        "from pyspark.sql.functions import *\n",
        "\n",
        "class ETLTask_Bronze(ETLFlow):\n",
        "    def __init__(self, spark: SparkSession) -> None:\n",
        "        # Initialize ETLTask by inheriting from ETLFlow\n",
        "        super().__init__(spark)\n",
        "\n",
        "\n",
        "    # Ingest vehicle data from the API and load it into the bronze layer.\n",
        "    #   Extract data from 'vehicles' endpoint.\n",
        "    #   Add 'date' column derived from 'timestamp'.\n",
        "    #   Saves data as parquet, partitioned by 'date'.\n",
        "    def ingestion_vehicles(self):\n",
        "        # Define schema for vehicle\n",
        "        vehicle_schema = StructType([\n",
        "            StructField('bearing', IntegerType(), True),\n",
        "            StructField('block_id', StringType(), True),\n",
        "            StructField('current_status', StringType(), True),\n",
        "            StructField('id', StringType(), True),\n",
        "            StructField('lat', FloatType(), True),\n",
        "            StructField('line_id', StringType(), True),\n",
        "            StructField('lon', FloatType(), True),\n",
        "            StructField('pattern_id', StringType(), True),\n",
        "            StructField('route_id', StringType(), True),\n",
        "            StructField('schedule_relationship', StringType(), True),\n",
        "            StructField('shift_id', StringType(), True),\n",
        "            StructField('speed', FloatType(), True),\n",
        "            StructField('stop_id', StringType(), True),\n",
        "            StructField('timestamp', TimestampType(), True),\n",
        "            StructField('trip_id', StringType(), True)\n",
        "        ])\n",
        "\n",
        "        # Extract data using defined schema\n",
        "        df = self.ReadAPI(url=\"https://api.carrismetropolitana.pt/vehicles\", schema=vehicle_schema)\n",
        "\n",
        "        # Create \"date\" column from \"timestamp\"\n",
        "        df = df.withColumn(\"date\", date_format(col(\"timestamp\"), \"yyyy-MM-dd\"))\n",
        "        #df.show()\n",
        "\n",
        "        # Load data into the bronze layer, partitioned by \"date\"\n",
        "        self.load(df=df, format=\"parquet\", path=\"/content/lake/bronze/vehicles\", partition_column=\"date\")\n",
        "\n",
        "\n",
        "    # Ingest line data from the API and load it into the bronze layer.\n",
        "    #   Extracts data from 'lines' endpoint.\n",
        "    #   Saves data as parquet without partitioning.\n",
        "    def ingestion_lines(self):\n",
        "        # Define schema for lines\n",
        "        lines_schema = StructType([\n",
        "            StructField('_corrupt_record', StringType(), True),\n",
        "            StructField('color', StringType(), True),\n",
        "            StructField('facilities', ArrayType(StringType()), True),\n",
        "            StructField('id', StringType(), True),\n",
        "            StructField('localities', ArrayType(StringType()), True),\n",
        "            StructField('long_name', StringType(), True),\n",
        "            StructField('municipalities', ArrayType(StringType()), True),\n",
        "            StructField('patterns', ArrayType(StringType()), True),\n",
        "            StructField('routes', ArrayType(StringType()), True),\n",
        "            StructField('short_name', StringType(), True),\n",
        "            StructField('text_color', StringType(), True)\n",
        "        ])\n",
        "\n",
        "        # Extract data using defined schema\n",
        "        df = self.ReadAPI(url=\"https://api.carrismetropolitana.pt/lines\", schema=lines_schema)\n",
        "        #df.show()\n",
        "\n",
        "        # Load data into the bronze layer\n",
        "        self.load(df=df, format=\"parquet\", path=\"/content/lake/bronze/lines\")\n",
        "\n",
        "\n",
        "    # Ingest municipality data from the API and load it into the bronze layer.\n",
        "    #   Extracts data from 'municipalities' endpoint.\n",
        "    #   Saves data as parquet without partitioning.\n",
        "    def ingestion_municipalities(self):\n",
        "       # Define schema for municipalities\n",
        "       municipalities_schema = StructType([\n",
        "           StructField('district_name', StringType(), True),\n",
        "           StructField('id', StringType(), True),\n",
        "           StructField('name', StringType(), True),\n",
        "           StructField('prefix', StringType(), True),\n",
        "           StructField('region_id', StringType(), True),\n",
        "           StructField('region_name', StringType(), True)\n",
        "       ])\n",
        "\n",
        "\n",
        "       # Extract data using defined schema\n",
        "       df = self.ReadAPI(url=\"https://api.carrismetropolitana.pt/municipalities\", schema=municipalities_schema)\n",
        "       #df.show()\n",
        "\n",
        "       # Load data into the bronze layer\n",
        "       self.load(df=df, format=\"parquet\", path=\"/content/lake/bronze/municipalities\")\n",
        "\n",
        "print('ETLTask class defined for specific API endpoint ingestion')"
      ],
      "metadata": {
        "id": "2SJVTJxYQ39a",
        "outputId": "63c75f14-cbdb-43dc-98c0-f7f61ed26918",
        "colab": {
          "base_uri": "https://localhost:8080/"
        }
      },
      "execution_count": 6,
      "outputs": [
        {
          "output_type": "stream",
          "name": "stdout",
          "text": [
            "ETLTask class defined for specific API endpoint ingestion\n"
          ]
        }
      ]
    },
    {
      "cell_type": "markdown",
      "source": [
        "# ETL Task Cleansing for Silver layer\n",
        "\n",
        "---------------------"
      ],
      "metadata": {
        "id": "I2tRsnQjQ7Gq"
      }
    },
    {
      "cell_type": "code",
      "source": [
        "from pyspark.sql.types import *\n",
        "from pyspark.sql.functions import *\n",
        "\n",
        "class ETLTask_Silver(ETLFlow):\n",
        "    def __init__(self, spark: SparkSession) -> None:\n",
        "        super().__init__(spark)\n",
        "\n",
        "    def cleanse_vehicles(self):\n",
        "        # Read data from bronze layer\n",
        "        df = self.spark.read.parquet(\"/content/lake/bronze/vehicles\")\n",
        "\n",
        "        # Apply vehicle transformations:\n",
        "        #   Changes column name \"lat\" to \"latitude\"\n",
        "        #   Changes column name \"lon\" to \"longitude\"\n",
        "        #   Removes duplicate records\n",
        "        #   Remove rocords where \"current_status\" has null values\n",
        "        #   Remove corrupted records - This removes any rows that contain null values in any column\n",
        "        df = df.withColumnRenamed(\"lat\", \"latitude\") \\\n",
        "               .withColumnRenamed(\"lon\", \"longitude\") \\\n",
        "               .dropDuplicates() \\\n",
        "               .filter(col(\"current_status\").isNotNull()) \\\n",
        "               .na.drop()\n",
        "\n",
        "        df.show()\n",
        "\n",
        "        # Write to silver layer\n",
        "        self.load(df=df, format=\"parquet\", path=\"/content/lake/silver/vehicles\", partition_column=\"date\")\n",
        "\n",
        "    def cleanse_lines(self):\n",
        "        # Read data from bronze layer\n",
        "        df = self.spark.read.parquet(\"/content/lake/bronze/lines\")\n",
        "\n",
        "        # Apply lines transformations:\n",
        "        #   Removes duplicate records\n",
        "        #   Remove rocords that have values in \"_corrupt_record\" column\n",
        "        #   Remove \"_corrupt_record\" column\n",
        "        #   Remove any corrupted records - Removes any rows that contain null values in any column\n",
        "        df = df.dropDuplicates() \\\n",
        "               .filter(col(\"_corrupt_record\").isNull()) \\\n",
        "               .drop(\"_corrupt_record\") \\\n",
        "               .na.drop()\n",
        "\n",
        "        df.show()\n",
        "\n",
        "        # Write to silver layer\n",
        "        self.load(df=df, format=\"parquet\", path=\"/content/lake/silver/lines\")\n",
        "\n",
        "    def cleanse_municipalities(self):\n",
        "        # Read data from bronze layer\n",
        "        df = self.spark.read.parquet(\"/content/lake/bronze/municipalities\")\n",
        "\n",
        "        # Apply municipalities transformations:\n",
        "        #   Removes duplicate records\n",
        "        #   Only returns values where \"name\" and \"district_name\" aren't null\n",
        "        #   Remove any corrupted records - Removes any rows that contain null values in any column\n",
        "        df = df.dropDuplicates() \\\n",
        "               .filter(col(\"name\").isNotNull() & col(\"district_name\").isNotNull()) \\\n",
        "               .na.drop()\n",
        "\n",
        "        df.show()\n",
        "\n",
        "        # Write to silver layer\n",
        "        self.load(df=df, format=\"parquet\", path=\"/content/lake/silver/municipalities\")\n",
        "\n",
        "print('ETLTask class defined for bronze layer cleansing')"
      ],
      "metadata": {
        "id": "BioLLh5zRCMF",
        "outputId": "ccca044d-cbbc-4cf1-dea4-bfebf949d3fc",
        "colab": {
          "base_uri": "https://localhost:8080/"
        }
      },
      "execution_count": 9,
      "outputs": [
        {
          "output_type": "stream",
          "name": "stdout",
          "text": [
            "ETLTask class defined for bronze layer cleansing\n"
          ]
        }
      ]
    },
    {
      "cell_type": "markdown",
      "source": [
        "# ETL Task Enrichment for Gold layer\n",
        "\n",
        "---------------------"
      ],
      "metadata": {
        "id": "J17wiYEGRJsZ"
      }
    },
    {
      "cell_type": "code",
      "source": [
        "from pyspark.sql import SparkSession, DataFrame\n",
        "from pyspark.sql.functions import col, explode\n",
        "from pyspark.sql.types import *\n",
        "\n",
        "class ETLTask_Gold(ETLFlow):\n",
        "    def __init__(self, spark: SparkSession) -> None:\n",
        "        super().__init__(spark)\n",
        "\n",
        "    def enrich_vehicles(self):\n",
        "        # Define schemas\n",
        "        vehicles_schema = StructType([\n",
        "            StructField('bearing', IntegerType(), True),\n",
        "            StructField('block_id', StringType(), True),\n",
        "            StructField('current_status', StringType(), True),\n",
        "            StructField('id', StringType(), True),\n",
        "            StructField('latitude', FloatType(), True),\n",
        "            StructField('line_id', StringType(), True),\n",
        "            StructField('longitude', FloatType(), True),\n",
        "            StructField('pattern_id', StringType(), True),\n",
        "            StructField('route_id', StringType(), True),\n",
        "            StructField('schedule_relationship', StringType(), True),\n",
        "            StructField('shift_id', StringType(), True),\n",
        "            StructField('speed', FloatType(), True),\n",
        "            StructField('stop_id', StringType(), True),\n",
        "            StructField(\"timestamp\", TimestampType(), True),\n",
        "            StructField('trip_id', StringType(), True),\n",
        "            StructField(\"date\", DateType(), True)\n",
        "        ])\n",
        "\n",
        "        lines_schema = StructType([\n",
        "            StructField(\"id\", StringType(), True),\n",
        "            StructField(\"long_name\", StringType(), True),\n",
        "            StructField(\"municipalities\", ArrayType(StringType()), True)\n",
        "        ])\n",
        "\n",
        "        municipalities_schema = StructType([\n",
        "            StructField(\"id\", StringType(), True),\n",
        "            StructField(\"name\", StringType(), True)\n",
        "        ])\n",
        "\n",
        "        # Read data from silver layer\n",
        "        vehicles_df = self.spark.read.schema(vehicles_schema).parquet(\"/content/lake/silver/vehicles\")\n",
        "        lines_df = self.spark.read.schema(lines_schema).parquet(\"/content/lake/silver/lines\")\n",
        "        municipalities_df = self.spark.read.schema(municipalities_schema).parquet(\"/content/lake/silver/municipalities\")\n",
        "\n",
        "        # Join vehicles with lines (1:1)\n",
        "        enriched_df = vehicles_df.join(lines_df, vehicles_df.line_id == lines_df.id, \"left\")\n",
        "\n",
        "        # Explode municipalities before joining to get the same cardinality as lines df (1:n)\n",
        "        exploded_lines_df = lines_df.select(col(\"id\").alias(\"line_id\"), explode(\"municipalities\").alias(\"municipality_id\"))\n",
        "\n",
        "        # Join with exploded municipalities and then with municipalities_df\n",
        "        enriched_df = enriched_df.join(exploded_lines_df, enriched_df.line_id == exploded_lines_df.line_id, \"left\") \\\n",
        "                                 .join(municipalities_df, exploded_lines_df.municipality_id == municipalities_df.id, \"left\")\n",
        "\n",
        "        # Select required columns\n",
        "        enriched_df = enriched_df.select(\n",
        "            vehicles_df[\"*\"],\n",
        "            col(\"long_name\").alias(\"line_name\"),\n",
        "            col(\"name\").alias(\"municipality_name\")\n",
        "        )\n",
        "\n",
        "        enriched_df.show()\n",
        "\n",
        "        # Write enriched data to gold layer\n",
        "        self.load(df=enriched_df, format=\"parquet\", path=\"/content/lake/gold/vehicles_enriched\", partition_column=\"date\")"
      ],
      "metadata": {
        "id": "MZ6gct3uRKAr"
      },
      "execution_count": 16,
      "outputs": []
    },
    {
      "cell_type": "markdown",
      "source": [
        "#Main Execution"
      ],
      "metadata": {
        "id": "sbMqAAaeRKpQ"
      }
    },
    {
      "cell_type": "code",
      "source": [
        "# Initialize ETL Bronze Process\n",
        "print(\"Starting ETL program\")\n",
        "etl_bronze = ETLTask_Bronze(spark)\n",
        "\n",
        "# Ingest vehicle data\n",
        "print(\"Running Task - Ingestion Vehicles\")\n",
        "etl_bronze.ingestion_vehicles()\n",
        "\n",
        "# Ingest line data\n",
        "print(\"Running Task - Ingestion Lines\")\n",
        "etl_bronze.ingestion_lines()\n",
        "\n",
        "# Ingest municipality data\n",
        "print(\"Running Task - Ingestion Municipalities\")\n",
        "etl_bronze.ingestion_municipalities()"
      ],
      "metadata": {
        "id": "FsCVDUrMRG17",
        "outputId": "78c9cff8-52ef-49d8-dbd0-0ea6d33f97ed",
        "colab": {
          "base_uri": "https://localhost:8080/"
        }
      },
      "execution_count": 12,
      "outputs": [
        {
          "output_type": "stream",
          "name": "stdout",
          "text": [
            "Starting ETL program\n",
            "Running Task - Ingestion Vehicles\n",
            "Running Task - Ingestion Lines\n",
            "Running Task - Ingestion Municipalities\n"
          ]
        }
      ]
    },
    {
      "cell_type": "code",
      "source": [
        "# Initialize ETL Silver Process\n",
        "print(\"Starting Cleansing process\")\n",
        "etl_silver = ETLTask_Silver(spark)\n",
        "print(\"Ingestion process completed\")\n",
        "\n",
        "# Cleanse vehicle data\n",
        "print(\"Running Task - Cleansing Vehicles\")\n",
        "etl_silver.cleanse_vehicles()\n",
        "\n",
        "# Cleanse lines data\n",
        "print(\"Running Task - Cleansing Lines\")\n",
        "etl_silver.cleanse_lines()\n",
        "\n",
        "# Cleanse municipalities data\n",
        "print(\"Running Task - Cleansing Municipalities\")\n",
        "etl_silver.cleanse_municipalities()\n",
        "\n",
        "print(\"Cleansing process completed\")"
      ],
      "metadata": {
        "id": "Ud2nFsjcRNBG",
        "outputId": "eca3627b-1d1f-4b39-de36-eafa8b57e8e7",
        "colab": {
          "base_uri": "https://localhost:8080/"
        }
      },
      "execution_count": 13,
      "outputs": [
        {
          "output_type": "stream",
          "name": "stdout",
          "text": [
            "Starting Cleansing process\n",
            "Ingestion process completed\n",
            "Running Task - Cleansing Vehicles\n",
            "+-------+--------------------+--------------+--------+---------+-------+---------+----------+--------+---------------------+-------------+---------+-------+-------------------+--------------------+----------+\n",
            "|bearing|            block_id|current_status|      id| latitude|line_id|longitude|pattern_id|route_id|schedule_relationship|     shift_id|    speed|stop_id|          timestamp|             trip_id|      date|\n",
            "+-------+--------------------+--------------+--------+---------+-------+---------+----------+--------+---------------------+-------------+---------+-------+-------------------+--------------------+----------+\n",
            "|     85|       ESC_DU_EU1029| IN_TRANSIT_TO| 43|2009|  38.6314|   3118| -9.09959|  3118_0_1|  3118_0|            SCHEDULED|       EU1034|3.6111112| 140062|2024-11-27 16:38:23|3118_0_1_1530_155...|2024-11-27|\n",
            "|    165|           1_1762-11| IN_TRANSIT_TO| 41|1180|38.787453|   1232|-9.345949|  1232_0_3|  1232_0|            SCHEDULED|         1771|11.944445| 171133|2024-11-27 16:38:37|1232_0_3_1600_162...|2024-11-27|\n",
            "|    241|20241127-64010026...|   INCOMING_AT|44|12655| 38.65018|   4701|-9.042223|  4701_0_1|  4701_0|            SCHEDULED| 123220234560|11.666667| 090259|2024-11-27 16:38:36|4701_0_1|2700|154...|2024-11-27|\n",
            "|     23|           1_1665-11|    STOPPED_AT| 41|1153| 38.77527|   1212|-9.271102|  1212_0_1|  1212_0|            SCHEDULED|         1650|      0.0| 170540|2024-11-27 16:38:43|1212_0_1_1600_162...|2024-11-27|\n",
            "|    173|           1_1235-11|   INCOMING_AT| 41|1261|38.764366|   1715|-9.278973|  1715_0_2|  1715_0|            SCHEDULED|         1245|10.833333| 170961|2024-11-27 16:38:47|1715_0_2_1600_162...|2024-11-27|\n",
            "|    334|             1084-11|   INCOMING_AT| 42|2408|38.838516|   2722|-9.092021|  2722_0_1|  2722_0|            SCHEDULED|         1089|7.2222223| 071285|2024-11-27 16:38:46|2722_0_1|1|1|1545...|2024-11-27|\n",
            "|    139|             1741-11|   INCOMING_AT| 42|2760|38.855984|   2038|-9.148292|  2038_0_3|  2038_0|            SCHEDULED|         1741|     10.0| 070426|2024-11-27 16:38:51|2038_0_3|1|1|1610...|2024-11-27|\n",
            "|     56|           1_1083-11| IN_TRANSIT_TO| 41|1320|38.722286|   1713|-9.217623|  1713_0_1|  1713_0|            SCHEDULED|         1143|      0.0| 120008|2024-11-27 16:38:56|1713_0_1_1630_165...|2024-11-27|\n",
            "|    179|20241127-64010115...|   INCOMING_AT|44|12532| 38.71184|   4203|-8.972981|  4203_0_1|  4203_0|            SCHEDULED| 121310234560| 6.111111| 100023|2024-11-27 16:38:51|4203_0_1|2700|161...|2024-11-27|\n",
            "|      0|           1_1662-11|    STOPPED_AT| 41|1885| 38.75167|   1518|-9.224105|  1518_0_2|  1518_0|            SCHEDULED|         1658|      0.0| 030407|2024-11-27 16:38:31|1518_0_2_1630_165...|2024-11-27|\n",
            "|    221|       ESC_DU_EU3029|   INCOMING_AT| 43|2115| 38.62473|   3615|-9.085256|  3615_0_1|  3615_0|            SCHEDULED|       EU3030| 8.611111| 140331|2024-11-27 16:38:49|3615_0_1_1600_162...|2024-11-27|\n",
            "|    123|                1213| IN_TRANSIT_TO| 42|1213| 38.78558|   2754| -9.16926|  2754_0_2|  2754_0|            SCHEDULED|        44297| 16.11111| 060008|2024-11-27 16:37:49|2754_0_2|130|1|15...|2024-11-27|\n",
            "|     45|           1_1036-11| IN_TRANSIT_TO| 41|1851|38.767006|   1514|-9.230517|  1514_0_2|  1514_0|            SCHEDULED|         1082| 8.888889| 030167|2024-11-27 16:38:57|1514_0_2_1600_162...|2024-11-27|\n",
            "|    231|             1718-11| IN_TRANSIT_TO| 42|2774|  38.8159|   2706|-9.154907|  2706_0_1|  2706_0|            SCHEDULED|         1749|4.1666665| 060008|2024-11-27 16:38:24|2706_0_1|1|1|1610...|2024-11-27|\n",
            "|      0|           1_1068-11|    STOPPED_AT| 41|1336|38.751183|   1014|-9.226899|  1014_0_1|  1014_0|            SCHEDULED|         1122|      0.0| 030459|2024-11-27 16:38:27|1014_0_1_1600_162...|2024-11-27|\n",
            "|      0|       ESC_DU_EU1087|    STOPPED_AT| 43|2027| 38.68413|   3506|-9.150232|  3506_0_1|  3506_0|            SCHEDULED|       EU1122|      0.0| 020115|2024-11-27 16:37:30|3506_0_1_1630_165...|2024-11-27|\n",
            "|    161|20241127-64010129...| IN_TRANSIT_TO|44|12531|38.532772|   4512|-8.885511|  4512_0_1|  4512_0|            SCHEDULED| 121180234560|5.5555553| 162008|2024-11-27 16:38:56|4512_0_1|2700|151...|2024-11-27|\n",
            "|    318|           1_1089-11| IN_TRANSIT_TO| 41|1323| 38.74941|   1713|-9.213698|  1713_0_2|  1713_0|            SCHEDULED|1079+MED(13H)| 8.611111| 030833|2024-11-27 16:38:38|1713_0_2_1630_165...|2024-11-27|\n",
            "|      0|       ESC_DU_EU1071|    STOPPED_AT| 43|2361|38.636677|   3516|-9.150338|  3516_0_2|  3516_0|            SCHEDULED|       EU1109|      0.0| 140349|2024-11-27 16:38:36|3516_0_2_1630_165...|2024-11-27|\n",
            "|    354|           1_1737-11| IN_TRANSIT_TO| 41|1404|38.756382|   1624|-9.457878|  1624_1_1|  1624_1|            SCHEDULED|EX.MED+1737P2|     12.5| 050293|2024-11-27 16:38:19|1624_1_1_1600_162...|2024-11-27|\n",
            "+-------+--------------------+--------------+--------+---------+-------+---------+----------+--------+---------------------+-------------+---------+-------+-------------------+--------------------+----------+\n",
            "only showing top 20 rows\n",
            "\n",
            "Running Task - Cleansing Lines\n",
            "+-------+----------+----+--------------------+--------------------+--------------------+--------------------+--------------------+----------+----------+\n",
            "|  color|facilities|  id|          localities|           long_name|      municipalities|            patterns|              routes|short_name|text_color|\n",
            "+-------+----------+----+--------------------+--------------------+--------------------+--------------------+--------------------+----------+----------+\n",
            "|#C61D23|        []|2115|             [Mafra]|Codeçal (Tapada N...|              [1109]|[2115_0_1, 2115_0_2]|            [2115_0]|      2115|   #FFFFFF|\n",
            "|#C61D23|        []|2532|[Alverca, Vila Fr...|Alverca(Est) - Lo...|        [1114, 1107]|[2532_0_1, 2532_0_2]|            [2532_0]|      2532|   #FFFFFF|\n",
            "|#C61D23|        []|3119|[Pinhal de Cima, ...|Pinhal Conde Cunh...|              [1510]|[3119_0_1, 3119_0_2]|            [3119_0]|      3119|   #FFFFFF|\n",
            "|#C61D23|        []|3535|[Cacilhas, Cova d...|Cacilhas (Termina...|  [1503, 1510, 1511]|[3535_0_1, 3535_0_2]|            [3535_0]|      3535|   #FFFFFF|\n",
            "|#C61D23|        []|3545|[Corroios, Sta. M...|Corroios (Estação...|        [1510, 1511]|[3545_0_1, 3545_0_2]|            [3545_0]|      3545|   #FFFFFF|\n",
            "|#3D85C6|        []|4430|           [Setúbal]|Setúbal (Hospital...|              [1512]|[4430_0_1, 4430_0_2]|            [4430_0]|      4430|   #FFFFFF|\n",
            "|#C61D23|        []|1733|[Marquês de Pomba...|Marquês Pombal (M...|  [1106, 1110, 1111]|[1733_0_1, 1733_0...|[1733_0, 1733_1, ...|      1733|   #FFFFFF|\n",
            "|#C61D23|        []|2014|            [Loures]|Escola Maria Vele...|              [1107]|[2014_0_1, 2014_0_2]|            [2014_0]|      2014|   #FFFFFF|\n",
            "|#C61D23|        []|2210|          [Odivelas]|J. Amoreira-Colin...|              [1116]|          [2210_0_3]|            [2210_0]|      2210|   #FFFFFF|\n",
            "|#C61D23|        []|2753|[Campo Grande, Od...|Lisboa (C. Grande...|[1106, 1116, 1107...|[2753_0_1, 2753_0_2]|            [2753_0]|      2753|   #FFFFFF|\n",
            "|#C61D23|        []|4002|[Alcochete, São F...|São Francisco | C...|              [1502]|          [4002_0_3]|            [4002_0]|      4002|   #FFFFFF|\n",
            "|#C61D23|        []|4308|[Pinhal Novo, Val...|Palmela (Terminal...|              [1508]|[4308_0_2, 4308_0_1]|            [4308_0]|      4308|   #FFFFFF|\n",
            "|#C61D23|        []|4452|[Setúbal, Praias ...|Mitrena (Portucel...|              [1512]|[4452_0_1, 4452_0...|    [4452_0, 4452_1]|      4452|   #FFFFFF|\n",
            "|#C61D23|        []|1103|[Algés, Oeiras, Q...|Algés (Estação) -...|              [1110]|[1103_0_1, 1103_0_2]|            [1103_0]|      1103|   #FFFFFF|\n",
            "|#C61D23|        []|1523|[Cacém, Sintra, T...|Agualva-Cacém (Es...|        [1111, 1110]|[1523_0_1, 1523_0_2]|            [1523_0]|      1523|   #FFFFFF|\n",
            "|#C61D23|        []|2116|  [Mafra, Murgueira]|Encarnação - Mafr...|              [1109]|[2116_0_1, 2116_0_2]|            [2116_0]|      2116|   #FFFFFF|\n",
            "|#C61D23|        []|3207|[Carrasqueira, Se...|Carrasqueira - Se...|              [1511]|[3207_0_1, 3207_0_2]|            [3207_0]|      3207|   #FFFFFF|\n",
            "|#3D85C6|        []|4106|[Moita, Alhos Ved...|Alhos Vedros | Ci...|              [1506]|          [4106_0_3]|            [4106_0]|      4106|   #FFFFFF|\n",
            "|#C61D23|        []|4541|[Algeruz, Brejos ...|Algeruz - Setúbal...|        [1508, 1512]|[4541_0_1, 4541_0_2]|            [4541_0]|      4541|   #FFFFFF|\n",
            "|#C61D23|        []|4550|[Vila Nogueira de...|Palmela (Terminal...|        [1512, 1508]|[4550_0_2, 4550_0_1]|            [4550_0]|      4550|   #FFFFFF|\n",
            "+-------+----------+----+--------------------+--------------------+--------------------+--------------------+--------------------+----------+----------+\n",
            "only showing top 20 rows\n",
            "\n",
            "Running Task - Cleansing Municipalities\n",
            "+-------------+----+--------------------+------+---------+----------------+\n",
            "|district_name|  id|                name|prefix|region_id|     region_name|\n",
            "+-------------+----+--------------------+------+---------+----------------+\n",
            "|       Lisboa|1101|            Alenquer|    20|    PT16B|           Oeste|\n",
            "|       Lisboa|1110|              Oeiras|    12|    PT170|             AML|\n",
            "|        Évora|0712|        Vendas Novas|    19|    PT187|Alentejo Central|\n",
            "|       Lisboa|1111|              Sintra|    17|    PT170|             AML|\n",
            "|      Setúbal|1504|            Barreiro|    04|    PT170|             AML|\n",
            "|      Setúbal|1502|           Alcochete|    01|    PT170|             AML|\n",
            "|       Lisboa|1109|               Mafra|    08|    PT170|             AML|\n",
            "|      Setúbal|1510|              Seixal|    14|    PT170|             AML|\n",
            "|       Lisboa|1114| Vila Franca de Xira|    18|    PT170|             AML|\n",
            "|       Lisboa|1102|   Arruda dos Vinhos|    20|    PT16B|           Oeste|\n",
            "|      Setúbal|1508|             Palmela|    13|    PT170|             AML|\n",
            "|       Lisboa|1112|Sobral de Monte A...|    20|    PT16B|           Oeste|\n",
            "|       Lisboa|1107|              Loures|    07|    PT170|             AML|\n",
            "|       Lisboa|1106|              Lisboa|    06|    PT170|             AML|\n",
            "|       Lisboa|1113|       Torres Vedras|    20|    PT16B|           Oeste|\n",
            "|      Setúbal|1503|              Almada|    02|    PT170|             AML|\n",
            "|       Lisboa|1105|             Cascais|    05|    PT170|             AML|\n",
            "|       Lisboa|1116|            Odivelas|    11|    PT170|             AML|\n",
            "|      Setúbal|1511|            Sesimbra|    15|    PT170|             AML|\n",
            "|      Setúbal|1507|             Montijo|    10|    PT170|             AML|\n",
            "+-------------+----+--------------------+------+---------+----------------+\n",
            "only showing top 20 rows\n",
            "\n",
            "Cleansing process completed\n"
          ]
        }
      ]
    },
    {
      "cell_type": "code",
      "source": [
        "# Initialize ETL Gold Process\n",
        "etl_gold = ETLTask_Gold(spark)\n",
        "\n",
        "print(\"Running Task - Enriching Vehicles\")\n",
        "etl_gold.enrich_vehicles()\n",
        "\n",
        "print(\"Enrichment process completed\")\n",
        "print(\"ETL program completed\")"
      ],
      "metadata": {
        "id": "gNA6wTJGSIxO",
        "outputId": "cf3a463a-079c-4724-9b25-61e8f5064fcc",
        "colab": {
          "base_uri": "https://localhost:8080/"
        }
      },
      "execution_count": 17,
      "outputs": [
        {
          "output_type": "stream",
          "name": "stdout",
          "text": [
            "Running Task - Enriching Vehicles\n",
            "+-------+--------------------+--------------+--------+---------+-------+---------+----------+--------+---------------------+------------+---------+-------+-------------------+--------------------+----------+--------------------+-----------------+\n",
            "|bearing|            block_id|current_status|      id| latitude|line_id|longitude|pattern_id|route_id|schedule_relationship|    shift_id|    speed|stop_id|          timestamp|             trip_id|      date|           line_name|municipality_name|\n",
            "+-------+--------------------+--------------+--------+---------+-------+---------+----------+--------+---------------------+------------+---------+-------+-------------------+--------------------+----------+--------------------+-----------------+\n",
            "|     85|       ESC_DU_EU1029| IN_TRANSIT_TO| 43|2009|  38.6314|   3118| -9.09959|  3118_0_1|  3118_0|            SCHEDULED|      EU1034|3.6111112| 140062|2024-11-27 16:38:23|3118_0_1_1530_155...|2024-11-27|Marisol (Valadare...|           Almada|\n",
            "|     85|       ESC_DU_EU1029| IN_TRANSIT_TO| 43|2009|  38.6314|   3118| -9.09959|  3118_0_1|  3118_0|            SCHEDULED|      EU1034|3.6111112| 140062|2024-11-27 16:38:23|3118_0_1_1530_155...|2024-11-27|Marisol (Valadare...|           Seixal|\n",
            "|    165|           1_1762-11| IN_TRANSIT_TO| 41|1180|38.787453|   1232|-9.345949|  1232_0_3|  1232_0|            SCHEDULED|        1771|11.944445| 171133|2024-11-27 16:38:37|1232_0_3_1600_162...|2024-11-27|Rio de Mouro (Est...|           Sintra|\n",
            "|    241|20241127-64010026...|   INCOMING_AT|44|12655| 38.65018|   4701|-9.042223|  4701_0_1|  4701_0|            SCHEDULED|123220234560|11.666667| 090259|2024-11-27 16:38:36|4701_0_1|2700|154...|2024-11-27|Lisboa (Oriente) ...|           Lisboa|\n",
            "|    241|20241127-64010026...|   INCOMING_AT|44|12655| 38.65018|   4701|-9.042223|  4701_0_1|  4701_0|            SCHEDULED|123220234560|11.666667| 090259|2024-11-27 16:38:36|4701_0_1|2700|154...|2024-11-27|Lisboa (Oriente) ...|          Montijo|\n",
            "|    241|20241127-64010026...|   INCOMING_AT|44|12655| 38.65018|   4701|-9.042223|  4701_0_1|  4701_0|            SCHEDULED|123220234560|11.666667| 090259|2024-11-27 16:38:36|4701_0_1|2700|154...|2024-11-27|Lisboa (Oriente) ...|            Moita|\n",
            "|     23|           1_1665-11|    STOPPED_AT| 41|1153| 38.77527|   1212|-9.271102|  1212_0_1|  1212_0|            SCHEDULED|        1650|      0.0| 170540|2024-11-27 16:38:43|1212_0_1_1600_162...|2024-11-27|Venda Seca - Quel...|           Sintra|\n",
            "|    173|           1_1235-11|   INCOMING_AT| 41|1261|38.764366|   1715|-9.278973|  1715_0_2|  1715_0|            SCHEDULED|        1245|10.833333| 170961|2024-11-27 16:38:47|1715_0_2_1600_162...|2024-11-27|Belém (Estação) -...|           Sintra|\n",
            "|    173|           1_1235-11|   INCOMING_AT| 41|1261|38.764366|   1715|-9.278973|  1715_0_2|  1715_0|            SCHEDULED|        1245|10.833333| 170961|2024-11-27 16:38:47|1715_0_2_1600_162...|2024-11-27|Belém (Estação) -...|          Amadora|\n",
            "|    173|           1_1235-11|   INCOMING_AT| 41|1261|38.764366|   1715|-9.278973|  1715_0_2|  1715_0|            SCHEDULED|        1245|10.833333| 170961|2024-11-27 16:38:47|1715_0_2_1600_162...|2024-11-27|Belém (Estação) -...|           Oeiras|\n",
            "|    173|           1_1235-11|   INCOMING_AT| 41|1261|38.764366|   1715|-9.278973|  1715_0_2|  1715_0|            SCHEDULED|        1245|10.833333| 170961|2024-11-27 16:38:47|1715_0_2_1600_162...|2024-11-27|Belém (Estação) -...|           Lisboa|\n",
            "|    334|             1084-11|   INCOMING_AT| 42|2408|38.838516|   2722|-9.092021|  2722_0_1|  2722_0|            SCHEDULED|        1089|7.2222223| 071285|2024-11-27 16:38:46|2722_0_1|1|1|1545...|2024-11-27|  Areeiro - Via Rara|           Loures|\n",
            "|    334|             1084-11|   INCOMING_AT| 42|2408|38.838516|   2722|-9.092021|  2722_0_1|  2722_0|            SCHEDULED|        1089|7.2222223| 071285|2024-11-27 16:38:46|2722_0_1|1|1|1545...|2024-11-27|  Areeiro - Via Rara|           Lisboa|\n",
            "|    139|             1741-11|   INCOMING_AT| 42|2760|38.855984|   2038|-9.148292|  2038_0_3|  2038_0|            SCHEDULED|        1741|     10.0| 070426|2024-11-27 16:38:51|2038_0_3|1|1|1610...|2024-11-27|Bucelas - Loures ...|           Loures|\n",
            "|     56|           1_1083-11| IN_TRANSIT_TO| 41|1320|38.722286|   1713|-9.217623|  1713_0_1|  1713_0|            SCHEDULED|        1143|      0.0| 120008|2024-11-27 16:38:56|1713_0_1_1630_165...|2024-11-27|Algés (Estação) -...|          Amadora|\n",
            "|     56|           1_1083-11| IN_TRANSIT_TO| 41|1320|38.722286|   1713|-9.217623|  1713_0_1|  1713_0|            SCHEDULED|        1143|      0.0| 120008|2024-11-27 16:38:56|1713_0_1_1630_165...|2024-11-27|Algés (Estação) -...|           Oeiras|\n",
            "|    179|20241127-64010115...|   INCOMING_AT|44|12532| 38.71184|   4203|-8.972981|  4203_0_1|  4203_0|            SCHEDULED|121310234560| 6.111111| 100023|2024-11-27 16:38:51|4203_0_1|2700|161...|2024-11-27|Afonsoeiro - Mont...|          Montijo|\n",
            "|      0|           1_1662-11|    STOPPED_AT| 41|1885| 38.75167|   1518|-9.224105|  1518_0_2|  1518_0|            SCHEDULED|        1658|      0.0| 030407|2024-11-27 16:38:31|1518_0_2_1630_165...|2024-11-27|Monte Abraão - Re...|          Amadora|\n",
            "|      0|           1_1662-11|    STOPPED_AT| 41|1885| 38.75167|   1518|-9.224105|  1518_0_2|  1518_0|            SCHEDULED|        1658|      0.0| 030407|2024-11-27 16:38:31|1518_0_2_1630_165...|2024-11-27|Monte Abraão - Re...|           Sintra|\n",
            "|    221|       ESC_DU_EU3029|   INCOMING_AT| 43|2115| 38.62473|   3615|-9.085256|  3615_0_1|  3615_0|            SCHEDULED|      EU3030| 8.611111| 140331|2024-11-27 16:38:49|3615_0_1_1600_162...|2024-11-27|   Barreiro - Seixal|            Moita|\n",
            "+-------+--------------------+--------------+--------+---------+-------+---------+----------+--------+---------------------+------------+---------+-------+-------------------+--------------------+----------+--------------------+-----------------+\n",
            "only showing top 20 rows\n",
            "\n",
            "Enrichment process completed\n",
            "ETL program completed\n"
          ]
        }
      ]
    }
  ],
  "metadata": {
    "colab": {
      "provenance": [],
      "include_colab_link": true
    },
    "kernelspec": {
      "display_name": "Python 3",
      "name": "python3"
    },
    "language_info": {
      "name": "python"
    }
  },
  "nbformat": 4,
  "nbformat_minor": 0
}