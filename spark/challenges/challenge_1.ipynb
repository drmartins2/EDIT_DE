{
  "cells": [
    {
      "cell_type": "markdown",
      "metadata": {
        "id": "view-in-github",
        "colab_type": "text"
      },
      "source": [
        "<a href=\"https://colab.research.google.com/github/drmartins2/EDIT_DE/blob/main/spark/challenges/challenge_1.ipynb\" target=\"_parent\"><img src=\"https://colab.research.google.com/assets/colab-badge.svg\" alt=\"Open In Colab\"/></a>"
      ]
    },
    {
      "cell_type": "markdown",
      "metadata": {
        "id": "BOA_wQSmLd9z"
      },
      "source": [
        "# CHALLENGE 1\n",
        "##  Implement INGESTION process\n",
        "- Set up path in the \"lake\"\n",
        "  - !mkdir -p /content/lake/bronze\n",
        "\n",
        "- Read data from API https://api.carrismetropolitana.pt/\n",
        "  - Endpoints:\n",
        "    - vehicles\n",
        "    - lines\n",
        "    - municipalities\n",
        "  - Use StructFields to enforce schema\n",
        "\n",
        "- Transformations\n",
        "  - vehicles\n",
        "    - create \"date\" extracted from \"timestamp\" column (format: date - yyyy-mm-dd or yyyymmdd)\n",
        "\n",
        "- Write data as PARQUET into the BRONZE layer (/content/lake/bronze)\n",
        "  - Partition \"vehicles\" by \"date\" column\n",
        "  - Paths:\n",
        "    - vehicles - path: /content/lake/bronze/vehicles\n",
        "    - lines - path: /content/lake/bronze/lines\n",
        "    - municipalities - path: /content/lake/bronze/municipalities\n",
        "  - Make sure there is only 1 single parquet created [by using coalesce() when wrting the parquet file]\n",
        "  - Use overwrite as write mode"
      ]
    },
    {
      "cell_type": "markdown",
      "metadata": {
        "id": "d9LeYFsPTjAb"
      },
      "source": [
        "# Setting up PySpark"
      ]
    },
    {
      "cell_type": "code",
      "execution_count": 1,
      "metadata": {
        "colab": {
          "base_uri": "https://localhost:8080/"
        },
        "id": "uYXeODL0T1fO",
        "outputId": "53e41faa-61e2-417e-fb8b-24ba523d112b"
      },
      "outputs": [
        {
          "output_type": "stream",
          "name": "stdout",
          "text": [
            "Requirement already satisfied: pyspark in /usr/local/lib/python3.10/dist-packages (3.5.3)\n",
            "Requirement already satisfied: py4j==0.10.9.7 in /usr/local/lib/python3.10/dist-packages (from pyspark) (0.10.9.7)\n"
          ]
        }
      ],
      "source": [
        "%pip install pyspark"
      ]
    },
    {
      "cell_type": "code",
      "source": [
        "!mkdir -p /content/lake/bronze"
      ],
      "metadata": {
        "id": "HLMn3HX0eJ7U"
      },
      "execution_count": 2,
      "outputs": []
    },
    {
      "cell_type": "code",
      "source": [
        "from pyspark.sql import SparkSession\n",
        "spark = SparkSession.builder.master('local').appName('Spark Course').config('spark.ui.port', '4050').getOrCreate()\n",
        "sc = spark.sparkContext"
      ],
      "metadata": {
        "id": "xXwhTb36iM6-"
      },
      "execution_count": 5,
      "outputs": []
    },
    {
      "cell_type": "markdown",
      "source": [
        "API Response definition"
      ],
      "metadata": {
        "id": "IRSbGMFikLnx"
      }
    },
    {
      "cell_type": "code",
      "source": [
        "import requests\n",
        "from pyspark.sql.types import *\n",
        "\n",
        "def readFromAPI(url: str, schema: StructType = None):\n",
        "  response = requests.get(url)\n",
        "  rdd = sc.parallelize(response.json())\n",
        "\n",
        "  if schema:\n",
        "    df = spark.read.schema(schema).json(rdd)\n",
        "  else:\n",
        "    df = spark.read.json(rdd)\n",
        "  return df\n"
      ],
      "metadata": {
        "id": "EE_uzzoGgvo9"
      },
      "execution_count": 8,
      "outputs": []
    },
    {
      "cell_type": "markdown",
      "source": [
        "Vehicles with Schema"
      ],
      "metadata": {
        "id": "b_In3sM3mOyP"
      }
    },
    {
      "cell_type": "code",
      "source": [
        "vehicle_schema = StructType([StructField('bearing', IntegerType(), True),\n",
        "                             StructField('block_id', StringType(), True),\n",
        "                             StructField('current_status', StringType(), True),\n",
        "                             StructField('id', StringType(), True),\n",
        "                             StructField('lat', FloatType(), True),\n",
        "                             StructField('line_id', StringType(), True),\n",
        "                             StructField('lon', FloatType(), True),\n",
        "                             StructField('pattern_id', StringType(), True),\n",
        "                             StructField('route_id', StringType(), True),\n",
        "                             StructField('schedule_relationship', StringType(), True),\n",
        "                             StructField('shift_id', StringType(), True),\n",
        "                             StructField('speed', FloatType(), True),\n",
        "                             StructField('stop_id', StringType(), True),\n",
        "                             StructField('timestamp', TimestampType(), True),\n",
        "                             StructField('trip_id', StringType(), True)])\n",
        "\n",
        "vehicles = readFromAPI(\"https://api.carrismetropolitana.pt/vehicles\", vehicle_schema)\n",
        "print(vehicles.count())\n",
        "vehicles.show()"
      ],
      "metadata": {
        "colab": {
          "base_uri": "https://localhost:8080/"
        },
        "id": "izJYZs2qmOWD",
        "outputId": "154758ae-8d45-470a-92a7-5cd2fa65e3fa"
      },
      "execution_count": 10,
      "outputs": [
        {
          "output_type": "stream",
          "name": "stdout",
          "text": [
            "592\n",
            "+-------+--------------------+--------------+--------+---------+-------+---------+----------+--------+---------------------+------------+---------+-------+-------------------+--------------------+\n",
            "|bearing|            block_id|current_status|      id|      lat|line_id|      lon|pattern_id|route_id|schedule_relationship|    shift_id|    speed|stop_id|          timestamp|             trip_id|\n",
            "+-------+--------------------+--------------+--------+---------+-------+---------+----------+--------+---------------------+------------+---------+-------+-------------------+--------------------+\n",
            "|    130|20241122-64010574...| IN_TRANSIT_TO|44|12670|38.654335|   4701|-9.007803|  4701_0_2|  4701_0|            SCHEDULED|123520234560|11.666667| 090009|2024-11-22 20:38:31|4701_0_2|2200|203...|\n",
            "|    105|20241122-64010186...| IN_TRANSIT_TO|44|12083|38.529434|   4437|-8.885743|  4437_0_2|  4437_0|            SCHEDULED|112620234560|      0.0| 162003|2024-11-22 20:38:21|4437_0_2|2200|210...|\n",
            "|    293|20241122-64010066...| IN_TRANSIT_TO|44|12525|38.649914|   4604|-9.018534|  4604_0_2|  4604_0|            SCHEDULED|121770234560| 6.111111| 090268|2024-11-22 20:38:21|4604_0_2|2200|202...|\n",
            "|    139|20241122-64010058...|    STOPPED_AT|44|12686|38.656452|   4602|-9.048979|  4602_0_2|  4602_0|            SCHEDULED|121850234560|      0.0| 040023|2024-11-22 20:37:15|4602_0_2|2200|202...|\n",
            "|     82|20241122-64010155...| IN_TRANSIT_TO|44|12688|38.585537|   4725|-8.903453|  4725_0_1|  4725_0|            SCHEDULED|113270234560|26.944445| 160027|2024-11-22 20:38:21|4725_0_1|2200|193...|\n",
            "|    351|20241122-64010300...| IN_TRANSIT_TO|44|12734|38.570564|   4562|-8.872947|  4562_0_1|  4562_0|            SCHEDULED|111600234560| 8.333333| 130009|2024-11-22 20:38:20|4562_0_1|2200|201...|\n",
            "|    124|20241122-64010060...| IN_TRANSIT_TO|44|12521|38.661198|   4600| -9.05024|  4600_0_2|  4600_0|            SCHEDULED|121830234560|     10.0| 090199|2024-11-22 20:38:20|4600_0_2|2200|203...|\n",
            "|    330|20241122-64010080...| IN_TRANSIT_TO|44|12620|38.652065|   4600|-8.990467|  4600_0_2|  4600_0|            SCHEDULED|121650234560|5.2777777| 090117|2024-11-22 20:38:21|4600_0_2|2200|193...|\n",
            "|    355|20241122-64010001...| IN_TRANSIT_TO|44|12697|38.769108|   4706|-9.104248|  4706_0_2|  4706_0|            SCHEDULED|123470234560|10.555555| 100042|2024-11-22 20:38:22|4706_0_2|2200|201...|\n",
            "|     65|20241122-64010062...| IN_TRANSIT_TO|44|12526|38.709328|   4600|-8.982185|  4600_0_1|  4600_0|            SCHEDULED|121810234560| 8.055555| 100091|2024-11-22 20:38:20|4600_0_1|2200|200...|\n",
            "|    333|20241122-64010101...| IN_TRANSIT_TO|44|12515| 38.76008|   4514|-8.626964|  4514_0_2|  4514_0|            SCHEDULED|121450234560| 8.611111| 100204|2024-11-22 20:38:21|4514_0_2|2200|191...|\n",
            "|    121|20241122-64010049...|   INCOMING_AT|44|12520|38.700813|   4512|-8.969308|  4512_0_1|  4512_0|            SCHEDULED|121940234560|     12.5| 100031|2024-11-22 20:38:23|4512_0_1|2200|194...|\n",
            "|    125|20241122-64010322...| IN_TRANSIT_TO|44|12080|38.524868|   4410|-8.865655|  4410_0_2|  4410_0|            SCHEDULED|112650234560|      0.0| 160195|2024-11-22 20:38:33|4410_0_2|2200|201...|\n",
            "|    302|UNAVAILABLE_BLOCK_ID| IN_TRANSIT_TO| 42|2303|38.845127|   2729|-9.096898|  2729_0_1|  2729_0|            SCHEDULED|        1156|      0.0| 071498|2024-11-22 20:37:41|2729_0_1|1|1|2000...|\n",
            "|     30|20241122-64010037...| IN_TRANSIT_TO|44|12657|38.711937|   4701|-8.938751|  4701_0_2|  4701_0|            SCHEDULED|123400234560|18.055555| 060005|2024-11-22 20:38:20|4701_0_2|2200|193...|\n",
            "|    331|20241122-64010566...|   INCOMING_AT|44|12700| 38.71954|   4705|-8.998796|  4705_0_1|  4705_0|            SCHEDULED|123540234560| 6.111111| 010177|2024-11-22 20:38:33|4705_0_1|2200|193...|\n",
            "|    259|20241122-64010068...| IN_TRANSIT_TO|44|12687|38.702793|   4512|-8.961534|  4512_0_2|  4512_0|            SCHEDULED|121750234560|1.1111112| 100009|2024-11-22 20:38:21|4512_0_2|2200|195...|\n",
            "|    358|20241122-64010092...| IN_TRANSIT_TO|44|12589|38.643623|   4513|-8.914873|  4513_0_2|  4513_0|            SCHEDULED|121540234560|13.055555| 130448|2024-11-22 20:38:23|4513_0_2|2200|203...|\n",
            "|    271|20241122-64010098...| IN_TRANSIT_TO|44|12506|38.749374|   4600|-8.935775|  4600_0_2|  4600_0|            SCHEDULED|121480234560| 8.333333| 010136|2024-11-22 20:38:21|4600_0_2|2200|190...|\n",
            "|    243|20241122-64010064...|   INCOMING_AT|44|12555| 38.64608|   4102|-8.995809|  4102_0_2|  4102_0|            SCHEDULED|121790234560|11.388889| 090052|2024-11-22 20:38:07|4102_0_2|2200|201...|\n",
            "+-------+--------------------+--------------+--------+---------+-------+---------+----------+--------+---------------------+------------+---------+-------+-------------------+--------------------+\n",
            "only showing top 20 rows\n",
            "\n"
          ]
        }
      ]
    },
    {
      "cell_type": "markdown",
      "source": [
        "Lines"
      ],
      "metadata": {
        "id": "4zS-z3pnmEQ3"
      }
    },
    {
      "cell_type": "code",
      "source": [
        "from pyspark.sql import DataFrame, SparkSession\n",
        "from pyspark.sql.functions import *\n",
        "import pyspark.sql.functions as F\n",
        "from pyspark.sql.types import *\n",
        "import requests\n",
        "\n",
        "class ETLFlow:\n",
        "\n",
        "    def __init__(self, spark: SparkSession) -> None:\n",
        "        self.spark = spark\n",
        "\n",
        "    def extract_from_file(self, format: str, path: str, **kwargs) -> DataFrame:\n",
        "        df = self.spark.read.format(format).load(path)\n",
        "        return df\n",
        "\n",
        "    def extract_from_api(self, url: str, schema: StructType = None):\n",
        "      response = requests.get(url)\n",
        "      rdd = spark.sparkContext.parallelize(response.json())\n",
        "      if schema:\n",
        "        df = spark.read.schema(schema).json(rdd)\n",
        "      else:\n",
        "        df = spark.read.json(rdd)\n",
        "      return df\n",
        "\n",
        "    def load(self, df: DataFrame, format: str, path: str, partition_column: str = None, **kwargs) -> None:\n",
        "        if partition_column:\n",
        "          df.coalesce(1).write.mode(\"overwrite\").partitionBy(partition_column).format(format).save(path)\n",
        "        else:\n",
        "          df.coalesce(1).write.mode(\"overwrite\").format(format).save(path)\n",
        "\n",
        "class ETLTask(ETLFlow):\n",
        "\n",
        "    def __init__(self, spark: SparkSession) -> None:\n",
        "        self.spark = spark\n",
        "\n",
        "    def ingestion_lines(self):\n",
        "      # schema\n",
        "      lines_schema = StructType([StructField('color', StringType(), True),\n",
        "                                 StructField('facilities', ArrayType(StringType(), True), True),\n",
        "                                 StructField('id', StringType(), True),\n",
        "                                 StructField('localities',ArrayType(StringType(), True), True),\n",
        "                                 StructField('long_name', StringType(), True),\n",
        "                                 StructField('municipalities', ArrayType(StringType(), True), True),\n",
        "                                 StructField('patterns', ArrayType(StringType(), True), True),\n",
        "                                 StructField('routes', ArrayType(StringType(), True), True),\n",
        "                                 StructField('short_name', StringType(), True), StructField('text_color', StringType(), True)])\n",
        "      # ingestion\n",
        "      df = self.extract_from_api(url=\"https://api.carrismetropolitana.pt/lines\", schema=lines_schema)\n",
        "      # load\n",
        "      self.load(df=df, format=\"parquet\", path=\"/content/lake/bronze/lines\")\n",
        "\n",
        "    def ingestion_vehicles(self):\n",
        "      vehicle_schema = StructType([StructField('bearing', IntegerType(), True),\n",
        "                                  StructField('block_id', StringType(), True),\n",
        "                                  StructField('current_status', StringType(), True),\n",
        "                                  StructField('id', StringType(), True),\n",
        "                                  StructField('lat', FloatType(), True),\n",
        "                                  StructField('line_id', StringType(), True),\n",
        "                                  StructField('lon', FloatType(), True),\n",
        "                                  StructField('pattern_id', StringType(), True),\n",
        "                                  StructField('route_id', StringType(), True),\n",
        "                                  StructField('schedule_relationship', StringType(), True),\n",
        "                                  StructField('shift_id', StringType(), True),\n",
        "                                  StructField('speed', FloatType(), True),\n",
        "                                  StructField('stop_id', StringType(), True),\n",
        "                                  StructField('timestamp', TimestampType(), True),\n",
        "                                  StructField('trip_id', StringType(), True)])\n",
        "      df = self.extract_from_api(url=\"https://api.carrismetropolitana.pt/vehicles\", schema=vehicle_schema)\n",
        "      # create date column\n",
        "      # date(from_unixtime(1732305594))\n",
        "      df = df.withColumn(\"date\", expr(\"date(timestamp)\"))\n",
        "      self.load(df=df, format=\"parquet\", path=\"/content/lake/bronze/vehicles\", partition_column=\"date\")\n",
        "\n",
        "    def cleansing_vehicles(self):\n",
        "      df = self.extract_from_file(format=\"parquet\", path=\"/content/lake/bronze/vehicles\")\n",
        "      # transformations\n",
        "      df = df.withColumn(\"new_column\", lit(\"test\"))\n",
        "      df = df.drop_duplicates()\n",
        "      self.load(df=df, format=\"parquet\", path=\"/content/lake/silver/vehicles\")\n",
        "\n",
        "    def enrich(self):\n",
        "        pass\n",
        "\n",
        "if __name__ == '__main__':\n",
        "\n",
        "    # init spark\n",
        "    from pyspark.sql import SparkSession\n",
        "    spark = SparkSession.builder.master('local').appName('ETL Program').getOrCreate()\n",
        "\n",
        "    print(\"Starting ETL program\")\n",
        "    etl = ETLTask(spark)\n",
        "\n",
        "    # run tasks\n",
        "    print(\"Running Task - Ingestion Vehicles\")\n",
        "    etl.ingestion_vehicles()\n",
        "\n",
        "    print(\"Running Task - Ingestion Lines\")\n",
        "    etl.ingestion_lines()\n",
        "\n",
        "    print(\"Running Task - Cleansing Vehicles\")\n",
        "    etl.cleansing_vehicles()\n",
        "\n",
        "    #etl.enrich()\n",
        "    print(\"ETL program completed\")"
      ],
      "metadata": {
        "id": "WHKwuRP4mHVX"
      },
      "execution_count": null,
      "outputs": []
    },
    {
      "cell_type": "markdown",
      "source": [
        "Falta fazer os municipalities"
      ],
      "metadata": {
        "id": "-9ljzJ53Bn-0"
      }
    }
  ],
  "metadata": {
    "colab": {
      "provenance": [],
      "include_colab_link": true
    },
    "kernelspec": {
      "display_name": "Python 3",
      "name": "python3"
    },
    "language_info": {
      "name": "python"
    }
  },
  "nbformat": 4,
  "nbformat_minor": 0
}